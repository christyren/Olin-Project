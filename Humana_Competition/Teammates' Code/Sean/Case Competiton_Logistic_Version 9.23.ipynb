{
 "cells": [
  {
   "cell_type": "markdown",
   "metadata": {},
   "source": [
    "In this notebook, Upsampling with logistic regression is used."
   ]
  },
  {
   "cell_type": "code",
   "execution_count": 12,
   "metadata": {},
   "outputs": [],
   "source": [
    "import pandas as pd\n",
    "import numpy as np\n",
    "import matplotlib.pyplot as plt\n",
    "import seaborn as sns\n",
    "import os\n",
    "from sklearn.model_selection import train_test_split \n",
    "from sklearn.preprocessing import StandardScaler\n",
    "import warnings\n",
    "warnings.filterwarnings('ignore')"
   ]
  },
  {
   "cell_type": "markdown",
   "metadata": {},
   "source": [
    "# Data Processing"
   ]
  },
  {
   "cell_type": "code",
   "execution_count": 13,
   "metadata": {},
   "outputs": [
    {
     "data": {
      "text/plain": [
       "(87253, 828)"
      ]
     },
     "execution_count": 13,
     "metadata": {},
     "output_type": "execute_result"
    }
   ],
   "source": [
    "df_train = pd.read_csv(\"2020_Competition_Training (1).csv\")\n",
    "df_train[\"train\"] = 1\n",
    "df_test = pd.read_csv(\"2020_Competition_Holdout .csv\")\n",
    "df_test[\"train\"] = 0\n",
    "df_test[\"transportation_issues\"] = \"NA\"\n",
    "df = pd.concat([df_train, df_test])\n",
    "df.reset_index(inplace=True)\n",
    "df.shape #87253 rows with 828 features"
   ]
  },
  {
   "cell_type": "code",
   "execution_count": 14,
   "metadata": {},
   "outputs": [],
   "source": [
    "df_description = pd.read_excel(\"final for feature engineering_2.xls\")\n",
    "df_description = df_description[df_description[\"Target_col\"]==1]\n",
    "\n",
    "\n",
    "######This is for Neural Network#########################\n",
    "nn_features = df_description[\"index\"].tolist()+['train']\n",
    "df = df[nn_features]\n",
    "##########################################################\n",
    "\n",
    "\n",
    "# new_features = df_description[\"Category\"].unique().tolist()\n",
    "\n",
    "# for x in [\"important\",\"leave\",\"drop\"]:\n",
    "#     new_features.remove(x)\n",
    "    \n",
    "# #Get the important features and features left original.\n",
    "# columns_important = df_description[df_description[\"Category\"]==\"important\"][\"index\"].tolist()+[\"train\"]\n",
    "# columns_leave = df_description[df_description[\"Category\"]==\"leave\"][\"index\"].tolist()\n",
    "\n",
    "# #Sum all the values for desired features\n",
    "# for feature in new_features:\n",
    "#     original_features = df_description[df_description[\"Category\"]==feature][\"index\"]\n",
    "#     df[feature] = df[original_features].values.sum(axis=1)"
   ]
  },
  {
   "cell_type": "code",
   "execution_count": 15,
   "metadata": {},
   "outputs": [],
   "source": [
    "# final_columns = new_features+columns_important+columns_leave\n",
    "# df = df[final_columns]\n",
    "# df.shape"
   ]
  },
  {
   "cell_type": "markdown",
   "metadata": {},
   "source": [
    "### Missing Value"
   ]
  },
  {
   "cell_type": "code",
   "execution_count": 16,
   "metadata": {},
   "outputs": [
    {
     "name": "stdout",
     "output_type": "stream",
     "text": [
      "                              column  missing\n",
      "0              cms_ma_risk_score_nbr     4713\n",
      "1            cms_partd_ra_factor_amt     4766\n",
      "2              cms_ra_factor_type_cd     5270\n",
      "3    cms_risk_adj_payment_rate_a_amt     4686\n",
      "4    cms_risk_adj_payment_rate_b_amt     4689\n",
      "..                               ...      ...\n",
      "126              hedis_dia_hba1c_ge9     1360\n",
      "127             hedis_dia_hba1c_test     1362\n",
      "128          hedis_dia_ldc_c_control     1360\n",
      "129           hedis_dia_ldc_c_screen     1360\n",
      "130               hedis_dia_ma_nephr     1361\n",
      "\n",
      "[131 rows x 2 columns]\n"
     ]
    }
   ],
   "source": [
    "df_columns = df.columns.tolist()\n",
    "df_columns.remove(\"transportation_issues\")\n",
    "\n",
    "#Columns with missing value\n",
    "columns_with_missing = []\n",
    "for column in df_columns:\n",
    "    if df[column].isnull().sum()>0:\n",
    "        columns_with_missing.append({\"column\":column, \"missing\":df[column].isnull().sum()})\n",
    "\n",
    "df_missing_distribution = pd.DataFrame.from_dict(columns_with_missing)\n",
    "df_missing_distribution.sort_values(\"missing\",ascending=False).reset_index(inplace=True)\n",
    "#df_missing_distribution.to_csv(\"missing_value.csv\")\n",
    "print(df_missing_distribution)\n",
    "\n",
    "\n",
    "from sklearn.impute import SimpleImputer\n",
    "# rank 1 blood fat screen or control\n",
    "# rank 2 data from cons about demos\n",
    "# rank 3 cms data insurance factor data.\n",
    "imputer_frequent = SimpleImputer(strategy=\"most_frequent\")\n",
    "for column in df_missing_distribution[\"column\"]:\n",
    "    try:\n",
    "        if df[column].nunique()>=30:\n",
    "            df[column].fillna(df[column].mean(),inplace=True)\n",
    "        else:\n",
    "            df[column].fillna(df[column].value_counts().index[0],inplace=True)\n",
    "    except:\n",
    "        print(column)"
   ]
  },
  {
   "cell_type": "code",
   "execution_count": 17,
   "metadata": {},
   "outputs": [],
   "source": [
    "#Rethink whether we should get dummies here.\n",
    "#df = pd.get_dummies(df)\n",
    "df = df.dropna(axis=1)"
   ]
  },
  {
   "cell_type": "markdown",
   "metadata": {},
   "source": [
    "### Deal with Categorical Features and Split the data"
   ]
  },
  {
   "cell_type": "code",
   "execution_count": 18,
   "metadata": {
    "scrolled": true
   },
   "outputs": [
    {
     "name": "stdout",
     "output_type": "stream",
     "text": [
      "cms_ra_factor_type_cd\n",
      "9\n",
      "cons_cmys\n",
      "13\n",
      "cons_hhcomp\n",
      "13\n",
      "cons_homstat\n",
      "5\n",
      "hedis_ami\n",
      "2\n",
      "hedis_cmc_ldc_c_control\n",
      "2\n",
      "hedis_cmc_ldc_c_screen\n",
      "2\n",
      "hedis_dia_eye\n",
      "2\n",
      "hedis_dia_hba1c_ge9\n",
      "2\n",
      "hedis_dia_hba1c_test\n",
      "2\n",
      "hedis_dia_ldc_c_control\n",
      "2\n",
      "hedis_dia_ldc_c_screen\n",
      "2\n",
      "hedis_dia_ma_nephr\n",
      "2\n",
      "lang_spoken_cd\n",
      "3\n",
      "mabh_seg\n",
      "16\n",
      "rucc_category\n",
      "9\n",
      "sex_cd\n",
      "2\n",
      "src_platform_cd\n",
      "2\n",
      "state_cd\n",
      "31\n",
      "transportation_issues\n",
      "3\n"
     ]
    },
    {
     "data": {
      "text/html": [
       "<div>\n",
       "<style scoped>\n",
       "    .dataframe tbody tr th:only-of-type {\n",
       "        vertical-align: middle;\n",
       "    }\n",
       "\n",
       "    .dataframe tbody tr th {\n",
       "        vertical-align: top;\n",
       "    }\n",
       "\n",
       "    .dataframe thead th {\n",
       "        text-align: right;\n",
       "    }\n",
       "</style>\n",
       "<table border=\"1\" class=\"dataframe\">\n",
       "  <thead>\n",
       "    <tr style=\"text-align: right;\">\n",
       "      <th></th>\n",
       "      <th>cms_ra_factor_type_cd</th>\n",
       "      <th>cons_cmys</th>\n",
       "      <th>cons_hhcomp</th>\n",
       "      <th>cons_homstat</th>\n",
       "      <th>hedis_ami</th>\n",
       "      <th>hedis_cmc_ldc_c_control</th>\n",
       "      <th>hedis_cmc_ldc_c_screen</th>\n",
       "      <th>hedis_dia_eye</th>\n",
       "      <th>hedis_dia_hba1c_ge9</th>\n",
       "      <th>hedis_dia_hba1c_test</th>\n",
       "      <th>hedis_dia_ldc_c_control</th>\n",
       "      <th>hedis_dia_ldc_c_screen</th>\n",
       "      <th>hedis_dia_ma_nephr</th>\n",
       "      <th>lang_spoken_cd</th>\n",
       "      <th>mabh_seg</th>\n",
       "      <th>rucc_category</th>\n",
       "      <th>sex_cd</th>\n",
       "      <th>src_platform_cd</th>\n",
       "      <th>state_cd</th>\n",
       "      <th>transportation_issues</th>\n",
       "    </tr>\n",
       "  </thead>\n",
       "  <tbody>\n",
       "    <tr>\n",
       "      <th>0</th>\n",
       "      <td>CN</td>\n",
       "      <td>4</td>\n",
       "      <td>B</td>\n",
       "      <td>Y</td>\n",
       "      <td>Y</td>\n",
       "      <td>N</td>\n",
       "      <td>Y</td>\n",
       "      <td>Y</td>\n",
       "      <td>N</td>\n",
       "      <td>N</td>\n",
       "      <td>N</td>\n",
       "      <td>N</td>\n",
       "      <td>Y</td>\n",
       "      <td>ENG</td>\n",
       "      <td>UNK</td>\n",
       "      <td>1-Metro</td>\n",
       "      <td>F</td>\n",
       "      <td>EM</td>\n",
       "      <td>other</td>\n",
       "      <td>0</td>\n",
       "    </tr>\n",
       "    <tr>\n",
       "      <th>1</th>\n",
       "      <td>CP</td>\n",
       "      <td>4</td>\n",
       "      <td>U</td>\n",
       "      <td>R</td>\n",
       "      <td>Y</td>\n",
       "      <td>N</td>\n",
       "      <td>Y</td>\n",
       "      <td>Y</td>\n",
       "      <td>N</td>\n",
       "      <td>N</td>\n",
       "      <td>N</td>\n",
       "      <td>Y</td>\n",
       "      <td>N</td>\n",
       "      <td>ENG</td>\n",
       "      <td>C2</td>\n",
       "      <td>2-Metro</td>\n",
       "      <td>F</td>\n",
       "      <td>EM</td>\n",
       "      <td>other</td>\n",
       "      <td>0</td>\n",
       "    </tr>\n",
       "    <tr>\n",
       "      <th>2</th>\n",
       "      <td>CN</td>\n",
       "      <td>6</td>\n",
       "      <td>C</td>\n",
       "      <td>R</td>\n",
       "      <td>Y</td>\n",
       "      <td>N</td>\n",
       "      <td>Y</td>\n",
       "      <td>Y</td>\n",
       "      <td>N</td>\n",
       "      <td>Y</td>\n",
       "      <td>Y</td>\n",
       "      <td>Y</td>\n",
       "      <td>Y</td>\n",
       "      <td>ENG</td>\n",
       "      <td>UNK</td>\n",
       "      <td>1-Metro</td>\n",
       "      <td>F</td>\n",
       "      <td>EM</td>\n",
       "      <td>other</td>\n",
       "      <td>1</td>\n",
       "    </tr>\n",
       "    <tr>\n",
       "      <th>3</th>\n",
       "      <td>CN</td>\n",
       "      <td>4</td>\n",
       "      <td>B</td>\n",
       "      <td>Y</td>\n",
       "      <td>Y</td>\n",
       "      <td>N</td>\n",
       "      <td>Y</td>\n",
       "      <td>Y</td>\n",
       "      <td>N</td>\n",
       "      <td>Y</td>\n",
       "      <td>Y</td>\n",
       "      <td>Y</td>\n",
       "      <td>Y</td>\n",
       "      <td>ENG</td>\n",
       "      <td>H6</td>\n",
       "      <td>7-Nonmetro</td>\n",
       "      <td>M</td>\n",
       "      <td>EM</td>\n",
       "      <td>other</td>\n",
       "      <td>0</td>\n",
       "    </tr>\n",
       "    <tr>\n",
       "      <th>4</th>\n",
       "      <td>CF</td>\n",
       "      <td>4</td>\n",
       "      <td>J</td>\n",
       "      <td>R</td>\n",
       "      <td>Y</td>\n",
       "      <td>N</td>\n",
       "      <td>Y</td>\n",
       "      <td>Y</td>\n",
       "      <td>N</td>\n",
       "      <td>N</td>\n",
       "      <td>Y</td>\n",
       "      <td>Y</td>\n",
       "      <td>Y</td>\n",
       "      <td>ENG</td>\n",
       "      <td>UNK</td>\n",
       "      <td>1-Metro</td>\n",
       "      <td>M</td>\n",
       "      <td>EM</td>\n",
       "      <td>other</td>\n",
       "      <td>0</td>\n",
       "    </tr>\n",
       "    <tr>\n",
       "      <th>...</th>\n",
       "      <td>...</td>\n",
       "      <td>...</td>\n",
       "      <td>...</td>\n",
       "      <td>...</td>\n",
       "      <td>...</td>\n",
       "      <td>...</td>\n",
       "      <td>...</td>\n",
       "      <td>...</td>\n",
       "      <td>...</td>\n",
       "      <td>...</td>\n",
       "      <td>...</td>\n",
       "      <td>...</td>\n",
       "      <td>...</td>\n",
       "      <td>...</td>\n",
       "      <td>...</td>\n",
       "      <td>...</td>\n",
       "      <td>...</td>\n",
       "      <td>...</td>\n",
       "      <td>...</td>\n",
       "      <td>...</td>\n",
       "    </tr>\n",
       "    <tr>\n",
       "      <th>87248</th>\n",
       "      <td>CN</td>\n",
       "      <td>5</td>\n",
       "      <td>B</td>\n",
       "      <td>Y</td>\n",
       "      <td>Y</td>\n",
       "      <td>N</td>\n",
       "      <td>Y</td>\n",
       "      <td>Y</td>\n",
       "      <td>N</td>\n",
       "      <td>N</td>\n",
       "      <td>N</td>\n",
       "      <td>Y</td>\n",
       "      <td>Y</td>\n",
       "      <td>ENG</td>\n",
       "      <td>H7</td>\n",
       "      <td>1-Metro</td>\n",
       "      <td>M</td>\n",
       "      <td>EM</td>\n",
       "      <td>AZ</td>\n",
       "      <td>NA</td>\n",
       "    </tr>\n",
       "    <tr>\n",
       "      <th>87249</th>\n",
       "      <td>CN</td>\n",
       "      <td>3</td>\n",
       "      <td>J</td>\n",
       "      <td>Y</td>\n",
       "      <td>Y</td>\n",
       "      <td>N</td>\n",
       "      <td>N</td>\n",
       "      <td>Y</td>\n",
       "      <td>N</td>\n",
       "      <td>N</td>\n",
       "      <td>N</td>\n",
       "      <td>N</td>\n",
       "      <td>N</td>\n",
       "      <td>ENG</td>\n",
       "      <td>H3</td>\n",
       "      <td>2-Metro</td>\n",
       "      <td>M</td>\n",
       "      <td>LV</td>\n",
       "      <td>other</td>\n",
       "      <td>NA</td>\n",
       "    </tr>\n",
       "    <tr>\n",
       "      <th>87250</th>\n",
       "      <td>CN</td>\n",
       "      <td>4</td>\n",
       "      <td>B</td>\n",
       "      <td>Y</td>\n",
       "      <td>Y</td>\n",
       "      <td>N</td>\n",
       "      <td>Y</td>\n",
       "      <td>Y</td>\n",
       "      <td>N</td>\n",
       "      <td>N</td>\n",
       "      <td>N</td>\n",
       "      <td>N</td>\n",
       "      <td>Y</td>\n",
       "      <td>ENG</td>\n",
       "      <td>H1</td>\n",
       "      <td>3-Metro</td>\n",
       "      <td>F</td>\n",
       "      <td>LV</td>\n",
       "      <td>other</td>\n",
       "      <td>NA</td>\n",
       "    </tr>\n",
       "    <tr>\n",
       "      <th>87251</th>\n",
       "      <td>CN</td>\n",
       "      <td>4</td>\n",
       "      <td>U</td>\n",
       "      <td>P</td>\n",
       "      <td>Y</td>\n",
       "      <td>Y</td>\n",
       "      <td>Y</td>\n",
       "      <td>Y</td>\n",
       "      <td>N</td>\n",
       "      <td>N</td>\n",
       "      <td>Y</td>\n",
       "      <td>Y</td>\n",
       "      <td>Y</td>\n",
       "      <td>ENG</td>\n",
       "      <td>H2</td>\n",
       "      <td>1-Metro</td>\n",
       "      <td>F</td>\n",
       "      <td>EM</td>\n",
       "      <td>LA</td>\n",
       "      <td>NA</td>\n",
       "    </tr>\n",
       "    <tr>\n",
       "      <th>87252</th>\n",
       "      <td>CN</td>\n",
       "      <td>3</td>\n",
       "      <td>B</td>\n",
       "      <td>Y</td>\n",
       "      <td>Y</td>\n",
       "      <td>N</td>\n",
       "      <td>Y</td>\n",
       "      <td>Y</td>\n",
       "      <td>Y</td>\n",
       "      <td>Y</td>\n",
       "      <td>Y</td>\n",
       "      <td>Y</td>\n",
       "      <td>Y</td>\n",
       "      <td>ENG</td>\n",
       "      <td>C2</td>\n",
       "      <td>1-Metro</td>\n",
       "      <td>F</td>\n",
       "      <td>EM</td>\n",
       "      <td>other</td>\n",
       "      <td>NA</td>\n",
       "    </tr>\n",
       "  </tbody>\n",
       "</table>\n",
       "<p>87253 rows × 20 columns</p>\n",
       "</div>"
      ],
      "text/plain": [
       "      cms_ra_factor_type_cd cons_cmys cons_hhcomp cons_homstat hedis_ami  \\\n",
       "0                        CN         4           B            Y         Y   \n",
       "1                        CP         4           U            R         Y   \n",
       "2                        CN         6           C            R         Y   \n",
       "3                        CN         4           B            Y         Y   \n",
       "4                        CF         4           J            R         Y   \n",
       "...                     ...       ...         ...          ...       ...   \n",
       "87248                    CN         5           B            Y         Y   \n",
       "87249                    CN         3           J            Y         Y   \n",
       "87250                    CN         4           B            Y         Y   \n",
       "87251                    CN         4           U            P         Y   \n",
       "87252                    CN         3           B            Y         Y   \n",
       "\n",
       "      hedis_cmc_ldc_c_control hedis_cmc_ldc_c_screen hedis_dia_eye  \\\n",
       "0                           N                      Y             Y   \n",
       "1                           N                      Y             Y   \n",
       "2                           N                      Y             Y   \n",
       "3                           N                      Y             Y   \n",
       "4                           N                      Y             Y   \n",
       "...                       ...                    ...           ...   \n",
       "87248                       N                      Y             Y   \n",
       "87249                       N                      N             Y   \n",
       "87250                       N                      Y             Y   \n",
       "87251                       Y                      Y             Y   \n",
       "87252                       N                      Y             Y   \n",
       "\n",
       "      hedis_dia_hba1c_ge9 hedis_dia_hba1c_test hedis_dia_ldc_c_control  \\\n",
       "0                       N                    N                       N   \n",
       "1                       N                    N                       N   \n",
       "2                       N                    Y                       Y   \n",
       "3                       N                    Y                       Y   \n",
       "4                       N                    N                       Y   \n",
       "...                   ...                  ...                     ...   \n",
       "87248                   N                    N                       N   \n",
       "87249                   N                    N                       N   \n",
       "87250                   N                    N                       N   \n",
       "87251                   N                    N                       Y   \n",
       "87252                   Y                    Y                       Y   \n",
       "\n",
       "      hedis_dia_ldc_c_screen hedis_dia_ma_nephr lang_spoken_cd mabh_seg  \\\n",
       "0                          N                  Y            ENG      UNK   \n",
       "1                          Y                  N            ENG       C2   \n",
       "2                          Y                  Y            ENG      UNK   \n",
       "3                          Y                  Y            ENG       H6   \n",
       "4                          Y                  Y            ENG      UNK   \n",
       "...                      ...                ...            ...      ...   \n",
       "87248                      Y                  Y            ENG       H7   \n",
       "87249                      N                  N            ENG       H3   \n",
       "87250                      N                  Y            ENG       H1   \n",
       "87251                      Y                  Y            ENG       H2   \n",
       "87252                      Y                  Y            ENG       C2   \n",
       "\n",
       "      rucc_category sex_cd src_platform_cd state_cd transportation_issues  \n",
       "0           1-Metro      F              EM    other                     0  \n",
       "1           2-Metro      F              EM    other                     0  \n",
       "2           1-Metro      F              EM    other                     1  \n",
       "3        7-Nonmetro      M              EM    other                     0  \n",
       "4           1-Metro      M              EM    other                     0  \n",
       "...             ...    ...             ...      ...                   ...  \n",
       "87248       1-Metro      M              EM       AZ                    NA  \n",
       "87249       2-Metro      M              LV    other                    NA  \n",
       "87250       3-Metro      F              LV    other                    NA  \n",
       "87251       1-Metro      F              EM       LA                    NA  \n",
       "87252       1-Metro      F              EM    other                    NA  \n",
       "\n",
       "[87253 rows x 20 columns]"
      ]
     },
     "execution_count": 18,
     "metadata": {},
     "output_type": "execute_result"
    }
   ],
   "source": [
    "type_df = pd.DataFrame(df.dtypes).reset_index()\n",
    "category_features = type_df[type_df[0]==\"object\"][\"index\"].tolist()\n",
    "for category_feature in category_features:\n",
    "    print(category_feature)\n",
    "    print (len(df[category_feature].unique()))\n",
    "df[category_features]"
   ]
  },
  {
   "cell_type": "code",
   "execution_count": 19,
   "metadata": {},
   "outputs": [],
   "source": [
    "#Manipulate the object variables\n",
    "df[\"cons_cmys\"].loc[df[\"cons_cmys\"]=='*'] =0\n",
    "df[\"cons_cmys\"].astype(int)\n",
    "df[\"state_cd\"].loc[df[\"state_cd\"]!=\"Florida\"] = \"Others\"\n",
    "df.drop([\"cons_hhcomp\",\"mabh_seg\"],axis=1,inplace=True)"
   ]
  },
  {
   "cell_type": "code",
   "execution_count": 20,
   "metadata": {
    "scrolled": false
   },
   "outputs": [],
   "source": [
    "df_train = df[df[\"train\"]==1]\n",
    "df_hold = df[df[\"train\"]==0]\n",
    "\n",
    "y = df_train[\"transportation_issues\"]\n",
    "y = y.astype(\"int\")\n",
    "x = df_train\n",
    "x.drop(\"transportation_issues\",axis=1,inplace=True)"
   ]
  },
  {
   "cell_type": "code",
   "execution_count": 21,
   "metadata": {},
   "outputs": [
    {
     "name": "stdout",
     "output_type": "stream",
     "text": [
      "(69572, 486)\n"
     ]
    }
   ],
   "source": [
    "print(x.shape)"
   ]
  },
  {
   "cell_type": "code",
   "execution_count": 22,
   "metadata": {},
   "outputs": [],
   "source": [
    "x = pd.get_dummies(x)"
   ]
  },
  {
   "cell_type": "code",
   "execution_count": 23,
   "metadata": {},
   "outputs": [
    {
     "data": {
      "text/plain": [
       "(69572, 530)"
      ]
     },
     "execution_count": 23,
     "metadata": {},
     "output_type": "execute_result"
    }
   ],
   "source": [
    "x.shape"
   ]
  },
  {
   "cell_type": "code",
   "execution_count": 24,
   "metadata": {},
   "outputs": [],
   "source": [
    "x_train, x_test, y_train, y_test = train_test_split(x, y, test_size=0.3, random_state=42)"
   ]
  },
  {
   "cell_type": "markdown",
   "metadata": {},
   "source": [
    "# Feature Engineering"
   ]
  },
  {
   "cell_type": "markdown",
   "metadata": {},
   "source": [
    "## Sampling"
   ]
  },
  {
   "cell_type": "markdown",
   "metadata": {},
   "source": [
    "### SMOTE Upsampling"
   ]
  },
  {
   "cell_type": "code",
   "execution_count": 25,
   "metadata": {},
   "outputs": [],
   "source": [
    "# #This code is not fixed because there are \"strings\" which SMOTE does not handle.\n",
    "# #I use SMOTE after the get_dummies, not sure why it throws an error.\n",
    "# from imblearn.over_sampling import SMOTE \n",
    "# smote_sample = SMOTE()\n",
    "\n",
    "# x_train, y_train = smote_sample.fit_resample(x_train, y_train)\n",
    "\n",
    "# x_train.drop(\"transportation_issues\",axis=1, inplace=True)\n",
    "# x_test.drop(\"transportation_issues\",axis=1, inplace=True)\n",
    "# x_train = pd.get_dummies(x_train) \n",
    "# x_test = pd.get_dummies(x_test)\n",
    "# x_train,x_test = x_train.align(x_test, join=\"left\", axis=1)"
   ]
  },
  {
   "cell_type": "markdown",
   "metadata": {},
   "source": [
    "### Upsampling"
   ]
  },
  {
   "cell_type": "code",
   "execution_count": 26,
   "metadata": {},
   "outputs": [],
   "source": [
    "from sklearn.utils import resample\n",
    "X = x_train.copy()\n",
    "X[\"transportation_issues\"] = y_train\n",
    "# separate minority and majority classes\n",
    "wo_tran = X[X[\"transportation_issues\"]==0]\n",
    "tran = X[X[\"transportation_issues\"]==1]\n",
    "\n",
    "# upsample minority\n",
    "tran_upsampled = resample(tran,\n",
    "                          replace=True, # sample with replacement\n",
    "                          n_samples=len(wo_tran), # match number in majority class\n",
    "                          random_state=1) # reproducible results\n",
    "\n",
    "upsampled = pd.concat([wo_tran,tran_upsampled])\n",
    "\n",
    "# check new class counts\n",
    "upsampled[\"transportation_issues\"].value_counts()\n",
    "\n",
    "y_train = upsampled[\"transportation_issues\"]\n",
    "x_train = upsampled.drop(\"transportation_issues\",axis=1)\n",
    "x_train = pd.get_dummies(x_train)\n",
    "\n",
    "x_test = pd.get_dummies(x_test)\n",
    "x_train,x_test = x_train.align(x_test, join=\"left\", axis=1)"
   ]
  },
  {
   "cell_type": "markdown",
   "metadata": {},
   "source": [
    "### Down Sampling"
   ]
  },
  {
   "cell_type": "code",
   "execution_count": 27,
   "metadata": {},
   "outputs": [],
   "source": [
    "# from sklearn.utils import resample\n",
    "# X = x_train.copy()\n",
    "# X[\"transportation_issues\"] = y_train\n",
    "# # separate minority and majority classes\n",
    "# wo_tran = X[X[\"transportation_issues\"]==0]\n",
    "# tran = X[X[\"transportation_issues\"]==1]\n",
    " \n",
    "# # Downsample majority class\n",
    "# df_majority_downsampled = resample(wo_tran, \n",
    "#                                  replace=False,    # sample without replacement\n",
    "#                                  n_samples=len(tran),     # to match minority class\n",
    "#                                  random_state=42) # reproducible results\n",
    " \n",
    "# # Combine minority class with downsampled majority class\n",
    "# downsampled = pd.concat([df_majority_downsampled, tran])\n",
    " \n",
    "# # Display new class counts\n",
    "# downsampled[\"transportation_issues\"].value_counts()\n",
    "\n",
    "# y_train = downsampled[\"transportation_issues\"]\n",
    "# x_train = downsampled.drop(\"transportation_issues\",axis=1)\n",
    "# x_train = pd.get_dummies(x_train)\n",
    "\n",
    "# x_test.drop(\"transportation_issues\",axis=1, inplace=True)\n",
    "# x_test = pd.get_dummies(x_test)\n",
    "# x_train,x_test = x_train.align(x_test, join=\"left\", axis=1)"
   ]
  },
  {
   "cell_type": "markdown",
   "metadata": {},
   "source": [
    "## Scaling & Clustering"
   ]
  },
  {
   "cell_type": "markdown",
   "metadata": {},
   "source": [
    "### Polynomial Features"
   ]
  },
  {
   "cell_type": "code",
   "execution_count": 28,
   "metadata": {},
   "outputs": [],
   "source": [
    "# from sklearn.preprocessing import PolynomialFeatures\n",
    "# poly = PolynomialFeatures(interaction_only=True,include_bias = False,degree=2)\n",
    "# x_train = poly.fit_transform(x_train)\n",
    "# x_test = poly.fit_transform(x_test)"
   ]
  },
  {
   "cell_type": "code",
   "execution_count": 29,
   "metadata": {},
   "outputs": [
    {
     "name": "stdout",
     "output_type": "stream",
     "text": [
      "(83072, 530) (20872, 530)\n"
     ]
    }
   ],
   "source": [
    "print(x_train.shape, x_test.shape)"
   ]
  },
  {
   "cell_type": "markdown",
   "metadata": {},
   "source": [
    "### Scaler"
   ]
  },
  {
   "cell_type": "code",
   "execution_count": 30,
   "metadata": {},
   "outputs": [],
   "source": [
    "from sklearn.preprocessing import MinMaxScaler\n",
    "# Scale the data\n",
    "scaler = MinMaxScaler()\n",
    "x_train = scaler.fit_transform(x_train)\n",
    "x_test = scaler.fit_transform(x_test)"
   ]
  },
  {
   "cell_type": "markdown",
   "metadata": {},
   "source": [
    "### PCA"
   ]
  },
  {
   "cell_type": "code",
   "execution_count": 31,
   "metadata": {},
   "outputs": [],
   "source": [
    "# from sklearn.decomposition import PCA\n",
    "# #PCA Dimension Reduction\n",
    "# pca = PCA(n_components=20)\n",
    "# # prepare transform on dataset\n",
    "# x_train = pca.fit_transform(x_train)\n",
    "# x_test[np.isnan(x_test)] = 0 #Fill the na value for logistic regression\n",
    "# x_test = pca.fit_transform(x_test)"
   ]
  },
  {
   "cell_type": "markdown",
   "metadata": {},
   "source": [
    "### TSNE"
   ]
  },
  {
   "cell_type": "code",
   "execution_count": 32,
   "metadata": {},
   "outputs": [],
   "source": [
    "# from sklearn.manifold import TSNE\n",
    "# x_train = TSNE(n_components=3).fit_transform(x_train) #change the n components.\n",
    "# x_test[np.isnan(x_test)] = 0 #Fill the na value for logistic regression\n",
    "# x_test = TSNE(n_components=3).fit_transform(x_test) #change the n components."
   ]
  },
  {
   "cell_type": "markdown",
   "metadata": {},
   "source": [
    "## Function"
   ]
  },
  {
   "cell_type": "code",
   "execution_count": 33,
   "metadata": {},
   "outputs": [],
   "source": [
    "def roc_plot(fpr, tpr, roc_auc):\n",
    "    plt.title('Receiver Operating Characteristic')\n",
    "    plt.plot(fpr, tpr, 'b', label = 'AUC = %0.2f' % roc_auc)\n",
    "    plt.legend(loc = 'lower right')\n",
    "    plt.plot([0, 1], [0, 1],'r--')\n",
    "    plt.xlim([0, 1])\n",
    "    plt.ylim([0, 1])\n",
    "    plt.ylabel('True Positive Rate')\n",
    "    plt.xlabel('False Positive Rate')\n",
    "    plt.show()"
   ]
  },
  {
   "cell_type": "markdown",
   "metadata": {},
   "source": [
    "## Model"
   ]
  },
  {
   "cell_type": "markdown",
   "metadata": {},
   "source": [
    "### Logistic Regression"
   ]
  },
  {
   "cell_type": "code",
   "execution_count": 34,
   "metadata": {},
   "outputs": [],
   "source": [
    "from sklearn.linear_model import LogisticRegression\n",
    "clf = LogisticRegression(solver = \"lbfgs\",random_state=42).fit(x_train, y_train)\n",
    "y_pred = clf.predict(x_test)"
   ]
  },
  {
   "cell_type": "code",
   "execution_count": 35,
   "metadata": {},
   "outputs": [],
   "source": [
    "y_prob = clf.predict_proba(x_test)"
   ]
  },
  {
   "cell_type": "code",
   "execution_count": 36,
   "metadata": {
    "scrolled": true
   },
   "outputs": [
    {
     "name": "stdout",
     "output_type": "stream",
     "text": [
      "[[13021  4818]\n",
      " [ 1148  1885]]\n"
     ]
    },
    {
     "data": {
      "text/plain": [
       "0.7141625143733231"
      ]
     },
     "execution_count": 36,
     "metadata": {},
     "output_type": "execute_result"
    }
   ],
   "source": [
    "from sklearn.metrics import confusion_matrix\n",
    "print(confusion_matrix(y_test,y_pred))\n",
    "(y_test==y_pred).mean() #accuracy 86.87%\n",
    "\n",
    "#False negative values are larger than the false positive values."
   ]
  },
  {
   "cell_type": "code",
   "execution_count": 37,
   "metadata": {},
   "outputs": [
    {
     "data": {
      "text/plain": [
       "0.6757072320327436"
      ]
     },
     "execution_count": 37,
     "metadata": {},
     "output_type": "execute_result"
    }
   ],
   "source": [
    "from sklearn.metrics import roc_auc_score\n",
    "roc_auc_score(y_test, y_pred)"
   ]
  },
  {
   "cell_type": "code",
   "execution_count": 38,
   "metadata": {
    "scrolled": false
   },
   "outputs": [
    {
     "name": "stdout",
     "output_type": "stream",
     "text": [
      "ROC_AUC Score:\n",
      "0.6757072320327436\n"
     ]
    },
    {
     "data": {
      "image/png": "[encoded data removed]",
      "text/plain": [
       "<Figure size 432x288 with 1 Axes>"
      ]
     },
     "metadata": {
      "needs_background": "light"
     },
     "output_type": "display_data"
    }
   ],
   "source": [
    "import sklearn.metrics as metrics\n",
    "from sklearn.metrics import roc_curve, auc\n",
    "from sklearn.metrics import roc_auc_score\n",
    "\n",
    "print(\"ROC_AUC Score:\")\n",
    "print(roc_auc_score(y_test, y_pred))\n",
    "\n",
    "#ROC Plot\n",
    "fpr, tpr, threshold = metrics.roc_curve(y_test, y_pred)\n",
    "roc_auc = metrics.auc(fpr, tpr)\n",
    "roc_plot(fpr, tpr, roc_auc)"
   ]
  },
  {
   "cell_type": "code",
   "execution_count": 39,
   "metadata": {},
   "outputs": [
    {
     "name": "stdout",
     "output_type": "stream",
     "text": [
      "WARNING:tensorflow:From /Users/zixuanzhang/opt/anaconda3/lib/python3.7/site-packages/tensorflow/python/ops/resource_variable_ops.py:435: colocate_with (from tensorflow.python.framework.ops) is deprecated and will be removed in a future version.\n",
      "Instructions for updating:\n",
      "Colocations handled automatically by placer.\n",
      "WARNING:tensorflow:From /Users/zixuanzhang/opt/anaconda3/lib/python3.7/site-packages/tensorflow/python/ops/math_ops.py:3066: to_int32 (from tensorflow.python.ops.math_ops) is deprecated and will be removed in a future version.\n",
      "Instructions for updating:\n",
      "Use tf.cast instead.\n",
      "Epoch 1/100\n",
      " - 4s - loss: 0.6121 - acc: 0.6708\n",
      "Epoch 2/100\n",
      " - 4s - loss: 0.5972 - acc: 0.6845\n",
      "Epoch 3/100\n",
      " - 4s - loss: 0.5973 - acc: 0.6843\n",
      "Epoch 4/100\n",
      " - 4s - loss: 0.5869 - acc: 0.6949\n",
      "Epoch 5/100\n",
      " - 4s - loss: 0.5812 - acc: 0.6976\n",
      "Epoch 6/100\n",
      " - 4s - loss: 0.5689 - acc: 0.7056\n",
      "Epoch 7/100\n",
      " - 4s - loss: 0.5564 - acc: 0.7156\n",
      "Epoch 8/100\n",
      " - 4s - loss: 0.5492 - acc: 0.7206\n",
      "Epoch 9/100\n",
      " - 4s - loss: 0.5370 - acc: 0.7304\n",
      "Epoch 10/100\n",
      " - 4s - loss: 0.5211 - acc: 0.7404\n",
      "Epoch 11/100\n",
      "Restoring model weights from the end of the best epoch.\n",
      " - 4s - loss: 0.5454 - acc: 0.7277\n",
      "Epoch 00011: early stopping\n"
     ]
    },
    {
     "data": {
      "text/plain": [
       "<tensorflow.python.keras.callbacks.History at 0x7fbe3ce74910>"
      ]
     },
     "execution_count": 39,
     "metadata": {},
     "output_type": "execute_result"
    }
   ],
   "source": [
    "import tensorflow as tf\n",
    "from tensorflow.keras.models import Sequential\n",
    "from tensorflow.keras.layers import Dense, Activation\n",
    "from tensorflow.keras.callbacks import EarlyStopping\n",
    "\n",
    "# Build the neural network\n",
    "model = Sequential()\n",
    "model.add(Dense(64, input_dim=x_train.shape[1], activation='relu')) # Hidden 1\n",
    "model.add(Dense(32, activation='relu')) # Hidden 2\n",
    "model.add(Dense(16,activation='sigmoid')) #Hidden 3\n",
    "model.add(Dense(1)) # Output\n",
    "model.compile(loss='binary_crossentropy', optimizer='adam', metrics=[\"accuracy\"])\n",
    "monitor = EarlyStopping(monitor='loss', min_delta=1e-1, \n",
    "                        patience=10, verbose=1, mode='auto', \n",
    "                        restore_best_weights=True)\n",
    "model.fit(x_train,y_train,callbacks=[monitor],verbose=2,epochs=100)"
   ]
  },
  {
   "cell_type": "code",
   "execution_count": 40,
   "metadata": {
    "scrolled": true
   },
   "outputs": [
    {
     "name": "stdout",
     "output_type": "stream",
     "text": [
      "[[13013  4826]\n",
      " [ 1134  1899]]\n",
      "0.6777909501454071\n"
     ]
    },
    {
     "data": {
      "image/png": "[encoded data removed]",
      "text/plain": [
       "<Figure size 432x288 with 1 Axes>"
      ]
     },
     "metadata": {
      "needs_background": "light"
     },
     "output_type": "display_data"
    }
   ],
   "source": [
    "import sklearn.metrics as metrics\n",
    "from sklearn.metrics import roc_curve, auc\n",
    "from sklearn.metrics import roc_auc_score\n",
    "from sklearn.metrics import confusion_matrix\n",
    "\n",
    "\n",
    "y_pred = model.predict_classes(x_test)\n",
    "y_prob = model.predict(x_test)\n",
    "print(confusion_matrix(y_test,y_pred))\n",
    "print(roc_auc_score(y_test, y_pred))\n",
    "\n",
    "#ROC Plot\n",
    "fpr, tpr, threshold = metrics.roc_curve(y_test, y_pred)\n",
    "roc_auc = metrics.auc(fpr, tpr)\n",
    "roc_plot(fpr, tpr, roc_auc)"
   ]
  },
  {
   "cell_type": "code",
   "execution_count": 46,
   "metadata": {},
   "outputs": [
    {
     "data": {
      "text/plain": [
       "0.7144499808355692"
      ]
     },
     "execution_count": 46,
     "metadata": {},
     "output_type": "execute_result"
    }
   ],
   "source": [
    "#Neural Network Accuracy:\n",
    "(13013+1899)/(13013+1899+4826+1134)"
   ]
  },
  {
   "cell_type": "code",
   "execution_count": 47,
   "metadata": {},
   "outputs": [],
   "source": [
    "from xgboost import XGBClassifier\n",
    "\n",
    "model = XGBClassifier(\n",
    "        n_estimators=2000,\n",
    "        max_depth=3, \n",
    "        learning_rate=0.02)\n",
    "\n",
    "xgboost_model = model.fit(x_train, y_train)\n",
    "y_pred = xgboost_model.predict(x_test)"
   ]
  },
  {
   "cell_type": "code",
   "execution_count": 48,
   "metadata": {},
   "outputs": [
    {
     "name": "stdout",
     "output_type": "stream",
     "text": [
      "[[13670  4169]\n",
      " [ 1298  1735]]\n",
      "0.6691697214749348\n"
     ]
    },
    {
     "data": {
      "image/png": "[encoded data removed]",
      "text/plain": [
       "<Figure size 432x288 with 1 Axes>"
      ]
     },
     "metadata": {
      "needs_background": "light"
     },
     "output_type": "display_data"
    }
   ],
   "source": [
    "print(confusion_matrix(y_test,y_pred))\n",
    "print(roc_auc_score(y_test, y_pred))\n",
    "\n",
    "#ROC Plot\n",
    "fpr, tpr, threshold = metrics.roc_curve(y_test, y_pred)\n",
    "roc_auc = metrics.auc(fpr, tpr)\n",
    "roc_plot(fpr, tpr, roc_auc)"
   ]
  },
  {
   "cell_type": "code",
   "execution_count": 49,
   "metadata": {},
   "outputs": [
    {
     "data": {
      "text/plain": [
       "0.7380701418167881"
      ]
     },
     "execution_count": 49,
     "metadata": {},
     "output_type": "execute_result"
    }
   ],
   "source": [
    "(13670+1735)/(13670+1735+4169+1298)"
   ]
  },
  {
   "cell_type": "code",
   "execution_count": null,
   "metadata": {},
   "outputs": [],
   "source": []
  }
 ],
 "metadata": {
  "kernelspec": {
   "display_name": "Python 3",
   "language": "python",
   "name": "python3"
  },
  "language_info": {
   "codemirror_mode": {
    "name": "ipython",
    "version": 3
   },
   "file_extension": ".py",
   "mimetype": "text/x-python",
   "name": "python",
   "nbconvert_exporter": "python",
   "pygments_lexer": "ipython3",
   "version": "3.7.7"
  },
  "toc": {
   "base_numbering": 1,
   "nav_menu": {},
   "number_sections": true,
   "sideBar": true,
   "skip_h1_title": false,
   "title_cell": "Table of Contents",
   "title_sidebar": "Contents",
   "toc_cell": false,
   "toc_position": {
    "height": "calc(100% - 180px)",
    "left": "10px",
    "top": "150px",
    "width": "349.091px"
   },
   "toc_section_display": true,
   "toc_window_display": true
  },
  "varInspector": {
   "cols": {
    "lenName": 16,
    "lenType": 16,
    "lenVar": 40
   },
   "kernels_config": {
    "python": {
     "delete_cmd_postfix": "",
     "delete_cmd_prefix": "del ",
     "library": "var_list.py",
     "varRefreshCmd": "print(var_dic_list())"
    },
    "r": {
     "delete_cmd_postfix": ") ",
     "delete_cmd_prefix": "rm(",
     "library": "var_list.r",
     "varRefreshCmd": "cat(var_dic_list()) "
    }
   },
   "types_to_exclude": [
    "module",
    "function",
    "builtin_function_or_method",
    "instance",
    "_Feature"
   ],
   "window_display": false
  }
 },
 "nbformat": 4,
 "nbformat_minor": 4
}
