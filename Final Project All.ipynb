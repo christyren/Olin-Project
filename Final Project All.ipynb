{
 "cells": [
  {
   "cell_type": "markdown",
   "metadata": {},
   "source": [
    "# Final Project\n",
    " Yuhan Xu 474154, Wenda Yin 467295, Christy Ren 474884, Rita Shi 474882 "
   ]
  },
  {
   "cell_type": "code",
   "execution_count": 12,
   "metadata": {
    "collapsed": true
   },
   "outputs": [
    {
     "name": "stdout",
     "output_type": "stream",
     "text": [
      "Requirement already satisfied: numpy in /Users/renmengyuan/anaconda3/lib/python3.7/site-packages (1.16.4)\n",
      "\u001b[33mWARNING: You are using pip version 20.0.2; however, version 20.1 is available.\n",
      "You should consider upgrading via the '/Users/renmengyuan/anaconda3/bin/python -m pip install --upgrade pip' command.\u001b[0m\n",
      "Requirement already satisfied: pandas in /Users/renmengyuan/anaconda3/lib/python3.7/site-packages (0.24.2)\n",
      "Requirement already satisfied: numpy>=1.12.0 in /Users/renmengyuan/anaconda3/lib/python3.7/site-packages (from pandas) (1.16.4)\n",
      "Requirement already satisfied: python-dateutil>=2.5.0 in /Users/renmengyuan/anaconda3/lib/python3.7/site-packages (from pandas) (2.8.0)\n",
      "Requirement already satisfied: pytz>=2011k in /Users/renmengyuan/anaconda3/lib/python3.7/site-packages (from pandas) (2019.1)\n",
      "Requirement already satisfied: six>=1.5 in /Users/renmengyuan/anaconda3/lib/python3.7/site-packages (from python-dateutil>=2.5.0->pandas) (1.12.0)\n",
      "\u001b[33mWARNING: You are using pip version 20.0.2; however, version 20.1 is available.\n",
      "You should consider upgrading via the '/Users/renmengyuan/anaconda3/bin/python -m pip install --upgrade pip' command.\u001b[0m\n",
      "Requirement already satisfied: nltk in /Users/renmengyuan/anaconda3/lib/python3.7/site-packages (3.4.4)\n",
      "Requirement already satisfied: six in /Users/renmengyuan/anaconda3/lib/python3.7/site-packages (from nltk) (1.12.0)\n",
      "\u001b[33mWARNING: You are using pip version 20.0.2; however, version 20.1 is available.\n",
      "You should consider upgrading via the '/Users/renmengyuan/anaconda3/bin/python -m pip install --upgrade pip' command.\u001b[0m\n",
      "Requirement already satisfied: sklearn in /Users/renmengyuan/anaconda3/lib/python3.7/site-packages (0.0)\n",
      "Requirement already satisfied: scikit-learn in /Users/renmengyuan/anaconda3/lib/python3.7/site-packages (from sklearn) (0.21.2)\n",
      "Requirement already satisfied: numpy>=1.11.0 in /Users/renmengyuan/anaconda3/lib/python3.7/site-packages (from scikit-learn->sklearn) (1.16.4)\n",
      "Requirement already satisfied: joblib>=0.11 in /Users/renmengyuan/anaconda3/lib/python3.7/site-packages (from scikit-learn->sklearn) (0.13.2)\n",
      "Requirement already satisfied: scipy>=0.17.0 in /Users/renmengyuan/anaconda3/lib/python3.7/site-packages (from scikit-learn->sklearn) (1.4.1)\n",
      "\u001b[33mWARNING: You are using pip version 20.0.2; however, version 20.1 is available.\n",
      "You should consider upgrading via the '/Users/renmengyuan/anaconda3/bin/python -m pip install --upgrade pip' command.\u001b[0m\n",
      "Requirement already satisfied: pyLDAvis in /Users/renmengyuan/anaconda3/lib/python3.7/site-packages (2.1.2)\n",
      "Requirement already satisfied: numexpr in /Users/renmengyuan/anaconda3/lib/python3.7/site-packages (from pyLDAvis) (2.6.9)\n",
      "Requirement already satisfied: pandas>=0.17.0 in /Users/renmengyuan/anaconda3/lib/python3.7/site-packages (from pyLDAvis) (0.24.2)\n",
      "Requirement already satisfied: pytest in /Users/renmengyuan/anaconda3/lib/python3.7/site-packages (from pyLDAvis) (5.0.1)\n",
      "Requirement already satisfied: joblib>=0.8.4 in /Users/renmengyuan/anaconda3/lib/python3.7/site-packages (from pyLDAvis) (0.13.2)\n",
      "Requirement already satisfied: future in /Users/renmengyuan/anaconda3/lib/python3.7/site-packages (from pyLDAvis) (0.17.1)\n",
      "Requirement already satisfied: wheel>=0.23.0 in /Users/renmengyuan/anaconda3/lib/python3.7/site-packages (from pyLDAvis) (0.33.4)\n",
      "Requirement already satisfied: funcy in /Users/renmengyuan/anaconda3/lib/python3.7/site-packages (from pyLDAvis) (1.14)\n",
      "Requirement already satisfied: numpy>=1.9.2 in /Users/renmengyuan/anaconda3/lib/python3.7/site-packages (from pyLDAvis) (1.16.4)\n",
      "Requirement already satisfied: scipy>=0.18.0 in /Users/renmengyuan/anaconda3/lib/python3.7/site-packages (from pyLDAvis) (1.4.1)\n",
      "Requirement already satisfied: jinja2>=2.7.2 in /Users/renmengyuan/anaconda3/lib/python3.7/site-packages (from pyLDAvis) (2.10.1)\n",
      "Requirement already satisfied: python-dateutil>=2.5.0 in /Users/renmengyuan/anaconda3/lib/python3.7/site-packages (from pandas>=0.17.0->pyLDAvis) (2.8.0)\n",
      "Requirement already satisfied: pytz>=2011k in /Users/renmengyuan/anaconda3/lib/python3.7/site-packages (from pandas>=0.17.0->pyLDAvis) (2019.1)\n",
      "Requirement already satisfied: py>=1.5.0 in /Users/renmengyuan/anaconda3/lib/python3.7/site-packages (from pytest->pyLDAvis) (1.8.0)\n",
      "Requirement already satisfied: packaging in /Users/renmengyuan/anaconda3/lib/python3.7/site-packages (from pytest->pyLDAvis) (19.0)\n",
      "Requirement already satisfied: attrs>=17.4.0 in /Users/renmengyuan/anaconda3/lib/python3.7/site-packages (from pytest->pyLDAvis) (19.1.0)\n",
      "Requirement already satisfied: more-itertools>=4.0.0 in /Users/renmengyuan/anaconda3/lib/python3.7/site-packages (from pytest->pyLDAvis) (7.0.0)\n",
      "Requirement already satisfied: atomicwrites>=1.0 in /Users/renmengyuan/anaconda3/lib/python3.7/site-packages (from pytest->pyLDAvis) (1.3.0)\n",
      "Requirement already satisfied: pluggy<1.0,>=0.12 in /Users/renmengyuan/anaconda3/lib/python3.7/site-packages (from pytest->pyLDAvis) (0.12.0)\n",
      "Requirement already satisfied: importlib-metadata>=0.12 in /Users/renmengyuan/anaconda3/lib/python3.7/site-packages (from pytest->pyLDAvis) (0.17)\n",
      "Requirement already satisfied: wcwidth in /Users/renmengyuan/anaconda3/lib/python3.7/site-packages (from pytest->pyLDAvis) (0.1.7)\n",
      "Requirement already satisfied: MarkupSafe>=0.23 in /Users/renmengyuan/anaconda3/lib/python3.7/site-packages (from jinja2>=2.7.2->pyLDAvis) (1.1.1)\n",
      "Requirement already satisfied: six>=1.5 in /Users/renmengyuan/anaconda3/lib/python3.7/site-packages (from python-dateutil>=2.5.0->pandas>=0.17.0->pyLDAvis) (1.12.0)\n",
      "Requirement already satisfied: pyparsing>=2.0.2 in /Users/renmengyuan/anaconda3/lib/python3.7/site-packages (from packaging->pytest->pyLDAvis) (2.4.0)\n",
      "Requirement already satisfied: zipp>=0.5 in /Users/renmengyuan/anaconda3/lib/python3.7/site-packages (from importlib-metadata>=0.12->pytest->pyLDAvis) (0.5.1)\n",
      "\u001b[33mWARNING: You are using pip version 20.0.2; however, version 20.1 is available.\n",
      "You should consider upgrading via the '/Users/renmengyuan/anaconda3/bin/python -m pip install --upgrade pip' command.\u001b[0m\n",
      "Processing /Users/renmengyuan/Library/Caches/pip/wheels/11/86/38/0554afea46105c70bae8d223c427bba371aa0c83ce88d57b27/html_parser-0.2-py3-none-any.whl\n",
      "Requirement already satisfied: ply in /Users/renmengyuan/anaconda3/lib/python3.7/site-packages (from html.parser) (3.11)\n",
      "Installing collected packages: html.parser\n",
      "Successfully installed html.parser\n",
      "\u001b[33mWARNING: You are using pip version 20.0.2; however, version 20.1 is available.\n",
      "You should consider upgrading via the '/Users/renmengyuan/anaconda3/bin/python -m pip install --upgrade pip' command.\u001b[0m\n",
      "Requirement already satisfied: pattern3 in /Users/renmengyuan/anaconda3/lib/python3.7/site-packages (3.0.0)\n",
      "Requirement already satisfied: feedparser in /Users/renmengyuan/anaconda3/lib/python3.7/site-packages (from pattern3) (5.2.1)\n",
      "Requirement already satisfied: pdfminer3k in /Users/renmengyuan/anaconda3/lib/python3.7/site-packages (from pattern3) (1.3.1)\n",
      "Requirement already satisfied: beautifulsoup4 in /Users/renmengyuan/anaconda3/lib/python3.7/site-packages (from pattern3) (4.7.1)\n",
      "Requirement already satisfied: pdfminer.six in /Users/renmengyuan/anaconda3/lib/python3.7/site-packages (from pattern3) (20200124)\n",
      "Requirement already satisfied: simplejson in /Users/renmengyuan/anaconda3/lib/python3.7/site-packages (from pattern3) (3.17.0)\n",
      "Requirement already satisfied: docx in /Users/renmengyuan/anaconda3/lib/python3.7/site-packages (from pattern3) (0.2.4)\n",
      "Requirement already satisfied: cherrypy in /Users/renmengyuan/anaconda3/lib/python3.7/site-packages (from pattern3) (18.5.0)\n",
      "Requirement already satisfied: ply>=3.4 in /Users/renmengyuan/anaconda3/lib/python3.7/site-packages (from pdfminer3k->pattern3) (3.11)\n",
      "Requirement already satisfied: pytest>=2.0 in /Users/renmengyuan/anaconda3/lib/python3.7/site-packages (from pdfminer3k->pattern3) (5.0.1)\n",
      "Requirement already satisfied: soupsieve>=1.2 in /Users/renmengyuan/anaconda3/lib/python3.7/site-packages (from beautifulsoup4->pattern3) (1.8)\n",
      "Requirement already satisfied: chardet; python_version > \"3.0\" in /Users/renmengyuan/anaconda3/lib/python3.7/site-packages (from pdfminer.six->pattern3) (3.0.4)\n",
      "Requirement already satisfied: pycryptodome in /Users/renmengyuan/anaconda3/lib/python3.7/site-packages (from pdfminer.six->pattern3) (3.9.7)\n",
      "Requirement already satisfied: sortedcontainers in /Users/renmengyuan/anaconda3/lib/python3.7/site-packages (from pdfminer.six->pattern3) (2.1.0)\n",
      "Requirement already satisfied: Pillow>=2.0 in /Users/renmengyuan/anaconda3/lib/python3.7/site-packages (from docx->pattern3) (6.1.0)\n",
      "Requirement already satisfied: lxml in /Users/renmengyuan/anaconda3/lib/python3.7/site-packages (from docx->pattern3) (4.3.4)\n"
     ]
    },
    {
     "name": "stdout",
     "output_type": "stream",
     "text": [
      "Requirement already satisfied: more-itertools in /Users/renmengyuan/anaconda3/lib/python3.7/site-packages (from cherrypy->pattern3) (7.0.0)\n",
      "Requirement already satisfied: cheroot>=8.2.1 in /Users/renmengyuan/anaconda3/lib/python3.7/site-packages (from cherrypy->pattern3) (8.3.0)\n",
      "Requirement already satisfied: jaraco.collections in /Users/renmengyuan/anaconda3/lib/python3.7/site-packages (from cherrypy->pattern3) (3.0.0)\n",
      "Requirement already satisfied: portend>=2.1.1 in /Users/renmengyuan/anaconda3/lib/python3.7/site-packages (from cherrypy->pattern3) (2.6)\n",
      "Requirement already satisfied: zc.lockfile in /Users/renmengyuan/anaconda3/lib/python3.7/site-packages (from cherrypy->pattern3) (2.0)\n",
      "Requirement already satisfied: py>=1.5.0 in /Users/renmengyuan/anaconda3/lib/python3.7/site-packages (from pytest>=2.0->pdfminer3k->pattern3) (1.8.0)\n",
      "Requirement already satisfied: packaging in /Users/renmengyuan/anaconda3/lib/python3.7/site-packages (from pytest>=2.0->pdfminer3k->pattern3) (19.0)\n",
      "Requirement already satisfied: attrs>=17.4.0 in /Users/renmengyuan/anaconda3/lib/python3.7/site-packages (from pytest>=2.0->pdfminer3k->pattern3) (19.1.0)\n",
      "Requirement already satisfied: atomicwrites>=1.0 in /Users/renmengyuan/anaconda3/lib/python3.7/site-packages (from pytest>=2.0->pdfminer3k->pattern3) (1.3.0)\n",
      "Requirement already satisfied: pluggy<1.0,>=0.12 in /Users/renmengyuan/anaconda3/lib/python3.7/site-packages (from pytest>=2.0->pdfminer3k->pattern3) (0.12.0)\n",
      "Requirement already satisfied: importlib-metadata>=0.12 in /Users/renmengyuan/anaconda3/lib/python3.7/site-packages (from pytest>=2.0->pdfminer3k->pattern3) (0.17)\n",
      "Requirement already satisfied: wcwidth in /Users/renmengyuan/anaconda3/lib/python3.7/site-packages (from pytest>=2.0->pdfminer3k->pattern3) (0.1.7)\n",
      "Requirement already satisfied: jaraco.functools in /Users/renmengyuan/anaconda3/lib/python3.7/site-packages (from cheroot>=8.2.1->cherrypy->pattern3) (3.0.0)\n",
      "Requirement already satisfied: six>=1.11.0 in /Users/renmengyuan/anaconda3/lib/python3.7/site-packages (from cheroot>=8.2.1->cherrypy->pattern3) (1.12.0)\n",
      "Requirement already satisfied: jaraco.text in /Users/renmengyuan/anaconda3/lib/python3.7/site-packages (from jaraco.collections->cherrypy->pattern3) (3.2.0)\n",
      "Requirement already satisfied: jaraco.classes in /Users/renmengyuan/anaconda3/lib/python3.7/site-packages (from jaraco.collections->cherrypy->pattern3) (3.1.0)\n",
      "Requirement already satisfied: tempora>=1.8 in /Users/renmengyuan/anaconda3/lib/python3.7/site-packages (from portend>=2.1.1->cherrypy->pattern3) (3.0.0)\n",
      "Requirement already satisfied: setuptools in /Users/renmengyuan/anaconda3/lib/python3.7/site-packages (from zc.lockfile->cherrypy->pattern3) (45.2.0)\n",
      "Requirement already satisfied: pyparsing>=2.0.2 in /Users/renmengyuan/anaconda3/lib/python3.7/site-packages (from packaging->pytest>=2.0->pdfminer3k->pattern3) (2.4.0)\n",
      "Requirement already satisfied: zipp>=0.5 in /Users/renmengyuan/anaconda3/lib/python3.7/site-packages (from importlib-metadata>=0.12->pytest>=2.0->pdfminer3k->pattern3) (0.5.1)\n",
      "Requirement already satisfied: pytz in /Users/renmengyuan/anaconda3/lib/python3.7/site-packages (from tempora>=1.8->portend>=2.1.1->cherrypy->pattern3) (2019.1)\n",
      "\u001b[33mWARNING: You are using pip version 20.0.2; however, version 20.1 is available.\n",
      "You should consider upgrading via the '/Users/renmengyuan/anaconda3/bin/python -m pip install --upgrade pip' command.\u001b[0m\n",
      "Requirement already satisfied: pyLDAvis in /Users/renmengyuan/anaconda3/lib/python3.7/site-packages (2.1.2)\n",
      "Requirement already satisfied: numpy>=1.9.2 in /Users/renmengyuan/anaconda3/lib/python3.7/site-packages (from pyLDAvis) (1.16.4)\n",
      "Requirement already satisfied: pandas>=0.17.0 in /Users/renmengyuan/anaconda3/lib/python3.7/site-packages (from pyLDAvis) (0.24.2)\n",
      "Requirement already satisfied: joblib>=0.8.4 in /Users/renmengyuan/anaconda3/lib/python3.7/site-packages (from pyLDAvis) (0.13.2)\n",
      "Requirement already satisfied: scipy>=0.18.0 in /Users/renmengyuan/anaconda3/lib/python3.7/site-packages (from pyLDAvis) (1.4.1)\n",
      "Requirement already satisfied: funcy in /Users/renmengyuan/anaconda3/lib/python3.7/site-packages (from pyLDAvis) (1.14)\n",
      "Requirement already satisfied: jinja2>=2.7.2 in /Users/renmengyuan/anaconda3/lib/python3.7/site-packages (from pyLDAvis) (2.10.1)\n",
      "Requirement already satisfied: pytest in /Users/renmengyuan/anaconda3/lib/python3.7/site-packages (from pyLDAvis) (5.0.1)\n",
      "Requirement already satisfied: wheel>=0.23.0 in /Users/renmengyuan/anaconda3/lib/python3.7/site-packages (from pyLDAvis) (0.33.4)\n",
      "Requirement already satisfied: future in /Users/renmengyuan/anaconda3/lib/python3.7/site-packages (from pyLDAvis) (0.17.1)\n",
      "Requirement already satisfied: numexpr in /Users/renmengyuan/anaconda3/lib/python3.7/site-packages (from pyLDAvis) (2.6.9)\n",
      "Requirement already satisfied: pytz>=2011k in /Users/renmengyuan/anaconda3/lib/python3.7/site-packages (from pandas>=0.17.0->pyLDAvis) (2019.1)\n",
      "Requirement already satisfied: python-dateutil>=2.5.0 in /Users/renmengyuan/anaconda3/lib/python3.7/site-packages (from pandas>=0.17.0->pyLDAvis) (2.8.0)\n",
      "Requirement already satisfied: MarkupSafe>=0.23 in /Users/renmengyuan/anaconda3/lib/python3.7/site-packages (from jinja2>=2.7.2->pyLDAvis) (1.1.1)\n",
      "Requirement already satisfied: py>=1.5.0 in /Users/renmengyuan/anaconda3/lib/python3.7/site-packages (from pytest->pyLDAvis) (1.8.0)\n",
      "Requirement already satisfied: packaging in /Users/renmengyuan/anaconda3/lib/python3.7/site-packages (from pytest->pyLDAvis) (19.0)\n",
      "Requirement already satisfied: attrs>=17.4.0 in /Users/renmengyuan/anaconda3/lib/python3.7/site-packages (from pytest->pyLDAvis) (19.1.0)\n",
      "Requirement already satisfied: more-itertools>=4.0.0 in /Users/renmengyuan/anaconda3/lib/python3.7/site-packages (from pytest->pyLDAvis) (7.0.0)\n",
      "Requirement already satisfied: atomicwrites>=1.0 in /Users/renmengyuan/anaconda3/lib/python3.7/site-packages (from pytest->pyLDAvis) (1.3.0)\n",
      "Requirement already satisfied: pluggy<1.0,>=0.12 in /Users/renmengyuan/anaconda3/lib/python3.7/site-packages (from pytest->pyLDAvis) (0.12.0)\n",
      "Requirement already satisfied: importlib-metadata>=0.12 in /Users/renmengyuan/anaconda3/lib/python3.7/site-packages (from pytest->pyLDAvis) (0.17)\n",
      "Requirement already satisfied: wcwidth in /Users/renmengyuan/anaconda3/lib/python3.7/site-packages (from pytest->pyLDAvis) (0.1.7)\n",
      "Requirement already satisfied: six>=1.5 in /Users/renmengyuan/anaconda3/lib/python3.7/site-packages (from python-dateutil>=2.5.0->pandas>=0.17.0->pyLDAvis) (1.12.0)\n",
      "Requirement already satisfied: pyparsing>=2.0.2 in /Users/renmengyuan/anaconda3/lib/python3.7/site-packages (from packaging->pytest->pyLDAvis) (2.4.0)\n",
      "Requirement already satisfied: zipp>=0.5 in /Users/renmengyuan/anaconda3/lib/python3.7/site-packages (from importlib-metadata>=0.12->pytest->pyLDAvis) (0.5.1)\n",
      "\u001b[33mWARNING: You are using pip version 20.0.2; however, version 20.1 is available.\n",
      "You should consider upgrading via the '/Users/renmengyuan/anaconda3/bin/python -m pip install --upgrade pip' command.\u001b[0m\n"
     ]
    },
    {
     "name": "stderr",
     "output_type": "stream",
     "text": [
      "[nltk_data] Downloading package stopwords to\n",
      "[nltk_data]     /Users/renmengyuan/nltk_data...\n",
      "[nltk_data]   Package stopwords is already up-to-date!\n",
      "[nltk_data] Downloading package punkt to\n",
      "[nltk_data]     /Users/renmengyuan/nltk_data...\n",
      "[nltk_data]   Package punkt is already up-to-date!\n",
      "[nltk_data] Downloading package averaged_perceptron_tagger to\n",
      "[nltk_data]     /Users/renmengyuan/nltk_data...\n",
      "[nltk_data]   Package averaged_perceptron_tagger is already up-to-\n",
      "[nltk_data]       date!\n",
      "[nltk_data] Downloading package wordnet to\n",
      "[nltk_data]     /Users/renmengyuan/nltk_data...\n",
      "[nltk_data]   Package wordnet is already up-to-date!\n"
     ]
    },
    {
     "name": "stdout",
     "output_type": "stream",
     "text": [
      "Original:   <p>The circus dog in a plissé skirt jumped over Python who wasn't that large, just 3 feet long.</p>\n",
      "Processed:  ['<', 'p', '>', 'The', 'circus', 'dog', 'in', 'a', 'plissé', 'skirt', 'jumped', 'over', 'Python', 'who', 'was', \"n't\", 'that', 'large', ',', 'just', '3', 'feet', 'long.', '<', '/p', '>']\n",
      "Original:   <p>The circus dog in a plissé skirt jumped over Python who wasn't that large, just 3 feet long.</p>\n",
      "Processed:  <p>The circus dog in a plissé skirt jumped over Python who was not that large, just 3 feet long.</p>\n",
      "Original:   <p>The circus dog in a plissé skirt jumped over Python who wasn't that large, just 3 feet long.</p>\n",
      "Processed:  [('<', 'a'), ('p', 'n'), ('>', 'v'), ('the', None), ('circus', 'n'), ('dog', 'n'), ('in', None), ('a', None), ('plissé', 'n'), ('skirt', 'n'), ('jumped', 'v'), ('over', None), ('python', 'n'), ('who', None), ('was', 'v'), (\"n't\", 'r'), ('that', None), ('large', 'a'), (',', None), ('just', 'r'), ('3', None), ('feet', 'n'), ('long.', 'a'), ('<', 'n'), ('/p', 'n'), ('>', 'n')]\n",
      "Original:   <p>The circus dog in a plissé skirt jumped over Python who wasn't that large, just 3 feet long.</p>\n",
      "Processed:  < p > the circus dog in a plissé skirt jump over python who be n't that large , just 3 foot long. < /p >\n",
      "Original:   <p>The circus dog in a plissé skirt jumped over Python who wasn't that large, just 3 feet long.</p>\n",
      "Processed:    p   The circus dog in a plissé skirt jumped over Python who was n t that large   just 3 feet long     p  \n",
      "Original:   <p>The circus dog in a plissé skirt jumped over Python who wasn't that large, just 3 feet long.</p>\n",
      "Processed:  < p > The circus dog plissé skirt jumped Python n't large , 3 feet long. < /p >\n",
      "Original:   <p>The circus dog in a plissé skirt jumped over Python who wasn't that large, just 3 feet long.</p>\n",
      "Processed:  p The circus dog in a plissé skirt jumped over Python who was n't that large just feet long. /p\n",
      "Original:   <p>The circus dog in a plissé skirt jumped over Python who wasn't that large, just 3 feet long.</p>\n",
      "Processed:  The circus dog in a plissé skirt jumped over Python who wasn't that large, just 3 feet long.\n",
      "Original:   <p>The circus dog in a plissé skirt jumped over Python who wasn't that large, just 3 feet long.</p>\n",
      "Processed:  <p>The circus dog in a plisse skirt jumped over Python who wasn't that large, just 3 feet long.</p>\n"
     ]
    }
   ],
   "source": [
    "#Session Prep\n",
    "import json\n",
    "import sys\n",
    "\n",
    "!{sys.executable} -m pip install numpy\n",
    "import numpy as np \n",
    "\n",
    "!{sys.executable} -m pip install pandas\n",
    "import pandas as pd\n",
    "\n",
    "!{sys.executable} -m pip install nltk\n",
    "import nltk\n",
    "\n",
    "!{sys.executable} -m pip install sklearn\n",
    "from sklearn import metrics\n",
    "#from sklearn.model_selection import GridSearchCV\n",
    "from sklearn.feature_extraction.text import  CountVectorizer #bag-of-words vectorizer \n",
    "from sklearn.decomposition import LatentDirichletAllocation #package for LDA\n",
    "\n",
    "# Plotting tools\n",
    "\n",
    "from pprint import pprint\n",
    "!{sys.executable} -m pip install pyLDAvis #visualizing LDA\n",
    "import pyLDAvis\n",
    "import pyLDAvis.sklearn\n",
    "\n",
    "import matplotlib.pyplot as plt\n",
    "%matplotlib inline\n",
    "\n",
    "import warnings\n",
    "warnings.simplefilter(action='ignore', category=FutureWarning)\n",
    "\n",
    "#text normalization function\n",
    "%run ./Text_Normalization_Function.ipynb\n"
   ]
  },
  {
   "cell_type": "code",
   "execution_count": 28,
   "metadata": {
    "scrolled": false
   },
   "outputs": [
    {
     "data": {
      "text/html": [
       "<div>\n",
       "<style scoped>\n",
       "    .dataframe tbody tr th:only-of-type {\n",
       "        vertical-align: middle;\n",
       "    }\n",
       "\n",
       "    .dataframe tbody tr th {\n",
       "        vertical-align: top;\n",
       "    }\n",
       "\n",
       "    .dataframe thead th {\n",
       "        text-align: right;\n",
       "    }\n",
       "</style>\n",
       "<table border=\"1\" class=\"dataframe\">\n",
       "  <thead>\n",
       "    <tr style=\"text-align: right;\">\n",
       "      <th></th>\n",
       "      <th>asin</th>\n",
       "      <th>image</th>\n",
       "      <th>overall</th>\n",
       "      <th>reviewText</th>\n",
       "      <th>reviewTime</th>\n",
       "      <th>reviewerID</th>\n",
       "      <th>reviewerName</th>\n",
       "      <th>style</th>\n",
       "      <th>summary</th>\n",
       "      <th>unixReviewTime</th>\n",
       "      <th>verified</th>\n",
       "      <th>vote</th>\n",
       "    </tr>\n",
       "  </thead>\n",
       "  <tbody>\n",
       "    <tr>\n",
       "      <th>0</th>\n",
       "      <td>0143026860</td>\n",
       "      <td>NaN</td>\n",
       "      <td>1</td>\n",
       "      <td>great</td>\n",
       "      <td>02 19, 2015</td>\n",
       "      <td>A1V6B6TNIC10QE</td>\n",
       "      <td>theodore j bigham</td>\n",
       "      <td>NaN</td>\n",
       "      <td>One Star</td>\n",
       "      <td>1424304000</td>\n",
       "      <td>True</td>\n",
       "      <td>NaN</td>\n",
       "    </tr>\n",
       "    <tr>\n",
       "      <th>1</th>\n",
       "      <td>0143026860</td>\n",
       "      <td>NaN</td>\n",
       "      <td>4</td>\n",
       "      <td>My  husband wanted to reading about the Negro ...</td>\n",
       "      <td>12 18, 2014</td>\n",
       "      <td>A2F5GHSXFQ0W6J</td>\n",
       "      <td>Mary K. Byke</td>\n",
       "      <td>NaN</td>\n",
       "      <td>... to reading about the Negro Baseball and th...</td>\n",
       "      <td>1418860800</td>\n",
       "      <td>True</td>\n",
       "      <td>NaN</td>\n",
       "    </tr>\n",
       "    <tr>\n",
       "      <th>2</th>\n",
       "      <td>0143026860</td>\n",
       "      <td>NaN</td>\n",
       "      <td>4</td>\n",
       "      <td>This book was very informative, covering all a...</td>\n",
       "      <td>08 10, 2014</td>\n",
       "      <td>A1572GUYS7DGSR</td>\n",
       "      <td>David G</td>\n",
       "      <td>NaN</td>\n",
       "      <td>Worth the Read</td>\n",
       "      <td>1407628800</td>\n",
       "      <td>True</td>\n",
       "      <td>NaN</td>\n",
       "    </tr>\n",
       "    <tr>\n",
       "      <th>3</th>\n",
       "      <td>0143026860</td>\n",
       "      <td>NaN</td>\n",
       "      <td>5</td>\n",
       "      <td>I am already a baseball fan and knew a bit abo...</td>\n",
       "      <td>03 11, 2013</td>\n",
       "      <td>A1PSGLFK1NSVO</td>\n",
       "      <td>TamB</td>\n",
       "      <td>NaN</td>\n",
       "      <td>Good Read</td>\n",
       "      <td>1362960000</td>\n",
       "      <td>True</td>\n",
       "      <td>NaN</td>\n",
       "    </tr>\n",
       "    <tr>\n",
       "      <th>4</th>\n",
       "      <td>0143026860</td>\n",
       "      <td>NaN</td>\n",
       "      <td>5</td>\n",
       "      <td>This was a good story of the Black leagues. I ...</td>\n",
       "      <td>12 25, 2011</td>\n",
       "      <td>A6IKXKZMTKGSC</td>\n",
       "      <td>shoecanary</td>\n",
       "      <td>NaN</td>\n",
       "      <td>More than facts, a good story read!</td>\n",
       "      <td>1324771200</td>\n",
       "      <td>True</td>\n",
       "      <td>5</td>\n",
       "    </tr>\n",
       "    <tr>\n",
       "      <th>5</th>\n",
       "      <td>0143026860</td>\n",
       "      <td>NaN</td>\n",
       "      <td>5</td>\n",
       "      <td>Today I gave a book about the Negro Leagues of...</td>\n",
       "      <td>02 26, 2010</td>\n",
       "      <td>A36NF437WZLQ9E</td>\n",
       "      <td>W. Powell</td>\n",
       "      <td>NaN</td>\n",
       "      <td>The Gift of Black Baseball</td>\n",
       "      <td>1267142400</td>\n",
       "      <td>False</td>\n",
       "      <td>4</td>\n",
       "    </tr>\n",
       "    <tr>\n",
       "      <th>6</th>\n",
       "      <td>0143026860</td>\n",
       "      <td>NaN</td>\n",
       "      <td>4</td>\n",
       "      <td>The story of race relations in American histor...</td>\n",
       "      <td>03 7, 2001</td>\n",
       "      <td>A10Q8NIFOVOHFV</td>\n",
       "      <td>Robert S. Clay Jr.</td>\n",
       "      <td>NaN</td>\n",
       "      <td>Baseball, America, and racism.</td>\n",
       "      <td>983923200</td>\n",
       "      <td>False</td>\n",
       "      <td>14</td>\n",
       "    </tr>\n",
       "    <tr>\n",
       "      <th>7</th>\n",
       "      <td>014789302X</td>\n",
       "      <td>NaN</td>\n",
       "      <td>1</td>\n",
       "      <td>I didn't like this product it smudged all unde...</td>\n",
       "      <td>04 10, 2017</td>\n",
       "      <td>A26PO1B2Q2G1CS</td>\n",
       "      <td>Jacqueline Diaz</td>\n",
       "      <td>NaN</td>\n",
       "      <td>One Star</td>\n",
       "      <td>1491782400</td>\n",
       "      <td>True</td>\n",
       "      <td>NaN</td>\n",
       "    </tr>\n",
       "    <tr>\n",
       "      <th>8</th>\n",
       "      <td>014789302X</td>\n",
       "      <td>NaN</td>\n",
       "      <td>5</td>\n",
       "      <td>I simply love the product. I appreciate print ...</td>\n",
       "      <td>01 3, 2017</td>\n",
       "      <td>AQ812VYVTC2RJ</td>\n",
       "      <td>Khadijah Ali-Evans</td>\n",
       "      <td>NaN</td>\n",
       "      <td>Five Stars</td>\n",
       "      <td>1483401600</td>\n",
       "      <td>True</td>\n",
       "      <td>NaN</td>\n",
       "    </tr>\n",
       "    <tr>\n",
       "      <th>9</th>\n",
       "      <td>014789302X</td>\n",
       "      <td>NaN</td>\n",
       "      <td>1</td>\n",
       "      <td>it burns your eyes when u put it on  and very ...</td>\n",
       "      <td>11 19, 2016</td>\n",
       "      <td>AMACNEW14ADMX</td>\n",
       "      <td>rabiyaa123</td>\n",
       "      <td>NaN</td>\n",
       "      <td>i do not recommend.</td>\n",
       "      <td>1479513600</td>\n",
       "      <td>True</td>\n",
       "      <td>3</td>\n",
       "    </tr>\n",
       "  </tbody>\n",
       "</table>\n",
       "</div>"
      ],
      "text/plain": [
       "         asin image  overall  \\\n",
       "0  0143026860   NaN        1   \n",
       "1  0143026860   NaN        4   \n",
       "2  0143026860   NaN        4   \n",
       "3  0143026860   NaN        5   \n",
       "4  0143026860   NaN        5   \n",
       "5  0143026860   NaN        5   \n",
       "6  0143026860   NaN        4   \n",
       "7  014789302X   NaN        1   \n",
       "8  014789302X   NaN        5   \n",
       "9  014789302X   NaN        1   \n",
       "\n",
       "                                          reviewText   reviewTime  \\\n",
       "0                                              great  02 19, 2015   \n",
       "1  My  husband wanted to reading about the Negro ...  12 18, 2014   \n",
       "2  This book was very informative, covering all a...  08 10, 2014   \n",
       "3  I am already a baseball fan and knew a bit abo...  03 11, 2013   \n",
       "4  This was a good story of the Black leagues. I ...  12 25, 2011   \n",
       "5  Today I gave a book about the Negro Leagues of...  02 26, 2010   \n",
       "6  The story of race relations in American histor...   03 7, 2001   \n",
       "7  I didn't like this product it smudged all unde...  04 10, 2017   \n",
       "8  I simply love the product. I appreciate print ...   01 3, 2017   \n",
       "9  it burns your eyes when u put it on  and very ...  11 19, 2016   \n",
       "\n",
       "       reviewerID        reviewerName style  \\\n",
       "0  A1V6B6TNIC10QE   theodore j bigham   NaN   \n",
       "1  A2F5GHSXFQ0W6J        Mary K. Byke   NaN   \n",
       "2  A1572GUYS7DGSR             David G   NaN   \n",
       "3   A1PSGLFK1NSVO                TamB   NaN   \n",
       "4   A6IKXKZMTKGSC          shoecanary   NaN   \n",
       "5  A36NF437WZLQ9E           W. Powell   NaN   \n",
       "6  A10Q8NIFOVOHFV  Robert S. Clay Jr.   NaN   \n",
       "7  A26PO1B2Q2G1CS     Jacqueline Diaz   NaN   \n",
       "8   AQ812VYVTC2RJ  Khadijah Ali-Evans   NaN   \n",
       "9   AMACNEW14ADMX          rabiyaa123   NaN   \n",
       "\n",
       "                                             summary  unixReviewTime  \\\n",
       "0                                           One Star      1424304000   \n",
       "1  ... to reading about the Negro Baseball and th...      1418860800   \n",
       "2                                     Worth the Read      1407628800   \n",
       "3                                          Good Read      1362960000   \n",
       "4                More than facts, a good story read!      1324771200   \n",
       "5                         The Gift of Black Baseball      1267142400   \n",
       "6                     Baseball, America, and racism.       983923200   \n",
       "7                                           One Star      1491782400   \n",
       "8                                         Five Stars      1483401600   \n",
       "9                                i do not recommend.      1479513600   \n",
       "\n",
       "   verified vote  \n",
       "0      True  NaN  \n",
       "1      True  NaN  \n",
       "2      True  NaN  \n",
       "3      True  NaN  \n",
       "4      True    5  \n",
       "5     False    4  \n",
       "6     False   14  \n",
       "7      True  NaN  \n",
       "8      True  NaN  \n",
       "9      True    3  "
      ]
     },
     "execution_count": 28,
     "metadata": {},
     "output_type": "execute_result"
    }
   ],
   "source": [
    "df = pd.read_json(\"All_Beauty.json\",\n",
    "                        lines=True,\n",
    "                        orient='columns')\n",
    "df.head(10)"
   ]
  },
  {
   "cell_type": "code",
   "execution_count": 29,
   "metadata": {},
   "outputs": [],
   "source": [
    "df['reviewText']=df['reviewText'].astype(str)"
   ]
  },
  {
   "cell_type": "code",
   "execution_count": 30,
   "metadata": {},
   "outputs": [],
   "source": [
    "reviews = np.array(df['reviewText'])\n",
    "normalized_reviews = normalize_corpus(reviews) "
   ]
  },
  {
   "cell_type": "markdown",
   "metadata": {},
   "source": [
    "# Explore the Data"
   ]
  },
  {
   "cell_type": "markdown",
   "metadata": {},
   "source": [
    "## Creating a Wordcloud"
   ]
  },
  {
   "cell_type": "markdown",
   "metadata": {},
   "source": [
    "### For reviewText"
   ]
  },
  {
   "cell_type": "code",
   "execution_count": 2,
   "metadata": {},
   "outputs": [],
   "source": [
    "from wordcloud import WordCloud"
   ]
  },
  {
   "cell_type": "code",
   "execution_count": 3,
   "metadata": {},
   "outputs": [],
   "source": [
    "# Creating a Wordcloud\n",
    "wordcloud = WordCloud()"
   ]
  },
  {
   "cell_type": "code",
   "execution_count": 4,
   "metadata": {},
   "outputs": [],
   "source": [
    "from nltk.corpus import stopwords\n",
    "# nltk.download()"
   ]
  },
  {
   "cell_type": "code",
   "execution_count": 5,
   "metadata": {},
   "outputs": [],
   "source": [
    "# Stopword Removal\n",
    "stop = stopwords.words('english')"
   ]
  },
  {
   "cell_type": "code",
   "execution_count": 6,
   "metadata": {},
   "outputs": [],
   "source": [
    "stop.extend(('.', ',', '\"', \"'\", '?', '!', ':', ';', '(', ')', '[', ']', '{', '}','/','-'))"
   ]
  },
  {
   "cell_type": "code",
   "execution_count": 7,
   "metadata": {},
   "outputs": [],
   "source": [
    "frequency_words_wo_stop = {}"
   ]
  },
  {
   "cell_type": "code",
   "execution_count": 8,
   "metadata": {},
   "outputs": [],
   "source": [
    "def generate_word_frequency(row):\n",
    "    data = row['reviewText']\n",
    "    tokens = nltk.wordpunct_tokenize(data)\n",
    "    token_list = []\n",
    "    for token in tokens:\n",
    "        if token.lower() not in stop:\n",
    "            token_list.append(token.lower())\n",
    "            if token.lower() in frequency_words_wo_stop:\n",
    "                count = frequency_words_wo_stop[token.lower()]\n",
    "                count = count + 1\n",
    "                frequency_words_wo_stop[token.lower()] = count\n",
    "            else:\n",
    "                frequency_words_wo_stop[token.lower()] = 1\n",
    "    \n",
    "    return ','.join(token_list)"
   ]
  },
  {
   "cell_type": "code",
   "execution_count": 9,
   "metadata": {
    "collapsed": true
   },
   "outputs": [
    {
     "ename": "ValueError",
     "evalue": "We need at least 1 word to plot a word cloud, got 0.",
     "output_type": "error",
     "traceback": [
      "\u001b[0;31m---------------------------------------------------------------------------\u001b[0m",
      "\u001b[0;31mValueError\u001b[0m                                Traceback (most recent call last)",
      "\u001b[0;32m<ipython-input-9-80766314750e>\u001b[0m in \u001b[0;36m<module>\u001b[0;34m\u001b[0m\n\u001b[0;32m----> 1\u001b[0;31m \u001b[0mwordcloud\u001b[0m\u001b[0;34m.\u001b[0m\u001b[0mgenerate_from_frequencies\u001b[0m\u001b[0;34m(\u001b[0m\u001b[0mfrequency_words_wo_stop\u001b[0m\u001b[0;34m)\u001b[0m\u001b[0;34m\u001b[0m\u001b[0;34m\u001b[0m\u001b[0m\n\u001b[0m",
      "\u001b[0;32m~/anaconda3/lib/python3.7/site-packages/wordcloud/wordcloud.py\u001b[0m in \u001b[0;36mgenerate_from_frequencies\u001b[0;34m(self, frequencies, max_font_size)\u001b[0m\n\u001b[1;32m    389\u001b[0m         \u001b[0;32mif\u001b[0m \u001b[0mlen\u001b[0m\u001b[0;34m(\u001b[0m\u001b[0mfrequencies\u001b[0m\u001b[0;34m)\u001b[0m \u001b[0;34m<=\u001b[0m \u001b[0;36m0\u001b[0m\u001b[0;34m:\u001b[0m\u001b[0;34m\u001b[0m\u001b[0;34m\u001b[0m\u001b[0m\n\u001b[1;32m    390\u001b[0m             raise ValueError(\"We need at least 1 word to plot a word cloud, \"\n\u001b[0;32m--> 391\u001b[0;31m                              \"got %d.\" % len(frequencies))\n\u001b[0m\u001b[1;32m    392\u001b[0m         \u001b[0mfrequencies\u001b[0m \u001b[0;34m=\u001b[0m \u001b[0mfrequencies\u001b[0m\u001b[0;34m[\u001b[0m\u001b[0;34m:\u001b[0m\u001b[0mself\u001b[0m\u001b[0;34m.\u001b[0m\u001b[0mmax_words\u001b[0m\u001b[0;34m]\u001b[0m\u001b[0;34m\u001b[0m\u001b[0;34m\u001b[0m\u001b[0m\n\u001b[1;32m    393\u001b[0m \u001b[0;34m\u001b[0m\u001b[0m\n",
      "\u001b[0;31mValueError\u001b[0m: We need at least 1 word to plot a word cloud, got 0."
     ]
    }
   ],
   "source": [
    "wordcloud.generate_from_frequencies(frequency_words_wo_stop)"
   ]
  },
  {
   "cell_type": "code",
   "execution_count": null,
   "metadata": {
    "scrolled": false
   },
   "outputs": [],
   "source": [
    "plt.figure(figsize=(14,10))\n",
    "plt.imshow(wordcloud)\n",
    "plt.axis(\"off\")\n",
    "plt.show()"
   ]
  },
  {
   "cell_type": "markdown",
   "metadata": {},
   "source": [
    "It seems that people buying beauty products cares more about hair products, smell&scent and normally leave a positive review. "
   ]
  },
  {
   "cell_type": "markdown",
   "metadata": {},
   "source": [
    "### For Summary"
   ]
  },
  {
   "cell_type": "code",
   "execution_count": 14,
   "metadata": {},
   "outputs": [],
   "source": [
    "df['summary'] = df['summary'].astype(str) "
   ]
  },
  {
   "cell_type": "code",
   "execution_count": 15,
   "metadata": {},
   "outputs": [],
   "source": [
    "# Creating a Wordcloud\n",
    "wordcloud = WordCloud()"
   ]
  },
  {
   "cell_type": "code",
   "execution_count": 16,
   "metadata": {},
   "outputs": [],
   "source": [
    "frequency_words_wo_stop_1 = {}"
   ]
  },
  {
   "cell_type": "code",
   "execution_count": 17,
   "metadata": {},
   "outputs": [],
   "source": [
    "def generate_word_frequency_1(row):\n",
    "    data = row['summary']\n",
    "    tokens = nltk.wordpunct_tokenize(data)\n",
    "    token_list = []\n",
    "    for token in tokens:\n",
    "        if token.lower() not in stop:\n",
    "            token_list.append(token.lower())\n",
    "            if token.lower() in frequency_words_wo_stop_1:\n",
    "                count = frequency_words_wo_stop_1[token.lower()]\n",
    "                count = count + 1\n",
    "                frequency_words_wo_stop_1[token.lower()] = count\n",
    "            else:\n",
    "                frequency_words_wo_stop_1[token.lower()] = 1\n",
    "    \n",
    "    return ','.join(token_list)"
   ]
  },
  {
   "cell_type": "code",
   "execution_count": 18,
   "metadata": {},
   "outputs": [],
   "source": [
    "df['tokens_1'] = df.apply(generate_word_frequency_1,axis=1)"
   ]
  },
  {
   "cell_type": "code",
   "execution_count": 19,
   "metadata": {},
   "outputs": [
    {
     "data": {
      "text/plain": [
       "<wordcloud.wordcloud.WordCloud at 0x1a2c666438>"
      ]
     },
     "execution_count": 19,
     "metadata": {},
     "output_type": "execute_result"
    }
   ],
   "source": [
    "wordcloud.generate_from_frequencies(frequency_words_wo_stop_1)"
   ]
  },
  {
   "cell_type": "code",
   "execution_count": 20,
   "metadata": {
    "scrolled": false
   },
   "outputs": [
    {
     "data": {
      "image/png": "[encoded data removed]",
      "text/plain": [
       "<Figure size 1008x720 with 1 Axes>"
      ]
     },
     "metadata": {
      "needs_background": "light"
     },
     "output_type": "display_data"
    }
   ],
   "source": [
    "plt.figure(figsize=(14,10))\n",
    "plt.imshow(wordcloud)\n",
    "plt.axis(\"off\")\n",
    "plt.show()"
   ]
  },
  {
   "cell_type": "markdown",
   "metadata": {},
   "source": [
    "It seems that people normally make comments such as \"five star\" when they feel good about the product and the reviews are mostly postive. In the summary part, people mention words such as \"shampoo\", \"body\",\"wash\",\"soap\", etc, but also \"smell\" and \"scent\"."
   ]
  },
  {
   "cell_type": "markdown",
   "metadata": {},
   "source": [
    "## Questions:\n",
    "1. What is the sentiment distribution of the “All Beauty” category reviews and overtime trend? \n",
    "\n",
    "2. What are the most frequent topics when it comes to complaints? \n",
    "\n",
    "3. What are the most popular topics when it comes to positive feedback? \n",
    "\n",
    "4. What are the differences in the sentiment between those who frequently leave a review and those who seldom leave reviews?   \n",
    "\n",
    "5. Does the proportion of the positive reviews grow through time or not? \n",
    "\n",
    "6. Does posting an image more likely lead to a positive comment or not? "
   ]
  },
  {
   "cell_type": "markdown",
   "metadata": {},
   "source": [
    "### 1. What is the sentiment distribution of the “All Beauty” category reviews and overtime trend？"
   ]
  },
  {
   "cell_type": "code",
   "execution_count": 10,
   "metadata": {},
   "outputs": [
    {
     "data": {
      "text/html": [
       "<div>\n",
       "<style scoped>\n",
       "    .dataframe tbody tr th:only-of-type {\n",
       "        vertical-align: middle;\n",
       "    }\n",
       "\n",
       "    .dataframe tbody tr th {\n",
       "        vertical-align: top;\n",
       "    }\n",
       "\n",
       "    .dataframe thead th {\n",
       "        text-align: right;\n",
       "    }\n",
       "</style>\n",
       "<table border=\"1\" class=\"dataframe\">\n",
       "  <thead>\n",
       "    <tr style=\"text-align: right;\">\n",
       "      <th></th>\n",
       "      <th>asin</th>\n",
       "      <th>image</th>\n",
       "      <th>overall</th>\n",
       "      <th>reviewText</th>\n",
       "      <th>reviewTime</th>\n",
       "      <th>reviewerID</th>\n",
       "      <th>reviewerName</th>\n",
       "      <th>style</th>\n",
       "      <th>summary</th>\n",
       "      <th>unixReviewTime</th>\n",
       "      <th>verified</th>\n",
       "      <th>vote</th>\n",
       "      <th>logic</th>\n",
       "    </tr>\n",
       "  </thead>\n",
       "  <tbody>\n",
       "    <tr>\n",
       "      <th>0</th>\n",
       "      <td>0143026860</td>\n",
       "      <td>NaN</td>\n",
       "      <td>1</td>\n",
       "      <td>great</td>\n",
       "      <td>02 19, 2015</td>\n",
       "      <td>A1V6B6TNIC10QE</td>\n",
       "      <td>theodore j bigham</td>\n",
       "      <td>NaN</td>\n",
       "      <td>One Star</td>\n",
       "      <td>1424304000</td>\n",
       "      <td>True</td>\n",
       "      <td>NaN</td>\n",
       "      <td>negative</td>\n",
       "    </tr>\n",
       "    <tr>\n",
       "      <th>1</th>\n",
       "      <td>0143026860</td>\n",
       "      <td>NaN</td>\n",
       "      <td>4</td>\n",
       "      <td>My  husband wanted to reading about the Negro ...</td>\n",
       "      <td>12 18, 2014</td>\n",
       "      <td>A2F5GHSXFQ0W6J</td>\n",
       "      <td>Mary K. Byke</td>\n",
       "      <td>NaN</td>\n",
       "      <td>... to reading about the Negro Baseball and th...</td>\n",
       "      <td>1418860800</td>\n",
       "      <td>True</td>\n",
       "      <td>NaN</td>\n",
       "      <td>postive</td>\n",
       "    </tr>\n",
       "    <tr>\n",
       "      <th>2</th>\n",
       "      <td>0143026860</td>\n",
       "      <td>NaN</td>\n",
       "      <td>4</td>\n",
       "      <td>This book was very informative, covering all a...</td>\n",
       "      <td>08 10, 2014</td>\n",
       "      <td>A1572GUYS7DGSR</td>\n",
       "      <td>David G</td>\n",
       "      <td>NaN</td>\n",
       "      <td>Worth the Read</td>\n",
       "      <td>1407628800</td>\n",
       "      <td>True</td>\n",
       "      <td>NaN</td>\n",
       "      <td>postive</td>\n",
       "    </tr>\n",
       "    <tr>\n",
       "      <th>3</th>\n",
       "      <td>0143026860</td>\n",
       "      <td>NaN</td>\n",
       "      <td>5</td>\n",
       "      <td>I am already a baseball fan and knew a bit abo...</td>\n",
       "      <td>03 11, 2013</td>\n",
       "      <td>A1PSGLFK1NSVO</td>\n",
       "      <td>TamB</td>\n",
       "      <td>NaN</td>\n",
       "      <td>Good Read</td>\n",
       "      <td>1362960000</td>\n",
       "      <td>True</td>\n",
       "      <td>NaN</td>\n",
       "      <td>postive</td>\n",
       "    </tr>\n",
       "    <tr>\n",
       "      <th>4</th>\n",
       "      <td>0143026860</td>\n",
       "      <td>NaN</td>\n",
       "      <td>5</td>\n",
       "      <td>This was a good story of the Black leagues. I ...</td>\n",
       "      <td>12 25, 2011</td>\n",
       "      <td>A6IKXKZMTKGSC</td>\n",
       "      <td>shoecanary</td>\n",
       "      <td>NaN</td>\n",
       "      <td>More than facts, a good story read!</td>\n",
       "      <td>1324771200</td>\n",
       "      <td>True</td>\n",
       "      <td>5</td>\n",
       "      <td>postive</td>\n",
       "    </tr>\n",
       "  </tbody>\n",
       "</table>\n",
       "</div>"
      ],
      "text/plain": [
       "         asin image  overall  \\\n",
       "0  0143026860   NaN        1   \n",
       "1  0143026860   NaN        4   \n",
       "2  0143026860   NaN        4   \n",
       "3  0143026860   NaN        5   \n",
       "4  0143026860   NaN        5   \n",
       "\n",
       "                                          reviewText   reviewTime  \\\n",
       "0                                              great  02 19, 2015   \n",
       "1  My  husband wanted to reading about the Negro ...  12 18, 2014   \n",
       "2  This book was very informative, covering all a...  08 10, 2014   \n",
       "3  I am already a baseball fan and knew a bit abo...  03 11, 2013   \n",
       "4  This was a good story of the Black leagues. I ...  12 25, 2011   \n",
       "\n",
       "       reviewerID       reviewerName style  \\\n",
       "0  A1V6B6TNIC10QE  theodore j bigham   NaN   \n",
       "1  A2F5GHSXFQ0W6J       Mary K. Byke   NaN   \n",
       "2  A1572GUYS7DGSR            David G   NaN   \n",
       "3   A1PSGLFK1NSVO               TamB   NaN   \n",
       "4   A6IKXKZMTKGSC         shoecanary   NaN   \n",
       "\n",
       "                                             summary  unixReviewTime  \\\n",
       "0                                           One Star      1424304000   \n",
       "1  ... to reading about the Negro Baseball and th...      1418860800   \n",
       "2                                     Worth the Read      1407628800   \n",
       "3                                          Good Read      1362960000   \n",
       "4                More than facts, a good story read!      1324771200   \n",
       "\n",
       "   verified vote     logic  \n",
       "0      True  NaN  negative  \n",
       "1      True  NaN   postive  \n",
       "2      True  NaN   postive  \n",
       "3      True  NaN   postive  \n",
       "4      True    5   postive  "
      ]
     },
     "execution_count": 10,
     "metadata": {},
     "output_type": "execute_result"
    }
   ],
   "source": [
    "df = pd.read_json(\"All_Beauty.json\",\n",
    "                        lines=True,\n",
    "                        orient='columns')\n",
    "df['logic']= np.where(df[\"overall\"]>3,\"postive\",\"negative\")"
   ]
  },
  {
   "cell_type": "code",
   "execution_count": 3,
   "metadata": {
    "scrolled": true
   },
   "outputs": [
    {
     "name": "stderr",
     "output_type": "stream",
     "text": [
      "[nltk_data] Downloading package vader_lexicon to\n",
      "[nltk_data]     /Users/renmengyuan/nltk_data...\n",
      "[nltk_data]   Package vader_lexicon is already up-to-date!\n"
     ]
    },
    {
     "data": {
      "text/plain": [
       "True"
      ]
     },
     "execution_count": 3,
     "metadata": {},
     "output_type": "execute_result"
    }
   ],
   "source": [
    "nltk.download('vader_lexicon')"
   ]
  },
  {
   "cell_type": "code",
   "execution_count": 75,
   "metadata": {},
   "outputs": [],
   "source": [
    "df['reviewText']=df['reviewText'].astype(str)"
   ]
  },
  {
   "cell_type": "code",
   "execution_count": 76,
   "metadata": {},
   "outputs": [],
   "source": [
    "df_reviews = np.array(df['reviewText'])"
   ]
  },
  {
   "cell_type": "code",
   "execution_count": 56,
   "metadata": {},
   "outputs": [
    {
     "name": "stdout",
     "output_type": "stream",
     "text": [
      "Requirement already satisfied: Cython in /Users/renmengyuan/anaconda3/lib/python3.7/site-packages (0.29.12)\n",
      "\u001b[33mWARNING: You are using pip version 20.0.2; however, version 20.1 is available.\n",
      "You should consider upgrading via the '/Users/renmengyuan/anaconda3/bin/python -m pip install --upgrade pip' command.\u001b[0m\n",
      "Note: you may need to restart the kernel to use updated packages.\n"
     ]
    }
   ],
   "source": [
    "pip install Cython"
   ]
  },
  {
   "cell_type": "code",
   "execution_count": 57,
   "metadata": {},
   "outputs": [
    {
     "name": "stdout",
     "output_type": "stream",
     "text": [
      "The Cython extension is already loaded. To reload it, use:\n",
      "  %reload_ext Cython\n"
     ]
    }
   ],
   "source": [
    "%load_ext Cython"
   ]
  },
  {
   "cell_type": "code",
   "execution_count": 77,
   "metadata": {},
   "outputs": [],
   "source": [
    "normalized_train_reviews = normalize_corpus(df['reviewText'])"
   ]
  },
  {
   "cell_type": "code",
   "execution_count": 78,
   "metadata": {},
   "outputs": [],
   "source": [
    "from nltk.sentiment.vader import SentimentIntensityAnalyzer\n",
    "analyzer = SentimentIntensityAnalyzer()"
   ]
  },
  {
   "cell_type": "code",
   "execution_count": 79,
   "metadata": {},
   "outputs": [],
   "source": [
    "def analyze_sentiment_vader_lexicon(review, threshold = 0, verbose = False):\n",
    "    scores = analyzer.polarity_scores(review)  \n",
    "    binary_sentiment = 'positive' if scores['compound'] >= threshold else 'negative'\n",
    "    if verbose:                             \n",
    "        print('VADER Polarity (Binary):', binary_sentiment)\n",
    "        print('VADER Score:', round(scores['compound'], 2))\n",
    "    return binary_sentiment,scores['compound']  "
   ]
  },
  {
   "cell_type": "code",
   "execution_count": 80,
   "metadata": {
    "scrolled": true
   },
   "outputs": [
    {
     "data": {
      "text/html": [
       "<div>\n",
       "<style scoped>\n",
       "    .dataframe tbody tr th:only-of-type {\n",
       "        vertical-align: middle;\n",
       "    }\n",
       "\n",
       "    .dataframe tbody tr th {\n",
       "        vertical-align: top;\n",
       "    }\n",
       "\n",
       "    .dataframe thead th {\n",
       "        text-align: right;\n",
       "    }\n",
       "</style>\n",
       "<table border=\"1\" class=\"dataframe\">\n",
       "  <thead>\n",
       "    <tr style=\"text-align: right;\">\n",
       "      <th></th>\n",
       "      <th>VADER Polarity</th>\n",
       "      <th>VADER Score</th>\n",
       "    </tr>\n",
       "  </thead>\n",
       "  <tbody>\n",
       "    <tr>\n",
       "      <th>0</th>\n",
       "      <td>negative</td>\n",
       "      <td>0.6249</td>\n",
       "    </tr>\n",
       "    <tr>\n",
       "      <th>1</th>\n",
       "      <td>negative</td>\n",
       "      <td>0.7073</td>\n",
       "    </tr>\n",
       "    <tr>\n",
       "      <th>2</th>\n",
       "      <td>negative</td>\n",
       "      <td>0.0000</td>\n",
       "    </tr>\n",
       "    <tr>\n",
       "      <th>3</th>\n",
       "      <td>negative</td>\n",
       "      <td>0.1655</td>\n",
       "    </tr>\n",
       "    <tr>\n",
       "      <th>4</th>\n",
       "      <td>positive</td>\n",
       "      <td>0.9593</td>\n",
       "    </tr>\n",
       "  </tbody>\n",
       "</table>\n",
       "</div>"
      ],
      "text/plain": [
       "  VADER Polarity  VADER Score\n",
       "0       negative       0.6249\n",
       "1       negative       0.7073\n",
       "2       negative       0.0000\n",
       "3       negative       0.1655\n",
       "4       positive       0.9593"
      ]
     },
     "execution_count": 80,
     "metadata": {},
     "output_type": "execute_result"
    }
   ],
   "source": [
    "VADER_polarity = [analyze_sentiment_vader_lexicon(review, threshold=0.8) for review in df_reviews]\n",
    "VADER_polarity_df = pd.DataFrame(VADER_polarity,columns = ['VADER Polarity','VADER Score'])\n",
    "VADER_polarity_df.head()"
   ]
  },
  {
   "cell_type": "code",
   "execution_count": 81,
   "metadata": {
    "scrolled": true
   },
   "outputs": [
    {
     "data": {
      "text/plain": [
       "array([[<matplotlib.axes._subplots.AxesSubplot object at 0x1a2bbc3f28>]],\n",
       "      dtype=object)"
      ]
     },
     "execution_count": 81,
     "metadata": {},
     "output_type": "execute_result"
    },
    {
     "data": {
      "image/png": "[encoded data removed]",
      "text/plain": [
       "<Figure size 432x288 with 1 Axes>"
      ]
     },
     "metadata": {
      "needs_background": "light"
     },
     "output_type": "display_data"
    }
   ],
   "source": [
    "VADER_polarity_df.hist(column = \"VADER Score\")"
   ]
  },
  {
   "cell_type": "markdown",
   "metadata": {},
   "source": [
    "### 2. What are the most frequent topics when it comes to complaints? "
   ]
  },
  {
   "cell_type": "code",
   "execution_count": 32,
   "metadata": {},
   "outputs": [],
   "source": [
    "from nltk.sentiment.vader import SentimentIntensityAnalyzer\n",
    "analyzer = SentimentIntensityAnalyzer()"
   ]
  },
  {
   "cell_type": "code",
   "execution_count": 33,
   "metadata": {},
   "outputs": [],
   "source": [
    "def analyze_sentiment_vader_lexicon(review, threshold = 0.8, verbose = False):\n",
    "    scores = analyzer.polarity_scores(review)  \n",
    "    binary_sentiment = 'positive' if scores['compound'] >= threshold else 'negative'\n",
    "    if verbose:                             \n",
    "        print('VADER Polarity (Binary):', binary_sentiment)\n",
    "        print('VADER Score:', round(scores['compound'], 2))\n",
    "    return binary_sentiment,scores['compound']  "
   ]
  },
  {
   "cell_type": "code",
   "execution_count": 34,
   "metadata": {},
   "outputs": [],
   "source": [
    "VADER_polarity = [analyze_sentiment_vader_lexicon(review, threshold=0.5) for review in normalized_reviews]\n",
    "VADER_polarity_df = pd.DataFrame(VADER_polarity, columns = ['VADER Polarity','VADER Score'])\n",
    "df[\"VADER Polarity\"] = VADER_polarity_df[\"VADER Polarity\"]"
   ]
  },
  {
   "cell_type": "code",
   "execution_count": 35,
   "metadata": {},
   "outputs": [],
   "source": [
    "df_negative = df[df[\"VADER Polarity\"] == \"negative\"]\n",
    "negative_reviews = np.array(df_negative['reviewText'])"
   ]
  },
  {
   "cell_type": "code",
   "execution_count": 36,
   "metadata": {},
   "outputs": [],
   "source": [
    "def display_topics(model, feature_names, no_top_words):\n",
    "    for topic_idx, topic in enumerate(model.components_):\n",
    "        print(\"Topic %d:\" % (topic_idx))\n",
    "        print(\" \".join([feature_names[i]\n",
    "                        for i in topic.argsort()[:-no_top_words - 1:-1]]))\n",
    "        \n",
    "def get_topic_words(vectorizer, lda_model, n_words):\n",
    "    keywords = np.array(vectorizer.get_feature_names())\n",
    "    topic_words = []\n",
    "    for topic_weights in lda_model.components_:\n",
    "        top_word_locs = (-topic_weights).argsort()[:n_words]\n",
    "        topic_words.append(keywords.take(top_word_locs).tolist())\n",
    "    return topic_words"
   ]
  },
  {
   "cell_type": "code",
   "execution_count": 37,
   "metadata": {},
   "outputs": [],
   "source": [
    "#normalize the data\n",
    "normalized_negative = normalize_corpus(negative_reviews)\n",
    "\n",
    "#define a Bag-of-Words vecgtorizer\n",
    "bow_vectorizer = CountVectorizer(max_features=1000)\n",
    "\n",
    "#vectorize the data\n",
    "bow_negative_corpus = bow_vectorizer.fit_transform(normalized_negative)"
   ]
  },
  {
   "cell_type": "code",
   "execution_count": 38,
   "metadata": {},
   "outputs": [],
   "source": [
    "#topic modeling using LDA\n",
    "lda_negative = LatentDirichletAllocation(n_components=4, max_iter=500,\n",
    "                                           doc_topic_prior = 0.25,\n",
    "                                           topic_word_prior = 0.25).fit(bow_negative_corpus)"
   ]
  },
  {
   "cell_type": "code",
   "execution_count": 39,
   "metadata": {},
   "outputs": [
    {
     "data": {
      "text/html": [
       "\n",
       "<link rel=\"stylesheet\" type=\"text/css\" href=\"https://cdn.rawgit.com/bmabey/pyLDAvis/files/ldavis.v1.0.0.css\">\n",
       "\n",
       "\n",
       "<div id=\"ldavis_el851971139379729448583986552\"></div>\n",
       "<script type=\"text/javascript\">\n",
       "\n",
       "var ldavis_el851971139379729448583986552_data = {\"mdsDat\": {\"x\": [419.4685974121094, -329.1097412109375, -204.9361114501953, 295.29425048828125], \"y\": [-569.2151489257812, -69.22047424316406, -693.6822509765625, 55.247249603271484], \"topics\": [1, 2, 3, 4], \"cluster\": [1, 1, 1, 1], \"Freq\": [30.021732818538215, 29.944609980574494, 25.702456297486727, 14.331200903400573]}, \"tinfo\": {\"Category\": [\"Default\", \"Default\", \"Default\", \"Default\", \"Default\", \"Default\", \"Default\", \"Default\", \"Default\", \"Default\", \"Default\", \"Default\", \"Default\", \"Default\", \"Default\", \"Default\", \"Default\", \"Default\", \"Default\", \"Default\", \"Default\", \"Default\", \"Default\", \"Default\", \"Default\", \"Default\", \"Default\", \"Default\", \"Default\", \"Default\", \"Topic1\", \"Topic1\", \"Topic1\", \"Topic1\", \"Topic1\", \"Topic1\", \"Topic1\", \"Topic1\", \"Topic1\", \"Topic1\", \"Topic1\", \"Topic1\", \"Topic1\", \"Topic1\", \"Topic1\", \"Topic1\", \"Topic1\", \"Topic1\", \"Topic1\", \"Topic1\", \"Topic1\", \"Topic1\", \"Topic1\", \"Topic1\", \"Topic1\", \"Topic1\", \"Topic1\", \"Topic1\", \"Topic1\", \"Topic1\", \"Topic1\", \"Topic1\", \"Topic1\", \"Topic1\", \"Topic1\", \"Topic1\", \"Topic1\", \"Topic1\", \"Topic1\", \"Topic1\", \"Topic1\", \"Topic1\", \"Topic1\", \"Topic1\", \"Topic1\", \"Topic1\", \"Topic1\", \"Topic1\", \"Topic1\", \"Topic1\", \"Topic1\", \"Topic1\", \"Topic1\", \"Topic1\", \"Topic1\", \"Topic1\", \"Topic1\", \"Topic1\", \"Topic1\", \"Topic2\", \"Topic2\", \"Topic2\", \"Topic2\", \"Topic2\", \"Topic2\", \"Topic2\", \"Topic2\", \"Topic2\", \"Topic2\", \"Topic2\", \"Topic2\", \"Topic2\", \"Topic2\", \"Topic2\", \"Topic2\", \"Topic2\", \"Topic2\", \"Topic2\", \"Topic2\", \"Topic2\", \"Topic2\", \"Topic2\", \"Topic2\", \"Topic2\", \"Topic2\", \"Topic2\", \"Topic2\", \"Topic2\", \"Topic2\", \"Topic2\", \"Topic2\", \"Topic2\", \"Topic2\", \"Topic2\", \"Topic2\", \"Topic2\", \"Topic2\", \"Topic2\", \"Topic2\", \"Topic2\", \"Topic2\", \"Topic2\", \"Topic2\", \"Topic2\", \"Topic2\", \"Topic2\", \"Topic2\", \"Topic2\", \"Topic2\", \"Topic2\", \"Topic2\", \"Topic2\", \"Topic2\", \"Topic3\", \"Topic3\", \"Topic3\", \"Topic3\", \"Topic3\", \"Topic3\", \"Topic3\", \"Topic3\", \"Topic3\", \"Topic3\", \"Topic3\", \"Topic3\", \"Topic3\", \"Topic3\", \"Topic3\", \"Topic3\", \"Topic3\", \"Topic3\", \"Topic3\", \"Topic3\", \"Topic3\", \"Topic3\", \"Topic3\", \"Topic3\", \"Topic3\", \"Topic3\", \"Topic3\", \"Topic3\", \"Topic3\", \"Topic3\", \"Topic3\", \"Topic3\", \"Topic3\", \"Topic3\", \"Topic3\", \"Topic3\", \"Topic3\", \"Topic3\", \"Topic3\", \"Topic3\", \"Topic3\", \"Topic3\", \"Topic3\", \"Topic3\", \"Topic4\", \"Topic4\", \"Topic4\", \"Topic4\", \"Topic4\", \"Topic4\", \"Topic4\", \"Topic4\", \"Topic4\", \"Topic4\", \"Topic4\", \"Topic4\", \"Topic4\", \"Topic4\", \"Topic4\", \"Topic4\", \"Topic4\", \"Topic4\", \"Topic4\", \"Topic4\", \"Topic4\", \"Topic4\", \"Topic4\", \"Topic4\", \"Topic4\", \"Topic4\", \"Topic4\", \"Topic4\", \"Topic4\", \"Topic4\", \"Topic4\", \"Topic4\", \"Topic4\", \"Topic4\", \"Topic4\", \"Topic4\", \"Topic4\", \"Topic4\", \"Topic4\", \"Topic4\", \"Topic4\", \"Topic4\", \"Topic4\", \"Topic4\", \"Topic4\", \"Topic4\", \"Topic4\", \"Topic4\", \"Topic4\", \"Topic4\", \"Topic4\"], \"Freq\": [17285.0, 14023.0, 22665.0, 35231.0, 9820.0, 6202.0, 9779.0, 5763.0, 5188.0, 4885.0, 6459.0, 5481.0, 5402.0, 5312.0, 9226.0, 4657.0, 25922.0, 4335.0, 6941.0, 3862.0, 4243.0, 8629.0, 3696.0, 5238.0, 4124.0, 3379.0, 3345.0, 3337.0, 2280.0, 3254.0, 4124.134419261931, 2683.14324560178, 2130.0498831395644, 1857.5417695289505, 1779.125833150322, 1831.3870755057367, 1784.1413691421149, 1526.726002289597, 1469.4027953179436, 1346.7174387082696, 1363.7987028418852, 1335.6501079062214, 1318.555057613017, 1283.3496414666486, 1267.25903725558, 1192.8504059332413, 1068.1693089866285, 1007.835981781322, 929.3866544461314, 842.9253753256878, 797.6467492339997, 761.4547962889887, 758.4308519800595, 757.424667997971, 750.3928134939986, 705.131037686361, 636.7696174981694, 604.5915356805152, 586.4874851663986, 563.3725452646635, 574.4118543922007, 5920.302471735186, 4274.0158439138095, 3351.205907018756, 3481.676035955593, 1467.4145193323284, 18890.884341016525, 6611.316687068371, 3402.4821935764476, 1512.3137870254577, 2883.4257694275334, 4226.290665442132, 3494.97720486222, 3293.441624641642, 2292.7181139524687, 2056.3681719963483, 6830.282164578172, 1860.7022810390413, 2536.4179540528958, 3506.530764233991, 1944.2424932196052, 1851.4022567700197, 1851.2826274760455, 2292.1980698979237, 3035.663655149311, 2055.8494454589195, 2735.938648703953, 1877.5871049683196, 1872.1529424763787, 9778.817346440926, 6458.876617443002, 4242.247778956444, 2686.852330720012, 2686.842329973114, 2367.2060570898716, 2256.675770351882, 2259.649017937373, 2265.6198967008836, 2089.381922909072, 2015.6793891087782, 1919.107575043318, 1766.7315992277115, 1271.8457961197496, 1204.1213313345652, 1220.041690567819, 1174.2575991441286, 1113.5238830528638, 1084.646270995801, 1083.6399492695177, 1051.7733996245065, 973.1073008913306, 966.116963393639, 896.4404408459125, 817.7752879569979, 797.8642475040508, 794.8697762907924, 798.837975769321, 783.9145785162927, 765.9909371030008, 4269.359612105741, 1496.947680596969, 3598.998945976139, 1456.8486577929675, 2889.108551763404, 16340.3108325212, 11255.955011379321, 1576.3549238640462, 1925.981242708033, 3346.8555073281427, 5808.2353199865365, 1965.8031197534774, 1660.2160470656438, 3719.6753385141756, 3254.8764613772664, 2246.632646282997, 1957.9536849632095, 1812.4364431648307, 2814.270140319573, 3284.0547190202365, 2140.5429210935026, 2058.5246942049175, 2255.605532785812, 1940.191918334063, 5401.660820580703, 5481.048348841335, 5311.329532398537, 4656.259741914168, 4334.676176400774, 3861.226628308047, 3695.4706000763285, 3378.8477067894028, 3345.105353201248, 3253.8005422800475, 3337.1477196174314, 3093.9795777177424, 2690.026535539283, 2662.226611614591, 2361.4903958701143, 2151.06810385396, 2076.628830378313, 1653.7924553368273, 1559.5246928735578, 1563.4846058138116, 1525.7714905510807, 1532.6972830672876, 1471.1772911286428, 1438.4198489251069, 1165.4761658087755, 1169.4350402002576, 1128.7403666227276, 1009.6293795120473, 994.7459560757324, 997.7182148527361, 4475.620274274513, 2173.6381487380177, 6578.3435736746305, 3015.42324060611, 2145.398292863164, 1786.210777335675, 6156.939489052183, 3526.401205635618, 2558.9828092599987, 3365.6058304832127, 2409.4212020220107, 2212.4915740039855, 2348.0991330177644, 1932.1415194187775, 17284.801390562727, 14022.975793245085, 6201.4197584528965, 5762.426348156974, 5187.8064813842075, 4884.423237617935, 2279.5885285709296, 2229.360668547114, 964.6112945763008, 911.3815441152317, 936.4739956032889, 933.4625240085861, 847.0647946214558, 796.8471951303494, 794.8325744090091, 746.6203872176172, 742.6036529920211, 736.5799467383712, 719.481222982698, 636.1195605704659, 551.7280651335711, 492.4697043538851, 413.112324024025, 410.0927483710449, 394.02088230043677, 397.02724089212313, 387.977605111471, 357.8383517551676, 345.7951633268453, 336.7626806435282, 6313.114541695595, 1190.5547923097236, 12550.494036021377, 1236.068691194848, 1637.6597333773666, 3796.2354653174534, 1188.7415164613074, 1438.931565102567, 1404.0648197537523, 5773.706838226358, 2847.6401189317307, 3838.4716077956996, 2009.2769757974572, 1216.0161061994606, 1599.0218918980506, 1469.0937327331812, 1375.4104040212549, 1405.8583050053526, 1111.8367449211905, 1212.2603096370483, 1016.2174243591516], \"Term\": [\"good\", \"hair\", \"work\", \"use\", \"well\", \"color\", \"skin\", \"nice\", \"expect\", \"brush\", \"smell\", \"small\", \"shave\", \"price\", \"really\", \"money\", \"product\", \"razor\", \"year\", \"cheap\", \"face\", \"look\", \"receive\", \"order\", \"water\", \"item\", \"waste\", \"cut\", \"ok\", \"blade\", \"water\", \"teeth\", \"easy\", \"pain\", \"floss\", \"place\", \"battery\", \"waterpik\", \"gum\", \"unit\", \"handle\", \"mouth\", \"model\", \"ago\", \"leak\", \"tip\", \"button\", \"pressure\", \"power\", \"dentist\", \"instruction\", \"strip\", \"wax\", \"switch\", \"die\", \"pump\", \"machine\", \"broke\", \"food\", \"dental\", \"tape\", \"year\", \"last\", \"problem\", \"month\", \"second\", \"use\", \"time\", \"first\", \"turn\", \"keep\", \"day\", \"long\", \"take\", \"old\", \"new\", \"work\", \"stop\", \"week\", \"well\", \"start\", \"every\", \"hold\", \"need\", \"buy\", \"still\", \"product\", \"thing\", \"much\", \"skin\", \"smell\", \"face\", \"oil\", \"apply\", \"eye\", \"cream\", \"difference\", \"nail\", \"soap\", \"wash\", \"scent\", \"burn\", \"lotion\", \"taste\", \"red\", \"favorite\", \"rash\", \"deodorant\", \"shampoo\", \"polish\", \"natural\", \"irritation\", \"ingredient\", \"oily\", \"acne\", \"greasy\", \"irritate\", \"fragrance\", \"lash\", \"dry\", \"sensitive\", \"feel\", \"body\", \"leave\", \"use\", \"product\", \"notice\", \"help\", \"bad\", \"like\", \"stuff\", \"result\", \"really\", \"day\", \"week\", \"bottle\", \"nothing\", \"buy\", \"work\", \"even\", \"give\", \"look\", \"time\", \"shave\", \"small\", \"price\", \"money\", \"razor\", \"cheap\", \"receive\", \"item\", \"waste\", \"blade\", \"cut\", \"return\", \"shaver\", \"size\", \"picture\", \"pay\", \"arrive\", \"charge\", \"cute\", \"fit\", \"norelco\", \"large\", \"package\", \"box\", \"sharp\", \"trimmer\", \"poor\", \"bag\", \"pack\", \"shipping\", \"order\", \"disappointed\", \"buy\", \"quality\", \"big\", \"close\", \"product\", \"look\", \"purchase\", \"like\", \"even\", \"give\", \"time\", \"could\", \"good\", \"hair\", \"color\", \"nice\", \"expect\", \"brush\", \"ok\", \"exactly\", \"advertised\", \"described\", \"okay\", \"thank\", \"describe\", \"doe\", \"pink\", \"thanks\", \"lipstick\", \"curl\", \"heat\", \"bristle\", \"sturdy\", \"iron\", \"tangle\", \"shade\", \"curly\", \"shiny\", \"kinda\", \"sponge\", \"dryer\", \"shed\", \"well\", \"thin\", \"work\", \"thick\", \"fine\", \"really\", \"fast\", \"job\", \"light\", \"product\", \"look\", \"like\", \"little\", \"soft\", \"need\", \"quality\", \"want\", \"much\", \"bit\", \"long\", \"hold\"], \"Total\": [17285.0, 14023.0, 22665.0, 35231.0, 9820.0, 6202.0, 9779.0, 5763.0, 5188.0, 4885.0, 6459.0, 5481.0, 5402.0, 5312.0, 9226.0, 4657.0, 25922.0, 4335.0, 6941.0, 3862.0, 4243.0, 8629.0, 3696.0, 5238.0, 4124.0, 3379.0, 3345.0, 3337.0, 2280.0, 3254.0, 4124.90587609216, 2683.90186840972, 2130.829635419276, 1858.31595195827, 1779.8804610518764, 1832.170650202986, 1784.9082345078357, 1527.4784945967265, 1470.160077183104, 1347.4785885222138, 1364.5734727616464, 1336.417100849749, 1319.3221130713675, 1284.126544572415, 1268.0371419977039, 1193.6239130488252, 1068.9313894096485, 1008.5962687557831, 930.1604885623333, 843.6802808211359, 798.4286773613885, 762.2276950091015, 759.2108955350358, 758.2052534895693, 751.1662508465929, 705.9147914056963, 637.5351230745615, 605.3563843489135, 587.2558285527582, 564.1274895302219, 575.1887074887122, 6941.560594994553, 5229.694013842013, 4183.092520093514, 4385.512445517068, 1680.2508033522545, 35231.721665120334, 10899.873938390765, 5170.822047609566, 1835.0348536288418, 4309.9755893413, 7481.688628203668, 5851.079295792974, 5565.849348774812, 3395.5360056477703, 2954.680474235904, 22665.091057702055, 2627.090823060925, 4783.57245221111, 9820.177858372233, 3130.7753717085925, 2891.8782948276257, 2924.4764564992292, 5477.849141593057, 12428.544370505464, 4413.202642950556, 25922.539987361815, 3582.368026796478, 6440.529256055406, 9779.583337786318, 6459.64466786959, 4243.032974141256, 2687.6207615501075, 2687.6208501175174, 2367.97459094415, 2257.442707051586, 2260.430160247693, 2266.404794101088, 2090.1512669950375, 2016.4635249801386, 1919.8724682089385, 1767.5178815697552, 1272.6138643957518, 1204.9008182854695, 1220.83329852591, 1175.0272307797504, 1114.2844414266528, 1085.4067653545164, 1084.4110514228862, 1052.5459937603043, 973.8792078301994, 966.9087326145885, 897.2038742590273, 818.5370866450319, 798.6214007633162, 795.6341069960869, 799.6172878324353, 784.680474802478, 766.7564170896509, 4916.858658892661, 1590.174054782602, 4381.097238332972, 1583.5296153887004, 3538.3660612625486, 35231.721665120334, 25922.539987361815, 1901.1237793548519, 2528.1840464383818, 5844.6885411430085, 14672.801852875536, 2715.0779143775453, 2181.8621539750325, 9226.00122623271, 7481.688628203668, 4783.57245221111, 3529.909479517484, 3069.3660950442204, 12428.544370505464, 22665.091057702055, 6175.87167856163, 5304.406701948118, 8629.91445647577, 10899.873938390765, 5402.438636986926, 5481.842544300309, 5312.1169980016075, 4657.03610286681, 4335.451002731301, 3862.006302320579, 3696.250990533463, 3379.62866346501, 3345.881996238806, 3254.5676496877263, 3337.9418301839028, 3094.7678267899064, 2690.8012584211633, 2663.0099961365977, 2362.268321910284, 2151.848453995309, 2077.407452749304, 1654.582788614139, 1560.290533557701, 1564.2608357148313, 1526.5440470935914, 1533.4920404483341, 1471.9539588574821, 1439.1999778000554, 1166.2496086459041, 1170.2199545564904, 1129.5254846849882, 1010.419874775599, 995.5316554576588, 998.5094245760611, 5238.1663254718, 2731.3203804198106, 12428.544370505464, 4485.036055526234, 2834.3125544546756, 2166.69733001129, 25922.539987361815, 8629.91445647577, 5008.669274882596, 14672.801852875536, 6175.87167856163, 5304.406701948118, 10899.873938390765, 4518.59833564638, 17285.58701325931, 14023.75649811903, 6202.194300101653, 5763.198369241024, 5188.585734708497, 4885.20644097643, 2280.3630081595375, 2230.134631987942, 965.3842074657822, 912.1421908756092, 937.2562524756286, 934.242577025669, 847.8497383921738, 797.6214483531375, 795.612230828316, 747.3930932932208, 743.3747802798074, 737.3474636211681, 720.269699995677, 636.890709588505, 552.5069878386417, 493.23758541909416, 413.87675096635087, 410.862985425707, 394.78996271574385, 397.8035466718478, 388.7624136679736, 358.6253726126316, 346.5707062692823, 337.52957742051296, 9820.177858372233, 1456.4209418214068, 22665.091057702055, 1647.8775545056992, 2398.6669116861676, 9226.00122623271, 1828.6042162708231, 2504.4549014108056, 2512.8664140883952, 25922.539987361815, 8629.91445647577, 14672.801852875536, 5970.774377049829, 2348.733024905892, 5477.849141593057, 4485.036055526234, 4090.9211462815047, 6440.529256055406, 2827.5676804669365, 5851.079295792974, 2924.4764564992292], \"loglift\": [30.0, 29.0, 28.0, 27.0, 26.0, 25.0, 24.0, 23.0, 22.0, 21.0, 20.0, 19.0, 18.0, 17.0, 16.0, 15.0, 14.0, 13.0, 12.0, 11.0, 10.0, 9.0, 8.0, 7.0, 6.0, 5.0, 4.0, 3.0, 2.0, 1.0, 1.2031, 1.203, 1.2029, 1.2028, 1.2028, 1.2028, 1.2028, 1.2028, 1.2027, 1.2027, 1.2027, 1.2027, 1.2027, 1.2026, 1.2026, 1.2026, 1.2025, 1.2025, 1.2024, 1.2024, 1.2023, 1.2022, 1.2022, 1.2022, 1.2022, 1.2021, 1.202, 1.202, 1.2019, 1.2019, 1.2019, 1.0441, 1.0014, 0.9815, 0.9725, 1.0678, 0.58, 0.7033, 0.7847, 1.0098, 0.8013, 0.6321, 0.6879, 0.6785, 0.8105, 0.8408, 0.0038, 0.8583, 0.5688, 0.1734, 0.7268, 0.7573, 0.746, 0.332, -0.2063, 0.4393, -1.0454, 0.5572, -0.0323, 1.2057, 1.2057, 1.2056, 1.2055, 1.2055, 1.2055, 1.2055, 1.2055, 1.2055, 1.2055, 1.2054, 1.2054, 1.2054, 1.2052, 1.2052, 1.2052, 1.2052, 1.2051, 1.2051, 1.2051, 1.2051, 1.205, 1.205, 1.205, 1.2049, 1.2049, 1.2049, 1.2048, 1.2048, 1.2048, 1.0646, 1.1454, 1.0092, 1.1224, 1.0031, 0.4375, 0.3716, 1.0185, 0.9338, 0.6483, 0.2791, 0.8829, 0.9326, 0.2974, 0.3735, 0.4501, 0.6164, 0.679, -0.2795, -0.7259, 0.1462, 0.2593, -0.136, -0.5201, 1.3584, 1.3584, 1.3584, 1.3584, 1.3584, 1.3584, 1.3584, 1.3584, 1.3584, 1.3583, 1.3583, 1.3583, 1.3583, 1.3583, 1.3583, 1.3582, 1.3582, 1.3581, 1.3581, 1.3581, 1.3581, 1.3581, 1.3581, 1.358, 1.3579, 1.3579, 1.3579, 1.3578, 1.3578, 1.3578, 1.2013, 1.1302, 0.7224, 0.9616, 1.0801, 1.1655, -0.0789, 0.4636, 0.687, -0.1138, 0.4173, 0.4842, -0.1766, 0.509, 1.9427, 1.9427, 1.9426, 1.9426, 1.9426, 1.9426, 1.9424, 1.9424, 1.9419, 1.9419, 1.9419, 1.9419, 1.9418, 1.9418, 1.9418, 1.9417, 1.9417, 1.9417, 1.9416, 1.9415, 1.9413, 1.9412, 1.9409, 1.9409, 1.9408, 1.9408, 1.9407, 1.9405, 1.9405, 1.9405, 1.5009, 1.7412, 1.3517, 1.6552, 1.5611, 1.0547, 1.5121, 1.3886, 1.3607, 0.4409, 0.834, 0.6018, 0.8536, 1.2844, 0.7114, 0.8266, 0.8527, 0.4208, 1.0093, 0.3686, 0.8857], \"logprob\": [30.0, 29.0, 28.0, 27.0, 26.0, 25.0, 24.0, 23.0, 22.0, 21.0, 20.0, 19.0, 18.0, 17.0, 16.0, 15.0, 14.0, 13.0, 12.0, 11.0, 10.0, 9.0, 8.0, 7.0, 6.0, 5.0, 4.0, 3.0, 2.0, 1.0, -4.4164, -4.8463, -5.0771, -5.214, -5.2571, -5.2282, -5.2543, -5.4101, -5.4484, -5.5356, -5.523, -5.5438, -5.5567, -5.5838, -5.5964, -5.6569, -5.7673, -5.8255, -5.9065, -6.0041, -6.0593, -6.1058, -6.1098, -6.1111, -6.1204, -6.1826, -6.2846, -6.3365, -6.3669, -6.4071, -6.3877, -4.0549, -4.3807, -4.6239, -4.5857, -5.4498, -2.8946, -3.9445, -4.6088, -5.4196, -4.7743, -4.3919, -4.5819, -4.6413, -5.0035, -5.1123, -3.9119, -5.2123, -4.9025, -4.5786, -5.1684, -5.2173, -5.2174, -5.0037, -4.7228, -5.1126, -4.8268, -5.2033, -5.2062, -3.5505, -3.9652, -4.3856, -4.8423, -4.8423, -4.969, -5.0168, -5.0155, -5.0128, -5.0938, -5.1297, -5.1788, -5.2616, -5.5902, -5.6449, -5.6318, -5.67, -5.7232, -5.7494, -5.7504, -5.7802, -5.8579, -5.8652, -5.94, -6.0319, -6.0565, -6.0603, -6.0553, -6.0741, -6.0973, -4.3792, -5.4273, -4.55, -5.4544, -4.7697, -3.037, -3.4098, -5.3756, -5.1752, -4.6227, -4.0714, -5.1548, -5.3237, -4.517, -4.6505, -5.0213, -5.1588, -5.236, -4.796, -4.6416, -5.0696, -5.1087, -5.0173, -5.1679, -3.9912, -3.9766, -4.0081, -4.1397, -4.2113, -4.3269, -4.3708, -4.4604, -4.4704, -4.4981, -4.4728, -4.5485, -4.6884, -4.6988, -4.8186, -4.912, -4.9472, -5.1748, -5.2335, -5.231, -5.2554, -5.2509, -5.2919, -5.3144, -5.5248, -5.5214, -5.5568, -5.6683, -5.6832, -5.6802, -4.1793, -4.9015, -3.7941, -4.5742, -4.9146, -5.0978, -3.8603, -4.4176, -4.7383, -4.4643, -4.7985, -4.8838, -4.8243, -5.0193, -2.2439, -2.4531, -3.269, -3.3424, -3.4475, -3.5077, -4.2698, -4.2921, -5.1298, -5.1866, -5.1594, -5.1626, -5.2598, -5.3209, -5.3234, -5.386, -5.3914, -5.3995, -5.423, -5.5461, -5.6885, -5.8021, -5.9778, -5.9851, -6.0251, -6.0175, -6.0406, -6.1214, -6.1557, -6.1822, -3.2511, -4.9194, -2.564, -4.8818, -4.6005, -3.7598, -4.9209, -4.7299, -4.7544, -3.3405, -4.0473, -3.7487, -4.396, -4.8982, -4.6244, -4.7091, -4.775, -4.7531, -4.9878, -4.9013, -5.0777]}, \"token.table\": {\"Topic\": [2, 4, 1, 2, 3, 1, 2, 3, 3, 1, 1, 2, 3, 1, 2, 4, 3, 1, 2, 2, 3, 3, 4, 1, 4, 2, 1, 1, 2, 3, 3, 3, 1, 3, 4, 1, 2, 3, 2, 4, 4, 3, 3, 1, 2, 1, 1, 2, 4, 4, 1, 2, 2, 3, 4, 2, 4, 4, 1, 1, 2, 3, 1, 2, 4, 4, 2, 2, 3, 4, 2, 1, 2, 1, 4, 1, 2, 3, 3, 1, 1, 2, 1, 2, 3, 4, 2, 1, 4, 1, 4, 1, 2, 1, 3, 4, 2, 1, 4, 2, 2, 3, 1, 4, 1, 2, 4, 3, 2, 1, 2, 1, 1, 2, 1, 2, 4, 1, 2, 3, 4, 4, 1, 2, 3, 4, 1, 2, 4, 2, 3, 4, 2, 1, 1, 3, 1, 2, 1, 1, 2, 3, 4, 2, 2, 1, 2, 3, 4, 1, 3, 4, 3, 1, 2, 3, 1, 2, 2, 2, 4, 4, 1, 2, 3, 2, 3, 3, 3, 1, 3, 3, 4, 1, 2, 3, 1, 1, 3, 1, 2, 1, 2, 3, 4, 1, 1, 2, 3, 3, 4, 2, 3, 1, 2, 4, 3, 2, 1, 2, 3, 2, 1, 2, 1, 2, 4, 2, 3, 3, 3, 4, 4, 3, 3, 2, 3, 2, 2, 2, 4, 4, 1, 2, 1, 2, 3, 4, 1, 2, 1, 2, 4, 4, 1, 1, 2, 3, 4, 1, 2, 1, 4, 4, 2, 4, 3, 4, 1, 2, 3, 1, 2, 3, 1, 3, 1, 2, 1, 1, 2, 1, 2, 3, 4, 2, 3, 1, 1, 1, 1, 2, 1, 4, 1, 2, 4, 1, 2], \"Freq\": [0.9992219081999026, 0.9996020160027366, 0.9991227152984442, 0.9997689963904357, 0.9998038647888912, 0.16527826815748262, 0.572656691017696, 0.26211833003857493, 0.9995844551497046, 0.9994911589905426, 0.12031136067334984, 0.12278109534992887, 0.7567972687517168, 0.35330719292810275, 0.2532211713078294, 0.39327086940545575, 0.999825583687658, 0.07956908337901307, 0.9200964641525559, 0.5546884449477855, 0.44505390552245705, 0.9991662188586956, 0.9986014718458045, 0.9994112817538106, 0.9997530419663926, 0.9997070006616876, 0.9991286724116476, 0.2442763938796259, 0.22641428602676789, 0.5292655200725228, 0.9996477730711637, 0.9997394353499697, 0.175382133321787, 0.824296026612399, 0.999807439102378, 0.29522429322303834, 0.27707707280003296, 0.4275662177712969, 0.9998038900166977, 0.9995287654215806, 0.9979990303950239, 0.999717841043428, 0.9998137952186131, 0.564845746730127, 0.4350622114544636, 0.9980013568720774, 0.9991936746222471, 0.9996252415522916, 0.9989977724192199, 0.9987477929570249, 0.9984474131455208, 0.9998096998282637, 0.20393067177069418, 0.7959520294963899, 0.9992208730665147, 0.8682372824118221, 0.1315880819209297, 0.9983532760877981, 0.9996106514544918, 0.2632826724111434, 0.34667171072094594, 0.3900663947345907, 0.6400684300271812, 0.3596278591184594, 0.9994912271341525, 0.9998871109125983, 0.9995884284620802, 0.9997565481702472, 0.3494468591476559, 0.6502227160040107, 0.9991257812986438, 0.17849409804415908, 0.8214837069832845, 0.31684265801863676, 0.6828793076770092, 0.6579224673904066, 0.24792963056863646, 0.09398892391291523, 0.9991939734818873, 0.9995053257389229, 0.9978615307133637, 0.9991328001341574, 0.1947437400719323, 0.38816782266031813, 0.41701176480069146, 0.9999660403052056, 0.9992030168258109, 0.9992109177761602, 0.9999460559573228, 0.9995797421149586, 0.9982371881037275, 0.23811557582133974, 0.7618116262988378, 0.6329338011548762, 0.01949066810687625, 0.3474126104664258, 0.9986581932004902, 0.9994630987418874, 0.997490893930878, 0.9992280209022136, 0.9990601671244284, 0.9998139844558054, 0.4252422351067555, 0.5745761279987053, 0.6689133013026213, 0.3308603425797912, 0.998038869908281, 0.999679137266216, 0.9990134845006945, 0.8172562273600575, 0.18261106624446768, 0.9991820886286739, 0.1834179925884847, 0.8164785525240869, 0.169925467428759, 0.2714032055887907, 0.558724487751704, 0.1131344931012394, 0.3958344192361436, 0.22940403842094687, 0.26157240031479323, 0.9994958393938703, 0.2644548094246004, 0.24368698398530314, 0.15542372586828956, 0.3364722686092605, 0.5973256938276267, 0.19551948318706866, 0.20714127064923707, 0.2614162644807132, 0.4085787892548735, 0.33001485870614855, 0.9995176349928867, 0.9991606375002826, 0.9997558495623047, 0.9997775188244359, 0.7939779086841605, 0.2059052416834569, 0.9996878962043484, 0.2906593426681417, 0.2602270610639987, 0.23088164666000358, 0.21830504048686283, 0.9998213937324252, 0.9990972105953896, 0.41841239887330034, 0.09821373062558272, 0.1914985193796213, 0.29190289083700144, 0.6958451236699943, 0.3039245724978866, 0.9997920652449828, 0.9996436086501224, 0.03681541937354723, 0.5903499106625449, 0.3727153961357348, 0.17042551543379764, 0.8289833713693366, 0.9997690293366578, 0.9993438456805503, 0.9998408112400357, 0.9986596488715755, 0.6752983906476238, 0.18701023901493288, 0.13753351436216324, 0.14547075305619794, 0.8544974943301077, 0.9994659582598463, 0.9993519098530619, 0.9998299794187651, 0.9996057092246745, 0.9994630915131357, 0.9992304909293833, 0.9993610583147065, 0.9994812637513789, 0.9995347739452424, 0.998752378136243, 0.9994088132444525, 0.9997897263930693, 0.801081970791573, 0.19865685399218058, 0.10554521282767429, 0.434216708913853, 0.23751530532894394, 0.2227405185917366, 0.9987041050607898, 0.29069597533650865, 0.19825625241013264, 0.5109141489602512, 0.6722353984836019, 0.32753359879681965, 0.9997447317614085, 0.9998959732837445, 0.18534573734261803, 0.4032082707102568, 0.41144585903659536, 0.9996615515189128, 0.9993174346350838, 0.238786854179039, 0.7608179998794716, 0.9997518951879816, 0.9995455592892832, 0.8730839450117807, 0.12617164031526756, 0.058484163868913294, 0.9414063796963784, 0.9978995785546054, 0.9996209450075717, 0.9989285238454614, 0.9999188075947919, 0.9997022231134106, 0.998431019217456, 0.9979800414587288, 0.9994898149546487, 0.999620731376126, 0.9999403514683428, 0.9998463027178361, 0.9999002007226812, 0.9994491944132384, 0.48196197183601, 0.5177259344104136, 0.9982561952935016, 0.6209324429874633, 0.3788198957732158, 0.46587482296652716, 0.2984227343613406, 0.13844820857614207, 0.09720831665984443, 0.7083881469433467, 0.2915772813318665, 0.9983893329812861, 0.7241044500377523, 0.2758668530408324, 0.9990823865583582, 0.9984103862588366, 0.5916437534776027, 0.25333060807877916, 0.15487303841411887, 0.9978816133926253, 0.9979333608722916, 0.9992523714219471, 0.9996639711681209, 0.9986699631806282, 0.9994740474634457, 0.2494117350383381, 0.7500557287284328, 0.18195289039760013, 0.8177580847680821, 0.5242342456030114, 0.2333651913333959, 0.24229783023610962, 0.6065207760536756, 0.17798370980852074, 0.2154153353764983, 0.9994772951161547, 0.9989574997830619, 0.8239625514523445, 0.1754735063278141, 0.9996448266218918, 0.5361929280538745, 0.46378658855541316, 0.1559550959763471, 0.20288829100371175, 0.3048213239537694, 0.3361101206386791, 0.9997701297472549, 0.9997363935010866, 0.9997803886635547, 0.9996867421712193, 0.9984050603828829, 0.530147713938729, 0.46973261562315616, 0.3571218414348873, 0.6428600470426129, 0.3013444765172928, 0.14489242472661634, 0.5537149605112774, 0.8528341601265883, 0.14708508065696735], \"Term\": [\"acne\", \"advertised\", \"ago\", \"apply\", \"arrive\", \"bad\", \"bad\", \"bad\", \"bag\", \"battery\", \"big\", \"big\", \"big\", \"bit\", \"bit\", \"bit\", \"blade\", \"body\", \"body\", \"bottle\", \"bottle\", \"box\", \"bristle\", \"broke\", \"brush\", \"burn\", \"button\", \"buy\", \"buy\", \"buy\", \"charge\", \"cheap\", \"close\", \"close\", \"color\", \"could\", \"could\", \"could\", \"cream\", \"curl\", \"curly\", \"cut\", \"cute\", \"day\", \"day\", \"dental\", \"dentist\", \"deodorant\", \"describe\", \"described\", \"die\", \"difference\", \"disappointed\", \"disappointed\", \"doe\", \"dry\", \"dry\", \"dryer\", \"easy\", \"even\", \"even\", \"even\", \"every\", \"every\", \"exactly\", \"expect\", \"eye\", \"face\", \"fast\", \"fast\", \"favorite\", \"feel\", \"feel\", \"fine\", \"fine\", \"first\", \"first\", \"first\", \"fit\", \"floss\", \"food\", \"fragrance\", \"give\", \"give\", \"give\", \"good\", \"greasy\", \"gum\", \"hair\", \"handle\", \"heat\", \"help\", \"help\", \"hold\", \"hold\", \"hold\", \"ingredient\", \"instruction\", \"iron\", \"irritate\", \"irritation\", \"item\", \"job\", \"job\", \"keep\", \"keep\", \"kinda\", \"large\", \"lash\", \"last\", \"last\", \"leak\", \"leave\", \"leave\", \"light\", \"light\", \"light\", \"like\", \"like\", \"like\", \"like\", \"lipstick\", \"little\", \"little\", \"little\", \"little\", \"long\", \"long\", \"long\", \"look\", \"look\", \"look\", \"lotion\", \"machine\", \"model\", \"money\", \"month\", \"month\", \"mouth\", \"much\", \"much\", \"much\", \"much\", \"nail\", \"natural\", \"need\", \"need\", \"need\", \"need\", \"new\", \"new\", \"nice\", \"norelco\", \"nothing\", \"nothing\", \"nothing\", \"notice\", \"notice\", \"oil\", \"oily\", \"ok\", \"okay\", \"old\", \"old\", \"old\", \"order\", \"order\", \"pack\", \"package\", \"pain\", \"pay\", \"picture\", \"pink\", \"place\", \"polish\", \"poor\", \"power\", \"pressure\", \"price\", \"problem\", \"problem\", \"product\", \"product\", \"product\", \"product\", \"pump\", \"purchase\", \"purchase\", \"purchase\", \"quality\", \"quality\", \"rash\", \"razor\", \"really\", \"really\", \"really\", \"receive\", \"red\", \"result\", \"result\", \"return\", \"scent\", \"second\", \"second\", \"sensitive\", \"sensitive\", \"shade\", \"shampoo\", \"sharp\", \"shave\", \"shaver\", \"shed\", \"shiny\", \"shipping\", \"size\", \"skin\", \"small\", \"smell\", \"soap\", \"soft\", \"soft\", \"sponge\", \"start\", \"start\", \"still\", \"still\", \"still\", \"still\", \"stop\", \"stop\", \"strip\", \"stuff\", \"stuff\", \"sturdy\", \"switch\", \"take\", \"take\", \"take\", \"tangle\", \"tape\", \"taste\", \"teeth\", \"thank\", \"thanks\", \"thick\", \"thick\", \"thin\", \"thin\", \"thing\", \"thing\", \"thing\", \"time\", \"time\", \"time\", \"tip\", \"trimmer\", \"turn\", \"turn\", \"unit\", \"use\", \"use\", \"want\", \"want\", \"want\", \"want\", \"wash\", \"waste\", \"water\", \"waterpik\", \"wax\", \"week\", \"week\", \"well\", \"well\", \"work\", \"work\", \"work\", \"year\", \"year\"]}, \"R\": 30, \"lambda.step\": 0.01, \"plot.opts\": {\"xlab\": \"PC1\", \"ylab\": \"PC2\"}, \"topic.order\": [4, 2, 3, 1]};\n",
       "\n",
       "function LDAvis_load_lib(url, callback){\n",
       "  var s = document.createElement('script');\n",
       "  s.src = url;\n",
       "  s.async = true;\n",
       "  s.onreadystatechange = s.onload = callback;\n",
       "  s.onerror = function(){console.warn(\"failed to load library \" + url);};\n",
       "  document.getElementsByTagName(\"head\")[0].appendChild(s);\n",
       "}\n",
       "\n",
       "if(typeof(LDAvis) !== \"undefined\"){\n",
       "   // already loaded: just create the visualization\n",
       "   !function(LDAvis){\n",
       "       new LDAvis(\"#\" + \"ldavis_el851971139379729448583986552\", ldavis_el851971139379729448583986552_data);\n",
       "   }(LDAvis);\n",
       "}else if(typeof define === \"function\" && define.amd){\n",
       "   // require.js is available: use it to load d3/LDAvis\n",
       "   require.config({paths: {d3: \"https://cdnjs.cloudflare.com/ajax/libs/d3/3.5.5/d3.min\"}});\n",
       "   require([\"d3\"], function(d3){\n",
       "      window.d3 = d3;\n",
       "      LDAvis_load_lib(\"https://cdn.rawgit.com/bmabey/pyLDAvis/files/ldavis.v1.0.0.js\", function(){\n",
       "        new LDAvis(\"#\" + \"ldavis_el851971139379729448583986552\", ldavis_el851971139379729448583986552_data);\n",
       "      });\n",
       "    });\n",
       "}else{\n",
       "    // require.js not available: dynamically load d3 & LDAvis\n",
       "    LDAvis_load_lib(\"https://cdnjs.cloudflare.com/ajax/libs/d3/3.5.5/d3.min.js\", function(){\n",
       "         LDAvis_load_lib(\"https://cdn.rawgit.com/bmabey/pyLDAvis/files/ldavis.v1.0.0.js\", function(){\n",
       "                 new LDAvis(\"#\" + \"ldavis_el851971139379729448583986552\", ldavis_el851971139379729448583986552_data);\n",
       "            })\n",
       "         });\n",
       "}\n",
       "</script>"
      ],
      "text/plain": [
       "PreparedData(topic_coordinates=                x           y  topics  cluster       Freq\n",
       "topic                                                    \n",
       "3      419.468597 -569.215149       1        1  30.021733\n",
       "1     -329.109741  -69.220474       2        1  29.944610\n",
       "2     -204.936111 -693.682251       3        1  25.702456\n",
       "0      295.294250   55.247250       4        1  14.331201, topic_info=    Category          Freq     Term         Total  loglift  logprob\n",
       "370  Default  17285.000000     good  17285.000000  30.0000  30.0000\n",
       "382  Default  14023.000000     hair  14023.000000  29.0000  29.0000\n",
       "987  Default  22665.000000     work  22665.000000  28.0000  28.0000\n",
       "946  Default  35231.000000      use  35231.000000  27.0000  27.0000\n",
       "971  Default   9820.000000     well   9820.000000  26.0000  26.0000\n",
       "156  Default   6202.000000    color   6202.000000  25.0000  25.0000\n",
       "798  Default   9779.000000     skin   9779.000000  24.0000  24.0000\n",
       "563  Default   5763.000000     nice   5763.000000  23.0000  23.0000\n",
       "288  Default   5188.000000   expect   5188.000000  22.0000  22.0000\n",
       "107  Default   4885.000000    brush   4885.000000  21.0000  21.0000\n",
       "806  Default   6459.000000    smell   6459.000000  20.0000  20.0000\n",
       "805  Default   5481.000000    small   5481.000000  19.0000  19.0000\n",
       "775  Default   5402.000000    shave   5402.000000  18.0000  18.0000\n",
       "661  Default   5312.000000    price   5312.000000  17.0000  17.0000\n",
       "697  Default   9226.000000   really   9226.000000  16.0000  16.0000\n",
       "539  Default   4657.000000    money   4657.000000  15.0000  15.0000\n",
       "667  Default  25922.000000  product  25922.000000  14.0000  14.0000\n",
       "691  Default   4335.000000    razor   4335.000000  13.0000  13.0000\n",
       "995  Default   6941.000000     year   6941.000000  12.0000  12.0000\n",
       "134  Default   3862.000000    cheap   3862.000000  11.0000  11.0000\n",
       "298  Default   4243.000000     face   4243.000000  10.0000  10.0000\n",
       "491  Default   8629.000000     look   8629.000000   9.0000   9.0000\n",
       "700  Default   3696.000000  receive   3696.000000   8.0000   8.0000\n",
       "595  Default   5238.000000    order   5238.000000   7.0000   7.0000\n",
       "961  Default   4124.000000    water   4124.000000   6.0000   6.0000\n",
       "443  Default   3379.000000     item   3379.000000   5.0000   5.0000\n",
       "959  Default   3345.000000    waste   3345.000000   4.0000   4.0000\n",
       "200  Default   3337.000000      cut   3337.000000   3.0000   3.0000\n",
       "585  Default   2280.000000       ok   2280.000000   2.0000   2.0000\n",
       "82   Default   3254.000000    blade   3254.000000   1.0000   1.0000\n",
       "..       ...           ...      ...           ...      ...      ...\n",
       "436   Topic4    492.469704     iron    493.237585   1.9412  -5.8021\n",
       "877   Topic4    413.112324   tangle    413.876751   1.9409  -5.9778\n",
       "771   Topic4    410.092748    shade    410.862985   1.9409  -5.9851\n",
       "198   Topic4    394.020882    curly    394.789963   1.9408  -6.0251\n",
       "780   Topic4    397.027241    shiny    397.803547   1.9408  -6.0175\n",
       "451   Topic4    387.977605    kinda    388.762414   1.9407  -6.0406\n",
       "829   Topic4    357.838352   sponge    358.625373   1.9405  -6.1214\n",
       "250   Topic4    345.795163    dryer    346.570706   1.9405  -6.1557\n",
       "778   Topic4    336.762681     shed    337.529577   1.9405  -6.1822\n",
       "971   Topic4   6313.114542     well   9820.177858   1.5009  -3.2511\n",
       "893   Topic4   1190.554792     thin   1456.420942   1.7412  -4.9194\n",
       "987   Topic4  12550.494036     work  22665.091058   1.3517  -2.5640\n",
       "891   Topic4   1236.068691    thick   1647.877555   1.6552  -4.8818\n",
       "323   Topic4   1637.659733     fine   2398.666912   1.5611  -4.6005\n",
       "697   Topic4   3796.235465   really   9226.001226   1.0547  -3.7598\n",
       "309   Topic4   1188.741516     fast   1828.604216   1.5121  -4.9209\n",
       "446   Topic4   1438.931565      job   2504.454901   1.3886  -4.7299\n",
       "477   Topic4   1404.064820    light   2512.866414   1.3607  -4.7544\n",
       "667   Topic4   5773.706838  product  25922.539987   0.4409  -3.3405\n",
       "491   Topic4   2847.640119     look   8629.914456   0.8340  -4.0473\n",
       "478   Topic4   3838.471608     like  14672.801853   0.6018  -3.7487\n",
       "486   Topic4   2009.276976   little   5970.774377   0.8536  -4.3960\n",
       "813   Topic4   1216.016106     soft   2348.733025   1.2844  -4.8982\n",
       "558   Topic4   1599.021892     need   5477.849142   0.7114  -4.6244\n",
       "681   Topic4   1469.093733  quality   4485.036056   0.8266  -4.7091\n",
       "956   Topic4   1375.410404     want   4090.921146   0.8527  -4.7750\n",
       "546   Topic4   1405.858305     much   6440.529256   0.4208  -4.7531\n",
       "79    Topic4   1111.836745      bit   2827.567680   1.0093  -4.9878\n",
       "489   Topic4   1212.260310     long   5851.079296   0.3686  -4.9013\n",
       "406   Topic4   1016.217424     hold   2924.476456   0.8857  -5.0777\n",
       "\n",
       "[238 rows x 6 columns], token_table=      Topic      Freq        Term\n",
       "term                             \n",
       "3         2  0.999222        acne\n",
       "12        4  0.999602  advertised\n",
       "14        1  0.999123         ago\n",
       "41        2  0.999769       apply\n",
       "45        3  0.999804      arrive\n",
       "56        1  0.165278         bad\n",
       "56        2  0.572657         bad\n",
       "56        3  0.262118         bad\n",
       "58        3  0.999584         bag\n",
       "67        1  0.999491     battery\n",
       "78        1  0.120311         big\n",
       "78        2  0.122781         big\n",
       "78        3  0.756797         big\n",
       "79        1  0.353307         bit\n",
       "79        2  0.253221         bit\n",
       "79        4  0.393271         bit\n",
       "82        3  0.999826       blade\n",
       "89        1  0.079569        body\n",
       "89        2  0.920096        body\n",
       "91        2  0.554688      bottle\n",
       "91        3  0.445054      bottle\n",
       "94        3  0.999166         box\n",
       "103       4  0.998601     bristle\n",
       "104       1  0.999411       broke\n",
       "107       4  0.999753       brush\n",
       "112       2  0.999707        burn\n",
       "114       1  0.999129      button\n",
       "115       1  0.244276         buy\n",
       "115       2  0.226414         buy\n",
       "115       3  0.529266         buy\n",
       "...     ...       ...         ...\n",
       "894       2  0.233365       thing\n",
       "894       3  0.242298       thing\n",
       "902       1  0.606521        time\n",
       "902       2  0.177984        time\n",
       "902       3  0.215415        time\n",
       "904       1  0.999477         tip\n",
       "926       3  0.998957     trimmer\n",
       "932       1  0.823963        turn\n",
       "932       2  0.175474        turn\n",
       "940       1  0.999645        unit\n",
       "946       1  0.536193         use\n",
       "946       2  0.463787         use\n",
       "956       1  0.155955        want\n",
       "956       2  0.202888        want\n",
       "956       3  0.304821        want\n",
       "956       4  0.336110        want\n",
       "958       2  0.999770        wash\n",
       "959       3  0.999736       waste\n",
       "961       1  0.999780       water\n",
       "962       1  0.999687    waterpik\n",
       "963       1  0.998405         wax\n",
       "968       1  0.530148        week\n",
       "968       2  0.469733        week\n",
       "971       1  0.357122        well\n",
       "971       4  0.642860        well\n",
       "987       1  0.301344        work\n",
       "987       2  0.144892        work\n",
       "987       4  0.553715        work\n",
       "995       1  0.852834        year\n",
       "995       2  0.147085        year\n",
       "\n",
       "[279 rows x 3 columns], R=30, lambda_step=0.01, plot_opts={'xlab': 'PC1', 'ylab': 'PC2'}, topic_order=[4, 2, 3, 1])"
      ]
     },
     "execution_count": 39,
     "metadata": {},
     "output_type": "execute_result"
    }
   ],
   "source": [
    "#prepare to display result in the Jupyter notebook\n",
    "pyLDAvis.enable_notebook()\n",
    "\n",
    "#run the visualization [mds is a function to use for visualizing the \"distance\" between topics]\n",
    "pyLDAvis.sklearn.prepare(lda_negative, bow_negative_corpus, bow_vectorizer, mds='tsne')"
   ]
  },
  {
   "cell_type": "markdown",
   "metadata": {},
   "source": [
    "### 3. What are the most popular topics when it comes to positive feedback? "
   ]
  },
  {
   "cell_type": "code",
   "execution_count": 40,
   "metadata": {},
   "outputs": [],
   "source": [
    "df_positive = df[df[\"VADER Polarity\"] == \"positive\"]\n",
    "positive_reviews = np.array(df_positive['reviewText'])"
   ]
  },
  {
   "cell_type": "code",
   "execution_count": 41,
   "metadata": {},
   "outputs": [],
   "source": [
    "#normalize the data\n",
    "normalized_positive = normalize_corpus(positive_reviews)\n",
    "\n",
    "#define a Bag-of-Words vecgtorizer\n",
    "bow_vectorizer = CountVectorizer(max_features=1000)\n",
    "\n",
    "#vectorize the data\n",
    "bow_positive_corpus = bow_vectorizer.fit_transform(normalized_positive)"
   ]
  },
  {
   "cell_type": "code",
   "execution_count": 42,
   "metadata": {},
   "outputs": [],
   "source": [
    "#topic modeling using LDA\n",
    "lda_positive = LatentDirichletAllocation(n_components=4, max_iter=500,\n",
    "                                           doc_topic_prior = 0.25,\n",
    "                                           topic_word_prior = 0.25).fit(bow_positive_corpus)"
   ]
  },
  {
   "cell_type": "code",
   "execution_count": 43,
   "metadata": {},
   "outputs": [
    {
     "data": {
      "text/html": [
       "\n",
       "<link rel=\"stylesheet\" type=\"text/css\" href=\"https://cdn.rawgit.com/bmabey/pyLDAvis/files/ldavis.v1.0.0.css\">\n",
       "\n",
       "\n",
       "<div id=\"ldavis_el851971142783625927282998785\"></div>\n",
       "<script type=\"text/javascript\">\n",
       "\n",
       "var ldavis_el851971142783625927282998785_data = {\"mdsDat\": {\"x\": [-339.7152099609375, -78.3849868774414, 155.8366241455078, -105.49329376220703], \"y\": [-234.73220825195312, -468.9027404785156, -207.6184844970703, 26.552196502685547], \"topics\": [1, 2, 3, 4], \"cluster\": [1, 1, 1, 1], \"Freq\": [34.65592624229457, 25.406783351344163, 22.51662906204539, 17.42066134431588]}, \"tinfo\": {\"Category\": [\"Default\", \"Default\", \"Default\", \"Default\", \"Default\", \"Default\", \"Default\", \"Default\", \"Default\", \"Default\", \"Default\", \"Default\", \"Default\", \"Default\", \"Default\", \"Default\", \"Default\", \"Default\", \"Default\", \"Default\", \"Default\", \"Default\", \"Default\", \"Default\", \"Default\", \"Default\", \"Default\", \"Default\", \"Default\", \"Default\", \"Topic1\", \"Topic1\", \"Topic1\", \"Topic1\", \"Topic1\", \"Topic1\", \"Topic1\", \"Topic1\", \"Topic1\", \"Topic1\", \"Topic1\", \"Topic1\", \"Topic1\", \"Topic1\", \"Topic1\", \"Topic1\", \"Topic1\", \"Topic1\", \"Topic1\", \"Topic1\", \"Topic1\", \"Topic1\", \"Topic1\", \"Topic1\", \"Topic1\", \"Topic1\", \"Topic1\", \"Topic1\", \"Topic1\", \"Topic1\", \"Topic1\", \"Topic1\", \"Topic1\", \"Topic1\", \"Topic1\", \"Topic1\", \"Topic1\", \"Topic1\", \"Topic1\", \"Topic1\", \"Topic1\", \"Topic1\", \"Topic1\", \"Topic1\", \"Topic1\", \"Topic1\", \"Topic1\", \"Topic1\", \"Topic1\", \"Topic1\", \"Topic1\", \"Topic1\", \"Topic1\", \"Topic1\", \"Topic1\", \"Topic1\", \"Topic1\", \"Topic1\", \"Topic1\", \"Topic1\", \"Topic2\", \"Topic2\", \"Topic2\", \"Topic2\", \"Topic2\", \"Topic2\", \"Topic2\", \"Topic2\", \"Topic2\", \"Topic2\", \"Topic2\", \"Topic2\", \"Topic2\", \"Topic2\", \"Topic2\", \"Topic2\", \"Topic2\", \"Topic2\", \"Topic2\", \"Topic2\", \"Topic2\", \"Topic2\", \"Topic2\", \"Topic2\", \"Topic2\", \"Topic2\", \"Topic2\", \"Topic2\", \"Topic2\", \"Topic2\", \"Topic2\", \"Topic2\", \"Topic2\", \"Topic2\", \"Topic2\", \"Topic2\", \"Topic2\", \"Topic2\", \"Topic2\", \"Topic2\", \"Topic2\", \"Topic2\", \"Topic2\", \"Topic2\", \"Topic2\", \"Topic2\", \"Topic2\", \"Topic2\", \"Topic2\", \"Topic2\", \"Topic2\", \"Topic2\", \"Topic2\", \"Topic2\", \"Topic2\", \"Topic2\", \"Topic2\", \"Topic2\", \"Topic2\", \"Topic2\", \"Topic2\", \"Topic2\", \"Topic2\", \"Topic2\", \"Topic2\", \"Topic2\", \"Topic2\", \"Topic2\", \"Topic2\", \"Topic2\", \"Topic2\", \"Topic3\", \"Topic3\", \"Topic3\", \"Topic3\", \"Topic3\", \"Topic3\", \"Topic3\", \"Topic3\", \"Topic3\", \"Topic3\", \"Topic3\", \"Topic3\", \"Topic3\", \"Topic3\", \"Topic3\", \"Topic3\", \"Topic3\", \"Topic3\", \"Topic3\", \"Topic3\", \"Topic3\", \"Topic3\", \"Topic3\", \"Topic3\", \"Topic3\", \"Topic3\", \"Topic3\", \"Topic3\", \"Topic3\", \"Topic3\", \"Topic3\", \"Topic3\", \"Topic3\", \"Topic3\", \"Topic3\", \"Topic3\", \"Topic3\", \"Topic3\", \"Topic3\", \"Topic3\", \"Topic3\", \"Topic3\", \"Topic3\", \"Topic3\", \"Topic3\", \"Topic3\", \"Topic3\", \"Topic3\", \"Topic3\", \"Topic3\", \"Topic3\", \"Topic4\", \"Topic4\", \"Topic4\", \"Topic4\", \"Topic4\", \"Topic4\", \"Topic4\", \"Topic4\", \"Topic4\", \"Topic4\", \"Topic4\", \"Topic4\", \"Topic4\", \"Topic4\", \"Topic4\", \"Topic4\", \"Topic4\", \"Topic4\", \"Topic4\", \"Topic4\", \"Topic4\", \"Topic4\", \"Topic4\", \"Topic4\", \"Topic4\", \"Topic4\", \"Topic4\", \"Topic4\", \"Topic4\", \"Topic4\", \"Topic4\", \"Topic4\", \"Topic4\", \"Topic4\", \"Topic4\", \"Topic4\", \"Topic4\", \"Topic4\", \"Topic4\", \"Topic4\", \"Topic4\", \"Topic4\", \"Topic4\", \"Topic4\", \"Topic4\", \"Topic4\", \"Topic4\", \"Topic4\", \"Topic4\", \"Topic4\", \"Topic4\", \"Topic4\", \"Topic4\", \"Topic4\", \"Topic4\", \"Topic4\", \"Topic4\", \"Topic4\"], \"Freq\": [75643.0, 79305.0, 50098.0, 44025.0, 23760.0, 90844.0, 31348.0, 21717.0, 118489.0, 18056.0, 23714.0, 23205.0, 15321.0, 11308.0, 20902.0, 21944.0, 15290.0, 10687.0, 8791.0, 10208.0, 14223.0, 14804.0, 13865.0, 35333.0, 13248.0, 11821.0, 6675.0, 18008.0, 6666.0, 35006.0, 44024.683366396384, 31347.97128327891, 15289.347450942809, 14222.937969213053, 13864.485039455421, 11821.036857550376, 8958.408448483115, 6623.05863535674, 5211.129988959985, 4876.505142978319, 4732.521215371607, 4178.478835115845, 3501.3054820488574, 3390.0996637617877, 3400.021186694077, 3340.4479816472644, 3333.483755069466, 3236.191815019581, 2859.869124709675, 2797.3032126561993, 2629.501425941103, 2388.22138121218, 2362.400512862059, 2264.1141898797796, 2236.2967361842984, 2044.6681509817017, 1959.284754233673, 1908.6418001717116, 1807.3697892411706, 1774.5991876584646, 1781.5431073593716, 15515.427759189846, 5535.6569772523035, 9331.319490988495, 8818.00091376081, 6980.739494614771, 13515.319630397427, 16984.432717883858, 55742.903656513714, 4897.939522776458, 42309.737920962, 9590.304327894979, 14050.383785680446, 25862.65332768554, 6908.195756996527, 8549.128515738927, 7282.18827511054, 13595.593441732453, 6402.975536053744, 19440.37800343775, 14816.062896155894, 14418.511587090052, 12000.456869529238, 10196.19219694716, 13205.087336760269, 8010.415785193783, 7729.0094308427915, 7839.934001994258, 7773.356811039133, 7418.996242027648, 50098.22828443987, 5815.169160951719, 3689.4691642390403, 3051.7591609550627, 2913.7529951735405, 2887.552695557222, 2753.5763974324423, 2450.333379567117, 2253.870342516336, 2288.102646831335, 2158.165986185994, 1978.849341390826, 1950.6464923043147, 1916.3827455291039, 1878.1037428259026, 1841.8388985570946, 1869.0227261117882, 1799.5296763683853, 1585.9463677326025, 1604.0682644339295, 1500.3059991286823, 1529.4903954375563, 1376.3834809932869, 1338.1024854308766, 1260.5374177093204, 1244.4028713951338, 1208.1491002048258, 1185.995643140543, 1161.8247315066676, 1150.7333463083244, 2165.8201096579246, 19659.11496483073, 2869.7517686739543, 2344.5331750090436, 7376.731275403351, 3592.515319243255, 7500.944263858646, 9249.273952230615, 2770.2358200395906, 4214.101025605458, 4582.567911668704, 2918.1670345469356, 21106.285054350094, 13880.209241370107, 7761.058324383384, 3698.348995033394, 10091.587255882154, 6695.520418874067, 8322.95060708309, 3762.9081529808077, 4502.0075144384255, 13819.816305368488, 25025.5854966187, 6056.479436311975, 5388.252170934596, 10248.627530746531, 7731.80985690483, 12012.63073756158, 7740.085042333645, 6722.30660508773, 11706.78290199734, 6965.324595449603, 5324.126102437726, 8047.440402018736, 6250.400133326569, 5725.060345149777, 6119.778856527037, 6232.345582284669, 5556.601040593515, 7791.204231174906, 5961.491146211855, 21717.10900696517, 18056.013816986757, 11307.655068086024, 10686.936224053738, 10207.90062057719, 7416.21314302376, 6023.937447686568, 5651.911154098919, 5505.146147671654, 5259.50009632354, 4599.040281201645, 4464.49885972391, 4232.115347130679, 4211.7318716959535, 4287.141524248979, 3964.0537858649373, 3692.942560422019, 3656.2176646325684, 3401.427859093379, 3218.984034079592, 2922.392921102191, 2937.6706226368756, 2702.2456040778648, 2404.621222201786, 2302.681409830582, 2135.551591461264, 2133.4996449097293, 2061.138624082579, 1974.5125967146419, 2035.641432426848, 11639.522820590908, 6052.340268945998, 14400.10188590934, 13483.110323920397, 7535.74857992836, 37720.986016978604, 6008.064834385616, 5911.200495799787, 8682.161941896356, 15059.315540902526, 9990.54376192861, 11437.462478848349, 10420.5492392758, 7102.957982137929, 7552.681336426242, 8511.907272239865, 9545.205835849985, 9235.639545616417, 6039.396993932493, 5372.2461054604755, 6406.838431458131, 23759.594472192133, 8790.525960412886, 6674.868610225791, 6666.054331223642, 5147.050482644629, 4753.834539033964, 4017.335540963245, 3439.2611017176064, 3129.221764239618, 3174.1771133968477, 2914.9871817351645, 2217.611177310748, 2111.970273919196, 2108.0540983177643, 1501.6150348288218, 1463.4715978976828, 1200.3651687743525, 1167.120152147086, 1185.6730940114076, 1024.2783473739341, 983.2168558395603, 936.2676447847813, 898.1154296026051, 838.4745413783755, 829.64980203659, 6445.373371646474, 741.4705986586036, 2199.991033794552, 1403.4659493646982, 770.2633177341522, 12626.043863929048, 56202.1062414326, 56864.90041146901, 17944.42310689888, 4241.67202941068, 6499.999119418558, 9776.518843130803, 3192.96838957842, 5109.172114644114, 4153.634481478003, 4794.528528041334, 2864.8043320130996, 9081.648394120924, 34337.053064189415, 15237.356282098606, 6349.031052327461, 8092.063825916971, 4676.776946394489, 11549.213421897948, 15317.643508055995, 14463.285767950363, 7081.35251886772, 4787.469389790582, 6664.479610411858, 7481.055496423301, 5906.453251642766, 6089.439712922414, 4934.777442398789], \"Term\": [\"love\", \"great\", \"hair\", \"skin\", \"color\", \"product\", \"smell\", \"shave\", \"use\", \"razor\", \"price\", \"brush\", \"perfect\", \"blade\", \"clean\", \"year\", \"scent\", \"teeth\", \"nail\", \"shaver\", \"soap\", \"water\", \"oil\", \"buy\", \"quality\", \"cream\", \"beautiful\", \"face\", \"lip\", \"look\", \"skin\", \"smell\", \"scent\", \"soap\", \"oil\", \"cream\", \"eye\", \"lotion\", \"deodorant\", \"fragrance\", \"bar\", \"ingredient\", \"moisturizer\", \"acne\", \"greasy\", \"oily\", \"bath\", \"serum\", \"moisturize\", \"lather\", \"mask\", \"perfume\", \"chemical\", \"organic\", \"scrub\", \"butter\", \"vitamin\", \"wrinkle\", \"cleanser\", \"lavender\", \"odor\", \"face\", \"night\", \"natural\", \"bottle\", \"body\", \"dry\", \"feel\", \"use\", \"sensitive\", \"product\", \"leave\", \"day\", \"like\", \"wash\", \"help\", \"apply\", \"really\", \"stuff\", \"love\", \"work\", \"good\", \"well\", \"time\", \"great\", \"best\", \"last\", \"buy\", \"look\", \"clean\", \"hair\", \"shampoo\", \"thin\", \"style\", \"comb\", \"conditioner\", \"curl\", \"lash\", \"heat\", \"straight\", \"wax\", \"bristle\", \"iron\", \"scalp\", \"flat\", \"clip\", \"material\", \"curly\", \"glue\", \"ear\", \"mascara\", \"grip\", \"blow\", \"clipper\", \"inch\", \"cup\", \"glove\", \"dryer\", \"straighten\", \"eyelash\", \"wrap\", \"brush\", \"fall\", \"finger\", \"fit\", \"plastic\", \"hold\", \"small\", \"piece\", \"thick\", \"top\", \"short\", \"like\", \"look\", \"review\", \"side\", \"little\", \"put\", \"take\", \"place\", \"fine\", \"well\", \"use\", \"pretty\", \"size\", \"really\", \"easy\", \"work\", \"nice\", \"think\", \"good\", \"long\", \"bit\", \"time\", \"need\", \"want\", \"even\", \"give\", \"keep\", \"product\", \"much\", \"shave\", \"razor\", \"blade\", \"teeth\", \"shaver\", \"floss\", \"waterpik\", \"gum\", \"norelco\", \"charge\", \"trimmer\", \"model\", \"battery\", \"electric\", \"mouth\", \"unit\", \"dentist\", \"replace\", \"beard\", \"cleaning\", \"toothbrush\", \"replacement\", \"dental\", \"attachment\", \"pressure\", \"braun\", \"shaving\", \"gillette\", \"flosser\", \"system\", \"water\", \"close\", \"year\", \"clean\", \"old\", \"use\", \"head\", \"new\", \"easy\", \"good\", \"time\", \"work\", \"well\", \"best\", \"much\", \"buy\", \"like\", \"great\", \"recommend\", \"last\", \"product\", \"color\", \"nail\", \"beautiful\", \"lip\", \"cute\", \"arrive\", \"polish\", \"shipping\", \"lipstick\", \"seller\", \"pink\", \"blush\", \"delivery\", \"shade\", \"file\", \"matte\", \"liner\", \"gloss\", \"purse\", \"gold\", \"gorgeous\", \"tattoo\", \"purple\", \"necklace\", \"party\", \"gift\", \"birthday\", \"ship\", \"ring\", \"pencil\", \"perfect\", \"love\", \"great\", \"price\", \"thank\", \"excellent\", \"quality\", \"bag\", \"fast\", \"daughter\", \"awesome\", \"thanks\", \"order\", \"product\", \"buy\", \"happy\", \"purchase\", \"item\", \"look\", \"good\", \"work\", \"recommend\", \"amazon\", \"nice\", \"well\", \"really\", \"like\", \"time\"], \"Total\": [75643.0, 79305.0, 50098.0, 44025.0, 23760.0, 90844.0, 31348.0, 21717.0, 118489.0, 18056.0, 23714.0, 23205.0, 15321.0, 11308.0, 20902.0, 21944.0, 15290.0, 10687.0, 8791.0, 10208.0, 14223.0, 14804.0, 13865.0, 35333.0, 13248.0, 11821.0, 6675.0, 18008.0, 6666.0, 35006.0, 44025.46107568598, 31348.74330219263, 15290.111566676049, 14223.706563124677, 13865.259476505129, 11821.812888007187, 8959.200080218494, 6623.832370200992, 5211.887912925449, 4877.270952337831, 4733.296647038655, 4179.242409396349, 3502.0651455792245, 3390.857174088259, 3400.78649613056, 3341.2107832268853, 3334.2603998762424, 3236.9532962912504, 2860.6333560365033, 2798.079210805595, 2630.2740791631204, 2388.9922285904254, 2363.1764698894713, 2264.8762915187644, 2237.074592064755, 2045.4392599833818, 1960.0473619973616, 1909.4080301677393, 1808.129242715544, 1775.3625778974188, 1782.3132138328697, 18008.53967542586, 6075.755200526713, 10751.023484669218, 10447.751877480921, 8141.3636880095155, 18494.514339886853, 25043.541282477538, 118489.73615374567, 5864.343010360731, 90844.83364778446, 13777.435783299206, 24713.891214440493, 62603.58393080803, 9562.985259503732, 13622.27042602689, 11394.53772998785, 34449.385678430335, 9857.607379451627, 75643.02053033121, 52729.441880516184, 56502.253538045916, 43721.87791059683, 33168.95380329329, 79305.89770847638, 19298.654363395755, 17946.09478257714, 35333.52545711613, 35006.782185497854, 20902.626935644206, 50098.99813052458, 5815.945271908053, 3690.24603262271, 3052.536426769762, 2914.51715326245, 2888.323501372522, 2754.334004332088, 2451.0943659310365, 2254.643377820883, 2288.8967697934804, 2158.936651882922, 1979.6123864317562, 1951.4039983476391, 1917.1508845270412, 1878.8683298911044, 1842.6003688387163, 1869.80118172084, 1800.287912741329, 1586.7104282522614, 1604.8444683722676, 1501.0777981243762, 1530.2944523237998, 1377.1630273675705, 1338.8803237236257, 1261.3072847559924, 1245.1882110759157, 1208.9201308571794, 1186.7566775640782, 1162.5781880631312, 1151.4961478266875, 2187.841727690134, 23205.098976306468, 3022.051597788367, 2447.584711383555, 9305.342928004806, 4172.460714778095, 9814.036326362842, 12562.260235688795, 3160.813721502673, 5503.940193721332, 6412.013336198732, 3586.1416874391903, 62603.58393080803, 35006.782185497854, 15031.30282806878, 5072.059820796455, 22848.827926615973, 12394.763964907257, 17660.47993823894, 5359.508253229417, 7135.280742494654, 43721.87791059683, 118489.73615374567, 11900.811681984254, 9835.660756417812, 34449.385678430335, 20712.48669258121, 52729.441880516184, 22888.438941297114, 17372.80168609361, 56502.253538045916, 20723.050671187328, 11293.891481299781, 33168.95380329329, 17874.93393308297, 14575.996874038916, 18310.042247570997, 19961.814409211176, 15522.224763503007, 90844.83364778446, 24459.0940131372, 21717.863761740067, 18056.76756673926, 11308.4051081863, 10687.690213771746, 10208.64933885441, 7416.961534386535, 6024.684964673695, 5652.663662667304, 5505.893787842694, 5260.257636432208, 4599.7927672703345, 4465.253538376735, 4232.867742342663, 4212.48304163029, 4287.906157700756, 3964.8086016925395, 3693.6918455195646, 3656.9986523127204, 3402.1900627408513, 3219.7467633049855, 2923.1491795731254, 2938.4374308988613, 2702.9943377606032, 2405.377272523759, 2303.4533204800955, 2136.2990849294224, 2134.2603102456355, 2061.894665321559, 1975.2597623805905, 2036.41337698841, 14804.135847677686, 7142.264650407607, 21944.57162046335, 20902.626935644206, 10766.710645226061, 118489.73615374567, 9228.161663703475, 10012.218326076638, 20712.48669258121, 56502.253538045916, 33168.95380329329, 52729.441880516184, 43721.87791059683, 19298.654363395755, 24459.0940131372, 35333.52545711613, 62603.58393080803, 79305.89770847638, 22547.4257077888, 17946.09478257714, 90844.83364778446, 23760.379197203983, 8791.315266151441, 6675.653439175958, 6666.850771897519, 5147.838800715373, 4754.637187328259, 4018.116345334983, 3440.0510804907694, 3129.9879351955815, 3174.9822630618614, 2915.7816590051334, 2218.3854011961957, 2112.7493420814176, 2108.8368893644, 1502.40620954885, 1464.259470557785, 1201.1466337756956, 1167.8903720731325, 1186.4754230011133, 1025.0867762650014, 984.0053198513888, 937.0558051937406, 898.9095269768163, 839.2439461084689, 830.441591280123, 6456.99300563264, 769.937036110092, 2289.4533548242894, 1476.9745023384812, 817.1106525960004, 15321.395484267436, 75643.02053033121, 79305.89770847638, 23714.892090186473, 4936.15659988992, 8118.089692319937, 13248.94983409204, 3735.547444877274, 6440.420745319667, 5179.638333216849, 6151.911449924947, 3403.1572424715787, 14037.274707835471, 90844.83364778446, 35333.52545711613, 12150.29454422087, 18180.48594635424, 7591.307711659519, 35006.782185497854, 56502.253538045916, 52729.441880516184, 22547.4257077888, 8856.716144969525, 22888.438941297114, 43721.87791059683, 34449.385678430335, 62603.58393080803, 33168.95380329329], \"loglift\": [30.0, 29.0, 28.0, 27.0, 26.0, 25.0, 24.0, 23.0, 22.0, 21.0, 20.0, 19.0, 18.0, 17.0, 16.0, 15.0, 14.0, 13.0, 12.0, 11.0, 10.0, 9.0, 8.0, 7.0, 6.0, 5.0, 4.0, 3.0, 2.0, 1.0, 1.0597, 1.0597, 1.0597, 1.0596, 1.0596, 1.0596, 1.0596, 1.0596, 1.0596, 1.0595, 1.0595, 1.0595, 1.0595, 1.0595, 1.0595, 1.0595, 1.0595, 1.0595, 1.0594, 1.0594, 1.0594, 1.0594, 1.0594, 1.0594, 1.0594, 1.0593, 1.0593, 1.0593, 1.0593, 1.0593, 1.0593, 0.9107, 0.9666, 0.9181, 0.8901, 0.9059, 0.7461, 0.6714, 0.3056, 0.8796, 0.2956, 0.6974, 0.495, 0.1757, 0.7345, 0.5938, 0.612, 0.13, 0.6282, -0.299, -0.2098, -0.3061, -0.2332, -0.1199, -0.733, 0.1804, 0.2173, -0.4459, -0.4451, 0.0239, 1.3701, 1.37, 1.3699, 1.3699, 1.3699, 1.3699, 1.3699, 1.3698, 1.3698, 1.3698, 1.3698, 1.3698, 1.3698, 1.3698, 1.3697, 1.3697, 1.3697, 1.3697, 1.3697, 1.3697, 1.3696, 1.3696, 1.3696, 1.3696, 1.3695, 1.3695, 1.3695, 1.3695, 1.3695, 1.3695, 1.36, 1.2043, 1.3184, 1.3271, 1.1379, 1.2205, 1.1014, 1.064, 1.2383, 1.1031, 1.0342, 1.164, 0.2829, 0.4451, 0.7091, 1.0543, 0.553, 0.7543, 0.6178, 1.0165, 0.9096, 0.2184, -0.1848, 0.6947, 0.7684, 0.1578, 0.3848, -0.1091, 0.2859, 0.4207, -0.204, 0.2799, 0.6181, -0.0461, 0.3194, 0.4356, 0.2742, 0.2061, 0.3429, -1.086, -0.0415, 1.4909, 1.4909, 1.4908, 1.4908, 1.4908, 1.4908, 1.4908, 1.4908, 1.4908, 1.4908, 1.4908, 1.4907, 1.4907, 1.4907, 1.4907, 1.4907, 1.4907, 1.4907, 1.4907, 1.4907, 1.4907, 1.4907, 1.4906, 1.4906, 1.4906, 1.4906, 1.4906, 1.4905, 1.4905, 1.4905, 1.2504, 1.3253, 1.0696, 1.0525, 1.1341, 0.3463, 1.0618, 0.964, 0.6214, 0.1686, 0.2909, -0.0374, 0.0568, 0.4914, 0.3158, 0.0675, -0.3899, -0.6593, 0.1736, 0.2848, -1.1609, 1.7475, 1.7474, 1.7474, 1.7474, 1.7474, 1.7473, 1.7473, 1.7473, 1.7473, 1.7473, 1.7472, 1.7472, 1.7471, 1.7471, 1.747, 1.747, 1.7469, 1.7469, 1.7468, 1.7467, 1.7467, 1.7467, 1.7466, 1.7466, 1.7466, 1.7457, 1.7098, 1.7077, 1.6965, 1.6885, 1.554, 1.4504, 1.4149, 1.4687, 1.5959, 1.5252, 1.4436, 1.5906, 1.516, 1.5268, 1.4982, 1.5753, 1.3121, 0.7746, 0.9064, 1.0985, 0.938, 1.2631, 0.6386, 0.4422, 0.454, 0.5894, 1.1323, 0.5137, -0.018, -0.0159, -0.5828, -0.1578], \"logprob\": [30.0, 29.0, 28.0, 27.0, 26.0, 25.0, 24.0, 23.0, 22.0, 21.0, 20.0, 19.0, 18.0, 17.0, 16.0, 15.0, 14.0, 13.0, 12.0, 11.0, 10.0, 9.0, 8.0, 7.0, 6.0, 5.0, 4.0, 3.0, 2.0, 1.0, -3.4901, -3.8297, -4.5477, -4.62, -4.6455, -4.805, -5.0823, -5.3843, -5.6241, -5.6904, -5.7204, -5.8449, -6.0217, -6.054, -6.0511, -6.0688, -6.0709, -6.1005, -6.2241, -6.2462, -6.3081, -6.4043, -6.4152, -6.4577, -6.4701, -6.5596, -6.6023, -6.6285, -6.683, -6.7013, -6.6974, -4.533, -5.5637, -5.0415, -5.0981, -5.3317, -4.671, -4.4426, -3.2541, -5.6861, -3.5299, -5.0141, -4.6322, -4.0221, -5.3422, -5.129, -5.2894, -4.6651, -5.4181, -4.3075, -4.5792, -4.6064, -4.7899, -4.9529, -4.6943, -5.1941, -5.2299, -5.2156, -5.2242, -5.2708, -3.0504, -5.2039, -5.6589, -5.8487, -5.895, -5.904, -5.9515, -6.0682, -6.1518, -6.1367, -6.1952, -6.2819, -6.2963, -6.314, -6.3342, -6.3537, -6.339, -6.3769, -6.5032, -6.4919, -6.5588, -6.5395, -6.645, -6.6732, -6.7329, -6.7458, -6.7753, -6.7938, -6.8144, -6.824, -6.1916, -3.9859, -5.9102, -6.1123, -4.9661, -5.6856, -4.9494, -4.7399, -5.9455, -5.526, -5.4422, -5.8935, -3.9148, -4.334, -4.9153, -5.6565, -4.6527, -5.063, -4.8454, -5.6392, -5.4599, -4.3383, -3.7445, -5.1633, -5.2802, -4.6373, -4.9191, -4.4785, -4.918, -5.059, -4.5043, -5.0235, -5.2922, -4.8791, -5.1318, -5.2196, -5.1529, -5.1347, -5.2494, -4.9114, -5.1791, -3.7656, -3.9502, -4.4182, -4.4746, -4.5205, -4.84, -5.0479, -5.1117, -5.138, -5.1836, -5.3178, -5.3475, -5.401, -5.4058, -5.388, -5.4664, -5.5372, -5.5472, -5.6195, -5.6746, -5.7713, -5.766, -5.8496, -5.9663, -6.0096, -6.0849, -6.0859, -6.1204, -6.1633, -6.1328, -4.3893, -5.0432, -4.1764, -4.2422, -4.824, -3.2134, -5.0506, -5.0668, -4.6824, -4.1317, -4.542, -4.4068, -4.4999, -4.8831, -4.8218, -4.7022, -4.5876, -4.6206, -5.0454, -5.1624, -4.9863, -3.4191, -4.4134, -4.6887, -4.69, -4.9486, -5.0281, -5.1964, -5.3518, -5.4463, -5.432, -5.5172, -5.7906, -5.8394, -5.8413, -6.1805, -6.2062, -6.4044, -6.4325, -6.4167, -6.5631, -6.604, -6.6529, -6.6945, -6.7632, -6.7738, -4.7237, -6.8862, -5.7986, -6.2481, -6.8481, -4.0513, -2.5581, -2.5464, -3.6998, -5.1421, -4.7153, -4.3071, -5.4261, -4.956, -5.1631, -5.0196, -5.5346, -4.3808, -3.0508, -3.8633, -4.7388, -4.4962, -5.0445, -4.1404, -3.8581, -3.9154, -4.6296, -5.0211, -4.6903, -4.5747, -4.811, -4.7805, -4.9908]}, \"token.table\": {\"Topic\": [1, 1, 3, 4, 1, 2, 4, 4, 3, 1, 3, 4, 1, 3, 4, 1, 1, 3, 3, 4, 1, 2, 3, 4, 3, 4, 1, 2, 3, 3, 2, 4, 1, 2, 3, 1, 4, 3, 2, 2, 3, 1, 1, 2, 3, 4, 3, 1, 1, 3, 3, 1, 2, 2, 2, 3, 4, 2, 2, 1, 2, 2, 2, 4, 2, 4, 1, 2, 3, 4, 4, 3, 3, 1, 1, 2, 2, 2, 1, 2, 3, 4, 3, 1, 2, 3, 4, 3, 4, 1, 2, 1, 3, 2, 3, 1, 2, 3, 4, 1, 2, 3, 4, 1, 2, 3, 1, 2, 2, 4, 2, 3, 3, 1, 3, 4, 3, 1, 2, 3, 4, 4, 2, 2, 4, 1, 2, 3, 4, 4, 1, 1, 3, 4, 2, 3, 2, 1, 2, 3, 4, 2, 3, 2, 1, 2, 3, 2, 3, 2, 1, 2, 1, 2, 3, 4, 1, 2, 3, 2, 1, 2, 3, 4, 1, 1, 1, 2, 3, 1, 2, 3, 4, 4, 4, 4, 1, 2, 3, 4, 1, 2, 3, 4, 1, 2, 3, 4, 1, 1, 4, 2, 1, 2, 4, 3, 1, 1, 3, 1, 2, 3, 4, 4, 1, 2, 4, 1, 2, 3, 4, 1, 2, 3, 4, 1, 2, 3, 4, 1, 3, 3, 1, 1, 1, 1, 2, 3, 1, 2, 3, 4, 1, 4, 2, 4, 2, 4, 1, 2, 3, 4, 1, 2, 3, 2, 3, 4, 3, 1, 2, 3, 4, 1, 2, 3, 4, 1, 2, 3, 4, 1, 2, 3, 4, 4, 4, 1, 2, 3, 2, 3, 4, 3, 1, 2, 3, 4, 1, 2, 3, 4, 3, 3, 1, 2, 3, 3, 4, 2, 1, 1, 4, 1, 3, 1, 4, 2, 3, 3, 3, 3, 4, 4, 2, 3, 1, 2, 3, 1, 2, 4, 1, 1, 2, 3, 1, 1, 2, 2, 1, 3, 4, 2, 3, 1, 2, 3, 4, 3, 1, 4, 1, 3, 4, 1, 2, 2, 1, 2, 3, 4, 1, 2, 3, 4, 3, 1, 2, 3, 3, 3, 1, 2, 3, 1, 1, 2, 3, 4, 1, 2, 3, 1, 3, 3, 2, 1, 2, 3, 4, 1, 2, 3, 4, 1, 2, 1, 1, 2, 3], \"Freq\": [0.9997472102054875, 0.17794405671397104, 0.28148130291112294, 0.5404937814021442, 0.6390781418745423, 0.27249898798687916, 0.08837567822956112, 0.9998659861303494, 0.9998431545321108, 0.16531447311589756, 0.05542992658065001, 0.7794325453202839, 0.11591339860876151, 0.029446821817468282, 0.8547609278470566, 0.9999373276046748, 0.9996219851705976, 0.9997949989474079, 0.9996502068611968, 0.9999021160726944, 0.41505484523277275, 0.0858090915986856, 0.36805674977383085, 0.13104540619147095, 0.03636661010809763, 0.9624163603607265, 0.36134577764955905, 0.4714052732678884, 0.16717001426179062, 0.9999641763641801, 0.9991554904216434, 0.9998262695039428, 0.8574730558077779, 0.10489643169457705, 0.03758584086480161, 0.8440093240543272, 0.15591871046546824, 0.9998599985687714, 0.9996906533642881, 0.8471844925148905, 0.15276814822550927, 0.9997852490699796, 0.22188558595760033, 0.10596168798791526, 0.2409043504682518, 0.43123350423928014, 0.9999510220886476, 0.9995021658752694, 0.3549314649704985, 0.6450385418785862, 0.999768067689827, 0.9993754634962664, 0.9996741730605998, 0.9993424925977122, 0.15247264744493205, 0.8473502868105866, 0.9999840407764188, 0.9998225595406529, 0.999887996835407, 0.9999312382952693, 0.9990457578498202, 0.9998787349930826, 0.9998400740574376, 0.9998370576958906, 0.19789026454351244, 0.8019864965012201, 0.5685061845619233, 0.14934920478420347, 0.20276046198148023, 0.07934808739686344, 0.9996453237180141, 0.999632134723069, 0.999812695387569, 0.9998296369875401, 0.7307572262577554, 0.2692149633397976, 0.9993623987306046, 0.9994738004903839, 0.04972845681387571, 0.3733013864901815, 0.419167438891329, 0.1578275003151065, 0.999885330902103, 0.3935545261210932, 0.334242811526657, 0.22867232873563936, 0.04358264111082881, 0.19930797285113735, 0.8006809786973997, 0.9998660505170385, 0.9995691276713136, 0.8615357091486712, 0.13843432310071782, 0.9496859689954853, 0.05029695724296647, 0.06288409034368111, 0.02499836677859916, 0.11878105953806434, 0.7932711544836218, 0.6781788489267436, 0.1514961465395705, 0.17030339087803587, 0.999729627349602, 0.24077538950476512, 0.6309492453727896, 0.12823601943938306, 0.04208230241059842, 0.9580873704160513, 0.7927703532342285, 0.20719279395900672, 0.9995378442026565, 0.9998703600683275, 0.9998684920406229, 0.9999444459123804, 0.0017035793581322374, 0.9981426330147518, 0.9995660955253408, 0.3351398757075393, 0.31219606956792, 0.26225070991464394, 0.09042264210046463, 0.9992376235865769, 0.9992388820123899, 0.9995522634504621, 0.9989398202277459, 0.2551933612752443, 0.20719527570908416, 0.2665203431197658, 0.2711042310849706, 0.998978339007821, 0.9997687311063324, 0.1665071625384126, 0.1164604432567042, 0.7170336840398965, 0.9991541155221244, 0.9998825929319504, 0.9999800768366269, 0.19629153773349425, 0.1012321137996637, 0.17991333395615028, 0.5225387727756624, 0.3489319018613442, 0.651050579622036, 0.9997146431993583, 0.6275752670176161, 0.23373489884010876, 0.13866998238346903, 0.7643134537672869, 0.2356828447625296, 0.9997563759761747, 0.9997027189919504, 0.9997929704213063, 0.03266894314125824, 0.24791512496712906, 0.10340774341083757, 0.616099383353487, 0.39871861761414706, 0.3580028046666368, 0.243264097610441, 0.9995535194620625, 0.4306786570359393, 0.10141482155588169, 0.2993408908781299, 0.16856034901458358, 0.9996143029827651, 0.9997957724794176, 0.6960656649639295, 0.1786254016137884, 0.1252047207573283, 0.4131233130132744, 0.337137247978122, 0.15246730938838124, 0.09726280218605064, 0.9990453840160287, 0.9998723877394848, 0.9996843645355714, 0.31393295196749976, 0.44168567562470484, 0.1425456049851034, 0.10188706429392716, 0.3557391291934539, 0.3360991637048842, 0.18134395652590882, 0.12681530541513794, 0.2220426875801254, 0.39649459714552177, 0.05153287127165139, 0.32990750017533366, 0.9998743370673544, 0.2569966120298565, 0.7429898965690327, 0.9992819838347333, 0.9998957982495849, 0.9995715150205955, 0.9991398583494868, 0.9997192682641731, 0.9997785958710274, 0.9996958521515314, 0.9997886712844383, 0.2879092739991791, 0.24371303355710122, 0.30880129885200225, 0.15957254990326555, 0.999964138909606, 0.8679173674307243, 0.1319874337567461, 0.9985177776804504, 0.23737150670789586, 0.3496516419807563, 0.2741828315756299, 0.13879771580068104, 0.20614812150313883, 0.10716905735119572, 0.5903786561070996, 0.09628235907414043, 0.2886173240972296, 0.33816198736187664, 0.0820501566234631, 0.2911513544934814, 0.911162450969071, 0.08887784023180968, 0.9998376670751137, 0.9998242655497144, 0.9999091631492896, 0.9996376214176719, 0.22643870354972384, 0.07365294992408983, 0.6999352214728133, 0.18272777682182437, 0.12010878429691847, 0.05015218513940131, 0.6469916838580152, 0.9996130951955099, 0.9994682452266844, 0.05629592498134219, 0.9423448312094237, 0.17589781575492414, 0.8240763716963533, 0.9995846664637286, 0.8763566106904657, 0.12338594879757459, 0.9997319212833652, 0.08191049985518295, 0.7021166536561582, 0.21606459870683795, 0.8611225474872055, 0.13876703451018424, 0.9997221719733728, 0.9998031996237714, 0.15284671740110362, 0.5088728535355049, 0.09797651043962992, 0.2402357147057478, 0.05642024407750443, 0.03571595421049795, 0.15121300094314716, 0.7566553510663225, 0.4657391983790799, 0.08576161887429477, 0.070526850484868, 0.37797416343045304, 0.22337136707912683, 0.10670781879672644, 0.2248564758974318, 0.44509261324902594, 0.9989881885222919, 0.9995992980622298, 0.3887125251953961, 0.5402281172080474, 0.07107840072584973, 0.1762403835201795, 0.0858181225106827, 0.7379452803755011, 0.9999574914648248, 0.39466596376819607, 0.2975089337055194, 0.13640301292635726, 0.17143992218409576, 0.31710937171555237, 0.10098713837710668, 0.26783545395667424, 0.31404915540109457, 0.9997269202404303, 0.9998511348602283, 0.3486058434146546, 0.5163225096834226, 0.1350515004068223, 0.04942536237722433, 0.9499148413047361, 0.9993996901671487, 0.9999273015980817, 0.9995196440616836, 0.9996906240789786, 0.8352171746002135, 0.16472433455773913, 0.9997054958153574, 0.9996031512116367, 0.9998374689128148, 0.9999602280523746, 0.9999363932648819, 0.9994094861626834, 0.038873908399339525, 0.9609280727926625, 0.9996944578826953, 0.8136878724620888, 0.18599376659774272, 0.15299504095323274, 0.7290923472230086, 0.11790081764179534, 0.06242590256067568, 0.5478025455975905, 0.3897043721743809, 0.9999895270674125, 0.14869935544664958, 0.7362528578833308, 0.11494746748659636, 0.9999762892507217, 0.9999503249647663, 0.9996082087207623, 0.999502667374059, 0.6495490998502514, 0.04544713364562122, 0.30494215120253876, 0.9998242685115704, 0.9997970073301025, 0.25746752160198744, 0.4712782455010648, 0.27122705706477235, 0.998873273941756, 0.9999354197438417, 0.14059521531700936, 0.8593730596178006, 0.07786886738373011, 0.08021962564437102, 0.8418653020920255, 0.2341958587178033, 0.7656333193458673, 0.9996623442958288, 0.3079526317440502, 0.386926652445515, 0.2286332436051154, 0.07644132616001843, 0.30739588774692245, 0.24260638571003185, 0.3012154094232544, 0.1487837098892764, 0.999606869337646, 0.14004961513888026, 0.7147521004248198, 0.14519620455935137, 0.9998276515246566, 0.9997960553020909, 0.47044581083099885, 0.2112081671574292, 0.3183482487551102, 0.9994656445463164, 0.2659166322204339, 0.3927690194690361, 0.17240673291278388, 0.16897643579951718, 0.7223685713762659, 0.2449026048296489, 0.032625795348783286, 0.21372405877350378, 0.7862667648936739, 0.9998863069724457, 0.9995661512892909, 0.2744621359708699, 0.3160888932597852, 0.23834749324603627, 0.17110426993317315, 0.28098154411671467, 0.2278233861686078, 0.21689969762843314, 0.2742869919384479, 0.010055571992050368, 0.9900167697627771, 0.9997863054091674, 0.3232690126147112, 0.020506210272994086, 0.6561987287358108], \"Term\": [\"acne\", \"amazon\", \"amazon\", \"amazon\", \"apply\", \"apply\", \"apply\", \"arrive\", \"attachment\", \"awesome\", \"awesome\", \"awesome\", \"bag\", \"bag\", \"bag\", \"bar\", \"bath\", \"battery\", \"beard\", \"beautiful\", \"best\", \"best\", \"best\", \"best\", \"birthday\", \"birthday\", \"bit\", \"bit\", \"bit\", \"blade\", \"blow\", \"blush\", \"body\", \"body\", \"body\", \"bottle\", \"bottle\", \"braun\", \"bristle\", \"brush\", \"brush\", \"butter\", \"buy\", \"buy\", \"buy\", \"buy\", \"charge\", \"chemical\", \"clean\", \"clean\", \"cleaning\", \"cleanser\", \"clip\", \"clipper\", \"close\", \"close\", \"color\", \"comb\", \"conditioner\", \"cream\", \"cup\", \"curl\", \"curly\", \"cute\", \"daughter\", \"daughter\", \"day\", \"day\", \"day\", \"day\", \"delivery\", \"dental\", \"dentist\", \"deodorant\", \"dry\", \"dry\", \"dryer\", \"ear\", \"easy\", \"easy\", \"easy\", \"easy\", \"electric\", \"even\", \"even\", \"even\", \"even\", \"excellent\", \"excellent\", \"eye\", \"eyelash\", \"face\", \"face\", \"fall\", \"fall\", \"fast\", \"fast\", \"fast\", \"fast\", \"feel\", \"feel\", \"feel\", \"file\", \"fine\", \"fine\", \"fine\", \"finger\", \"finger\", \"fit\", \"fit\", \"flat\", \"floss\", \"flosser\", \"fragrance\", \"gift\", \"gift\", \"gillette\", \"give\", \"give\", \"give\", \"give\", \"gloss\", \"glove\", \"glue\", \"gold\", \"good\", \"good\", \"good\", \"good\", \"gorgeous\", \"greasy\", \"great\", \"great\", \"great\", \"grip\", \"gum\", \"hair\", \"happy\", \"happy\", \"happy\", \"happy\", \"head\", \"head\", \"heat\", \"help\", \"help\", \"help\", \"hold\", \"hold\", \"inch\", \"ingredient\", \"iron\", \"item\", \"item\", \"item\", \"item\", \"keep\", \"keep\", \"keep\", \"lash\", \"last\", \"last\", \"last\", \"last\", \"lather\", \"lavender\", \"leave\", \"leave\", \"leave\", \"like\", \"like\", \"like\", \"like\", \"liner\", \"lip\", \"lipstick\", \"little\", \"little\", \"little\", \"little\", \"long\", \"long\", \"long\", \"long\", \"look\", \"look\", \"look\", \"look\", \"lotion\", \"love\", \"love\", \"mascara\", \"mask\", \"material\", \"matte\", \"model\", \"moisturize\", \"moisturizer\", \"mouth\", \"much\", \"much\", \"much\", \"much\", \"nail\", \"natural\", \"natural\", \"necklace\", \"need\", \"need\", \"need\", \"need\", \"new\", \"new\", \"new\", \"new\", \"nice\", \"nice\", \"nice\", \"nice\", \"night\", \"night\", \"norelco\", \"odor\", \"oil\", \"oily\", \"old\", \"old\", \"old\", \"order\", \"order\", \"order\", \"order\", \"organic\", \"party\", \"pencil\", \"pencil\", \"perfect\", \"perfect\", \"perfume\", \"piece\", \"piece\", \"pink\", \"place\", \"place\", \"place\", \"plastic\", \"plastic\", \"polish\", \"pressure\", \"pretty\", \"pretty\", \"pretty\", \"pretty\", \"price\", \"price\", \"price\", \"price\", \"product\", \"product\", \"product\", \"product\", \"purchase\", \"purchase\", \"purchase\", \"purchase\", \"purple\", \"purse\", \"put\", \"put\", \"put\", \"quality\", \"quality\", \"quality\", \"razor\", \"really\", \"really\", \"really\", \"really\", \"recommend\", \"recommend\", \"recommend\", \"recommend\", \"replace\", \"replacement\", \"review\", \"review\", \"review\", \"ring\", \"ring\", \"scalp\", \"scent\", \"scrub\", \"seller\", \"sensitive\", \"sensitive\", \"serum\", \"shade\", \"shampoo\", \"shave\", \"shaver\", \"shaving\", \"ship\", \"ship\", \"shipping\", \"short\", \"short\", \"side\", \"side\", \"side\", \"size\", \"size\", \"size\", \"skin\", \"small\", \"small\", \"small\", \"smell\", \"soap\", \"straight\", \"straighten\", \"stuff\", \"stuff\", \"stuff\", \"style\", \"system\", \"take\", \"take\", \"take\", \"tattoo\", \"teeth\", \"thank\", \"thank\", \"thanks\", \"thanks\", \"thanks\", \"thick\", \"thick\", \"thin\", \"think\", \"think\", \"think\", \"think\", \"time\", \"time\", \"time\", \"time\", \"toothbrush\", \"top\", \"top\", \"top\", \"trimmer\", \"unit\", \"use\", \"use\", \"use\", \"vitamin\", \"want\", \"want\", \"want\", \"want\", \"wash\", \"wash\", \"wash\", \"water\", \"water\", \"waterpik\", \"wax\", \"well\", \"well\", \"well\", \"well\", \"work\", \"work\", \"work\", \"work\", \"wrap\", \"wrap\", \"wrinkle\", \"year\", \"year\", \"year\"]}, \"R\": 30, \"lambda.step\": 0.01, \"plot.opts\": {\"xlab\": \"PC1\", \"ylab\": \"PC2\"}, \"topic.order\": [1, 2, 4, 3]};\n",
       "\n",
       "function LDAvis_load_lib(url, callback){\n",
       "  var s = document.createElement('script');\n",
       "  s.src = url;\n",
       "  s.async = true;\n",
       "  s.onreadystatechange = s.onload = callback;\n",
       "  s.onerror = function(){console.warn(\"failed to load library \" + url);};\n",
       "  document.getElementsByTagName(\"head\")[0].appendChild(s);\n",
       "}\n",
       "\n",
       "if(typeof(LDAvis) !== \"undefined\"){\n",
       "   // already loaded: just create the visualization\n",
       "   !function(LDAvis){\n",
       "       new LDAvis(\"#\" + \"ldavis_el851971142783625927282998785\", ldavis_el851971142783625927282998785_data);\n",
       "   }(LDAvis);\n",
       "}else if(typeof define === \"function\" && define.amd){\n",
       "   // require.js is available: use it to load d3/LDAvis\n",
       "   require.config({paths: {d3: \"https://cdnjs.cloudflare.com/ajax/libs/d3/3.5.5/d3.min\"}});\n",
       "   require([\"d3\"], function(d3){\n",
       "      window.d3 = d3;\n",
       "      LDAvis_load_lib(\"https://cdn.rawgit.com/bmabey/pyLDAvis/files/ldavis.v1.0.0.js\", function(){\n",
       "        new LDAvis(\"#\" + \"ldavis_el851971142783625927282998785\", ldavis_el851971142783625927282998785_data);\n",
       "      });\n",
       "    });\n",
       "}else{\n",
       "    // require.js not available: dynamically load d3 & LDAvis\n",
       "    LDAvis_load_lib(\"https://cdnjs.cloudflare.com/ajax/libs/d3/3.5.5/d3.min.js\", function(){\n",
       "         LDAvis_load_lib(\"https://cdn.rawgit.com/bmabey/pyLDAvis/files/ldavis.v1.0.0.js\", function(){\n",
       "                 new LDAvis(\"#\" + \"ldavis_el851971142783625927282998785\", ldavis_el851971142783625927282998785_data);\n",
       "            })\n",
       "         });\n",
       "}\n",
       "</script>"
      ],
      "text/plain": [
       "PreparedData(topic_coordinates=                x           y  topics  cluster       Freq\n",
       "topic                                                    \n",
       "0     -339.715210 -234.732208       1        1  34.655926\n",
       "1      -78.384987 -468.902740       2        1  25.406783\n",
       "3      155.836624 -207.618484       3        1  22.516629\n",
       "2     -105.493294   26.552197       4        1  17.420661, topic_info=    Category           Freq       Term          Total  loglift  logprob\n",
       "496  Default   75643.000000       love   75643.000000  30.0000  30.0000\n",
       "373  Default   79305.000000      great   79305.000000  29.0000  29.0000\n",
       "382  Default   50098.000000       hair   50098.000000  28.0000  28.0000\n",
       "806  Default   44025.000000       skin   44025.000000  27.0000  27.0000\n",
       "159  Default   23760.000000      color   23760.000000  26.0000  26.0000\n",
       "674  Default   90844.000000    product   90844.000000  25.0000  25.0000\n",
       "813  Default   31348.000000      smell   31348.000000  24.0000  24.0000\n",
       "781  Default   21717.000000      shave   21717.000000  23.0000  23.0000\n",
       "941  Default  118489.000000        use  118489.000000  22.0000  22.0000\n",
       "700  Default   18056.000000      razor   18056.000000  21.0000  21.0000\n",
       "667  Default   23714.000000      price   23714.000000  20.0000  20.0000\n",
       "108  Default   23205.000000      brush   23205.000000  19.0000  19.0000\n",
       "621  Default   15321.000000    perfect   15321.000000  18.0000  18.0000\n",
       "86   Default   11308.000000      blade   11308.000000  17.0000  17.0000\n",
       "144  Default   20902.000000      clean   20902.000000  16.0000  16.0000\n",
       "995  Default   21944.000000       year   21944.000000  15.0000  15.0000\n",
       "758  Default   15290.000000      scent   15290.000000  14.0000  14.0000\n",
       "884  Default   10687.000000      teeth   10687.000000  13.0000  13.0000\n",
       "551  Default    8791.000000       nail    8791.000000  12.0000  12.0000\n",
       "782  Default   10208.000000     shaver   10208.000000  11.0000  11.0000\n",
       "817  Default   14223.000000       soap   14223.000000  10.0000  10.0000\n",
       "960  Default   14804.000000      water   14804.000000   9.0000   9.0000\n",
       "582  Default   13865.000000        oil   13865.000000   8.0000   8.0000\n",
       "116  Default   35333.000000        buy   35333.000000   7.0000   7.0000\n",
       "691  Default   13248.000000    quality   13248.000000   6.0000   6.0000\n",
       "199  Default   11821.000000      cream   11821.000000   5.0000   5.0000\n",
       "72   Default    6675.000000  beautiful    6675.000000   4.0000   4.0000\n",
       "297  Default   18008.000000       face   18008.000000   3.0000   3.0000\n",
       "479  Default    6666.000000        lip    6666.000000   2.0000   2.0000\n",
       "490  Default   35006.000000       look   35006.000000   1.0000   1.0000\n",
       "..       ...            ...        ...            ...      ...      ...\n",
       "736   Topic4    1403.465949       ring    1476.974502   1.6965  -6.2481\n",
       "618   Topic4     770.263318     pencil     817.110653   1.6885  -6.8481\n",
       "621   Topic4   12626.043864    perfect   15321.395484   1.5540  -4.0513\n",
       "496   Topic4   56202.106241       love   75643.020530   1.4504  -2.5581\n",
       "373   Topic4   56864.900411      great   79305.897708   1.4149  -2.5464\n",
       "667   Topic4   17944.423107      price   23714.892090   1.4687  -3.6998\n",
       "889   Topic4    4241.672029      thank    4936.156600   1.5959  -5.1421\n",
       "282   Topic4    6499.999119  excellent    8118.089692   1.5252  -4.7153\n",
       "691   Topic4    9776.518843    quality   13248.949834   1.4436  -4.3071\n",
       "59    Topic4    3192.968390        bag    3735.547445   1.5906  -5.4261\n",
       "308   Topic4    5109.172115       fast    6440.420745   1.5160  -4.9560\n",
       "215   Topic4    4153.634481   daughter    5179.638333   1.5268  -5.1631\n",
       "55    Topic4    4794.528528    awesome    6151.911450   1.4982  -5.0196\n",
       "890   Topic4    2864.804332     thanks    3403.157242   1.5753  -5.5346\n",
       "594   Topic4    9081.648394      order   14037.274708   1.3121  -4.3808\n",
       "674   Topic4   34337.053064    product   90844.833648   0.7746  -3.0508\n",
       "116   Topic4   15237.356282        buy   35333.525457   0.9064  -3.8633\n",
       "389   Topic4    6349.031052      happy   12150.294544   1.0985  -4.7388\n",
       "684   Topic4    8092.063826   purchase   18180.485946   0.9380  -4.4962\n",
       "442   Topic4    4676.776946       item    7591.307712   1.2631  -5.0445\n",
       "490   Topic4   11549.213422       look   35006.782185   0.6386  -4.1404\n",
       "368   Topic4   15317.643508       good   56502.253538   0.4422  -3.8581\n",
       "986   Topic4   14463.285768       work   52729.441881   0.4540  -3.9154\n",
       "712   Topic4    7081.352519  recommend   22547.425708   0.5894  -4.6296\n",
       "30    Topic4    4787.469390     amazon    8856.716145   1.1323  -5.0211\n",
       "564   Topic4    6664.479610       nice   22888.438941   0.5137  -4.6903\n",
       "968   Topic4    7481.055496       well   43721.877911  -0.0180  -4.5747\n",
       "707   Topic4    5906.453252     really   34449.385678  -0.0159  -4.8110\n",
       "476   Topic4    6089.439713       like   62603.583931  -0.5828  -4.7805\n",
       "901   Topic4    4934.777442       time   33168.953803  -0.1578  -4.9908\n",
       "\n",
       "[270 rows x 6 columns], token_table=      Topic      Freq        Term\n",
       "term                             \n",
       "4         1  0.999747        acne\n",
       "30        1  0.177944      amazon\n",
       "30        3  0.281481      amazon\n",
       "30        4  0.540494      amazon\n",
       "43        1  0.639078       apply\n",
       "43        2  0.272499       apply\n",
       "43        4  0.088376       apply\n",
       "49        4  0.999866      arrive\n",
       "51        3  0.999843  attachment\n",
       "55        1  0.165314     awesome\n",
       "55        3  0.055430     awesome\n",
       "55        4  0.779433     awesome\n",
       "59        1  0.115913         bag\n",
       "59        3  0.029447         bag\n",
       "59        4  0.854761         bag\n",
       "63        1  0.999937         bar\n",
       "67        1  0.999622        bath\n",
       "69        3  0.999795     battery\n",
       "70        3  0.999650       beard\n",
       "72        4  0.999902   beautiful\n",
       "81        1  0.415055        best\n",
       "81        2  0.085809        best\n",
       "81        3  0.368057        best\n",
       "81        4  0.131045        best\n",
       "83        3  0.036367    birthday\n",
       "83        4  0.962416    birthday\n",
       "84        1  0.361346         bit\n",
       "84        2  0.471405         bit\n",
       "84        3  0.167170         bit\n",
       "86        3  0.999964       blade\n",
       "...     ...       ...         ...\n",
       "936       3  0.999796        unit\n",
       "941       1  0.470446         use\n",
       "941       2  0.211208         use\n",
       "941       3  0.318348         use\n",
       "950       1  0.999466     vitamin\n",
       "955       1  0.265917        want\n",
       "955       2  0.392769        want\n",
       "955       3  0.172407        want\n",
       "955       4  0.168976        want\n",
       "957       1  0.722369        wash\n",
       "957       2  0.244903        wash\n",
       "957       3  0.032626        wash\n",
       "960       1  0.213724       water\n",
       "960       3  0.786267       water\n",
       "961       3  0.999886    waterpik\n",
       "962       2  0.999566         wax\n",
       "968       1  0.274462        well\n",
       "968       2  0.316089        well\n",
       "968       3  0.238347        well\n",
       "968       4  0.171104        well\n",
       "986       1  0.280982        work\n",
       "986       2  0.227823        work\n",
       "986       3  0.216900        work\n",
       "986       4  0.274287        work\n",
       "991       1  0.010056        wrap\n",
       "991       2  0.990017        wrap\n",
       "992       1  0.999786     wrinkle\n",
       "995       1  0.323269        year\n",
       "995       2  0.020506        year\n",
       "995       3  0.656199        year\n",
       "\n",
       "[381 rows x 3 columns], R=30, lambda_step=0.01, plot_opts={'xlab': 'PC1', 'ylab': 'PC2'}, topic_order=[1, 2, 4, 3])"
      ]
     },
     "execution_count": 43,
     "metadata": {},
     "output_type": "execute_result"
    }
   ],
   "source": [
    "#prepare to display result in the Jupyter notebook\n",
    "pyLDAvis.enable_notebook()\n",
    "\n",
    "#run the visualization [mds is a function to use for visualizing the \"distance\" between topics]\n",
    "pyLDAvis.sklearn.prepare(lda_positive, bow_positive_corpus, bow_vectorizer, mds='tsne')"
   ]
  },
  {
   "cell_type": "markdown",
   "metadata": {},
   "source": [
    "### 4. What are the differences in the sentiment between those who frequently leave a review and those who seldom leave reviews?   "
   ]
  },
  {
   "cell_type": "code",
   "execution_count": 44,
   "metadata": {
    "scrolled": true
   },
   "outputs": [
    {
     "name": "stderr",
     "output_type": "stream",
     "text": [
      "[nltk_data] Downloading package vader_lexicon to\n",
      "[nltk_data]     /Users/renmengyuan/nltk_data...\n",
      "[nltk_data]   Package vader_lexicon is already up-to-date!\n"
     ]
    }
   ],
   "source": [
    "nltk.download('vader_lexicon')\n",
    "\n",
    "from nltk.sentiment.vader import SentimentIntensityAnalyzer\n",
    "analyzer = SentimentIntensityAnalyzer()"
   ]
  },
  {
   "cell_type": "code",
   "execution_count": 45,
   "metadata": {},
   "outputs": [],
   "source": [
    "def analyze_sentiment_vader_lexicon(review, threshold = 0.1, verbose = False):\n",
    "    scores = analyzer.polarity_scores(review)  \n",
    "    binary_sentiment = 'positive' if scores['compound'] >= threshold else 'negative'\n",
    "    if verbose:                             \n",
    "        print('VADER Polarity (Binary):', binary_sentiment)\n",
    "        print('VADER Score:', round(scores['compound'], 2))\n",
    "    return binary_sentiment,scores['compound']"
   ]
  },
  {
   "cell_type": "code",
   "execution_count": 46,
   "metadata": {},
   "outputs": [
    {
     "data": {
      "text/html": [
       "<div>\n",
       "<style scoped>\n",
       "    .dataframe tbody tr th:only-of-type {\n",
       "        vertical-align: middle;\n",
       "    }\n",
       "\n",
       "    .dataframe tbody tr th {\n",
       "        vertical-align: top;\n",
       "    }\n",
       "\n",
       "    .dataframe thead th {\n",
       "        text-align: right;\n",
       "    }\n",
       "</style>\n",
       "<table border=\"1\" class=\"dataframe\">\n",
       "  <thead>\n",
       "    <tr style=\"text-align: right;\">\n",
       "      <th></th>\n",
       "      <th>VADER Polarity</th>\n",
       "      <th>VADER Score</th>\n",
       "      <th>score</th>\n",
       "    </tr>\n",
       "  </thead>\n",
       "  <tbody>\n",
       "    <tr>\n",
       "      <th>0</th>\n",
       "      <td>positive</td>\n",
       "      <td>0.6249</td>\n",
       "      <td>1</td>\n",
       "    </tr>\n",
       "    <tr>\n",
       "      <th>1</th>\n",
       "      <td>positive</td>\n",
       "      <td>0.6597</td>\n",
       "      <td>4</td>\n",
       "    </tr>\n",
       "    <tr>\n",
       "      <th>2</th>\n",
       "      <td>negative</td>\n",
       "      <td>0.0000</td>\n",
       "      <td>4</td>\n",
       "    </tr>\n",
       "    <tr>\n",
       "      <th>3</th>\n",
       "      <td>negative</td>\n",
       "      <td>0.3182</td>\n",
       "      <td>5</td>\n",
       "    </tr>\n",
       "    <tr>\n",
       "      <th>4</th>\n",
       "      <td>positive</td>\n",
       "      <td>0.9552</td>\n",
       "      <td>5</td>\n",
       "    </tr>\n",
       "  </tbody>\n",
       "</table>\n",
       "</div>"
      ],
      "text/plain": [
       "  VADER Polarity  VADER Score  score\n",
       "0       positive       0.6249      1\n",
       "1       positive       0.6597      4\n",
       "2       negative       0.0000      4\n",
       "3       negative       0.3182      5\n",
       "4       positive       0.9552      5"
      ]
     },
     "execution_count": 46,
     "metadata": {},
     "output_type": "execute_result"
    }
   ],
   "source": [
    "VADER_polarity = [analyze_sentiment_vader_lexicon(review, threshold=0.5) for review in normalized_reviews]\n",
    "VADER_polarity_df = pd.DataFrame(VADER_polarity, columns = ['VADER Polarity','VADER Score'])\n",
    "VADER_polarity_df[\"score\"] = df['overall'].reset_index(drop=True)\n",
    "VADER_polarity_df.head()"
   ]
  },
  {
   "cell_type": "code",
   "execution_count": 47,
   "metadata": {},
   "outputs": [],
   "source": [
    "df_plot = VADER_polarity_df.sort_values(\"score\").reset_index(drop=True).reset_index()"
   ]
  },
  {
   "cell_type": "code",
   "execution_count": 29,
   "metadata": {},
   "outputs": [
    {
     "data": {
      "image/png": "[encoded data removed]",
      "text/plain": [
       "<Figure size 432x288 with 2 Axes>"
      ]
     },
     "metadata": {
      "needs_background": "light"
     },
     "output_type": "display_data"
    }
   ],
   "source": [
    "fig, ax1 = plt.subplots()\n",
    "\n",
    "color = \"tab:red\"\n",
    "ax1.set_ylabel(\"VADER Score\", color=color)\n",
    "ax1.plot(\"index\", \"VADER Score\", data=df_plot,color=color)\n",
    "\n",
    "ax2 = ax1.twinx()\n",
    "color = \"tab:blue\"\n",
    "ax2.set_ylabel(\"Overall Score\", color=color)\n",
    "ax2.plot(\"index\", \"score\", data=df_plot,color=color)\n",
    "\n",
    "fig.tight_layout()\n",
    "plt.show()"
   ]
  },
  {
   "cell_type": "code",
   "execution_count": 21,
   "metadata": {},
   "outputs": [
    {
     "data": {
      "text/plain": [
       "1     287784\n",
       "2      30135\n",
       "3       3702\n",
       "4       1019\n",
       "5        774\n",
       "6        455\n",
       "7         66\n",
       "8         35\n",
       "9         24\n",
       "10        16\n",
       "11        10\n",
       "12         7\n",
       "13         3\n",
       "14         2\n",
       "21         2\n",
       "23         1\n",
       "18         1\n",
       "20         1\n",
       "27         1\n",
       "Name: reviewerID, dtype: int64"
      ]
     },
     "execution_count": 21,
     "metadata": {},
     "output_type": "execute_result"
    }
   ],
   "source": [
    "df[\"reviewerID\"].value_counts().value_counts()\n",
    "#About 77% people only left review once.-> Seldom"
   ]
  },
  {
   "cell_type": "code",
   "execution_count": 22,
   "metadata": {},
   "outputs": [],
   "source": [
    "#split the data\n",
    "v = df.reviewerID.value_counts()\n",
    "df_freq = df[df.reviewerID.isin(v.index[v.gt(1)])]\n",
    "df_seldom = df[df.reviewerID.isin(v.index[v.lt(2)])]"
   ]
  },
  {
   "cell_type": "code",
   "execution_count": 24,
   "metadata": {},
   "outputs": [
    {
     "data": {
      "text/html": [
       "<div>\n",
       "<style scoped>\n",
       "    .dataframe tbody tr th:only-of-type {\n",
       "        vertical-align: middle;\n",
       "    }\n",
       "\n",
       "    .dataframe tbody tr th {\n",
       "        vertical-align: top;\n",
       "    }\n",
       "\n",
       "    .dataframe thead th {\n",
       "        text-align: right;\n",
       "    }\n",
       "</style>\n",
       "<table border=\"1\" class=\"dataframe\">\n",
       "  <thead>\n",
       "    <tr style=\"text-align: right;\">\n",
       "      <th></th>\n",
       "      <th>VADER Polarity</th>\n",
       "      <th>VADER Score</th>\n",
       "      <th>score</th>\n",
       "    </tr>\n",
       "  </thead>\n",
       "  <tbody>\n",
       "    <tr>\n",
       "      <td>0</td>\n",
       "      <td>positive</td>\n",
       "      <td>0.3612</td>\n",
       "      <td>1.0</td>\n",
       "    </tr>\n",
       "    <tr>\n",
       "      <td>1</td>\n",
       "      <td>positive</td>\n",
       "      <td>0.9761</td>\n",
       "      <td>5.0</td>\n",
       "    </tr>\n",
       "    <tr>\n",
       "      <td>2</td>\n",
       "      <td>positive</td>\n",
       "      <td>0.5994</td>\n",
       "      <td>2.0</td>\n",
       "    </tr>\n",
       "    <tr>\n",
       "      <td>3</td>\n",
       "      <td>positive</td>\n",
       "      <td>0.9393</td>\n",
       "      <td>5.0</td>\n",
       "    </tr>\n",
       "    <tr>\n",
       "      <td>4</td>\n",
       "      <td>positive</td>\n",
       "      <td>0.8839</td>\n",
       "      <td>5.0</td>\n",
       "    </tr>\n",
       "  </tbody>\n",
       "</table>\n",
       "</div>"
      ],
      "text/plain": [
       "  VADER Polarity  VADER Score  score\n",
       "0       positive       0.3612    1.0\n",
       "1       positive       0.9761    5.0\n",
       "2       positive       0.5994    2.0\n",
       "3       positive       0.9393    5.0\n",
       "4       positive       0.8839    5.0"
      ]
     },
     "execution_count": 24,
     "metadata": {},
     "output_type": "execute_result"
    }
   ],
   "source": [
    "#the reviews of customers who frequently leave reviews\n",
    "freq_reviews = np.array(df_freq['reviewText'])\n",
    "normalized_freq_reviews = normalize_corpus(freq_reviews)\n",
    "\n",
    "VADER_polarity_freq = [analyze_sentiment_vader_lexicon(review, threshold=0.5) for review in normalized_freq_reviews]\n",
    "VADER_polarity_freq_df = pd.DataFrame(VADER_polarity_freq, columns = ['VADER Polarity','VADER Score'])\n",
    "VADER_polarity_freq_df.head()"
   ]
  },
  {
   "cell_type": "code",
   "execution_count": 32,
   "metadata": {},
   "outputs": [
    {
     "data": {
      "text/plain": [
       "<matplotlib.legend.Legend at 0x21d77d08188>"
      ]
     },
     "execution_count": 32,
     "metadata": {},
     "output_type": "execute_result"
    },
    {
     "data": {
      "image/png": "[encoded data removed]",
      "text/plain": [
       "<Figure size 432x288 with 1 Axes>"
      ]
     },
     "metadata": {
      "needs_background": "light"
     },
     "output_type": "display_data"
    }
   ],
   "source": [
    "df_plot = VADER_polarity_freq_df.sort_values(\"VADER Score\").reset_index(drop=True).reset_index()\n",
    "\n",
    "plt.plot(\"index\", \"VADER Score\", data=df_plot,color='red')\n",
    "plt.legend()"
   ]
  },
  {
   "cell_type": "code",
   "execution_count": 33,
   "metadata": {},
   "outputs": [
    {
     "data": {
      "text/plain": [
       "0.5907290685846169"
      ]
     },
     "execution_count": 33,
     "metadata": {},
     "output_type": "execute_result"
    }
   ],
   "source": [
    "VADER_polarity_freq_df[\"VADER Score\"].mean()"
   ]
  },
  {
   "cell_type": "code",
   "execution_count": 42,
   "metadata": {},
   "outputs": [
    {
     "data": {
      "text/plain": [
       "positive    58123\n",
       "negative    25438\n",
       "Name: VADER Polarity, dtype: int64"
      ]
     },
     "execution_count": 42,
     "metadata": {},
     "output_type": "execute_result"
    }
   ],
   "source": [
    "VADER_polarity_freq_df[\"VADER Polarity\"].value_counts()"
   ]
  },
  {
   "cell_type": "code",
   "execution_count": 26,
   "metadata": {},
   "outputs": [
    {
     "data": {
      "text/html": [
       "<div>\n",
       "<style scoped>\n",
       "    .dataframe tbody tr th:only-of-type {\n",
       "        vertical-align: middle;\n",
       "    }\n",
       "\n",
       "    .dataframe tbody tr th {\n",
       "        vertical-align: top;\n",
       "    }\n",
       "\n",
       "    .dataframe thead th {\n",
       "        text-align: right;\n",
       "    }\n",
       "</style>\n",
       "<table border=\"1\" class=\"dataframe\">\n",
       "  <thead>\n",
       "    <tr style=\"text-align: right;\">\n",
       "      <th></th>\n",
       "      <th>VADER Polarity</th>\n",
       "      <th>VADER Score</th>\n",
       "      <th>score</th>\n",
       "    </tr>\n",
       "  </thead>\n",
       "  <tbody>\n",
       "    <tr>\n",
       "      <td>0</td>\n",
       "      <td>positive</td>\n",
       "      <td>0.6249</td>\n",
       "      <td>1.0</td>\n",
       "    </tr>\n",
       "    <tr>\n",
       "      <td>1</td>\n",
       "      <td>positive</td>\n",
       "      <td>0.6597</td>\n",
       "      <td>4.0</td>\n",
       "    </tr>\n",
       "    <tr>\n",
       "      <td>2</td>\n",
       "      <td>negative</td>\n",
       "      <td>0.0000</td>\n",
       "      <td>4.0</td>\n",
       "    </tr>\n",
       "    <tr>\n",
       "      <td>3</td>\n",
       "      <td>positive</td>\n",
       "      <td>0.3182</td>\n",
       "      <td>5.0</td>\n",
       "    </tr>\n",
       "    <tr>\n",
       "      <td>4</td>\n",
       "      <td>positive</td>\n",
       "      <td>0.9552</td>\n",
       "      <td>5.0</td>\n",
       "    </tr>\n",
       "  </tbody>\n",
       "</table>\n",
       "</div>"
      ],
      "text/plain": [
       "  VADER Polarity  VADER Score  score\n",
       "0       positive       0.6249    1.0\n",
       "1       positive       0.6597    4.0\n",
       "2       negative       0.0000    4.0\n",
       "3       positive       0.3182    5.0\n",
       "4       positive       0.9552    5.0"
      ]
     },
     "execution_count": 26,
     "metadata": {},
     "output_type": "execute_result"
    }
   ],
   "source": [
    "#the reviews of customers who seldom leave reviews\n",
    "seld_reviews = np.array(df_seldom['reviewText'])\n",
    "normalized_seld_reviews = normalize_corpus(seld_reviews)\n",
    "\n",
    "VADER_polarity_seld = [analyze_sentiment_vader_lexicon(review, threshold=0.5) for review in normalized_seld_reviews]\n",
    "VADER_polarity_seld_df = pd.DataFrame(VADER_polarity_seld, columns = ['VADER Polarity','VADER Score'])\n",
    "VADER_polarity_seld_df.head()"
   ]
  },
  {
   "cell_type": "code",
   "execution_count": 37,
   "metadata": {},
   "outputs": [
    {
     "data": {
      "text/plain": [
       "<matplotlib.legend.Legend at 0x21d7b6f2388>"
      ]
     },
     "execution_count": 37,
     "metadata": {},
     "output_type": "execute_result"
    },
    {
     "data": {
      "image/png": "[encoded data removed]",
      "text/plain": [
       "<Figure size 432x288 with 1 Axes>"
      ]
     },
     "metadata": {
      "needs_background": "light"
     },
     "output_type": "display_data"
    }
   ],
   "source": [
    "df_plot = VADER_polarity_seld_df.sort_values(\"VADER Score\").reset_index(drop=True).reset_index()\n",
    "\n",
    "plt.plot(\"index\", \"VADER Score\", data=df_plot,color='red')\n",
    "plt.legend()"
   ]
  },
  {
   "cell_type": "code",
   "execution_count": 38,
   "metadata": {},
   "outputs": [
    {
     "data": {
      "text/plain": [
       "0.5215111020765709"
      ]
     },
     "execution_count": 38,
     "metadata": {},
     "output_type": "execute_result"
    }
   ],
   "source": [
    "VADER_polarity_seld_df[\"VADER Score\"].mean()"
   ]
  },
  {
   "cell_type": "code",
   "execution_count": 41,
   "metadata": {},
   "outputs": [
    {
     "data": {
      "text/plain": [
       "positive    181740\n",
       "negative    106044\n",
       "Name: VADER Polarity, dtype: int64"
      ]
     },
     "execution_count": 41,
     "metadata": {},
     "output_type": "execute_result"
    }
   ],
   "source": [
    "VADER_polarity_seld_df[\"VADER Polarity\"].value_counts()"
   ]
  },
  {
   "cell_type": "markdown",
   "metadata": {},
   "source": [
    "### 5. Does the proportion of the positive reviews growing through time or not? "
   ]
  },
  {
   "cell_type": "code",
   "execution_count": 208,
   "metadata": {},
   "outputs": [],
   "source": [
    "df['reviewTime']=pd.to_datetime(df['reviewTime']).dt.strftime(\"%Y-%m-%d\")"
   ]
  },
  {
   "cell_type": "code",
   "execution_count": 210,
   "metadata": {},
   "outputs": [],
   "source": [
    "df_merge = pd.merge(df, VADER_polarity_df, left_index=True, right_index=True)"
   ]
  },
  {
   "cell_type": "code",
   "execution_count": 212,
   "metadata": {},
   "outputs": [],
   "source": [
    "df_sort = df_merge.sort_values(by=['reviewTime'])"
   ]
  },
  {
   "cell_type": "code",
   "execution_count": 213,
   "metadata": {},
   "outputs": [],
   "source": [
    "df_sort['reviewTime_year'] = pd.to_datetime(df_sort['reviewTime']).dt.to_period('Y')"
   ]
  },
  {
   "cell_type": "code",
   "execution_count": 217,
   "metadata": {},
   "outputs": [],
   "source": [
    "df_sort['VADER Polarity'][df_sort['VADER Polarity'] == 'positive'] = 1\n",
    "df_sort['VADER Polarity'][df_sort['VADER Polarity'] == 'negative'] = 0"
   ]
  },
  {
   "cell_type": "code",
   "execution_count": 220,
   "metadata": {},
   "outputs": [],
   "source": [
    "df_sort['VADER Polarity'] = pd.to_numeric(df_sort['VADER Polarity'])"
   ]
  },
  {
   "cell_type": "code",
   "execution_count": 221,
   "metadata": {},
   "outputs": [],
   "source": [
    "df_sort_new = df_sort.groupby(['reviewTime_year']).agg({'VADER Polarity':['mean','size'],'VADER Score':'mean'})"
   ]
  },
  {
   "cell_type": "code",
   "execution_count": 224,
   "metadata": {
    "scrolled": false
   },
   "outputs": [],
   "source": [
    "#exclude 2018 because of insufficient records\n",
    "df_sort_new_exclude = df_sort_new[df_sort_new.index<2018]"
   ]
  },
  {
   "cell_type": "code",
   "execution_count": 106,
   "metadata": {
    "scrolled": false
   },
   "outputs": [
    {
     "data": {
      "image/png": "[encoded data removed]",
      "text/plain": [
       "<Figure size 432x288 with 1 Axes>"
      ]
     },
     "metadata": {
      "needs_background": "light"
     },
     "output_type": "display_data"
    }
   ],
   "source": [
    "# Reviews numbers yearly change\n",
    "df_sort_new_exclude['VADER Polarity']['count'].plot();"
   ]
  },
  {
   "cell_type": "markdown",
   "metadata": {},
   "source": [
    "**The total number of reviews are growing year by year.**"
   ]
  },
  {
   "cell_type": "code",
   "execution_count": 107,
   "metadata": {
    "scrolled": false
   },
   "outputs": [
    {
     "data": {
      "image/png": "[encoded data removed]",
      "text/plain": [
       "<Figure size 432x288 with 1 Axes>"
      ]
     },
     "metadata": {
      "needs_background": "light"
     },
     "output_type": "display_data"
    }
   ],
   "source": [
    "#import seaborn as sns\n",
    "\n",
    "df_sort_new_exclude['VADER Score']['mean'].plot();"
   ]
  },
  {
   "cell_type": "markdown",
   "metadata": {},
   "source": [
    "**The average VADER score is decreasing.**"
   ]
  },
  {
   "cell_type": "code",
   "execution_count": 225,
   "metadata": {
    "scrolled": false
   },
   "outputs": [
    {
     "data": {
      "image/png": "[encoded data removed]",
      "text/plain": [
       "<Figure size 432x288 with 1 Axes>"
      ]
     },
     "metadata": {
      "needs_background": "light"
     },
     "output_type": "display_data"
    }
   ],
   "source": [
    "df_sort_new_exclude['VADER Polarity']['mean'].plot();"
   ]
  },
  {
   "cell_type": "markdown",
   "metadata": {},
   "source": [
    "**The proportion of positive reviews among all reviews is also decreasing.**"
   ]
  },
  {
   "cell_type": "markdown",
   "metadata": {},
   "source": [
    "### 6. Does posting an image more likely lead to a positive comment or not? "
   ]
  },
  {
   "cell_type": "code",
   "execution_count": 230,
   "metadata": {},
   "outputs": [],
   "source": [
    "df_sort[['image']] = df_sort[['image']].where(df_sort[['image']].isnull(), 1)\\\n",
    "                                       .fillna(0).astype(int)"
   ]
  },
  {
   "cell_type": "markdown",
   "metadata": {},
   "source": [
    " Now let's check the coefficient of correlation between different variables and review polarity. These values represent the Pearson correlation coefficient between different variables. "
   ]
  },
  {
   "cell_type": "code",
   "execution_count": 235,
   "metadata": {
    "scrolled": false
   },
   "outputs": [
    {
     "data": {
      "text/plain": [
       "array([[1.        , 0.06435181],\n",
       "       [0.06435181, 1.        ]])"
      ]
     },
     "execution_count": 235,
     "metadata": {},
     "output_type": "execute_result"
    }
   ],
   "source": [
    "import numpy as np\n",
    "x = df_sort['image'].to_numpy()\n",
    "y = df_sort['VADER Polarity'].to_numpy()\n",
    "r = np.corrcoef(x, y)\n",
    "r"
   ]
  },
  {
   "cell_type": "code",
   "execution_count": 236,
   "metadata": {
    "scrolled": true
   },
   "outputs": [
    {
     "data": {
      "text/plain": [
       "array([[1.        , 0.27840418],\n",
       "       [0.27840418, 1.        ]])"
      ]
     },
     "execution_count": 236,
     "metadata": {},
     "output_type": "execute_result"
    }
   ],
   "source": [
    "x = df_sort['overall'].to_numpy()\n",
    "y = df_sort['VADER Polarity'].to_numpy()\n",
    "r = np.corrcoef(x, y)\n",
    "r"
   ]
  },
  {
   "cell_type": "markdown",
   "metadata": {},
   "source": [
    "We get a coefficient of  0.06435181, lower than 0.3, which shows no significant correlation between posting an image and probability of being a positive review. With additional correlation check between “overall” and “VADER Polarity”, we find a correlation of 0.27840418, which means a correlation between the overall rating and the sentimental polarity of an review.  "
   ]
  },
  {
   "cell_type": "code",
   "execution_count": 253,
   "metadata": {},
   "outputs": [
    {
     "data": {
      "text/plain": [
       "True     322473\n",
       "False     48872\n",
       "Name: verified, dtype: int64"
      ]
     },
     "execution_count": 253,
     "metadata": {},
     "output_type": "execute_result"
    }
   ],
   "source": [
    "df_sort['verified'].value_counts()"
   ]
  },
  {
   "cell_type": "code",
   "execution_count": 254,
   "metadata": {},
   "outputs": [
    {
     "data": {
      "text/plain": [
       "array([[ 1.        , -0.14454645],\n",
       "       [-0.14454645,  1.        ]])"
      ]
     },
     "execution_count": 254,
     "metadata": {},
     "output_type": "execute_result"
    }
   ],
   "source": [
    "x = df_sort['verified'].to_numpy()\n",
    "y = df_sort['VADER Polarity'].to_numpy()\n",
    "r = np.corrcoef(x, y)\n",
    "r"
   ]
  },
  {
   "cell_type": "markdown",
   "metadata": {},
   "source": [
    "There is a minor negative correlation between \"verified\" and \"VADER Polarity\". This means that if a review is verified, it is more likely a negative review. "
   ]
  },
  {
   "cell_type": "markdown",
   "metadata": {},
   "source": [
    "### 7. What is the sentiment distribution in the \"summary\" column?"
   ]
  },
  {
   "cell_type": "code",
   "execution_count": 54,
   "metadata": {},
   "outputs": [],
   "source": [
    "df['summary']=df['summary'].astype(str)"
   ]
  },
  {
   "cell_type": "code",
   "execution_count": 55,
   "metadata": {},
   "outputs": [],
   "source": [
    "df_reviews = np.array(df['summary'])"
   ]
  },
  {
   "cell_type": "code",
   "execution_count": 56,
   "metadata": {},
   "outputs": [
    {
     "name": "stdout",
     "output_type": "stream",
     "text": [
      "Requirement already satisfied: Cython in /Users/renmengyuan/anaconda3/lib/python3.7/site-packages (0.29.12)\n",
      "\u001b[33mWARNING: You are using pip version 20.0.2; however, version 20.1 is available.\n",
      "You should consider upgrading via the '/Users/renmengyuan/anaconda3/bin/python -m pip install --upgrade pip' command.\u001b[0m\n",
      "Note: you may need to restart the kernel to use updated packages.\n"
     ]
    }
   ],
   "source": [
    "pip install Cython"
   ]
  },
  {
   "cell_type": "code",
   "execution_count": 57,
   "metadata": {},
   "outputs": [
    {
     "name": "stdout",
     "output_type": "stream",
     "text": [
      "The Cython extension is already loaded. To reload it, use:\n",
      "  %reload_ext Cython\n"
     ]
    }
   ],
   "source": [
    "%load_ext Cython"
   ]
  },
  {
   "cell_type": "code",
   "execution_count": 58,
   "metadata": {},
   "outputs": [],
   "source": [
    "normalized_train_reviews = normalize_corpus(df['summary'])"
   ]
  },
  {
   "cell_type": "code",
   "execution_count": 59,
   "metadata": {},
   "outputs": [],
   "source": [
    "from nltk.sentiment.vader import SentimentIntensityAnalyzer\n",
    "analyzer = SentimentIntensityAnalyzer()"
   ]
  },
  {
   "cell_type": "code",
   "execution_count": 70,
   "metadata": {},
   "outputs": [],
   "source": [
    "def analyze_sentiment_vader_lexicon(review, threshold = 0, verbose = False):\n",
    "    scores = analyzer.polarity_scores(review)  \n",
    "    binary_sentiment = 'positive' if scores['compound'] >= threshold else 'negative'\n",
    "    if verbose:                             \n",
    "        print('VADER Polarity (Binary):', binary_sentiment)\n",
    "        print('VADER Score:', round(scores['compound'], 2))\n",
    "    return binary_sentiment,scores['compound']  "
   ]
  },
  {
   "cell_type": "code",
   "execution_count": 71,
   "metadata": {
    "scrolled": true
   },
   "outputs": [
    {
     "data": {
      "text/html": [
       "<div>\n",
       "<style scoped>\n",
       "    .dataframe tbody tr th:only-of-type {\n",
       "        vertical-align: middle;\n",
       "    }\n",
       "\n",
       "    .dataframe tbody tr th {\n",
       "        vertical-align: top;\n",
       "    }\n",
       "\n",
       "    .dataframe thead th {\n",
       "        text-align: right;\n",
       "    }\n",
       "</style>\n",
       "<table border=\"1\" class=\"dataframe\">\n",
       "  <thead>\n",
       "    <tr style=\"text-align: right;\">\n",
       "      <th></th>\n",
       "      <th>VADER Polarity</th>\n",
       "      <th>VADER Score</th>\n",
       "    </tr>\n",
       "  </thead>\n",
       "  <tbody>\n",
       "    <tr>\n",
       "      <th>0</th>\n",
       "      <td>negative</td>\n",
       "      <td>0.0000</td>\n",
       "    </tr>\n",
       "    <tr>\n",
       "      <th>1</th>\n",
       "      <td>negative</td>\n",
       "      <td>0.7073</td>\n",
       "    </tr>\n",
       "    <tr>\n",
       "      <th>2</th>\n",
       "      <td>negative</td>\n",
       "      <td>0.2263</td>\n",
       "    </tr>\n",
       "    <tr>\n",
       "      <th>3</th>\n",
       "      <td>negative</td>\n",
       "      <td>0.4404</td>\n",
       "    </tr>\n",
       "    <tr>\n",
       "      <th>4</th>\n",
       "      <td>negative</td>\n",
       "      <td>0.5355</td>\n",
       "    </tr>\n",
       "  </tbody>\n",
       "</table>\n",
       "</div>"
      ],
      "text/plain": [
       "  VADER Polarity  VADER Score\n",
       "0       negative       0.0000\n",
       "1       negative       0.7073\n",
       "2       negative       0.2263\n",
       "3       negative       0.4404\n",
       "4       negative       0.5355"
      ]
     },
     "execution_count": 71,
     "metadata": {},
     "output_type": "execute_result"
    }
   ],
   "source": [
    "VADER_polarity = [analyze_sentiment_vader_lexicon(review, threshold=0.8) for review in df_reviews]\n",
    "VADER_polarity_df = pd.DataFrame(VADER_polarity,columns = ['VADER Polarity','VADER Score'])\n",
    "VADER_polarity_df.head()"
   ]
  },
  {
   "cell_type": "code",
   "execution_count": 72,
   "metadata": {
    "scrolled": true
   },
   "outputs": [
    {
     "data": {
      "text/plain": [
       "array([[<matplotlib.axes._subplots.AxesSubplot object at 0x1a73f43588>]],\n",
       "      dtype=object)"
      ]
     },
     "execution_count": 72,
     "metadata": {},
     "output_type": "execute_result"
    },
    {
     "data": {
      "image/png": "[encoded data removed]",
      "text/plain": [
       "<Figure size 432x288 with 1 Axes>"
      ]
     },
     "metadata": {
      "needs_background": "light"
     },
     "output_type": "display_data"
    }
   ],
   "source": [
    "VADER_polarity_df.hist(column = \"VADER Score\")"
   ]
  },
  {
   "cell_type": "code",
   "execution_count": 73,
   "metadata": {},
   "outputs": [],
   "source": [
    "df_comparison = pd.merge(df, VADER_polarity_df, left_index=True, right_index=True)"
   ]
  },
  {
   "cell_type": "code",
   "execution_count": null,
   "metadata": {},
   "outputs": [],
   "source": []
  }
 ],
 "metadata": {
  "kernelspec": {
   "display_name": "Python 3",
   "language": "python",
   "name": "python3"
  },
  "language_info": {
   "codemirror_mode": {
    "name": "ipython",
    "version": 3
   },
   "file_extension": ".py",
   "mimetype": "text/x-python",
   "name": "python",
   "nbconvert_exporter": "python",
   "pygments_lexer": "ipython3",
   "version": "3.7.3"
  }
 },
 "nbformat": 4,
 "nbformat_minor": 2
}
