{
  "nbformat": 4,
  "nbformat_minor": 0,
  "metadata": {
    "colab": {
      "name": "Credit_Card_Fraud_Detection.ipynb",
      "provenance": [],
      "collapsed_sections": [
        "lSUmM9RImEBk",
        "yk5eoz126m6x",
        "WlCtevAs99TR",
        "DGfkiuNZ6pi5",
        "FreT4Ujp6kCa",
        "zfwdY4eA7DI1",
        "x26IFuQ-JU_7"
      ]
    },
    "kernelspec": {
      "name": "python3",
      "display_name": "Python 3"
    },
    "accelerator": "GPU"
  },
  "cells": [
    {
      "cell_type": "markdown",
      "metadata": {
        "id": "b8xY06cJarij"
      },
      "source": [
        "# <center><h1>Group 12 Final Project: Credit Card Fraud Detection Using Deep Learning<br>\n",
        "Olin Business School<h1>\n",
        "\n",
        "Alan Li (Leader), Yuki Ao, Cassie Zhang, Christy Ren, Rita Shi"
      ]
    },
    {
      "cell_type": "markdown",
      "metadata": {
        "id": "GjOzAyvKjnkG"
      },
      "source": [
        "![](\n",
        "https://drive.google.com/uc?export=view&id=1T7KY3RE26VV95QFVKZONPbE-pmF__5dH)"
      ]
    },
    {
      "cell_type": "markdown",
      "metadata": {
        "id": "3r7N--GCndnZ"
      },
      "source": [
        "## **Introduction**\n",
        "\n",
        "Credit card fraud is very common. According to a survey, more than 270,000 cases of credit card fraud occurred in 2019 alone. In this report, we designed a deep learning model to mimic the process of fraud transaction detection. This will help the credit card companies build up their prestige, and improve the overall efficiency of online transactions. <br>\n",
        "Here is the structure of the report: <br>\n",
        "\n",
        "1. Read, cleaned data & Made data exploratory analysis<br>\n",
        "2. Used SMOTE to oversample<br>\n",
        "3. Built a baseline network model using Keras<br>\n",
        "4. Tried different combinations of hyperparameters and optimizers to got the best model. <br>\n",
        "5. Conclusion: <br>\n",
        "a. Reach an accuracy of 99.85%<br>\n",
        "b. Lower the fraud transaction risk by 80%.\n",
        "\n"
      ]
    },
    {
      "cell_type": "markdown",
      "metadata": {
        "id": "T5jgOiPDJZ51"
      },
      "source": [
        "## **Problem description** <br>\n",
        "The two main problems we are facing are:<br>\n",
        "1. How to overcome the problem of the **imbalance** in an efficient way. <br>\n",
        "Severe skew. 99.833% normal transactions and 0.167% fraud transactions. <br>\n",
        "Low predictive accuracy for the infrequent class. **Oversampling** will solve the problem. \n",
        "\n",
        "2. How to find the best **hyperparameters** to reach the best prediction result. <br> \n",
        "There are so many combinations. <br>\n",
        "An **asymptotic** approach: tune one parameter first to get the optimal value, fix it, and move on to the next one. \n",
        "\n",
        "## **Review of the literature**\n",
        "To solve the problem of learning from imbalanced data, we researched a few related papers and projects.\n",
        "\n",
        "Based on the research we mentioned in the report, we tried SMOTE to oversample the imbalanced class, compared results by tuning different hyperparameters and chose the best model with the highest prediction accuracy on fraud class.\n"
      ]
    },
    {
      "cell_type": "code",
      "metadata": {
        "id": "0ACfL-_dZ1uz",
        "colab": {
          "base_uri": "https://localhost:8080/"
        },
        "outputId": "c1e678fb-8ed1-4f87-a1b2-9d89c9740e77"
      },
      "source": [
        "from google.colab import drive\n",
        "drive.mount('/content/drive/',force_remount=True)\n",
        "path = \"/content/drive/My Drive/\""
      ],
      "execution_count": null,
      "outputs": [
        {
          "output_type": "stream",
          "text": [
            "Mounted at /content/drive/\n"
          ],
          "name": "stdout"
        }
      ]
    },
    {
      "cell_type": "code",
      "metadata": {
        "id": "KOyPtuRdcnDX"
      },
      "source": [
        "import numpy as np\n",
        "import pandas as pd\n",
        "import matplotlib.pyplot as plt\n",
        "import csv\n",
        "from sklearn.model_selection import train_test_split\n",
        "from sklearn.preprocessing import StandardScaler\n",
        "from sklearn.decomposition import PCA\n",
        "from sklearn.impute import SimpleImputer\n",
        "import seaborn as sns\n",
        "import matplotlib.pyplot as plt\n",
        "%matplotlib inline\n",
        "\n",
        "import math\n",
        "import seaborn as sns\n",
        "from pylab import rcParams\n",
        "from keras.models import Model, load_model\n",
        "from keras.layers import Input, Dense\n",
        "from keras.callbacks import ModelCheckpoint, TensorBoard\n",
        "from keras import regularizers"
      ],
      "execution_count": null,
      "outputs": []
    },
    {
      "cell_type": "code",
      "metadata": {
        "id": "G8C7Hkskae8U"
      },
      "source": [
        "import pandas as pd\n",
        "# Load data and remove the header \n",
        "data=pd.read_csv(\"/content/drive/MyDrive/FL2020/Deep Learning/Final Project/creditcard.csv\")"
      ],
      "execution_count": null,
      "outputs": []
    },
    {
      "cell_type": "code",
      "metadata": {
        "colab": {
          "base_uri": "https://localhost:8080/"
        },
        "id": "dCUJkKRCnoqS",
        "outputId": "f8aae251-dd3d-442c-b592-820134588e78"
      },
      "source": [
        "data.columns"
      ],
      "execution_count": null,
      "outputs": [
        {
          "output_type": "execute_result",
          "data": {
            "text/plain": [
              "Index(['Time', 'V1', 'V2', 'V3', 'V4', 'V5', 'V6', 'V7', 'V8', 'V9', 'V10',\n",
              "       'V11', 'V12', 'V13', 'V14', 'V15', 'V16', 'V17', 'V18', 'V19', 'V20',\n",
              "       'V21', 'V22', 'V23', 'V24', 'V25', 'V26', 'V27', 'V28', 'Amount',\n",
              "       'Class'],\n",
              "      dtype='object')"
            ]
          },
          "metadata": {
            "tags": []
          },
          "execution_count": 5
        }
      ]
    },
    {
      "cell_type": "markdown",
      "metadata": {
        "id": "j-0t10Uq5t24"
      },
      "source": [
        "## Read Data"
      ]
    },
    {
      "cell_type": "code",
      "metadata": {
        "id": "sujf2pNt5Uo_"
      },
      "source": [
        "X = data.iloc[: , 1:30].values\n",
        "y = data.iloc[:, 30].values"
      ],
      "execution_count": null,
      "outputs": []
    },
    {
      "cell_type": "markdown",
      "metadata": {
        "id": "lSUmM9RImEBk"
      },
      "source": [
        "## Exploratory Data Analysis"
      ]
    },
    {
      "cell_type": "code",
      "metadata": {
        "colab": {
          "base_uri": "https://localhost:8080/"
        },
        "id": "BfzcZdMtCBfW",
        "outputId": "6e8c639a-e52a-4ebd-f2c4-df70f07d2a38"
      },
      "source": [
        "data.shape"
      ],
      "execution_count": null,
      "outputs": [
        {
          "output_type": "execute_result",
          "data": {
            "text/plain": [
              "(284807, 31)"
            ]
          },
          "metadata": {
            "tags": []
          },
          "execution_count": 7
        }
      ]
    },
    {
      "cell_type": "code",
      "metadata": {
        "colab": {
          "base_uri": "https://localhost:8080/"
        },
        "id": "x840b_ndmEBv",
        "outputId": "aa7153ec-bdac-4e31-f032-0cb11fcb8480"
      },
      "source": [
        "# Check Duplicates\n",
        "normal_duplicates = sum( data.loc[ data.Class==0 ].duplicated() )\n",
        "fraud_duplicates = sum( data.loc[ data.Class==1 ].duplicated() )\n",
        "total_duplicates = normal_duplicates + fraud_duplicates\n",
        "\n",
        "print( 'Normal duplicates', normal_duplicates )\n",
        "print( 'Fraud duplicates', fraud_duplicates )\n",
        "print( 'Total duplicates', total_duplicates )\n",
        "print( f\"There are {100*total_duplicates / len(data):.2f}% deplicated transactions.\" )"
      ],
      "execution_count": null,
      "outputs": [
        {
          "output_type": "stream",
          "text": [
            "Normal duplicates 1062\n",
            "Fraud duplicates 19\n",
            "Total duplicates 1081\n",
            "There are 0.38% deplicated transactions.\n"
          ],
          "name": "stdout"
        }
      ]
    },
    {
      "cell_type": "code",
      "metadata": {
        "colab": {
          "base_uri": "https://localhost:8080/"
        },
        "id": "C4Jeqod6Yq63",
        "outputId": "3a97cc76-c03a-446f-c6d2-b955f4b249a0"
      },
      "source": [
        "# Remove the duplicated transactions\r\n",
        "data = data.drop_duplicates()\r\n",
        "data.shape"
      ],
      "execution_count": null,
      "outputs": [
        {
          "output_type": "execute_result",
          "data": {
            "text/plain": [
              "(283726, 31)"
            ]
          },
          "metadata": {
            "tags": []
          },
          "execution_count": 9
        }
      ]
    },
    {
      "cell_type": "code",
      "metadata": {
        "id": "Z-cAsN0Pq8f2"
      },
      "source": [
        "#Read data without duplicates\r\n",
        "X = data.iloc[: , 1:30].values\r\n",
        "y = data.iloc[:, 30].values"
      ],
      "execution_count": null,
      "outputs": []
    },
    {
      "cell_type": "code",
      "metadata": {
        "colab": {
          "base_uri": "https://localhost:8080/",
          "height": 307
        },
        "id": "muElSWWdmQH-",
        "outputId": "461a2b06-9b5e-4235-a80d-a1776baeb0b7"
      },
      "source": [
        "data.describe()"
      ],
      "execution_count": null,
      "outputs": [
        {
          "output_type": "execute_result",
          "data": {
            "text/html": [
              "<div>\n",
              "<style scoped>\n",
              "    .dataframe tbody tr th:only-of-type {\n",
              "        vertical-align: middle;\n",
              "    }\n",
              "\n",
              "    .dataframe tbody tr th {\n",
              "        vertical-align: top;\n",
              "    }\n",
              "\n",
              "    .dataframe thead th {\n",
              "        text-align: right;\n",
              "    }\n",
              "</style>\n",
              "<table border=\"1\" class=\"dataframe\">\n",
              "  <thead>\n",
              "    <tr style=\"text-align: right;\">\n",
              "      <th></th>\n",
              "      <th>Time</th>\n",
              "      <th>V1</th>\n",
              "      <th>V2</th>\n",
              "      <th>V3</th>\n",
              "      <th>V4</th>\n",
              "      <th>V5</th>\n",
              "      <th>V6</th>\n",
              "      <th>V7</th>\n",
              "      <th>V8</th>\n",
              "      <th>V9</th>\n",
              "      <th>V10</th>\n",
              "      <th>V11</th>\n",
              "      <th>V12</th>\n",
              "      <th>V13</th>\n",
              "      <th>V14</th>\n",
              "      <th>V15</th>\n",
              "      <th>V16</th>\n",
              "      <th>V17</th>\n",
              "      <th>V18</th>\n",
              "      <th>V19</th>\n",
              "      <th>V20</th>\n",
              "      <th>V21</th>\n",
              "      <th>V22</th>\n",
              "      <th>V23</th>\n",
              "      <th>V24</th>\n",
              "      <th>V25</th>\n",
              "      <th>V26</th>\n",
              "      <th>V27</th>\n",
              "      <th>V28</th>\n",
              "      <th>Amount</th>\n",
              "      <th>Class</th>\n",
              "    </tr>\n",
              "  </thead>\n",
              "  <tbody>\n",
              "    <tr>\n",
              "      <th>count</th>\n",
              "      <td>283726.000000</td>\n",
              "      <td>283726.000000</td>\n",
              "      <td>283726.000000</td>\n",
              "      <td>283726.000000</td>\n",
              "      <td>283726.000000</td>\n",
              "      <td>283726.000000</td>\n",
              "      <td>283726.000000</td>\n",
              "      <td>283726.000000</td>\n",
              "      <td>283726.000000</td>\n",
              "      <td>283726.000000</td>\n",
              "      <td>283726.000000</td>\n",
              "      <td>283726.000000</td>\n",
              "      <td>283726.000000</td>\n",
              "      <td>283726.000000</td>\n",
              "      <td>283726.000000</td>\n",
              "      <td>283726.000000</td>\n",
              "      <td>283726.000000</td>\n",
              "      <td>283726.000000</td>\n",
              "      <td>283726.000000</td>\n",
              "      <td>283726.000000</td>\n",
              "      <td>283726.000000</td>\n",
              "      <td>283726.000000</td>\n",
              "      <td>283726.000000</td>\n",
              "      <td>283726.000000</td>\n",
              "      <td>283726.000000</td>\n",
              "      <td>283726.000000</td>\n",
              "      <td>283726.000000</td>\n",
              "      <td>283726.000000</td>\n",
              "      <td>283726.000000</td>\n",
              "      <td>283726.000000</td>\n",
              "      <td>283726.000000</td>\n",
              "    </tr>\n",
              "    <tr>\n",
              "      <th>mean</th>\n",
              "      <td>94811.077600</td>\n",
              "      <td>0.005917</td>\n",
              "      <td>-0.004135</td>\n",
              "      <td>0.001613</td>\n",
              "      <td>-0.002966</td>\n",
              "      <td>0.001828</td>\n",
              "      <td>-0.001139</td>\n",
              "      <td>0.001801</td>\n",
              "      <td>-0.000854</td>\n",
              "      <td>-0.001596</td>\n",
              "      <td>-0.001441</td>\n",
              "      <td>0.000202</td>\n",
              "      <td>-0.000715</td>\n",
              "      <td>0.000603</td>\n",
              "      <td>0.000252</td>\n",
              "      <td>0.001043</td>\n",
              "      <td>0.001162</td>\n",
              "      <td>0.000170</td>\n",
              "      <td>0.001515</td>\n",
              "      <td>-0.000264</td>\n",
              "      <td>0.000187</td>\n",
              "      <td>-0.000371</td>\n",
              "      <td>-0.000015</td>\n",
              "      <td>0.000198</td>\n",
              "      <td>0.000214</td>\n",
              "      <td>-0.000232</td>\n",
              "      <td>0.000149</td>\n",
              "      <td>0.001763</td>\n",
              "      <td>0.000547</td>\n",
              "      <td>88.472687</td>\n",
              "      <td>0.001667</td>\n",
              "    </tr>\n",
              "    <tr>\n",
              "      <th>std</th>\n",
              "      <td>47481.047891</td>\n",
              "      <td>1.948026</td>\n",
              "      <td>1.646703</td>\n",
              "      <td>1.508682</td>\n",
              "      <td>1.414184</td>\n",
              "      <td>1.377008</td>\n",
              "      <td>1.331931</td>\n",
              "      <td>1.227664</td>\n",
              "      <td>1.179054</td>\n",
              "      <td>1.095492</td>\n",
              "      <td>1.076407</td>\n",
              "      <td>1.018720</td>\n",
              "      <td>0.994674</td>\n",
              "      <td>0.995430</td>\n",
              "      <td>0.952215</td>\n",
              "      <td>0.914894</td>\n",
              "      <td>0.873696</td>\n",
              "      <td>0.842507</td>\n",
              "      <td>0.837378</td>\n",
              "      <td>0.813379</td>\n",
              "      <td>0.769984</td>\n",
              "      <td>0.723909</td>\n",
              "      <td>0.724550</td>\n",
              "      <td>0.623702</td>\n",
              "      <td>0.605627</td>\n",
              "      <td>0.521220</td>\n",
              "      <td>0.482053</td>\n",
              "      <td>0.395744</td>\n",
              "      <td>0.328027</td>\n",
              "      <td>250.399437</td>\n",
              "      <td>0.040796</td>\n",
              "    </tr>\n",
              "    <tr>\n",
              "      <th>min</th>\n",
              "      <td>0.000000</td>\n",
              "      <td>-56.407510</td>\n",
              "      <td>-72.715728</td>\n",
              "      <td>-48.325589</td>\n",
              "      <td>-5.683171</td>\n",
              "      <td>-113.743307</td>\n",
              "      <td>-26.160506</td>\n",
              "      <td>-43.557242</td>\n",
              "      <td>-73.216718</td>\n",
              "      <td>-13.434066</td>\n",
              "      <td>-24.588262</td>\n",
              "      <td>-4.797473</td>\n",
              "      <td>-18.683715</td>\n",
              "      <td>-5.791881</td>\n",
              "      <td>-19.214325</td>\n",
              "      <td>-4.498945</td>\n",
              "      <td>-14.129855</td>\n",
              "      <td>-25.162799</td>\n",
              "      <td>-9.498746</td>\n",
              "      <td>-7.213527</td>\n",
              "      <td>-54.497720</td>\n",
              "      <td>-34.830382</td>\n",
              "      <td>-10.933144</td>\n",
              "      <td>-44.807735</td>\n",
              "      <td>-2.836627</td>\n",
              "      <td>-10.295397</td>\n",
              "      <td>-2.604551</td>\n",
              "      <td>-22.565679</td>\n",
              "      <td>-15.430084</td>\n",
              "      <td>0.000000</td>\n",
              "      <td>0.000000</td>\n",
              "    </tr>\n",
              "    <tr>\n",
              "      <th>25%</th>\n",
              "      <td>54204.750000</td>\n",
              "      <td>-0.915951</td>\n",
              "      <td>-0.600321</td>\n",
              "      <td>-0.889682</td>\n",
              "      <td>-0.850134</td>\n",
              "      <td>-0.689830</td>\n",
              "      <td>-0.769031</td>\n",
              "      <td>-0.552509</td>\n",
              "      <td>-0.208828</td>\n",
              "      <td>-0.644221</td>\n",
              "      <td>-0.535578</td>\n",
              "      <td>-0.761649</td>\n",
              "      <td>-0.406198</td>\n",
              "      <td>-0.647862</td>\n",
              "      <td>-0.425732</td>\n",
              "      <td>-0.581452</td>\n",
              "      <td>-0.466860</td>\n",
              "      <td>-0.483928</td>\n",
              "      <td>-0.498014</td>\n",
              "      <td>-0.456289</td>\n",
              "      <td>-0.211469</td>\n",
              "      <td>-0.228305</td>\n",
              "      <td>-0.542700</td>\n",
              "      <td>-0.161703</td>\n",
              "      <td>-0.354453</td>\n",
              "      <td>-0.317485</td>\n",
              "      <td>-0.326763</td>\n",
              "      <td>-0.070641</td>\n",
              "      <td>-0.052818</td>\n",
              "      <td>5.600000</td>\n",
              "      <td>0.000000</td>\n",
              "    </tr>\n",
              "    <tr>\n",
              "      <th>50%</th>\n",
              "      <td>84692.500000</td>\n",
              "      <td>0.020384</td>\n",
              "      <td>0.063949</td>\n",
              "      <td>0.179963</td>\n",
              "      <td>-0.022248</td>\n",
              "      <td>-0.053468</td>\n",
              "      <td>-0.275168</td>\n",
              "      <td>0.040859</td>\n",
              "      <td>0.021898</td>\n",
              "      <td>-0.052596</td>\n",
              "      <td>-0.093237</td>\n",
              "      <td>-0.032306</td>\n",
              "      <td>0.139072</td>\n",
              "      <td>-0.012927</td>\n",
              "      <td>0.050209</td>\n",
              "      <td>0.049299</td>\n",
              "      <td>0.067119</td>\n",
              "      <td>-0.065867</td>\n",
              "      <td>-0.002142</td>\n",
              "      <td>0.003367</td>\n",
              "      <td>-0.062353</td>\n",
              "      <td>-0.029441</td>\n",
              "      <td>0.006675</td>\n",
              "      <td>-0.011159</td>\n",
              "      <td>0.041016</td>\n",
              "      <td>0.016278</td>\n",
              "      <td>-0.052172</td>\n",
              "      <td>0.001479</td>\n",
              "      <td>0.011288</td>\n",
              "      <td>22.000000</td>\n",
              "      <td>0.000000</td>\n",
              "    </tr>\n",
              "    <tr>\n",
              "      <th>75%</th>\n",
              "      <td>139298.000000</td>\n",
              "      <td>1.316068</td>\n",
              "      <td>0.800283</td>\n",
              "      <td>1.026960</td>\n",
              "      <td>0.739647</td>\n",
              "      <td>0.612218</td>\n",
              "      <td>0.396792</td>\n",
              "      <td>0.570474</td>\n",
              "      <td>0.325704</td>\n",
              "      <td>0.595977</td>\n",
              "      <td>0.453619</td>\n",
              "      <td>0.739579</td>\n",
              "      <td>0.616976</td>\n",
              "      <td>0.663178</td>\n",
              "      <td>0.492336</td>\n",
              "      <td>0.650104</td>\n",
              "      <td>0.523512</td>\n",
              "      <td>0.398972</td>\n",
              "      <td>0.501956</td>\n",
              "      <td>0.458508</td>\n",
              "      <td>0.133207</td>\n",
              "      <td>0.186194</td>\n",
              "      <td>0.528245</td>\n",
              "      <td>0.147748</td>\n",
              "      <td>0.439738</td>\n",
              "      <td>0.350667</td>\n",
              "      <td>0.240261</td>\n",
              "      <td>0.091208</td>\n",
              "      <td>0.078276</td>\n",
              "      <td>77.510000</td>\n",
              "      <td>0.000000</td>\n",
              "    </tr>\n",
              "    <tr>\n",
              "      <th>max</th>\n",
              "      <td>172792.000000</td>\n",
              "      <td>2.454930</td>\n",
              "      <td>22.057729</td>\n",
              "      <td>9.382558</td>\n",
              "      <td>16.875344</td>\n",
              "      <td>34.801666</td>\n",
              "      <td>73.301626</td>\n",
              "      <td>120.589494</td>\n",
              "      <td>20.007208</td>\n",
              "      <td>15.594995</td>\n",
              "      <td>23.745136</td>\n",
              "      <td>12.018913</td>\n",
              "      <td>7.848392</td>\n",
              "      <td>7.126883</td>\n",
              "      <td>10.526766</td>\n",
              "      <td>8.877742</td>\n",
              "      <td>17.315112</td>\n",
              "      <td>9.253526</td>\n",
              "      <td>5.041069</td>\n",
              "      <td>5.591971</td>\n",
              "      <td>39.420904</td>\n",
              "      <td>27.202839</td>\n",
              "      <td>10.503090</td>\n",
              "      <td>22.528412</td>\n",
              "      <td>4.584549</td>\n",
              "      <td>7.519589</td>\n",
              "      <td>3.517346</td>\n",
              "      <td>31.612198</td>\n",
              "      <td>33.847808</td>\n",
              "      <td>25691.160000</td>\n",
              "      <td>1.000000</td>\n",
              "    </tr>\n",
              "  </tbody>\n",
              "</table>\n",
              "</div>"
            ],
            "text/plain": [
              "                Time             V1  ...         Amount          Class\n",
              "count  283726.000000  283726.000000  ...  283726.000000  283726.000000\n",
              "mean    94811.077600       0.005917  ...      88.472687       0.001667\n",
              "std     47481.047891       1.948026  ...     250.399437       0.040796\n",
              "min         0.000000     -56.407510  ...       0.000000       0.000000\n",
              "25%     54204.750000      -0.915951  ...       5.600000       0.000000\n",
              "50%     84692.500000       0.020384  ...      22.000000       0.000000\n",
              "75%    139298.000000       1.316068  ...      77.510000       0.000000\n",
              "max    172792.000000       2.454930  ...   25691.160000       1.000000\n",
              "\n",
              "[8 rows x 31 columns]"
            ]
          },
          "metadata": {
            "tags": []
          },
          "execution_count": 10
        }
      ]
    },
    {
      "cell_type": "code",
      "metadata": {
        "colab": {
          "base_uri": "https://localhost:8080/"
        },
        "id": "46SEX2YwU-6b",
        "outputId": "29a39041-57b9-48e4-937a-90c4a9e1b365"
      },
      "source": [
        "data['Class'].value_counts()\r\n",
        "# data.groupby('Class')['Class'].count()"
      ],
      "execution_count": null,
      "outputs": [
        {
          "output_type": "execute_result",
          "data": {
            "text/plain": [
              "Class\n",
              "0    283253\n",
              "1       473\n",
              "Name: Class, dtype: int64"
            ]
          },
          "metadata": {
            "tags": []
          },
          "execution_count": 11
        }
      ]
    },
    {
      "cell_type": "code",
      "metadata": {
        "colab": {
          "base_uri": "https://localhost:8080/"
        },
        "id": "KUld3emxmEBx",
        "outputId": "d011be1e-c003-4a61-8c0f-b7a80dba43d1"
      },
      "source": [
        "c_0 = sum(data.Class==0)/data.shape[0]\r\n",
        "c_1 = sum(data.Class==1)/data.shape[0]\r\n",
        "\r\n",
        "print(f\"There are {c_0*100:.3f}% normal tractions and {c_1*100:.3f}% fraud transactions.\") "
      ],
      "execution_count": null,
      "outputs": [
        {
          "output_type": "stream",
          "text": [
            "There are 99.833% normal tractions and 0.167% fraud transactions.\n"
          ],
          "name": "stdout"
        }
      ]
    },
    {
      "cell_type": "code",
      "metadata": {
        "id": "y6b03PJFZv9n"
      },
      "source": [
        "# Convert time to time of day, in hours\r\n",
        "data['Time'] = ( data['Time'].values / 3600 ) % 24"
      ],
      "execution_count": null,
      "outputs": []
    },
    {
      "cell_type": "code",
      "metadata": {
        "colab": {
          "base_uri": "https://localhost:8080/",
          "height": 770
        },
        "id": "7rf9Z6o_Ze_N",
        "outputId": "828428fe-aaca-4f0c-9ccc-572eda046c41"
      },
      "source": [
        "sns.displot(data.loc[data['Class']==0],x=\"Time\")\r\n",
        "plt.title(\"Normal Transaction\")\r\n",
        "sns.displot(data.loc[data['Class']==1], x=\"Time\")\r\n",
        "plt.title(\"Fraud Transaction\")\r\n"
      ],
      "execution_count": null,
      "outputs": [
        {
          "output_type": "execute_result",
          "data": {
            "text/plain": [
              "Text(0.5, 1.0, 'Fraud Transaction')"
            ]
          },
          "metadata": {
            "tags": []
          },
          "execution_count": 15
        },
        {
          "output_type": "display_data",
          "data": {
            "image/png": "[encoded data removed]",
            "text/plain": [
              "<Figure size 360x360 with 1 Axes>"
            ]
          },
          "metadata": {
            "tags": [],
            "needs_background": "light"
          }
        },
        {
          "output_type": "display_data",
          "data": {
            "image/png": "[encoded data removed]",
            "text/plain": [
              "<Figure size 360x360 with 1 Axes>"
            ]
          },
          "metadata": {
            "tags": [],
            "needs_background": "light"
          }
        }
      ]
    },
    {
      "cell_type": "markdown",
      "metadata": {
        "id": "6D4ALmpHcAzZ"
      },
      "source": [
        "**Normal transactions (non-fraud) usually happen from 8am to midnight. Fraud transactions happen at 2-3am，noon and 3-7pm.**"
      ]
    },
    {
      "cell_type": "code",
      "metadata": {
        "colab": {
          "base_uri": "https://localhost:8080/",
          "height": 348
        },
        "id": "ZITaujMghNJ_",
        "outputId": "e1d32299-c7bc-4d61-de08-0defd647e362"
      },
      "source": [
        "sns.distplot(data['Amount'], bins=40)"
      ],
      "execution_count": null,
      "outputs": [
        {
          "output_type": "stream",
          "text": [
            "/usr/local/lib/python3.6/dist-packages/seaborn/distributions.py:2551: FutureWarning: `distplot` is a deprecated function and will be removed in a future version. Please adapt your code to use either `displot` (a figure-level function with similar flexibility) or `histplot` (an axes-level function for histograms).\n",
            "  warnings.warn(msg, FutureWarning)\n"
          ],
          "name": "stderr"
        },
        {
          "output_type": "execute_result",
          "data": {
            "text/plain": [
              "<matplotlib.axes._subplots.AxesSubplot at 0x7fd9de79fb00>"
            ]
          },
          "metadata": {
            "tags": []
          },
          "execution_count": 16
        },
        {
          "output_type": "display_data",
          "data": {
            "image/png": "[encoded data removed]",
            "text/plain": [
              "<Figure size 432x288 with 1 Axes>"
            ]
          },
          "metadata": {
            "tags": [],
            "needs_background": "light"
          }
        }
      ]
    },
    {
      "cell_type": "code",
      "metadata": {
        "colab": {
          "base_uri": "https://localhost:8080/"
        },
        "id": "rwCX-AOOCfeO",
        "outputId": "db87385f-957a-42c3-dc60-04338d9fb4d2"
      },
      "source": [
        "temp0 = data.loc[data['Class']==0]\r\n",
        "temp1 = data.loc[data['Class']==1]\r\n",
        "print(temp0['Amount'].mean())\r\n",
        "print(temp1['Amount'].mean())"
      ],
      "execution_count": null,
      "outputs": [
        {
          "output_type": "stream",
          "text": [
            "88.41357475466688\n",
            "123.87186046511626\n"
          ],
          "name": "stdout"
        }
      ]
    },
    {
      "cell_type": "code",
      "metadata": {
        "colab": {
          "base_uri": "https://localhost:8080/",
          "height": 295
        },
        "id": "6I9vnHpwfLxi",
        "outputId": "20f4f636-1f49-42e4-d4be-19c2f7b4f711"
      },
      "source": [
        "sns.boxplot(x=\"Class\", y=\"Amount\", data=data)"
      ],
      "execution_count": null,
      "outputs": [
        {
          "output_type": "execute_result",
          "data": {
            "text/plain": [
              "<matplotlib.axes._subplots.AxesSubplot at 0x7f2f9d219a58>"
            ]
          },
          "metadata": {
            "tags": []
          },
          "execution_count": 64
        },
        {
          "output_type": "display_data",
          "data": {
            "image/png": "[encoded data removed]",
            "text/plain": [
              "<Figure size 432x288 with 1 Axes>"
            ]
          },
          "metadata": {
            "tags": [],
            "needs_background": "light"
          }
        }
      ]
    },
    {
      "cell_type": "code",
      "metadata": {
        "colab": {
          "base_uri": "https://localhost:8080/",
          "height": 311
        },
        "id": "BMWLeAjcCnEl",
        "outputId": "cf5c8c19-2032-4aec-b381-0a323be3f392"
      },
      "source": [
        "sns.boxplot(x=\"Class\", y=\"Amount\", data=temp1,color = 'darkorange') #temp1.loc[temp1['Amount']<500]\r\n",
        "plt.title(\"Fraud Transaction Value\")"
      ],
      "execution_count": null,
      "outputs": [
        {
          "output_type": "execute_result",
          "data": {
            "text/plain": [
              "Text(0.5, 1.0, 'Fraud Transaction Value')"
            ]
          },
          "metadata": {
            "tags": []
          },
          "execution_count": 18
        },
        {
          "output_type": "display_data",
          "data": {
            "image/png": "[encoded data removed]",
            "text/plain": [
              "<Figure size 432x288 with 1 Axes>"
            ]
          },
          "metadata": {
            "tags": [],
            "needs_background": "light"
          }
        }
      ]
    },
    {
      "cell_type": "code",
      "metadata": {
        "colab": {
          "base_uri": "https://localhost:8080/",
          "height": 364
        },
        "id": "LpELb8EaCqSx",
        "outputId": "051523fc-d9ce-4eac-f9a1-1e3343a8403e"
      },
      "source": [
        "sns.distplot(temp1.loc[temp1['Amount']<500]['Amount'], bins=40)\r\n",
        "plt.title(\"Fraud Transaction Value Distribution\")"
      ],
      "execution_count": null,
      "outputs": [
        {
          "output_type": "stream",
          "text": [
            "/usr/local/lib/python3.6/dist-packages/seaborn/distributions.py:2551: FutureWarning: `distplot` is a deprecated function and will be removed in a future version. Please adapt your code to use either `displot` (a figure-level function with similar flexibility) or `histplot` (an axes-level function for histograms).\n",
            "  warnings.warn(msg, FutureWarning)\n"
          ],
          "name": "stderr"
        },
        {
          "output_type": "execute_result",
          "data": {
            "text/plain": [
              "Text(0.5, 1.0, 'Fraud Transaction Value Distribution')"
            ]
          },
          "metadata": {
            "tags": []
          },
          "execution_count": 19
        },
        {
          "output_type": "display_data",
          "data": {
            "image/png": "[encoded data removed]",
            "text/plain": [
              "<Figure size 432x288 with 1 Axes>"
            ]
          },
          "metadata": {
            "tags": [],
            "needs_background": "light"
          }
        }
      ]
    },
    {
      "cell_type": "code",
      "metadata": {
        "colab": {
          "base_uri": "https://localhost:8080/",
          "height": 311
        },
        "id": "3cRYNYYkfVOU",
        "outputId": "57976572-e48e-4c3e-f24c-6d72e3424e88"
      },
      "source": [
        "from numpy import mean\r\n",
        "sns.barplot(x=\"Class\", y=\"Amount\", data=data, estimator=mean)\r\n",
        "plt.title(\"Average Transaction\")"
      ],
      "execution_count": null,
      "outputs": [
        {
          "output_type": "execute_result",
          "data": {
            "text/plain": [
              "Text(0.5, 1.0, 'Average Transaction')"
            ]
          },
          "metadata": {
            "tags": []
          },
          "execution_count": 20
        },
        {
          "output_type": "display_data",
          "data": {
            "image/png": "[encoded data removed]",
            "text/plain": [
              "<Figure size 432x288 with 1 Axes>"
            ]
          },
          "metadata": {
            "tags": [],
            "needs_background": "light"
          }
        }
      ]
    },
    {
      "cell_type": "markdown",
      "metadata": {
        "id": "meSOwV-UgVDo"
      },
      "source": [
        "**Fraud transactions have an average value of $123.87, 40.1% higher than that of normal transactions.**"
      ]
    },
    {
      "cell_type": "markdown",
      "metadata": {
        "id": "yk5eoz126m6x"
      },
      "source": [
        "## Preprocess: Standardize"
      ]
    },
    {
      "cell_type": "code",
      "metadata": {
        "id": "xb9HWowc5U0s"
      },
      "source": [
        "scaler = StandardScaler()\n",
        "scaled_X = scaler.fit_transform(X)"
      ],
      "execution_count": null,
      "outputs": []
    },
    {
      "cell_type": "markdown",
      "metadata": {
        "id": "WlCtevAs99TR"
      },
      "source": [
        "### Train-Validation-Test-Split"
      ]
    },
    {
      "cell_type": "code",
      "metadata": {
        "id": "uWxspgoe5UwR",
        "colab": {
          "base_uri": "https://localhost:8080/"
        },
        "outputId": "ee65594e-b556-4df0-e893-56481864270e"
      },
      "source": [
        "from sklearn.model_selection import train_test_split\n",
        "\n",
        "# Train-test-validation split\n",
        "X_train,X_tmp,y_train,y_tmp=train_test_split(X,y,test_size=0.1,stratify=data.Class)\n",
        "X_validation,X_test,y_validation,y_test=train_test_split(X_tmp,y_tmp,test_size=0.5)\n",
        "print(X_train.shape,X_validation.shape,X_test.shape)"
      ],
      "execution_count": null,
      "outputs": [
        {
          "output_type": "stream",
          "text": [
            "(256326, 29) (14240, 29) (14241, 29)\n"
          ],
          "name": "stdout"
        }
      ]
    },
    {
      "cell_type": "markdown",
      "metadata": {
        "id": "DGfkiuNZ6pi5"
      },
      "source": [
        "## Oversampling the training dataset to solve imbalance  problem"
      ]
    },
    {
      "cell_type": "code",
      "metadata": {
        "colab": {
          "base_uri": "https://localhost:8080/"
        },
        "id": "6WCpVjEv4jVo",
        "outputId": "a806c0e8-dcbf-4d89-a6cf-7c991ae32252"
      },
      "source": [
        "!pip install imblearn"
      ],
      "execution_count": null,
      "outputs": [
        {
          "output_type": "stream",
          "text": [
            "Requirement already satisfied: imblearn in /usr/local/lib/python3.6/dist-packages (0.0)\n",
            "Requirement already satisfied: imbalanced-learn in /usr/local/lib/python3.6/dist-packages (from imblearn) (0.4.3)\n",
            "Requirement already satisfied: scikit-learn>=0.20 in /usr/local/lib/python3.6/dist-packages (from imbalanced-learn->imblearn) (0.22.2.post1)\n",
            "Requirement already satisfied: scipy>=0.13.3 in /usr/local/lib/python3.6/dist-packages (from imbalanced-learn->imblearn) (1.4.1)\n",
            "Requirement already satisfied: numpy>=1.8.2 in /usr/local/lib/python3.6/dist-packages (from imbalanced-learn->imblearn) (1.19.4)\n",
            "Requirement already satisfied: joblib>=0.11 in /usr/local/lib/python3.6/dist-packages (from scikit-learn>=0.20->imbalanced-learn->imblearn) (1.0.0)\n"
          ],
          "name": "stdout"
        }
      ]
    },
    {
      "cell_type": "code",
      "metadata": {
        "colab": {
          "base_uri": "https://localhost:8080/"
        },
        "id": "mGDqC9LX408H",
        "outputId": "ce841f3b-697f-49bf-ef0c-de288afdb82b"
      },
      "source": [
        "from imblearn.over_sampling import SMOTE\n",
        "smote = SMOTE(random_state=42)\n",
        "X_train, y_train = smote.fit_resample(X_train, y_train)"
      ],
      "execution_count": null,
      "outputs": [
        {
          "output_type": "stream",
          "text": [
            "/usr/local/lib/python3.6/dist-packages/sklearn/externals/six.py:31: FutureWarning: The module is deprecated in version 0.21 and will be removed in version 0.23 since we've dropped support for Python 2.7. Please rely on the official version of six (https://pypi.org/project/six/).\n",
            "  \"(https://pypi.org/project/six/).\", FutureWarning)\n",
            "/usr/local/lib/python3.6/dist-packages/sklearn/utils/deprecation.py:144: FutureWarning: The sklearn.neighbors.base module is  deprecated in version 0.22 and will be removed in version 0.24. The corresponding classes / functions should instead be imported from sklearn.neighbors. Anything that cannot be imported from sklearn.neighbors is now part of the private API.\n",
            "  warnings.warn(message, FutureWarning)\n",
            "/usr/local/lib/python3.6/dist-packages/sklearn/utils/deprecation.py:87: FutureWarning: Function safe_indexing is deprecated; safe_indexing is deprecated in version 0.22 and will be removed in version 0.24.\n",
            "  warnings.warn(msg, category=FutureWarning)\n"
          ],
          "name": "stderr"
        }
      ]
    },
    {
      "cell_type": "code",
      "metadata": {
        "colab": {
          "base_uri": "https://localhost:8080/"
        },
        "id": "4CUruhnb5Oe_",
        "outputId": "ebca2806-c112-40ed-aa0e-c04f0e77b5e8"
      },
      "source": [
        "sum(y_train==0)/len(y_train)"
      ],
      "execution_count": null,
      "outputs": [
        {
          "output_type": "execute_result",
          "data": {
            "text/plain": [
              "0.5"
            ]
          },
          "metadata": {
            "tags": []
          },
          "execution_count": 9
        }
      ]
    },
    {
      "cell_type": "code",
      "metadata": {
        "colab": {
          "base_uri": "https://localhost:8080/"
        },
        "id": "I6ACAYsX5VMY",
        "outputId": "66d69d60-fd4c-4dd0-8f83-4e0eaea7f581"
      },
      "source": [
        "sum(y_train==1)/len(y_train)"
      ],
      "execution_count": null,
      "outputs": [
        {
          "output_type": "execute_result",
          "data": {
            "text/plain": [
              "0.5"
            ]
          },
          "metadata": {
            "tags": []
          },
          "execution_count": 10
        }
      ]
    },
    {
      "cell_type": "code",
      "metadata": {
        "colab": {
          "base_uri": "https://localhost:8080/"
        },
        "id": "7zQbwcCZamVq",
        "outputId": "13377f0a-7eaa-44f7-d457-00f5582e44a2"
      },
      "source": [
        "#New data shape\r\n",
        "print(X_train.shape,X_validation.shape,X_test.shape)"
      ],
      "execution_count": null,
      "outputs": [
        {
          "output_type": "stream",
          "text": [
            "(509854, 29) (14186, 29) (14187, 29)\n"
          ],
          "name": "stdout"
        }
      ]
    },
    {
      "cell_type": "code",
      "metadata": {
        "colab": {
          "base_uri": "https://localhost:8080/"
        },
        "id": "U7RtqswGa4ZR",
        "outputId": "e6489186-43d6-49ce-8119-f41b8f287bef"
      },
      "source": [
        "#Fraud rate in validation data\r\n",
        "sum(y_validation==1)/len(y_validation)"
      ],
      "execution_count": null,
      "outputs": [
        {
          "output_type": "execute_result",
          "data": {
            "text/plain": [
              "0.0016213167912025941"
            ]
          },
          "metadata": {
            "tags": []
          },
          "execution_count": 55
        }
      ]
    },
    {
      "cell_type": "code",
      "metadata": {
        "colab": {
          "base_uri": "https://localhost:8080/"
        },
        "id": "KsCk1luzbRx4",
        "outputId": "0024ceb5-99d4-42ba-c5e2-7f2df4b3d33d"
      },
      "source": [
        "#Fraud rate in test data\r\n",
        "sum(y_test==1)/len(y_test)"
      ],
      "execution_count": null,
      "outputs": [
        {
          "output_type": "execute_result",
          "data": {
            "text/plain": [
              "0.0016916895749629942"
            ]
          },
          "metadata": {
            "tags": []
          },
          "execution_count": 56
        }
      ]
    },
    {
      "cell_type": "markdown",
      "metadata": {
        "id": "8h6h1XuFongz"
      },
      "source": [
        "## Model Building"
      ]
    },
    {
      "cell_type": "markdown",
      "metadata": {
        "id": "FreT4Ujp6kCa"
      },
      "source": [
        "### Model 1: 4 layers (baseline)"
      ]
    },
    {
      "cell_type": "code",
      "metadata": {
        "colab": {
          "base_uri": "https://localhost:8080/"
        },
        "id": "Xd6Crl1SOcld",
        "outputId": "8881546b-3875-47d0-9045-7283106f4a9b"
      },
      "source": [
        "# Model 1 (base model)\n",
        "from keras.layers import Dropout\n",
        "from keras import models,layers\n",
        "from keras.callbacks import EarlyStopping\n",
        "\n",
        "# Define the model\n",
        "model = models.Sequential()\n",
        "model.add(layers.Dense(128, activation='relu', input_shape=(X_train.shape[1],)))\n",
        "model.add(layers.Dense(64, activation='relu'))\n",
        "model.add(layers.Dense(32, activation='relu'))\n",
        "# model.add(layers.Dense(16, activation='relu'))\n",
        "model.add(layers.Dense(1, activation='sigmoid'))  \n",
        "\n",
        "\n",
        "# Compile the model\n",
        "model.compile(optimizer='adam',\n",
        "              loss='binary_crossentropy', \n",
        "              metrics=['accuracy']) \n",
        "es = EarlyStopping(monitor='val_loss', mode='min', verbose=1, patience=5) # Add early stopping\n",
        "\n",
        "model_hist=model.fit(X_train,\n",
        "                    y_train,\n",
        "                    epochs=20,\n",
        "                    batch_size=50,\n",
        "                    validation_data=(X_validation, y_validation),\n",
        "                    callbacks=[es])"
      ],
      "execution_count": null,
      "outputs": [
        {
          "output_type": "stream",
          "text": [
            "Epoch 1/20\n",
            "5118/5118 [==============================] - 9s 2ms/step - loss: 0.1215 - accuracy: 0.9682 - val_loss: 0.1004 - val_accuracy: 0.9637\n",
            "Epoch 2/20\n",
            "5118/5118 [==============================] - 9s 2ms/step - loss: 0.0249 - accuracy: 0.9934 - val_loss: 0.0083 - val_accuracy: 0.9981\n",
            "Epoch 3/20\n",
            "5118/5118 [==============================] - 10s 2ms/step - loss: 0.0115 - accuracy: 0.9965 - val_loss: 0.0124 - val_accuracy: 0.9963\n",
            "Epoch 4/20\n",
            "5118/5118 [==============================] - 9s 2ms/step - loss: 0.0090 - accuracy: 0.9974 - val_loss: 0.0049 - val_accuracy: 0.9984\n",
            "Epoch 5/20\n",
            "5118/5118 [==============================] - 9s 2ms/step - loss: 0.0072 - accuracy: 0.9979 - val_loss: 0.0089 - val_accuracy: 0.9963\n",
            "Epoch 6/20\n",
            "5118/5118 [==============================] - 9s 2ms/step - loss: 0.0062 - accuracy: 0.9982 - val_loss: 0.0062 - val_accuracy: 0.9980\n",
            "Epoch 7/20\n",
            "5118/5118 [==============================] - 9s 2ms/step - loss: 0.0050 - accuracy: 0.9984 - val_loss: 0.0059 - val_accuracy: 0.9984\n",
            "Epoch 8/20\n",
            "5118/5118 [==============================] - 10s 2ms/step - loss: 0.0050 - accuracy: 0.9984 - val_loss: 0.0089 - val_accuracy: 0.9972\n",
            "Epoch 9/20\n",
            "5118/5118 [==============================] - 9s 2ms/step - loss: 0.0045 - accuracy: 0.9987 - val_loss: 0.0059 - val_accuracy: 0.9982\n",
            "Epoch 00009: early stopping\n"
          ],
          "name": "stdout"
        }
      ]
    },
    {
      "cell_type": "code",
      "metadata": {
        "colab": {
          "base_uri": "https://localhost:8080/",
          "height": 282
        },
        "id": "GyPoCnGvQLHc",
        "outputId": "61d8877e-06d5-43a9-8633-7b26bbceb866"
      },
      "source": [
        "import matplotlib.pyplot as plt\n",
        "# Plot loss, val_loss\n",
        "loss = model_hist.history['loss']\n",
        "val_loss = model_hist.history['val_loss']\n",
        "epochs = range(1, len(loss) + 1)\n",
        "\n",
        "plt.plot(epochs, loss, label='Training loss')\n",
        "plt.plot(epochs, val_loss, label='Validation loss')\n",
        "\n",
        "plt.title('Training and validation loss -- Model 1')\n",
        "plt.xlabel('Epochs')\n",
        "plt.ylabel('Loss')\n",
        "plt.legend()\n",
        "\n",
        "plt.imshow"
      ],
      "execution_count": null,
      "outputs": [
        {
          "output_type": "execute_result",
          "data": {
            "text/plain": [
              "<function matplotlib.pyplot.imshow>"
            ]
          },
          "metadata": {
            "tags": []
          },
          "execution_count": 30
        },
        {
          "output_type": "display_data",
          "data": {
            "image/png": "[encoded data removed]",
            "text/plain": [
              "<Figure size 432x288 with 1 Axes>"
            ]
          },
          "metadata": {
            "tags": [],
            "needs_background": "light"
          }
        }
      ]
    },
    {
      "cell_type": "code",
      "metadata": {
        "id": "zXK7toaIGob1"
      },
      "source": [
        "# Plot accuracy, val_acc\r\n",
        "acc = model_hist.history['accuracy']\r\n",
        "val_acc = model_hist.history['val_accuracy']\r\n",
        "epochs = range(1, len(acc) + 1)\r\n",
        "\r\n",
        "plt.plot(epochs, acc, label='Training accuracy')\r\n",
        "plt.plot(epochs, val_acc, label='Validation accuracy')\r\n",
        "\r\n",
        "plt.title('Training and validation accuracy -- Model 1')\r\n",
        "plt.xlabel('Epochs')\r\n",
        "plt.ylabel('Accuracy')\r\n",
        "plt.legend()\r\n",
        "\r\n",
        "plt.imshow"
      ],
      "execution_count": null,
      "outputs": []
    },
    {
      "cell_type": "markdown",
      "metadata": {
        "id": "zfwdY4eA7DI1"
      },
      "source": [
        "### Model 2： 5 layers (best and final model)"
      ]
    },
    {
      "cell_type": "code",
      "metadata": {
        "colab": {
          "base_uri": "https://localhost:8080/"
        },
        "id": "eG1YH75JcYIg",
        "outputId": "dbb08be4-2a1a-478e-c167-9a09bd333138"
      },
      "source": [
        "from keras.layers import Dropout\n",
        "from keras import models,layers\n",
        "\n",
        "# Define the model\n",
        "model = models.Sequential()\n",
        "model.add(layers.Dense(256, activation='relu', input_shape=(X_train.shape[1],)))\n",
        "model.add(layers.Dense(64, activation='relu'))\n",
        "model.add(layers.Dense(32, activation='relu')) \n",
        "model.add(layers.Dense(8, activation='relu'))\n",
        "model.add(layers.Dense(1, activation='sigmoid'))  \n",
        "\n",
        "\n",
        "# Compile the model\n",
        "model.compile(optimizer='adam',\n",
        "              loss='binary_crossentropy',\n",
        "              metrics=['accuracy'])\n",
        "\n",
        "es = EarlyStopping(monitor='val_loss', mode='min', verbose=1, patience=5) # Add early stopping\n",
        "\n",
        "\n",
        "model_hist=model.fit(X_train,\n",
        "                    y_train,\n",
        "                    epochs=50,\n",
        "                    batch_size=100,\n",
        "                    validation_data=(X_validation, y_validation),\n",
        "                    callbacks=[es])"
      ],
      "execution_count": null,
      "outputs": [
        {
          "output_type": "stream",
          "text": [
            "Epoch 1/50\n",
            "5118/5118 [==============================] - 12s 2ms/step - loss: 0.1116 - accuracy: 0.9679 - val_loss: 0.0073 - val_accuracy: 0.9985\n",
            "Epoch 2/50\n",
            "5118/5118 [==============================] - 11s 2ms/step - loss: 0.0214 - accuracy: 0.9940 - val_loss: 0.0108 - val_accuracy: 0.9969\n",
            "Epoch 3/50\n",
            "5118/5118 [==============================] - 11s 2ms/step - loss: 0.0103 - accuracy: 0.9970 - val_loss: 0.0071 - val_accuracy: 0.9978\n",
            "Epoch 4/50\n",
            "5118/5118 [==============================] - 11s 2ms/step - loss: 0.0107 - accuracy: 0.9966 - val_loss: 0.0044 - val_accuracy: 0.9987\n",
            "Epoch 5/50\n",
            "5118/5118 [==============================] - 11s 2ms/step - loss: 0.0079 - accuracy: 0.9976 - val_loss: 0.0061 - val_accuracy: 0.9987\n",
            "Epoch 6/50\n",
            "5118/5118 [==============================] - 11s 2ms/step - loss: 0.0064 - accuracy: 0.9981 - val_loss: 0.0043 - val_accuracy: 0.9987\n",
            "Epoch 7/50\n",
            "5118/5118 [==============================] - 11s 2ms/step - loss: 0.0071 - accuracy: 0.9979 - val_loss: 0.0054 - val_accuracy: 0.9982\n",
            "Epoch 8/50\n",
            "5118/5118 [==============================] - 11s 2ms/step - loss: 0.0050 - accuracy: 0.9985 - val_loss: 0.0173 - val_accuracy: 0.9930\n",
            "Epoch 9/50\n",
            "5118/5118 [==============================] - 11s 2ms/step - loss: 0.0061 - accuracy: 0.9982 - val_loss: 0.0059 - val_accuracy: 0.9978\n",
            "Epoch 10/50\n",
            "5118/5118 [==============================] - 12s 2ms/step - loss: 0.0046 - accuracy: 0.9987 - val_loss: 0.0013 - val_accuracy: 0.9997\n",
            "Epoch 11/50\n",
            "5118/5118 [==============================] - 12s 2ms/step - loss: 0.0033 - accuracy: 0.9989 - val_loss: 0.0040 - val_accuracy: 0.9987\n",
            "Epoch 12/50\n",
            "5118/5118 [==============================] - 11s 2ms/step - loss: 0.0039 - accuracy: 0.9988 - val_loss: 0.0046 - val_accuracy: 0.9982\n",
            "Epoch 13/50\n",
            "5118/5118 [==============================] - 11s 2ms/step - loss: 0.0036 - accuracy: 0.9989 - val_loss: 0.0039 - val_accuracy: 0.9994\n",
            "Epoch 14/50\n",
            "5118/5118 [==============================] - 11s 2ms/step - loss: 0.0032 - accuracy: 0.9990 - val_loss: 0.0022 - val_accuracy: 0.9996\n",
            "Epoch 15/50\n",
            "5118/5118 [==============================] - 13s 2ms/step - loss: 0.0029 - accuracy: 0.9992 - val_loss: 0.0013 - val_accuracy: 0.9997\n",
            "Epoch 16/50\n",
            "5118/5118 [==============================] - 11s 2ms/step - loss: 0.0032 - accuracy: 0.9992 - val_loss: 0.0033 - val_accuracy: 0.9987\n",
            "Epoch 17/50\n",
            "5118/5118 [==============================] - 12s 2ms/step - loss: 0.0025 - accuracy: 0.9993 - val_loss: 0.0017 - val_accuracy: 0.9996\n",
            "Epoch 18/50\n",
            "5118/5118 [==============================] - 11s 2ms/step - loss: 0.0025 - accuracy: 0.9993 - val_loss: 0.0024 - val_accuracy: 0.9994\n",
            "Epoch 19/50\n",
            "5118/5118 [==============================] - 11s 2ms/step - loss: 0.0025 - accuracy: 0.9992 - val_loss: 0.0033 - val_accuracy: 0.9992\n",
            "Epoch 20/50\n",
            "5118/5118 [==============================] - 11s 2ms/step - loss: 0.0026 - accuracy: 0.9993 - val_loss: 0.0034 - val_accuracy: 0.9985\n",
            "Epoch 00020: early stopping\n"
          ],
          "name": "stdout"
        }
      ]
    },
    {
      "cell_type": "code",
      "metadata": {
        "colab": {
          "base_uri": "https://localhost:8080/"
        },
        "id": "CpBooXnSOAot",
        "outputId": "828ee831-c742-4ae6-933a-95633db51fc3"
      },
      "source": [
        "from sklearn.metrics import classification_report\n",
        "target_names = ['no fraud','fraud']\n",
        "y_pred=model.predict(X_test).flatten()\n",
        "y_pred=[1 if i>0.5 else 0 for i in y_pred]\n",
        "\n",
        "print(classification_report(y_test, y_pred, target_names=target_names))"
      ],
      "execution_count": null,
      "outputs": [
        {
          "output_type": "stream",
          "text": [
            "              precision    recall  f1-score   support\n",
            "\n",
            "    no fraud       1.00      1.00      1.00     14211\n",
            "       fraud       0.76      0.87      0.81        30\n",
            "\n",
            "    accuracy                           1.00     14241\n",
            "   macro avg       0.88      0.93      0.91     14241\n",
            "weighted avg       1.00      1.00      1.00     14241\n",
            "\n"
          ],
          "name": "stdout"
        }
      ]
    },
    {
      "cell_type": "code",
      "metadata": {
        "colab": {
          "base_uri": "https://localhost:8080/",
          "height": 282
        },
        "id": "PjNqlj4-OAot",
        "outputId": "bdf96849-deb8-45a2-a282-42fa99e818f3"
      },
      "source": [
        "# Plot loss, val_loss\n",
        "loss = model_hist.history['loss']\n",
        "val_loss = model_hist.history['val_loss']\n",
        "epochs = range(1, len(loss) + 1)\n",
        "\n",
        "plt.plot(epochs, loss, label='Training loss')\n",
        "plt.plot(epochs, val_loss, label='Validation loss')\n",
        "\n",
        "plt.title('Training and validation loss -- Model 2')\n",
        "plt.xlabel('Epochs')\n",
        "plt.ylabel('Loss')\n",
        "plt.legend()\n",
        "\n",
        "plt.imshow"
      ],
      "execution_count": null,
      "outputs": [
        {
          "output_type": "execute_result",
          "data": {
            "text/plain": [
              "<function matplotlib.pyplot.imshow>"
            ]
          },
          "metadata": {
            "tags": []
          },
          "execution_count": 57
        },
        {
          "output_type": "display_data",
          "data": {
            "image/png": "[encoded data removed]",
            "text/plain": [
              "<Figure size 432x288 with 1 Axes>"
            ]
          },
          "metadata": {
            "tags": [],
            "needs_background": "light"
          }
        }
      ]
    },
    {
      "cell_type": "code",
      "metadata": {
        "colab": {
          "base_uri": "https://localhost:8080/",
          "height": 282
        },
        "id": "G1u7C97-OAou",
        "outputId": "43865b96-3650-4238-90e6-bfc055a393ce"
      },
      "source": [
        "# Plot accuracy, val_acc\n",
        "acc = model_hist.history['accuracy']\n",
        "val_acc = model_hist.history['val_accuracy']\n",
        "epochs = range(1, len(acc) + 1)\n",
        "\n",
        "plt.plot(epochs, acc, label='Training accuracy')\n",
        "plt.plot(epochs, val_acc, label='Validation accuracy')\n",
        "\n",
        "plt.title('Training and validation accuracy -- Model 2')\n",
        "plt.xlabel('Epochs')\n",
        "plt.ylabel('Accuracy')\n",
        "plt.legend()\n",
        "\n",
        "plt.imshow"
      ],
      "execution_count": null,
      "outputs": [
        {
          "output_type": "execute_result",
          "data": {
            "text/plain": [
              "<function matplotlib.pyplot.imshow>"
            ]
          },
          "metadata": {
            "tags": []
          },
          "execution_count": 58
        },
        {
          "output_type": "display_data",
          "data": {
            "image/png": "[encoded data removed]",
            "text/plain": [
              "<Figure size 432x288 with 1 Axes>"
            ]
          },
          "metadata": {
            "tags": [],
            "needs_background": "light"
          }
        }
      ]
    },
    {
      "cell_type": "markdown",
      "metadata": {
        "id": "GkIkfpDC7TMl"
      },
      "source": [
        "### Model 3： 6 layers (too complicated)"
      ]
    },
    {
      "cell_type": "code",
      "metadata": {
        "colab": {
          "base_uri": "https://localhost:8080/"
        },
        "id": "6nIFXcPXOAoh",
        "outputId": "d5d68166-62a1-408b-9f96-cf6608f705b1"
      },
      "source": [
        "from keras.layers import Dropout\n",
        "from keras import models,layers\n",
        "\n",
        "# Define the model\n",
        "model = models.Sequential()\n",
        "model.add(layers.Dense(256, activation='relu', input_shape=(X_train.shape[1],)))\n",
        "model.add(layers.Dense(128, activation='relu'))\n",
        "model.add(layers.Dense(64, activation='relu'))\n",
        "model.add(layers.Dense(32, activation='relu'))\n",
        "model.add(layers.Dense(16, activation='relu'))\n",
        "model.add(layers.Dense(1, activation='sigmoid'))  \n",
        "\n",
        "\n",
        "# Compile the model\n",
        "model.compile(optimizer='adam',\n",
        "              loss='binary_crossentropy',\n",
        "              metrics=['accuracy'])\n",
        "\n",
        "es = EarlyStopping(monitor='val_loss', mode='min', verbose=1, patience=5) # Add early stopping\n",
        "\n",
        "\n",
        "model_hist=model.fit(X_train,\n",
        "                    y_train,\n",
        "                    epochs=50,\n",
        "                    batch_size=100,\n",
        "                    validation_data=(X_validation, y_validation),\n",
        "                    callbacks=[es])"
      ],
      "execution_count": null,
      "outputs": [
        {
          "output_type": "stream",
          "text": [
            "Epoch 1/50\n",
            "5118/5118 [==============================] - 17s 3ms/step - loss: 0.0993 - accuracy: 0.9670 - val_loss: 0.0165 - val_accuracy: 0.9961\n",
            "Epoch 2/50\n",
            "5118/5118 [==============================] - 16s 3ms/step - loss: 0.0213 - accuracy: 0.9934 - val_loss: 0.0119 - val_accuracy: 0.9973\n",
            "Epoch 3/50\n",
            "5118/5118 [==============================] - 16s 3ms/step - loss: 0.0115 - accuracy: 0.9962 - val_loss: 0.0101 - val_accuracy: 0.9972\n",
            "Epoch 4/50\n",
            "5118/5118 [==============================] - 16s 3ms/step - loss: 0.0111 - accuracy: 0.9967 - val_loss: 0.0034 - val_accuracy: 0.9995\n",
            "Epoch 5/50\n",
            "5118/5118 [==============================] - 16s 3ms/step - loss: 0.0086 - accuracy: 0.9973 - val_loss: 0.0048 - val_accuracy: 0.9985\n",
            "Epoch 6/50\n",
            "5118/5118 [==============================] - 16s 3ms/step - loss: 0.0071 - accuracy: 0.9977 - val_loss: 0.0058 - val_accuracy: 0.9982\n",
            "Epoch 7/50\n",
            "5118/5118 [==============================] - 16s 3ms/step - loss: 0.0063 - accuracy: 0.9979 - val_loss: 0.0136 - val_accuracy: 0.9955\n",
            "Epoch 8/50\n",
            "5118/5118 [==============================] - 17s 3ms/step - loss: 0.0053 - accuracy: 0.9984 - val_loss: 0.0083 - val_accuracy: 0.9971\n",
            "Epoch 9/50\n",
            "5118/5118 [==============================] - 18s 4ms/step - loss: 0.0053 - accuracy: 0.9985 - val_loss: 0.0060 - val_accuracy: 0.9976\n",
            "Epoch 00009: early stopping\n"
          ],
          "name": "stdout"
        }
      ]
    },
    {
      "cell_type": "code",
      "metadata": {
        "colab": {
          "base_uri": "https://localhost:8080/"
        },
        "id": "L4kAVQ6unlC9",
        "outputId": "65b6b854-6741-4429-a6c1-0fd0726bbaf8"
      },
      "source": [
        "from sklearn.metrics import classification_report\n",
        "target_names = ['no fraud','fraud']\n",
        "y_pred=model.predict(X_test).flatten()\n",
        "y_pred=[1 if i>0.5 else 0 for i in y_pred]\n",
        "\n",
        "print(classification_report(y_test, y_pred, target_names=target_names))"
      ],
      "execution_count": null,
      "outputs": [
        {
          "output_type": "stream",
          "text": [
            "              precision    recall  f1-score   support\n",
            "\n",
            "    no fraud       1.00      1.00      1.00     14211\n",
            "       fraud       0.49      0.90      0.64        30\n",
            "\n",
            "    accuracy                           1.00     14241\n",
            "   macro avg       0.75      0.95      0.82     14241\n",
            "weighted avg       1.00      1.00      1.00     14241\n",
            "\n"
          ],
          "name": "stdout"
        }
      ]
    },
    {
      "cell_type": "code",
      "metadata": {
        "colab": {
          "base_uri": "https://localhost:8080/",
          "height": 282
        },
        "id": "kAobZrHFnlDB",
        "outputId": "8296442e-f20b-4138-876f-8019faa414b2"
      },
      "source": [
        "# Plot loss, val_loss\n",
        "loss = model_hist.history['loss']\n",
        "val_loss = model_hist.history['val_loss']\n",
        "epochs = range(1, len(loss) + 1)\n",
        "\n",
        "plt.plot(epochs, loss, label='Training loss')\n",
        "plt.plot(epochs, val_loss, label='Validation loss')\n",
        "\n",
        "plt.title('Training and validation loss -- Model 3')\n",
        "plt.xlabel('Epochs')\n",
        "plt.ylabel('Loss')\n",
        "plt.legend()\n",
        "\n",
        "plt.imshow"
      ],
      "execution_count": null,
      "outputs": [
        {
          "output_type": "execute_result",
          "data": {
            "text/plain": [
              "<function matplotlib.pyplot.imshow>"
            ]
          },
          "metadata": {
            "tags": []
          },
          "execution_count": 65
        },
        {
          "output_type": "display_data",
          "data": {
            "image/png": "[encoded data removed]",
            "text/plain": [
              "<Figure size 432x288 with 1 Axes>"
            ]
          },
          "metadata": {
            "tags": [],
            "needs_background": "light"
          }
        }
      ]
    },
    {
      "cell_type": "code",
      "metadata": {
        "colab": {
          "base_uri": "https://localhost:8080/",
          "height": 283
        },
        "id": "QvaWhUx-nlDD",
        "outputId": "52b81269-fa95-4da7-90f7-21c68112d100"
      },
      "source": [
        "# Plot accuracy, val_acc\n",
        "acc = model_hist.history['accuracy']\n",
        "val_acc = model_hist.history['val_accuracy']\n",
        "epochs = range(1, len(acc) + 1)\n",
        "\n",
        "plt.plot(epochs, acc, label='Training accuracy')\n",
        "plt.plot(epochs, val_acc, label='Validation accuracy')\n",
        "\n",
        "plt.title('Training and validation accuracy -- Model 3')\n",
        "plt.xlabel('Epochs')\n",
        "plt.ylabel('Accuracy')\n",
        "plt.legend()\n",
        "\n",
        "plt.imshow"
      ],
      "execution_count": null,
      "outputs": [
        {
          "output_type": "execute_result",
          "data": {
            "text/plain": [
              "<function matplotlib.pyplot.imshow>"
            ]
          },
          "metadata": {
            "tags": []
          },
          "execution_count": 66
        },
        {
          "output_type": "display_data",
          "data": {
            "image/png": "[encoded data removed]",
            "text/plain": [
              "<Figure size 432x288 with 1 Axes>"
            ]
          },
          "metadata": {
            "tags": [],
            "needs_background": "light"
          }
        }
      ]
    },
    {
      "cell_type": "markdown",
      "metadata": {
        "id": "dVHNa79iQABM"
      },
      "source": [
        "### Model 4： 5 layers with dropout"
      ]
    },
    {
      "cell_type": "code",
      "metadata": {
        "colab": {
          "base_uri": "https://localhost:8080/"
        },
        "id": "8oK4W_LlbiPW",
        "outputId": "6fc0e9ae-917e-42c1-8b0b-1f0de12de167"
      },
      "source": [
        "from keras.layers import Dropout\n",
        "from keras import models,layers\n",
        "\n",
        "# Define the model\n",
        "model = models.Sequential()\n",
        "model.add(layers.Dense(256, activation='relu', input_shape=(X_train.shape[1],)))\n",
        "model.add(layers.Dropout(0.2))\n",
        "model.add(layers.Dense(64, activation='relu'))\n",
        "model.add(Dropout(0.1))\n",
        "\n",
        "model.add(layers.Dense(32, activation='relu'))\n",
        "model.add(layers.Dense(8, activation='relu'))\n",
        "model.add(layers.Dense(1, activation='sigmoid'))  \n",
        "\n",
        "\n",
        "# Compile the model\n",
        "model.compile(optimizer='adam',\n",
        "              loss='binary_crossentropy',\n",
        "              metrics=['accuracy'])\n",
        "\n",
        "es = EarlyStopping(monitor='val_loss', mode='min', verbose=1, patience=5) # Add early stopping\n",
        "\n",
        "\n",
        "model_hist=model.fit(X_train,\n",
        "                    y_train,\n",
        "                    epochs=50,\n",
        "                    batch_size=100,\n",
        "                    validation_data=(X_validation, y_validation),\n",
        "                    callbacks=[es])\n"
      ],
      "execution_count": null,
      "outputs": [
        {
          "output_type": "stream",
          "text": [
            "Epoch 1/50\n",
            "5118/5118 [==============================] - 14s 3ms/step - loss: 0.1488 - accuracy: 0.9471 - val_loss: 0.0062 - val_accuracy: 0.9994\n",
            "Epoch 2/50\n",
            "5118/5118 [==============================] - 13s 3ms/step - loss: 0.0256 - accuracy: 0.9905 - val_loss: 0.0338 - val_accuracy: 0.9933\n",
            "Epoch 3/50\n",
            "5118/5118 [==============================] - 14s 3ms/step - loss: 0.0181 - accuracy: 0.9938 - val_loss: 0.0099 - val_accuracy: 0.9966\n",
            "Epoch 4/50\n",
            "5118/5118 [==============================] - 15s 3ms/step - loss: 0.0137 - accuracy: 0.9953 - val_loss: 0.0061 - val_accuracy: 0.9983\n",
            "Epoch 5/50\n",
            "5118/5118 [==============================] - 14s 3ms/step - loss: 0.0122 - accuracy: 0.9960 - val_loss: 0.0065 - val_accuracy: 0.9975\n",
            "Epoch 6/50\n",
            "5118/5118 [==============================] - 14s 3ms/step - loss: 0.0101 - accuracy: 0.9968 - val_loss: 0.0063 - val_accuracy: 0.9977\n",
            "Epoch 7/50\n",
            "5118/5118 [==============================] - 14s 3ms/step - loss: 0.0096 - accuracy: 0.9970 - val_loss: 0.0038 - val_accuracy: 0.9988\n",
            "Epoch 8/50\n",
            "5118/5118 [==============================] - 14s 3ms/step - loss: 0.0099 - accuracy: 0.9966 - val_loss: 0.0036 - val_accuracy: 0.9992\n",
            "Epoch 9/50\n",
            "5118/5118 [==============================] - 14s 3ms/step - loss: 0.0085 - accuracy: 0.9974 - val_loss: 0.0027 - val_accuracy: 0.9993\n",
            "Epoch 10/50\n",
            "5118/5118 [==============================] - 14s 3ms/step - loss: 0.0092 - accuracy: 0.9971 - val_loss: 0.0217 - val_accuracy: 0.9912\n",
            "Epoch 11/50\n",
            "5118/5118 [==============================] - 14s 3ms/step - loss: 0.0071 - accuracy: 0.9978 - val_loss: 0.0032 - val_accuracy: 0.9992\n",
            "Epoch 12/50\n",
            "5118/5118 [==============================] - 14s 3ms/step - loss: 0.0078 - accuracy: 0.9976 - val_loss: 0.0031 - val_accuracy: 0.9989\n",
            "Epoch 13/50\n",
            "5118/5118 [==============================] - 14s 3ms/step - loss: 0.0069 - accuracy: 0.9979 - val_loss: 0.0051 - val_accuracy: 0.9985\n",
            "Epoch 14/50\n",
            "5118/5118 [==============================] - 14s 3ms/step - loss: 0.0063 - accuracy: 0.9982 - val_loss: 0.0025 - val_accuracy: 0.9995\n",
            "Epoch 15/50\n",
            "5118/5118 [==============================] - 14s 3ms/step - loss: 0.0060 - accuracy: 0.9982 - val_loss: 0.0056 - val_accuracy: 0.9982\n",
            "Epoch 16/50\n",
            "5118/5118 [==============================] - 14s 3ms/step - loss: 0.0062 - accuracy: 0.9982 - val_loss: 0.0037 - val_accuracy: 0.9989\n",
            "Epoch 17/50\n",
            "5118/5118 [==============================] - 14s 3ms/step - loss: 0.0067 - accuracy: 0.9978 - val_loss: 0.0036 - val_accuracy: 0.9985\n",
            "Epoch 18/50\n",
            "5118/5118 [==============================] - 14s 3ms/step - loss: 0.0064 - accuracy: 0.9981 - val_loss: 0.0029 - val_accuracy: 0.9989\n",
            "Epoch 19/50\n",
            "5118/5118 [==============================] - 14s 3ms/step - loss: 0.0057 - accuracy: 0.9983 - val_loss: 0.0020 - val_accuracy: 0.9993\n",
            "Epoch 20/50\n",
            "5118/5118 [==============================] - 14s 3ms/step - loss: 0.0045 - accuracy: 0.9987 - val_loss: 0.0042 - val_accuracy: 0.9987\n",
            "Epoch 21/50\n",
            "5118/5118 [==============================] - 14s 3ms/step - loss: 0.0048 - accuracy: 0.9986 - val_loss: 0.0022 - val_accuracy: 0.9994\n",
            "Epoch 22/50\n",
            "5118/5118 [==============================] - 14s 3ms/step - loss: 0.0045 - accuracy: 0.9987 - val_loss: 0.0157 - val_accuracy: 0.9940\n",
            "Epoch 23/50\n",
            "5118/5118 [==============================] - 14s 3ms/step - loss: 0.0061 - accuracy: 0.9979 - val_loss: 0.0022 - val_accuracy: 0.9994\n",
            "Epoch 24/50\n",
            "5118/5118 [==============================] - 14s 3ms/step - loss: 0.0059 - accuracy: 0.9982 - val_loss: 0.0040 - val_accuracy: 0.9991\n",
            "Epoch 00024: early stopping\n"
          ],
          "name": "stdout"
        }
      ]
    },
    {
      "cell_type": "code",
      "metadata": {
        "colab": {
          "base_uri": "https://localhost:8080/"
        },
        "id": "fsfjkTMxA9bK",
        "outputId": "633700eb-62f4-42ce-f4e7-29898ddf1b8e"
      },
      "source": [
        "from sklearn.metrics import classification_report\n",
        "target_names = ['no fraud','fraud']\n",
        "y_pred=model.predict(X_test).flatten()\n",
        "y_pred=[1 if i>0.5 else 0 for i in y_pred]\n",
        "\n",
        "print(classification_report(y_test, y_pred, target_names=target_names))"
      ],
      "execution_count": null,
      "outputs": [
        {
          "output_type": "stream",
          "text": [
            "              precision    recall  f1-score   support\n",
            "\n",
            "    no fraud       1.00      1.00      1.00     14211\n",
            "       fraud       0.64      0.93      0.76        30\n",
            "\n",
            "    accuracy                           1.00     14241\n",
            "   macro avg       0.82      0.97      0.88     14241\n",
            "weighted avg       1.00      1.00      1.00     14241\n",
            "\n"
          ],
          "name": "stdout"
        }
      ]
    },
    {
      "cell_type": "markdown",
      "metadata": {
        "id": "ofbxVhNrCw8i"
      },
      "source": [
        "**f1-score for predicting 'fraud' is 0.76, which is worse than without dropout**"
      ]
    },
    {
      "cell_type": "markdown",
      "metadata": {
        "id": "EgdfxA5k9Fae"
      },
      "source": [
        "### Model 5： 5 layers with L2 Weight Regularization"
      ]
    },
    {
      "cell_type": "code",
      "metadata": {
        "colab": {
          "base_uri": "https://localhost:8080/"
        },
        "id": "tLQiFcsIC5X3",
        "outputId": "2b14ee33-7fc8-4632-cda5-a98a09ce0aba"
      },
      "source": [
        "from keras.regularizers import l2\n",
        "from keras.layers import Dropout\n",
        "from keras import models,layers\n",
        "\n",
        "# Define the model\n",
        "model = models.Sequential()\n",
        "model.add(layers.Dense(128, activation='relu', input_shape=(X_train.shape[1],), kernel_regularizer=\"l2\"))\n",
        "model.add(layers.Dense(64, activation='relu'))\n",
        "model.add(layers.Dense(32, activation='relu'))\n",
        "model.add(layers.Dense(8, activation='relu'))\n",
        "model.add(layers.Dense(1, activation='sigmoid'))  \n",
        "\n",
        "\n",
        "# Compile the model\n",
        "model.compile(optimizer='adam',\n",
        "              loss='binary_crossentropy',\n",
        "              metrics=['accuracy'])\n",
        "\n",
        "es = EarlyStopping(monitor='val_loss', mode='min', verbose=1, patience=5) # Add early stopping\n",
        "\n",
        "model_hist=model.fit(X_train,\n",
        "                    y_train,\n",
        "                    epochs=50,\n",
        "                    batch_size=100,\n",
        "                    validation_data=(X_validation, y_validation),\n",
        "                    callbacks=[es])"
      ],
      "execution_count": null,
      "outputs": [
        {
          "output_type": "stream",
          "text": [
            "Epoch 1/50\n",
            "5118/5118 [==============================] - 10s 2ms/step - loss: 0.2476 - accuracy: 0.9452 - val_loss: 0.0352 - val_accuracy: 0.9973\n",
            "Epoch 2/50\n",
            "5118/5118 [==============================] - 10s 2ms/step - loss: 0.0741 - accuracy: 0.9811 - val_loss: 0.0550 - val_accuracy: 0.9945\n",
            "Epoch 3/50\n",
            "5118/5118 [==============================] - 9s 2ms/step - loss: 0.0563 - accuracy: 0.9859 - val_loss: 0.0565 - val_accuracy: 0.9924\n",
            "Epoch 4/50\n",
            "5118/5118 [==============================] - 9s 2ms/step - loss: 0.0559 - accuracy: 0.9855 - val_loss: 0.0395 - val_accuracy: 0.9933\n",
            "Epoch 5/50\n",
            "5118/5118 [==============================] - 10s 2ms/step - loss: 0.0479 - accuracy: 0.9882 - val_loss: 0.0309 - val_accuracy: 0.9963\n",
            "Epoch 6/50\n",
            "5118/5118 [==============================] - 10s 2ms/step - loss: 0.0438 - accuracy: 0.9895 - val_loss: 0.0401 - val_accuracy: 0.9934\n",
            "Epoch 7/50\n",
            "5118/5118 [==============================] - 10s 2ms/step - loss: 0.0432 - accuracy: 0.9898 - val_loss: 0.0281 - val_accuracy: 0.9956\n",
            "Epoch 8/50\n",
            "5118/5118 [==============================] - 10s 2ms/step - loss: 0.0452 - accuracy: 0.9885 - val_loss: 0.0239 - val_accuracy: 0.9983\n",
            "Epoch 9/50\n",
            "5118/5118 [==============================] - 10s 2ms/step - loss: 0.0418 - accuracy: 0.9897 - val_loss: 0.0484 - val_accuracy: 0.9893\n",
            "Epoch 10/50\n",
            "5118/5118 [==============================] - 10s 2ms/step - loss: 0.0417 - accuracy: 0.9897 - val_loss: 0.0371 - val_accuracy: 0.9934\n",
            "Epoch 11/50\n",
            "5118/5118 [==============================] - 11s 2ms/step - loss: 0.0409 - accuracy: 0.9898 - val_loss: 0.0289 - val_accuracy: 0.9949\n",
            "Epoch 12/50\n",
            "5118/5118 [==============================] - 11s 2ms/step - loss: 0.0414 - accuracy: 0.9896 - val_loss: 0.0330 - val_accuracy: 0.9925\n",
            "Epoch 13/50\n",
            "5118/5118 [==============================] - 11s 2ms/step - loss: 0.0391 - accuracy: 0.9902 - val_loss: 0.0486 - val_accuracy: 0.9882\n",
            "Epoch 00013: early stopping\n"
          ],
          "name": "stdout"
        }
      ]
    },
    {
      "cell_type": "code",
      "metadata": {
        "colab": {
          "base_uri": "https://localhost:8080/"
        },
        "id": "qv0KRln6D_Zv",
        "outputId": "b0648eda-a47a-4d5a-b866-f75d9512a964"
      },
      "source": [
        "y_pred=model.predict(X_test).flatten()\n",
        "y_pred=[1 if i>0.5 else 0 for i in y_pred]\n",
        "\n",
        "print(classification_report(y_test, y_pred, target_names=target_names))"
      ],
      "execution_count": null,
      "outputs": [
        {
          "output_type": "stream",
          "text": [
            "              precision    recall  f1-score   support\n",
            "\n",
            "    no fraud       1.00      0.99      0.99     14211\n",
            "       fraud       0.15      0.93      0.26        30\n",
            "\n",
            "    accuracy                           0.99     14241\n",
            "   macro avg       0.58      0.96      0.63     14241\n",
            "weighted avg       1.00      0.99      0.99     14241\n",
            "\n"
          ],
          "name": "stdout"
        }
      ]
    },
    {
      "cell_type": "markdown",
      "metadata": {
        "id": "eMPEq_1NOZyy"
      },
      "source": [
        "Worse than without regularization"
      ]
    },
    {
      "cell_type": "markdown",
      "metadata": {
        "id": "k6jlSZvHKjHE"
      },
      "source": [
        "## Additional analysis:"
      ]
    },
    {
      "cell_type": "markdown",
      "metadata": {
        "id": "es2h2G5xpl6T"
      },
      "source": [
        "### Model 2: without oversampling"
      ]
    },
    {
      "cell_type": "code",
      "metadata": {
        "colab": {
          "base_uri": "https://localhost:8080/"
        },
        "id": "JdcgNGx3n5Jn",
        "outputId": "f3c1d179-73aa-4adf-fce0-413778306ab0"
      },
      "source": [
        "data_2=pd.read_csv(\"/content/drive/MyDrive/Colab Notebooks/DAT 565E/creditcard.csv\")\r\n",
        "\r\n",
        "data_2 = data.drop_duplicates()\r\n",
        "data_2.shape\r\n",
        "\r\n",
        "X_2 = data_2.iloc[: , 1:30].values\r\n",
        "y_2 = data_2.iloc[:, 30].values\r\n",
        "\r\n",
        "scaler_2 = StandardScaler()\r\n",
        "scaled_X_2 = scaler.fit_transform(X_2)\r\n",
        "\r\n",
        "from sklearn.model_selection import train_test_split\r\n",
        "\r\n",
        "# Train-test-validation split\r\n",
        "X_train_2, X_tmp_2, y_train_2, y_tmp_2 = train_test_split(X_2,y_2,test_size=0.1,stratify=data_2.Class)\r\n",
        "X_validation_2,X_test_2,y_validation_2,y_test_2=train_test_split(X_tmp_2,y_tmp_2,test_size=0.5)\r\n",
        "print(X_train_2.shape,X_validation_2.shape,X_test_2.shape)\r\n",
        "\r\n",
        "print(\"Without oversampling, the percentage of frauds in the training data is\", sum(y_train_2==1)/len(y_train_2))"
      ],
      "execution_count": null,
      "outputs": [
        {
          "output_type": "stream",
          "text": [
            "(255353, 29) (14186, 29) (14187, 29)\n",
            "Without oversampling, the percentage of frauds in the training data is 0.001668278814033906\n"
          ],
          "name": "stdout"
        }
      ]
    },
    {
      "cell_type": "code",
      "metadata": {
        "colab": {
          "base_uri": "https://localhost:8080/"
        },
        "id": "ga0JLfF_p7-8",
        "outputId": "7a3db1ec-309a-476b-acb0-992249372996"
      },
      "source": [
        "from keras.layers import Dropout\r\n",
        "from keras import models,layers\r\n",
        "\r\n",
        "# Define the model\r\n",
        "model_2 = models.Sequential()\r\n",
        "model_2.add(layers.Dense(256, activation='relu', input_shape=(X_train_2.shape[1],)))\r\n",
        "model_2.add(layers.Dense(64, activation='relu'))\r\n",
        "model_2.add(layers.Dense(32, activation='relu')) \r\n",
        "model_2.add(layers.Dense(8, activation='relu'))\r\n",
        "model_2.add(layers.Dense(1, activation='sigmoid'))  \r\n",
        "\r\n",
        "\r\n",
        "# Compile the model\r\n",
        "model_2.compile(optimizer='adam',\r\n",
        "              loss='binary_crossentropy',\r\n",
        "              metrics=['accuracy'])\r\n",
        "\r\n",
        "es = EarlyStopping(monitor='val_loss', mode='min', verbose=1, patience=5) # Add early stopping\r\n",
        "\r\n",
        "\r\n",
        "model_2_hist=model_2.fit(X_train_2,\r\n",
        "                    y_train_2,\r\n",
        "                    epochs=50,\r\n",
        "                    batch_size=100,\r\n",
        "                    validation_data=(X_validation_2, y_validation_2),\r\n",
        "                    callbacks=[es])"
      ],
      "execution_count": null,
      "outputs": [
        {
          "output_type": "stream",
          "text": [
            "Epoch 1/50\n",
            "2554/2554 [==============================] - 8s 3ms/step - loss: 0.0515 - accuracy: 0.9987 - val_loss: 8.0327e-04 - val_accuracy: 0.9998\n",
            "Epoch 2/50\n",
            "2554/2554 [==============================] - 8s 3ms/step - loss: 0.0125 - accuracy: 0.9991 - val_loss: 5.5472e-04 - val_accuracy: 0.9999\n",
            "Epoch 3/50\n",
            "2554/2554 [==============================] - 7s 3ms/step - loss: 0.0037 - accuracy: 0.9994 - val_loss: 7.4564e-04 - val_accuracy: 0.9999\n",
            "Epoch 4/50\n",
            "2554/2554 [==============================] - 7s 3ms/step - loss: 0.0036 - accuracy: 0.9995 - val_loss: 0.0023 - val_accuracy: 0.9996\n",
            "Epoch 5/50\n",
            "2554/2554 [==============================] - 7s 3ms/step - loss: 0.0057 - accuracy: 0.9992 - val_loss: 0.0013 - val_accuracy: 0.9993\n",
            "Epoch 6/50\n",
            "2554/2554 [==============================] - 7s 3ms/step - loss: 0.0045 - accuracy: 0.9994 - val_loss: 0.0010 - val_accuracy: 0.9993\n",
            "Epoch 7/50\n",
            "2554/2554 [==============================] - 8s 3ms/step - loss: 0.0033 - accuracy: 0.9994 - val_loss: 4.8302e-04 - val_accuracy: 0.9999\n",
            "Epoch 8/50\n",
            "2554/2554 [==============================] - 8s 3ms/step - loss: 0.0030 - accuracy: 0.9995 - val_loss: 0.0027 - val_accuracy: 0.9988\n",
            "Epoch 9/50\n",
            "2554/2554 [==============================] - 8s 3ms/step - loss: 0.0036 - accuracy: 0.9994 - val_loss: 0.0011 - val_accuracy: 0.9999\n",
            "Epoch 10/50\n",
            "2554/2554 [==============================] - 8s 3ms/step - loss: 0.0029 - accuracy: 0.9995 - val_loss: 0.0011 - val_accuracy: 0.9994\n",
            "Epoch 11/50\n",
            "2554/2554 [==============================] - 7s 3ms/step - loss: 0.0031 - accuracy: 0.9996 - val_loss: 7.1843e-04 - val_accuracy: 0.9996\n",
            "Epoch 12/50\n",
            "2554/2554 [==============================] - 7s 3ms/step - loss: 0.0035 - accuracy: 0.9995 - val_loss: 3.8876e-04 - val_accuracy: 0.9999\n",
            "Epoch 13/50\n",
            "2554/2554 [==============================] - 7s 3ms/step - loss: 0.0023 - accuracy: 0.9996 - val_loss: 4.1160e-04 - val_accuracy: 0.9999\n",
            "Epoch 14/50\n",
            "2554/2554 [==============================] - 7s 3ms/step - loss: 0.0026 - accuracy: 0.9995 - val_loss: 0.0018 - val_accuracy: 0.9992\n",
            "Epoch 15/50\n",
            "2554/2554 [==============================] - 7s 3ms/step - loss: 0.0027 - accuracy: 0.9995 - val_loss: 8.2538e-04 - val_accuracy: 0.9998\n",
            "Epoch 16/50\n",
            "2554/2554 [==============================] - 7s 3ms/step - loss: 0.0028 - accuracy: 0.9996 - val_loss: 9.4096e-04 - val_accuracy: 0.9996\n",
            "Epoch 17/50\n",
            "2554/2554 [==============================] - 7s 3ms/step - loss: 0.0029 - accuracy: 0.9995 - val_loss: 6.8732e-04 - val_accuracy: 0.9997\n",
            "Epoch 00017: early stopping\n"
          ],
          "name": "stdout"
        }
      ]
    },
    {
      "cell_type": "code",
      "metadata": {
        "colab": {
          "base_uri": "https://localhost:8080/"
        },
        "id": "ZUbrrGMIwAat",
        "outputId": "c59fab6d-056d-447b-ee05-f12c91be5aa1"
      },
      "source": [
        "from sklearn.metrics import classification_report\r\n",
        "target_names = ['no fraud','fraud']\r\n",
        "y_pred=model_2.predict(X_test_2).flatten()\r\n",
        "y_pred=[1 if i>0.5 else 0 for i in y_pred]\r\n",
        "\r\n",
        "print(classification_report(y_test_2, y_pred, target_names=target_names))"
      ],
      "execution_count": null,
      "outputs": [
        {
          "output_type": "stream",
          "text": [
            "              precision    recall  f1-score   support\n",
            "\n",
            "    no fraud       1.00      1.00      1.00     14159\n",
            "       fraud       0.78      0.75      0.76        28\n",
            "\n",
            "    accuracy                           1.00     14187\n",
            "   macro avg       0.89      0.87      0.88     14187\n",
            "weighted avg       1.00      1.00      1.00     14187\n",
            "\n"
          ],
          "name": "stdout"
        }
      ]
    },
    {
      "cell_type": "code",
      "metadata": {
        "colab": {
          "base_uri": "https://localhost:8080/",
          "height": 313
        },
        "id": "iqfMlhuSp5Qh",
        "outputId": "17b8af98-82fc-453c-eb6e-57084a2c1b61"
      },
      "source": [
        "# Plot loss, val_loss\n",
        "loss = model_2_hist.history['loss']\n",
        "val_loss = model_2_hist.history['val_loss']\n",
        "epochs = range(1, len(loss) + 1)\n",
        "\n",
        "plt.plot(epochs, loss, label='Training loss')\n",
        "plt.plot(epochs, val_loss, label='Validation loss')\n",
        "\n",
        "plt.title('Training and validation loss -- Model 2')\n",
        "plt.xlabel('Epochs')\n",
        "plt.ylabel('Loss')\n",
        "plt.legend()\n",
        "\n",
        "plt.imshow"
      ],
      "execution_count": null,
      "outputs": [
        {
          "output_type": "execute_result",
          "data": {
            "text/plain": [
              "<function matplotlib.pyplot.imshow>"
            ]
          },
          "metadata": {
            "tags": []
          },
          "execution_count": 94
        },
        {
          "output_type": "display_data",
          "data": {
            "image/png": "[encoded data removed]",
            "text/plain": [
              "<Figure size 432x288 with 1 Axes>"
            ]
          },
          "metadata": {
            "tags": [],
            "needs_background": "light"
          }
        }
      ]
    },
    {
      "cell_type": "code",
      "metadata": {
        "colab": {
          "base_uri": "https://localhost:8080/",
          "height": 313
        },
        "id": "Pgrg-KfJp5Qr",
        "outputId": "edc5838a-0663-401e-cf9c-46f77d13b72a"
      },
      "source": [
        "# Plot accuracy, val_acc\n",
        "acc = model_2_hist.history['accuracy']\n",
        "val_acc = model_2_hist.history['val_accuracy']\n",
        "epochs = range(1, len(acc) + 1)\n",
        "\n",
        "plt.plot(epochs, acc, label='Training accuracy')\n",
        "plt.plot(epochs, val_acc, label='Validation accuracy')\n",
        "\n",
        "plt.title('Training and validation accuracy -- Model 2')\n",
        "plt.xlabel('Epochs')\n",
        "plt.ylabel('Accuracy')\n",
        "plt.legend()\n",
        "\n",
        "plt.imshow"
      ],
      "execution_count": null,
      "outputs": [
        {
          "output_type": "execute_result",
          "data": {
            "text/plain": [
              "<function matplotlib.pyplot.imshow>"
            ]
          },
          "metadata": {
            "tags": []
          },
          "execution_count": 101
        },
        {
          "output_type": "display_data",
          "data": {
            "image/png": "[encoded data removed]",
            "text/plain": [
              "<Figure size 432x288 with 1 Axes>"
            ]
          },
          "metadata": {
            "tags": [],
            "needs_background": "light"
          }
        }
      ]
    },
    {
      "cell_type": "markdown",
      "metadata": {
        "id": "7ZGqxeQ2VMbr"
      },
      "source": [
        "### Model 2: with batch_size = 16\r\n"
      ]
    },
    {
      "cell_type": "code",
      "metadata": {
        "colab": {
          "base_uri": "https://localhost:8080/"
        },
        "id": "LEsaHMCIVInw",
        "outputId": "c03b8500-b0fd-4b76-e86b-62b862d76f24"
      },
      "source": [
        "# Define the model\n",
        "model = models.Sequential()\n",
        "model.add(layers.Dense(256, activation='relu', input_shape=(X_train.shape[1],)))\n",
        "model.add(layers.Dense(64, activation='relu'))\n",
        "model.add(layers.Dense(32, activation='relu')) \n",
        "model.add(layers.Dense(8, activation='relu'))\n",
        "model.add(layers.Dense(1, activation='sigmoid'))  \n",
        "\n",
        "\n",
        "# Compile the model\n",
        "model.compile(optimizer='adam',\n",
        "              loss='binary_crossentropy',\n",
        "              metrics=['accuracy'])\n",
        "\n",
        "es = EarlyStopping(monitor='val_loss', mode='min', verbose=1, patience=5) # Add early stopping\n",
        "\n",
        "\n",
        "model_hist=model.fit(X_train,\n",
        "                    y_train,\n",
        "                    epochs=50,\n",
        "                    batch_size=16,\n",
        "                    validation_data=(X_validation, y_validation),\n",
        "                    callbacks=[es])"
      ],
      "execution_count": null,
      "outputs": [
        {
          "output_type": "stream",
          "text": [
            "Epoch 1/50\n",
            "31866/31866 [==============================] - 79s 2ms/step - loss: 0.1086 - accuracy: 0.9664 - val_loss: 0.0381 - val_accuracy: 0.9956\n",
            "Epoch 2/50\n",
            "31866/31866 [==============================] - 79s 2ms/step - loss: 0.0252 - accuracy: 0.9929 - val_loss: 0.0208 - val_accuracy: 0.9975\n",
            "Epoch 3/50\n",
            "31866/31866 [==============================] - 80s 3ms/step - loss: 0.0164 - accuracy: 0.9958 - val_loss: 0.0128 - val_accuracy: 0.9992\n",
            "Epoch 4/50\n",
            "31866/31866 [==============================] - 81s 3ms/step - loss: 0.0154 - accuracy: 0.9960 - val_loss: 0.0264 - val_accuracy: 0.9961\n",
            "Epoch 5/50\n",
            "31866/31866 [==============================] - 79s 2ms/step - loss: 0.0140 - accuracy: 0.9968 - val_loss: 0.0155 - val_accuracy: 0.9984\n",
            "Epoch 6/50\n",
            "31866/31866 [==============================] - 80s 3ms/step - loss: 0.0101 - accuracy: 0.9975 - val_loss: 0.0206 - val_accuracy: 0.9984\n",
            "Epoch 7/50\n",
            "31866/31866 [==============================] - 79s 2ms/step - loss: 0.0103 - accuracy: 0.9975 - val_loss: 0.0154 - val_accuracy: 0.9986\n",
            "Epoch 8/50\n",
            "31866/31866 [==============================] - 81s 3ms/step - loss: 0.0087 - accuracy: 0.9978 - val_loss: 0.0269 - val_accuracy: 0.9981\n",
            "Epoch 00008: early stopping\n"
          ],
          "name": "stdout"
        }
      ]
    },
    {
      "cell_type": "code",
      "metadata": {
        "colab": {
          "base_uri": "https://localhost:8080/"
        },
        "id": "7_u5wSh_VIn3",
        "outputId": "4ed0383f-303c-4d97-b2ec-282383a1412b"
      },
      "source": [
        "from sklearn.metrics import classification_report\n",
        "target_names = ['no fraud','fraud']\n",
        "y_pred=model.predict(X_test).flatten()\n",
        "y_pred=[1 if i>0.5 else 0 for i in y_pred]\n",
        "\n",
        "print(classification_report(y_test, y_pred, target_names=target_names))"
      ],
      "execution_count": null,
      "outputs": [
        {
          "output_type": "stream",
          "text": [
            "              precision    recall  f1-score   support\n",
            "\n",
            "    no fraud       1.00      1.00      1.00     14163\n",
            "       fraud       0.43      0.88      0.58        24\n",
            "\n",
            "    accuracy                           1.00     14187\n",
            "   macro avg       0.71      0.94      0.79     14187\n",
            "weighted avg       1.00      1.00      1.00     14187\n",
            "\n"
          ],
          "name": "stdout"
        }
      ]
    },
    {
      "cell_type": "code",
      "metadata": {
        "colab": {
          "base_uri": "https://localhost:8080/"
        },
        "id": "A6HImE6-VIn3",
        "outputId": "85030eb1-409c-4f9b-a741-8ec1ac0e9cf1"
      },
      "source": [
        "# Plot loss, val_loss\n",
        "loss = model_hist.history['loss']\n",
        "val_loss = model_hist.history['val_loss']\n",
        "epochs = range(1, len(loss) + 1)\n",
        "\n",
        "plt.plot(epochs, loss, label='Training loss')\n",
        "plt.plot(epochs, val_loss, label='Validation loss')\n",
        "\n",
        "plt.title('Training and validation loss -- Model 2')\n",
        "plt.xlabel('Epochs')\n",
        "plt.ylabel('Loss')\n",
        "plt.legend()\n",
        "\n",
        "plt.imshow"
      ],
      "execution_count": null,
      "outputs": [
        {
          "output_type": "execute_result",
          "data": {
            "text/plain": [
              "<function matplotlib.pyplot.imshow>"
            ]
          },
          "metadata": {
            "tags": []
          },
          "execution_count": 67
        },
        {
          "output_type": "display_data",
          "data": {
            "image/png": "[encoded data removed]",
            "text/plain": [
              "<Figure size 432x288 with 1 Axes>"
            ]
          },
          "metadata": {
            "tags": [],
            "needs_background": "light"
          }
        }
      ]
    },
    {
      "cell_type": "code",
      "metadata": {
        "colab": {
          "base_uri": "https://localhost:8080/"
        },
        "id": "cwQ6cCthVIn4",
        "outputId": "203dbd4b-b12c-43dc-a5de-26111589daa5"
      },
      "source": [
        "# Plot accuracy, val_acc\n",
        "acc = model_hist.history['accuracy']\n",
        "val_acc = model_hist.history['val_accuracy']\n",
        "epochs = range(1, len(acc) + 1)\n",
        "\n",
        "plt.plot(epochs, acc, label='Training accuracy')\n",
        "plt.plot(epochs, val_acc, label='Validation accuracy')\n",
        "\n",
        "plt.title('Training and validation accuracy -- Model 2')\n",
        "plt.xlabel('Epochs')\n",
        "plt.ylabel('Accuracy')\n",
        "plt.legend()\n",
        "\n",
        "plt.imshow"
      ],
      "execution_count": null,
      "outputs": [
        {
          "output_type": "execute_result",
          "data": {
            "text/plain": [
              "<function matplotlib.pyplot.imshow>"
            ]
          },
          "metadata": {
            "tags": []
          },
          "execution_count": 68
        },
        {
          "output_type": "display_data",
          "data": {
            "image/png": "[encoded data removed]",
            "text/plain": [
              "<Figure size 432x288 with 1 Axes>"
            ]
          },
          "metadata": {
            "tags": [],
            "needs_background": "light"
          }
        }
      ]
    },
    {
      "cell_type": "markdown",
      "metadata": {
        "id": "cokD9P6vlPvE"
      },
      "source": [
        "### Model 2: with batch_size = 32\r\n"
      ]
    },
    {
      "cell_type": "code",
      "metadata": {
        "colab": {
          "base_uri": "https://localhost:8080/"
        },
        "id": "piFAtjhvlPvO",
        "outputId": "3940472f-febf-4ccb-c465-15c488709b32"
      },
      "source": [
        "# Define the model\n",
        "model = models.Sequential()\n",
        "model.add(layers.Dense(256, activation='relu', input_shape=(X_train.shape[1],)))\n",
        "model.add(layers.Dense(64, activation='relu'))\n",
        "model.add(layers.Dense(32, activation='relu')) \n",
        "model.add(layers.Dense(8, activation='relu'))\n",
        "model.add(layers.Dense(1, activation='sigmoid'))  \n",
        "\n",
        "\n",
        "# Compile the model\n",
        "model.compile(optimizer='adam',\n",
        "              loss='binary_crossentropy',\n",
        "              metrics=['accuracy'])\n",
        "\n",
        "es = EarlyStopping(monitor='val_loss', mode='min', verbose=1, patience=5) # Add early stopping\n",
        "\n",
        "\n",
        "model_hist=model.fit(X_train,\n",
        "                    y_train,\n",
        "                    epochs=50,\n",
        "                    batch_size=32,\n",
        "                    validation_data=(X_validation, y_validation),\n",
        "                    callbacks=[es])"
      ],
      "execution_count": null,
      "outputs": [
        {
          "output_type": "stream",
          "text": [
            "Epoch 1/50\n",
            "15933/15933 [==============================] - 40s 2ms/step - loss: 0.0991 - accuracy: 0.9710 - val_loss: 0.0083 - val_accuracy: 0.9980\n",
            "Epoch 2/50\n",
            "15933/15933 [==============================] - 40s 3ms/step - loss: 0.0172 - accuracy: 0.9944 - val_loss: 0.0218 - val_accuracy: 0.9948\n",
            "Epoch 3/50\n",
            "15933/15933 [==============================] - 40s 3ms/step - loss: 0.0122 - accuracy: 0.9963 - val_loss: 0.0125 - val_accuracy: 0.9973\n",
            "Epoch 4/50\n",
            "15933/15933 [==============================] - 40s 2ms/step - loss: 0.0089 - accuracy: 0.9972 - val_loss: 0.0144 - val_accuracy: 0.9973\n",
            "Epoch 5/50\n",
            "15933/15933 [==============================] - 39s 2ms/step - loss: 0.0076 - accuracy: 0.9977 - val_loss: 0.0136 - val_accuracy: 0.9975\n",
            "Epoch 6/50\n",
            "15933/15933 [==============================] - 39s 2ms/step - loss: 0.0068 - accuracy: 0.9980 - val_loss: 0.0118 - val_accuracy: 0.9971\n",
            "Epoch 00006: early stopping\n"
          ],
          "name": "stdout"
        }
      ]
    },
    {
      "cell_type": "code",
      "metadata": {
        "colab": {
          "base_uri": "https://localhost:8080/"
        },
        "id": "6T1f0td-lPvP",
        "outputId": "6b11e0c6-b22c-4eaa-90f8-f22cc43f833d"
      },
      "source": [
        "from sklearn.metrics import classification_report\n",
        "target_names = ['no fraud','fraud']\n",
        "y_pred=model.predict(X_test).flatten()\n",
        "y_pred=[1 if i>0.5 else 0 for i in y_pred]\n",
        "\n",
        "print(classification_report(y_test, y_pred, target_names=target_names))"
      ],
      "execution_count": null,
      "outputs": [
        {
          "output_type": "stream",
          "text": [
            "              precision    recall  f1-score   support\n",
            "\n",
            "    no fraud       1.00      1.00      1.00     14163\n",
            "       fraud       0.35      0.88      0.50        24\n",
            "\n",
            "    accuracy                           1.00     14187\n",
            "   macro avg       0.67      0.94      0.75     14187\n",
            "weighted avg       1.00      1.00      1.00     14187\n",
            "\n"
          ],
          "name": "stdout"
        }
      ]
    },
    {
      "cell_type": "code",
      "metadata": {
        "colab": {
          "base_uri": "https://localhost:8080/"
        },
        "id": "RYwLLqiBlPvQ",
        "outputId": "2efb0e10-edab-4330-c269-56ee47a87837"
      },
      "source": [
        "# Plot loss, val_loss\n",
        "loss = model_hist.history['loss']\n",
        "val_loss = model_hist.history['val_loss']\n",
        "epochs = range(1, len(loss) + 1)\n",
        "\n",
        "plt.plot(epochs, loss, label='Training loss')\n",
        "plt.plot(epochs, val_loss, label='Validation loss')\n",
        "\n",
        "plt.title('Training and validation loss -- Model 2')\n",
        "plt.xlabel('Epochs')\n",
        "plt.ylabel('Loss')\n",
        "plt.legend()\n",
        "\n",
        "plt.imshow"
      ],
      "execution_count": null,
      "outputs": [
        {
          "output_type": "execute_result",
          "data": {
            "text/plain": [
              "<function matplotlib.pyplot.imshow>"
            ]
          },
          "metadata": {
            "tags": []
          },
          "execution_count": 71
        },
        {
          "output_type": "display_data",
          "data": {
            "image/png": "[encoded data removed]",
            "text/plain": [
              "<Figure size 432x288 with 1 Axes>"
            ]
          },
          "metadata": {
            "tags": [],
            "needs_background": "light"
          }
        }
      ]
    },
    {
      "cell_type": "code",
      "metadata": {
        "colab": {
          "base_uri": "https://localhost:8080/"
        },
        "id": "4oSM_rtjlPvQ",
        "outputId": "e39522a2-bc45-491b-87d8-fbcdb242c380"
      },
      "source": [
        "# Plot accuracy, val_acc\n",
        "acc = model_hist.history['accuracy']\n",
        "val_acc = model_hist.history['val_accuracy']\n",
        "epochs = range(1, len(acc) + 1)\n",
        "\n",
        "plt.plot(epochs, acc, label='Training accuracy')\n",
        "plt.plot(epochs, val_acc, label='Validation accuracy')\n",
        "\n",
        "plt.title('Training and validation accuracy -- Model 2')\n",
        "plt.xlabel('Epochs')\n",
        "plt.ylabel('Accuracy')\n",
        "plt.legend()\n",
        "\n",
        "plt.imshow"
      ],
      "execution_count": null,
      "outputs": [
        {
          "output_type": "execute_result",
          "data": {
            "text/plain": [
              "<function matplotlib.pyplot.imshow>"
            ]
          },
          "metadata": {
            "tags": []
          },
          "execution_count": 72
        },
        {
          "output_type": "display_data",
          "data": {
            "image/png": "[encoded data removed]",
            "text/plain": [
              "<Figure size 432x288 with 1 Axes>"
            ]
          },
          "metadata": {
            "tags": [],
            "needs_background": "light"
          }
        }
      ]
    },
    {
      "cell_type": "markdown",
      "metadata": {
        "id": "XbQtDjuRwxt7"
      },
      "source": [
        "### Model 2: with batch_size = 64\r\n"
      ]
    },
    {
      "cell_type": "code",
      "metadata": {
        "colab": {
          "base_uri": "https://localhost:8080/"
        },
        "id": "WJalTz4Cwxt9",
        "outputId": "76e73fc1-2a5b-4eb4-c629-279d4302722e"
      },
      "source": [
        "# Define the model\n",
        "model = models.Sequential()\n",
        "model.add(layers.Dense(256, activation='relu', input_shape=(X_train.shape[1],)))\n",
        "model.add(layers.Dense(64, activation='relu'))\n",
        "model.add(layers.Dense(32, activation='relu')) \n",
        "model.add(layers.Dense(8, activation='relu'))\n",
        "model.add(layers.Dense(1, activation='sigmoid'))  \n",
        "\n",
        "\n",
        "# Compile the model\n",
        "model.compile(optimizer='adam',\n",
        "              loss='binary_crossentropy',\n",
        "              metrics=['accuracy'])\n",
        "\n",
        "es = EarlyStopping(monitor='val_loss', mode='min', verbose=1, patience=5) # Add early stopping\n",
        "\n",
        "\n",
        "model_hist=model.fit(X_train,\n",
        "                    y_train,\n",
        "                    epochs=50,\n",
        "                    batch_size=64,\n",
        "                    validation_data=(X_validation, y_validation),\n",
        "                    callbacks=[es])"
      ],
      "execution_count": null,
      "outputs": [
        {
          "output_type": "stream",
          "text": [
            "Epoch 1/50\n",
            "7967/7967 [==============================] - 23s 3ms/step - loss: 0.1087 - accuracy: 0.9665 - val_loss: 0.1499 - val_accuracy: 0.9629\n",
            "Epoch 2/50\n",
            "7967/7967 [==============================] - 22s 3ms/step - loss: 0.0201 - accuracy: 0.9942 - val_loss: 0.0139 - val_accuracy: 0.9973\n",
            "Epoch 3/50\n",
            "7967/7967 [==============================] - 22s 3ms/step - loss: 0.0106 - accuracy: 0.9970 - val_loss: 0.0191 - val_accuracy: 0.9946\n",
            "Epoch 4/50\n",
            "7967/7967 [==============================] - 22s 3ms/step - loss: 0.0106 - accuracy: 0.9968 - val_loss: 0.0096 - val_accuracy: 0.9984\n",
            "Epoch 5/50\n",
            "7967/7967 [==============================] - 22s 3ms/step - loss: 0.0068 - accuracy: 0.9979 - val_loss: 0.0091 - val_accuracy: 0.9992\n",
            "Epoch 6/50\n",
            "7967/7967 [==============================] - 22s 3ms/step - loss: 0.0069 - accuracy: 0.9980 - val_loss: 0.0105 - val_accuracy: 0.9983\n",
            "Epoch 7/50\n",
            "7967/7967 [==============================] - 23s 3ms/step - loss: 0.0059 - accuracy: 0.9983 - val_loss: 0.0129 - val_accuracy: 0.9986\n",
            "Epoch 8/50\n",
            "7967/7967 [==============================] - 22s 3ms/step - loss: 0.0053 - accuracy: 0.9985 - val_loss: 0.0094 - val_accuracy: 0.9987\n",
            "Epoch 9/50\n",
            "7967/7967 [==============================] - 22s 3ms/step - loss: 0.0049 - accuracy: 0.9987 - val_loss: 0.0118 - val_accuracy: 0.9987\n",
            "Epoch 10/50\n",
            "7967/7967 [==============================] - 22s 3ms/step - loss: 0.0044 - accuracy: 0.9988 - val_loss: 0.0113 - val_accuracy: 0.9987\n",
            "Epoch 00010: early stopping\n"
          ],
          "name": "stdout"
        }
      ]
    },
    {
      "cell_type": "code",
      "metadata": {
        "colab": {
          "base_uri": "https://localhost:8080/"
        },
        "id": "FBgFHScvwxt-",
        "outputId": "5a5c582c-4e22-4cb6-d239-7c429dda2700"
      },
      "source": [
        "from sklearn.metrics import classification_report\n",
        "target_names = ['no fraud','fraud']\n",
        "y_pred=model.predict(X_test).flatten()\n",
        "y_pred=[1 if i>0.5 else 0 for i in y_pred]\n",
        "\n",
        "print(classification_report(y_test, y_pred, target_names=target_names))"
      ],
      "execution_count": null,
      "outputs": [
        {
          "output_type": "stream",
          "text": [
            "              precision    recall  f1-score   support\n",
            "\n",
            "    no fraud       1.00      1.00      1.00     14163\n",
            "       fraud       0.57      0.88      0.69        24\n",
            "\n",
            "    accuracy                           1.00     14187\n",
            "   macro avg       0.78      0.94      0.84     14187\n",
            "weighted avg       1.00      1.00      1.00     14187\n",
            "\n"
          ],
          "name": "stdout"
        }
      ]
    },
    {
      "cell_type": "code",
      "metadata": {
        "colab": {
          "base_uri": "https://localhost:8080/",
          "height": 313
        },
        "id": "zAgzG2ZYwxt_",
        "outputId": "5139020a-33ed-43be-bfee-f135aa07fb14"
      },
      "source": [
        "# Plot loss, val_loss\n",
        "loss = model_hist.history['loss']\n",
        "val_loss = model_hist.history['val_loss']\n",
        "epochs = range(1, len(loss) + 1)\n",
        "\n",
        "plt.plot(epochs, loss, label='Training loss')\n",
        "plt.plot(epochs, val_loss, label='Validation loss')\n",
        "\n",
        "plt.title('Training and validation loss -- Model 2')\n",
        "plt.xlabel('Epochs')\n",
        "plt.ylabel('Loss')\n",
        "plt.legend()\n",
        "\n",
        "plt.imshow"
      ],
      "execution_count": null,
      "outputs": [
        {
          "output_type": "execute_result",
          "data": {
            "text/plain": [
              "<function matplotlib.pyplot.imshow>"
            ]
          },
          "metadata": {
            "tags": []
          },
          "execution_count": 97
        },
        {
          "output_type": "display_data",
          "data": {
            "image/png": "[encoded data removed]",
            "text/plain": [
              "<Figure size 432x288 with 1 Axes>"
            ]
          },
          "metadata": {
            "tags": [],
            "needs_background": "light"
          }
        }
      ]
    },
    {
      "cell_type": "code",
      "metadata": {
        "colab": {
          "base_uri": "https://localhost:8080/",
          "height": 313
        },
        "id": "m-HnUVd-wxt_",
        "outputId": "061b9dba-45a9-4dd7-e7a8-a036535d1b8b"
      },
      "source": [
        "# Plot accuracy, val_acc\n",
        "acc = model_hist.history['accuracy']\n",
        "val_acc = model_hist.history['val_accuracy']\n",
        "epochs = range(1, len(acc) + 1)\n",
        "\n",
        "plt.plot(epochs, acc, label='Training accuracy')\n",
        "plt.plot(epochs, val_acc, label='Validation accuracy')\n",
        "\n",
        "plt.title('Training and validation accuracy -- Model 2')\n",
        "plt.xlabel('Epochs')\n",
        "plt.ylabel('Accuracy')\n",
        "plt.legend()\n",
        "\n",
        "plt.imshow"
      ],
      "execution_count": null,
      "outputs": [
        {
          "output_type": "execute_result",
          "data": {
            "text/plain": [
              "<function matplotlib.pyplot.imshow>"
            ]
          },
          "metadata": {
            "tags": []
          },
          "execution_count": 98
        },
        {
          "output_type": "display_data",
          "data": {
            "image/png": "[encoded data removed]",
            "text/plain": [
              "<Figure size 432x288 with 1 Axes>"
            ]
          },
          "metadata": {
            "tags": [],
            "needs_background": "light"
          }
        }
      ]
    },
    {
      "cell_type": "code",
      "metadata": {
        "colab": {
          "base_uri": "https://localhost:8080/"
        },
        "id": "wUestQxK09ff",
        "outputId": "53666803-e7c2-4e83-fbdc-5efb12287e5e"
      },
      "source": [
        "val_acc"
      ],
      "execution_count": null,
      "outputs": [
        {
          "output_type": "execute_result",
          "data": {
            "text/plain": [
              "[0.9629212021827698,\n",
              " 0.9972507953643799,\n",
              " 0.994572103023529,\n",
              " 0.9983786940574646,\n",
              " 0.9991540908813477,\n",
              " 0.9983081817626953,\n",
              " 0.9985901713371277,\n",
              " 0.9987311363220215,\n",
              " 0.9987311363220215,\n",
              " 0.9987311363220215]"
            ]
          },
          "metadata": {
            "tags": []
          },
          "execution_count": 100
        }
      ]
    },
    {
      "cell_type": "markdown",
      "metadata": {
        "id": "MrSm_hjW18kO"
      },
      "source": [
        "### Model 2: with batch_size = 128\r\n"
      ]
    },
    {
      "cell_type": "code",
      "metadata": {
        "colab": {
          "base_uri": "https://localhost:8080/"
        },
        "id": "b8YzxyQE18kX",
        "outputId": "c2ac1e3a-c205-4917-dba9-ae4ae01baf0b"
      },
      "source": [
        "# Define the model\n",
        "model = models.Sequential()\n",
        "model.add(layers.Dense(256, activation='relu', input_shape=(X_train.shape[1],)))\n",
        "model.add(layers.Dense(64, activation='relu'))\n",
        "model.add(layers.Dense(32, activation='relu')) \n",
        "model.add(layers.Dense(8, activation='relu'))\n",
        "model.add(layers.Dense(1, activation='sigmoid'))  \n",
        "\n",
        "\n",
        "# Compile the model\n",
        "model.compile(optimizer='adam',\n",
        "              loss='binary_crossentropy',\n",
        "              metrics=['accuracy'])\n",
        "\n",
        "es = EarlyStopping(monitor='val_loss', mode='min', verbose=1, patience=5) # Add early stopping\n",
        "\n",
        "\n",
        "model_hist=model.fit(X_train,\n",
        "                    y_train,\n",
        "                    epochs=50,\n",
        "                    batch_size=128,\n",
        "                    validation_data=(X_validation, y_validation),\n",
        "                    callbacks=[es])"
      ],
      "execution_count": null,
      "outputs": [
        {
          "output_type": "stream",
          "text": [
            "Epoch 1/50\n",
            "3984/3984 [==============================] - 12s 3ms/step - loss: 0.1290 - accuracy: 0.9611 - val_loss: 0.0377 - val_accuracy: 0.9984\n",
            "Epoch 2/50\n",
            "3984/3984 [==============================] - 10s 3ms/step - loss: 0.0260 - accuracy: 0.9896 - val_loss: 0.0269 - val_accuracy: 0.9958\n",
            "Epoch 3/50\n",
            "3984/3984 [==============================] - 10s 3ms/step - loss: 0.0136 - accuracy: 0.9956 - val_loss: 0.0191 - val_accuracy: 0.9963\n",
            "Epoch 4/50\n",
            "3984/3984 [==============================] - 10s 3ms/step - loss: 0.0107 - accuracy: 0.9968 - val_loss: 0.0089 - val_accuracy: 0.9987\n",
            "Epoch 5/50\n",
            "3984/3984 [==============================] - 10s 3ms/step - loss: 0.0087 - accuracy: 0.9971 - val_loss: 0.0134 - val_accuracy: 0.9970\n",
            "Epoch 6/50\n",
            "3984/3984 [==============================] - 10s 3ms/step - loss: 0.0070 - accuracy: 0.9980 - val_loss: 0.0121 - val_accuracy: 0.9977\n",
            "Epoch 7/50\n",
            "3984/3984 [==============================] - 10s 3ms/step - loss: 0.0049 - accuracy: 0.9984 - val_loss: 0.0138 - val_accuracy: 0.9974\n",
            "Epoch 8/50\n",
            "3984/3984 [==============================] - 10s 3ms/step - loss: 0.0049 - accuracy: 0.9985 - val_loss: 0.0098 - val_accuracy: 0.9981\n",
            "Epoch 9/50\n",
            "3984/3984 [==============================] - 11s 3ms/step - loss: 0.0042 - accuracy: 0.9987 - val_loss: 0.0083 - val_accuracy: 0.9987\n",
            "Epoch 10/50\n",
            "3984/3984 [==============================] - 10s 3ms/step - loss: 0.0047 - accuracy: 0.9985 - val_loss: 0.0218 - val_accuracy: 0.9934\n",
            "Epoch 11/50\n",
            "3984/3984 [==============================] - 10s 3ms/step - loss: 0.0036 - accuracy: 0.9989 - val_loss: 0.0167 - val_accuracy: 0.9976\n",
            "Epoch 12/50\n",
            "3984/3984 [==============================] - 10s 3ms/step - loss: 0.0044 - accuracy: 0.9987 - val_loss: 0.0086 - val_accuracy: 0.9989\n",
            "Epoch 13/50\n",
            "3984/3984 [==============================] - 11s 3ms/step - loss: 0.0033 - accuracy: 0.9990 - val_loss: 0.0089 - val_accuracy: 0.9987\n",
            "Epoch 14/50\n",
            "3984/3984 [==============================] - 10s 3ms/step - loss: 0.0030 - accuracy: 0.9991 - val_loss: 0.0125 - val_accuracy: 0.9980\n",
            "Epoch 00014: early stopping\n"
          ],
          "name": "stdout"
        }
      ]
    },
    {
      "cell_type": "code",
      "metadata": {
        "colab": {
          "base_uri": "https://localhost:8080/"
        },
        "id": "q271_5Q-18kX",
        "outputId": "3605f13e-6fd8-42c8-87f6-048a96e3985b"
      },
      "source": [
        "from sklearn.metrics import classification_report\n",
        "target_names = ['no fraud','fraud']\n",
        "y_pred=model.predict(X_test).flatten()\n",
        "y_pred=[1 if i>0.5 else 0 for i in y_pred]\n",
        "\n",
        "print(classification_report(y_test, y_pred, target_names=target_names))"
      ],
      "execution_count": null,
      "outputs": [
        {
          "output_type": "stream",
          "text": [
            "              precision    recall  f1-score   support\n",
            "\n",
            "    no fraud       1.00      1.00      1.00     14163\n",
            "       fraud       0.57      0.88      0.69        24\n",
            "\n",
            "    accuracy                           1.00     14187\n",
            "   macro avg       0.78      0.94      0.84     14187\n",
            "weighted avg       1.00      1.00      1.00     14187\n",
            "\n"
          ],
          "name": "stdout"
        }
      ]
    },
    {
      "cell_type": "code",
      "metadata": {
        "colab": {
          "base_uri": "https://localhost:8080/",
          "height": 313
        },
        "id": "mdUutUoM18kY",
        "outputId": "e3fa4658-791b-4d60-e77c-99595754e2e8"
      },
      "source": [
        "# Plot loss, val_loss\n",
        "loss = model_hist.history['loss']\n",
        "val_loss = model_hist.history['val_loss']\n",
        "epochs = range(1, len(loss) + 1)\n",
        "\n",
        "plt.plot(epochs, loss, label='Training loss')\n",
        "plt.plot(epochs, val_loss, label='Validation loss')\n",
        "\n",
        "plt.title('Training and validation loss -- Model 2')\n",
        "plt.xlabel('Epochs')\n",
        "plt.ylabel('Loss')\n",
        "plt.legend()\n",
        "\n",
        "plt.imshow"
      ],
      "execution_count": null,
      "outputs": [
        {
          "output_type": "execute_result",
          "data": {
            "text/plain": [
              "<function matplotlib.pyplot.imshow>"
            ]
          },
          "metadata": {
            "tags": []
          },
          "execution_count": 106
        },
        {
          "output_type": "display_data",
          "data": {
            "image/png": "[encoded data removed]",
            "text/plain": [
              "<Figure size 432x288 with 1 Axes>"
            ]
          },
          "metadata": {
            "tags": [],
            "needs_background": "light"
          }
        }
      ]
    },
    {
      "cell_type": "code",
      "metadata": {
        "colab": {
          "base_uri": "https://localhost:8080/",
          "height": 313
        },
        "id": "AjbQxOPM18kY",
        "outputId": "f0355e3d-005c-4be9-c1b8-25a428e4b599"
      },
      "source": [
        "# Plot accuracy, val_acc\n",
        "acc = model_hist.history['accuracy']\n",
        "val_acc = model_hist.history['val_accuracy']\n",
        "epochs = range(1, len(acc) + 1)\n",
        "\n",
        "plt.plot(epochs, acc, label='Training accuracy')\n",
        "plt.plot(epochs, val_acc, label='Validation accuracy')\n",
        "\n",
        "plt.title('Training and validation accuracy -- Model 2')\n",
        "plt.xlabel('Epochs')\n",
        "plt.ylabel('Accuracy')\n",
        "plt.legend()\n",
        "\n",
        "plt.imshow"
      ],
      "execution_count": null,
      "outputs": [
        {
          "output_type": "execute_result",
          "data": {
            "text/plain": [
              "<function matplotlib.pyplot.imshow>"
            ]
          },
          "metadata": {
            "tags": []
          },
          "execution_count": 107
        },
        {
          "output_type": "display_data",
          "data": {
            "image/png": "[encoded data removed]",
            "text/plain": [
              "<Figure size 432x288 with 1 Axes>"
            ]
          },
          "metadata": {
            "tags": [],
            "needs_background": "light"
          }
        }
      ]
    },
    {
      "cell_type": "code",
      "metadata": {
        "colab": {
          "base_uri": "https://localhost:8080/"
        },
        "id": "t35u8-oA2fPN",
        "outputId": "9f824f61-f32e-4152-cee2-b84e36e04e22"
      },
      "source": [
        "acc"
      ],
      "execution_count": null,
      "outputs": [
        {
          "output_type": "execute_result",
          "data": {
            "text/plain": [
              "[0.9786683917045593,\n",
              " 0.9904776811599731,\n",
              " 0.99590665102005,\n",
              " 0.9970285892486572,\n",
              " 0.9974855780601501,\n",
              " 0.9979915618896484,\n",
              " 0.9984564185142517,\n",
              " 0.9984740614891052,\n",
              " 0.9987133741378784,\n",
              " 0.9986819624900818,\n",
              " 0.9988663196563721,\n",
              " 0.9988192915916443,\n",
              " 0.9987035393714905,\n",
              " 0.9990899562835693]"
            ]
          },
          "metadata": {
            "tags": []
          },
          "execution_count": 108
        }
      ]
    },
    {
      "cell_type": "code",
      "metadata": {
        "colab": {
          "base_uri": "https://localhost:8080/"
        },
        "id": "dX0A24sp2guk",
        "outputId": "f3a0ddf5-81f2-4e15-9726-e02191b98c7f"
      },
      "source": [
        "val_acc"
      ],
      "execution_count": null,
      "outputs": [
        {
          "output_type": "execute_result",
          "data": {
            "text/plain": [
              "[0.9983786940574646,\n",
              " 0.9957704544067383,\n",
              " 0.996334433555603,\n",
              " 0.9986606240272522,\n",
              " 0.9969688653945923,\n",
              " 0.9977442622184753,\n",
              " 0.9973918199539185,\n",
              " 0.9980967044830322,\n",
              " 0.9987311363220215,\n",
              " 0.9933737516403198,\n",
              " 0.9976032972335815,\n",
              " 0.9988721013069153,\n",
              " 0.9987311363220215,\n",
              " 0.9980262517929077]"
            ]
          },
          "metadata": {
            "tags": []
          },
          "execution_count": 109
        }
      ]
    },
    {
      "cell_type": "markdown",
      "metadata": {
        "id": "pWuihe0025U4"
      },
      "source": [
        "### Model 2: with batch_size = 256\r\n"
      ]
    },
    {
      "cell_type": "code",
      "metadata": {
        "colab": {
          "base_uri": "https://localhost:8080/"
        },
        "id": "u9q90Zwk25U7",
        "outputId": "197227d8-71d8-4dd9-c204-40d0b43cdfaf"
      },
      "source": [
        "# Define the model\n",
        "model = models.Sequential()\n",
        "model.add(layers.Dense(256, activation='relu', input_shape=(X_train.shape[1],)))\n",
        "model.add(layers.Dense(64, activation='relu'))\n",
        "model.add(layers.Dense(32, activation='relu')) \n",
        "model.add(layers.Dense(8, activation='relu'))\n",
        "model.add(layers.Dense(1, activation='sigmoid'))  \n",
        "\n",
        "\n",
        "# Compile the model\n",
        "model.compile(optimizer='adam',\n",
        "              loss='binary_crossentropy',\n",
        "              metrics=['accuracy'])\n",
        "\n",
        "es = EarlyStopping(monitor='val_loss', mode='min', verbose=1, patience=5) # Add early stopping\n",
        "\n",
        "\n",
        "model_hist=model.fit(X_train,\n",
        "                    y_train,\n",
        "                    epochs=50,\n",
        "                    batch_size=256,\n",
        "                    validation_data=(X_validation, y_validation),\n",
        "                    callbacks=[es])"
      ],
      "execution_count": null,
      "outputs": [
        {
          "output_type": "stream",
          "text": [
            "Epoch 1/50\n",
            "1992/1992 [==============================] - 6s 3ms/step - loss: 0.1501 - accuracy: 0.9572 - val_loss: 0.0172 - val_accuracy: 0.9968\n",
            "Epoch 2/50\n",
            "1992/1992 [==============================] - 5s 3ms/step - loss: 0.0221 - accuracy: 0.9935 - val_loss: 0.0226 - val_accuracy: 0.9978\n",
            "Epoch 3/50\n",
            "1992/1992 [==============================] - 5s 3ms/step - loss: 0.0120 - accuracy: 0.9963 - val_loss: 0.0144 - val_accuracy: 0.9970\n",
            "Epoch 4/50\n",
            "1992/1992 [==============================] - 5s 3ms/step - loss: 0.0106 - accuracy: 0.9967 - val_loss: 0.0136 - val_accuracy: 0.9980\n",
            "Epoch 5/50\n",
            "1992/1992 [==============================] - 5s 3ms/step - loss: 0.0077 - accuracy: 0.9978 - val_loss: 0.0170 - val_accuracy: 0.9966\n",
            "Epoch 6/50\n",
            "1992/1992 [==============================] - 6s 3ms/step - loss: 0.0066 - accuracy: 0.9980 - val_loss: 0.0153 - val_accuracy: 0.9978\n",
            "Epoch 7/50\n",
            "1992/1992 [==============================] - 6s 3ms/step - loss: 0.0057 - accuracy: 0.9983 - val_loss: 0.0164 - val_accuracy: 0.9963\n",
            "Epoch 8/50\n",
            "1992/1992 [==============================] - 5s 3ms/step - loss: 0.0041 - accuracy: 0.9988 - val_loss: 0.0234 - val_accuracy: 0.9937\n",
            "Epoch 9/50\n",
            "1992/1992 [==============================] - 5s 3ms/step - loss: 0.0046 - accuracy: 0.9986 - val_loss: 0.0099 - val_accuracy: 0.9987\n",
            "Epoch 10/50\n",
            "1992/1992 [==============================] - 5s 3ms/step - loss: 0.0035 - accuracy: 0.9990 - val_loss: 0.0138 - val_accuracy: 0.9980\n",
            "Epoch 11/50\n",
            "1992/1992 [==============================] - 5s 3ms/step - loss: 0.0036 - accuracy: 0.9989 - val_loss: 0.0116 - val_accuracy: 0.9987\n",
            "Epoch 12/50\n",
            "1992/1992 [==============================] - 5s 3ms/step - loss: 0.0034 - accuracy: 0.9989 - val_loss: 0.0117 - val_accuracy: 0.9972\n",
            "Epoch 13/50\n",
            "1992/1992 [==============================] - 5s 3ms/step - loss: 0.0032 - accuracy: 0.9990 - val_loss: 0.0108 - val_accuracy: 0.9990\n",
            "Epoch 14/50\n",
            "1992/1992 [==============================] - 5s 3ms/step - loss: 0.0035 - accuracy: 0.9989 - val_loss: 0.0118 - val_accuracy: 0.9987\n",
            "Epoch 00014: early stopping\n"
          ],
          "name": "stdout"
        }
      ]
    },
    {
      "cell_type": "code",
      "metadata": {
        "colab": {
          "base_uri": "https://localhost:8080/"
        },
        "id": "xV6GWor325U8",
        "outputId": "b600c708-4e3e-46e1-c5e8-99294a7fd525"
      },
      "source": [
        "from sklearn.metrics import classification_report\n",
        "target_names = ['no fraud','fraud']\n",
        "y_pred=model.predict(X_test).flatten()\n",
        "y_pred=[1 if i>0.5 else 0 for i in y_pred]\n",
        "\n",
        "print(classification_report(y_test, y_pred, target_names=target_names))"
      ],
      "execution_count": null,
      "outputs": [
        {
          "output_type": "stream",
          "text": [
            "              precision    recall  f1-score   support\n",
            "\n",
            "    no fraud       1.00      1.00      1.00     14163\n",
            "       fraud       0.66      0.88      0.75        24\n",
            "\n",
            "    accuracy                           1.00     14187\n",
            "   macro avg       0.83      0.94      0.87     14187\n",
            "weighted avg       1.00      1.00      1.00     14187\n",
            "\n"
          ],
          "name": "stdout"
        }
      ]
    },
    {
      "cell_type": "code",
      "metadata": {
        "colab": {
          "base_uri": "https://localhost:8080/",
          "height": 313
        },
        "id": "F1Kr_6nD25U8",
        "outputId": "05bdcb48-0826-4ceb-e193-2bdfa1540b00"
      },
      "source": [
        "# Plot loss, val_loss\n",
        "loss = model_hist.history['loss']\n",
        "val_loss = model_hist.history['val_loss']\n",
        "epochs = range(1, len(loss) + 1)\n",
        "\n",
        "plt.plot(epochs, loss, label='Training loss')\n",
        "plt.plot(epochs, val_loss, label='Validation loss')\n",
        "\n",
        "plt.title('Training and validation loss -- Model 2')\n",
        "plt.xlabel('Epochs')\n",
        "plt.ylabel('Loss')\n",
        "plt.legend()\n",
        "\n",
        "plt.imshow"
      ],
      "execution_count": null,
      "outputs": [
        {
          "output_type": "execute_result",
          "data": {
            "text/plain": [
              "<function matplotlib.pyplot.imshow>"
            ]
          },
          "metadata": {
            "tags": []
          },
          "execution_count": 113
        },
        {
          "output_type": "display_data",
          "data": {
            "image/png": "[encoded data removed]",
            "text/plain": [
              "<Figure size 432x288 with 1 Axes>"
            ]
          },
          "metadata": {
            "tags": [],
            "needs_background": "light"
          }
        }
      ]
    },
    {
      "cell_type": "code",
      "metadata": {
        "colab": {
          "base_uri": "https://localhost:8080/",
          "height": 313
        },
        "id": "_iWAEG8425U9",
        "outputId": "4c3b5b73-4ffc-4d6f-ce82-e8e718e83272"
      },
      "source": [
        "# Plot accuracy, val_acc\n",
        "acc = model_hist.history['accuracy']\n",
        "val_acc = model_hist.history['val_accuracy']\n",
        "epochs = range(1, len(acc) + 1)\n",
        "\n",
        "plt.plot(epochs, acc, label='Training accuracy')\n",
        "plt.plot(epochs, val_acc, label='Validation accuracy')\n",
        "\n",
        "plt.title('Training and validation accuracy -- Model 2')\n",
        "plt.xlabel('Epochs')\n",
        "plt.ylabel('Accuracy')\n",
        "plt.legend()\n",
        "\n",
        "plt.imshow"
      ],
      "execution_count": null,
      "outputs": [
        {
          "output_type": "execute_result",
          "data": {
            "text/plain": [
              "<function matplotlib.pyplot.imshow>"
            ]
          },
          "metadata": {
            "tags": []
          },
          "execution_count": 114
        },
        {
          "output_type": "display_data",
          "data": {
            "image/png": "[encoded data removed]",
            "text/plain": [
              "<Figure size 432x288 with 1 Axes>"
            ]
          },
          "metadata": {
            "tags": [],
            "needs_background": "light"
          }
        }
      ]
    },
    {
      "cell_type": "code",
      "metadata": {
        "colab": {
          "base_uri": "https://localhost:8080/"
        },
        "id": "BAXU_UHg25U9",
        "outputId": "46d37ddb-eac2-47cc-896d-7c78c4b4919b"
      },
      "source": [
        "acc"
      ],
      "execution_count": null,
      "outputs": [
        {
          "output_type": "execute_result",
          "data": {
            "text/plain": [
              "[0.9814985990524292,\n",
              " 0.9942806959152222,\n",
              " 0.9963734745979309,\n",
              " 0.9966127276420593,\n",
              " 0.9976660013198853,\n",
              " 0.9980818033218384,\n",
              " 0.9983760118484497,\n",
              " 0.9986643195152283,\n",
              " 0.9987094402313232,\n",
              " 0.9988781213760376,\n",
              " 0.9988722205162048,\n",
              " 0.9989428520202637,\n",
              " 0.9990546107292175,\n",
              " 0.9990428686141968]"
            ]
          },
          "metadata": {
            "tags": []
          },
          "execution_count": 117
        }
      ]
    },
    {
      "cell_type": "code",
      "metadata": {
        "colab": {
          "base_uri": "https://localhost:8080/"
        },
        "id": "9u51K16325U9",
        "outputId": "6aeb0e50-74c9-4eb2-c14c-9a6147994af8"
      },
      "source": [
        "val_acc"
      ],
      "execution_count": null,
      "outputs": [
        {
          "output_type": "execute_result",
          "data": {
            "text/plain": [
              "[0.9967573881149292,\n",
              " 0.9978147745132446,\n",
              " 0.9969688653945923,\n",
              " 0.9980262517929077,\n",
              " 0.9966163635253906,\n",
              " 0.9978147745132446,\n",
              " 0.996334433555603,\n",
              " 0.9936557412147522,\n",
              " 0.9987311363220215,\n",
              " 0.9980262517929077,\n",
              " 0.9986606240272522,\n",
              " 0.9971803426742554,\n",
              " 0.9990131258964539,\n",
              " 0.9987311363220215]"
            ]
          },
          "metadata": {
            "tags": []
          },
          "execution_count": 118
        }
      ]
    },
    {
      "cell_type": "markdown",
      "metadata": {
        "id": "88ev3miX4TRD"
      },
      "source": [
        "### Model 2: with batch_size = 512\r\n"
      ]
    },
    {
      "cell_type": "code",
      "metadata": {
        "colab": {
          "base_uri": "https://localhost:8080/"
        },
        "id": "fuRwCGB14TRL",
        "outputId": "1007dc30-05e7-4303-e687-37f6cab1080a"
      },
      "source": [
        "# Define the model\n",
        "model = models.Sequential()\n",
        "model.add(layers.Dense(256, activation='relu', input_shape=(X_train.shape[1],)))\n",
        "model.add(layers.Dense(64, activation='relu'))\n",
        "model.add(layers.Dense(32, activation='relu')) \n",
        "model.add(layers.Dense(8, activation='relu'))\n",
        "model.add(layers.Dense(1, activation='sigmoid'))  \n",
        "\n",
        "\n",
        "# Compile the model\n",
        "model.compile(optimizer='adam',\n",
        "              loss='binary_crossentropy',\n",
        "              metrics=['accuracy'])\n",
        "\n",
        "es = EarlyStopping(monitor='val_loss', mode='min', verbose=1, patience=5) # Add early stopping\n",
        "\n",
        "\n",
        "model_hist=model.fit(X_train,\n",
        "                    y_train,\n",
        "                    epochs=50,\n",
        "                    batch_size=512,\n",
        "                    validation_data=(X_validation, y_validation),\n",
        "                    callbacks=[es])"
      ],
      "execution_count": null,
      "outputs": [
        {
          "output_type": "stream",
          "text": [
            "Epoch 1/50\n",
            "996/996 [==============================] - 3s 3ms/step - loss: 0.1411 - accuracy: 0.9510 - val_loss: 0.0136 - val_accuracy: 0.9971\n",
            "Epoch 2/50\n",
            "996/996 [==============================] - 3s 3ms/step - loss: 0.0225 - accuracy: 0.9938 - val_loss: 0.0185 - val_accuracy: 0.9963\n",
            "Epoch 3/50\n",
            "996/996 [==============================] - 3s 3ms/step - loss: 0.0132 - accuracy: 0.9966 - val_loss: 0.0102 - val_accuracy: 0.9982\n",
            "Epoch 4/50\n",
            "996/996 [==============================] - 3s 3ms/step - loss: 0.0117 - accuracy: 0.9970 - val_loss: 0.0172 - val_accuracy: 0.9960\n",
            "Epoch 5/50\n",
            "996/996 [==============================] - 3s 3ms/step - loss: 0.0082 - accuracy: 0.9978 - val_loss: 0.0139 - val_accuracy: 0.9977\n",
            "Epoch 6/50\n",
            "996/996 [==============================] - 3s 3ms/step - loss: 0.0072 - accuracy: 0.9981 - val_loss: 0.0099 - val_accuracy: 0.9987\n",
            "Epoch 7/50\n",
            "996/996 [==============================] - 3s 3ms/step - loss: 0.0045 - accuracy: 0.9988 - val_loss: 0.0126 - val_accuracy: 0.9980\n",
            "Epoch 8/50\n",
            "996/996 [==============================] - 3s 3ms/step - loss: 0.0053 - accuracy: 0.9985 - val_loss: 0.0202 - val_accuracy: 0.9949\n",
            "Epoch 9/50\n",
            "996/996 [==============================] - 3s 3ms/step - loss: 0.0057 - accuracy: 0.9985 - val_loss: 0.0154 - val_accuracy: 0.9973\n",
            "Epoch 10/50\n",
            "996/996 [==============================] - 3s 3ms/step - loss: 0.0043 - accuracy: 0.9988 - val_loss: 0.0108 - val_accuracy: 0.9987\n",
            "Epoch 11/50\n",
            "996/996 [==============================] - 3s 3ms/step - loss: 0.0037 - accuracy: 0.9990 - val_loss: 0.0118 - val_accuracy: 0.9986\n",
            "Epoch 00011: early stopping\n"
          ],
          "name": "stdout"
        }
      ]
    },
    {
      "cell_type": "code",
      "metadata": {
        "colab": {
          "base_uri": "https://localhost:8080/"
        },
        "id": "C5q9EO4O4TRM",
        "outputId": "358fc4e3-a648-45d9-ec31-7ac51f8efd2c"
      },
      "source": [
        "from sklearn.metrics import classification_report\n",
        "target_names = ['no fraud','fraud']\n",
        "y_pred=model.predict(X_test).flatten()\n",
        "y_pred=[1 if i>0.5 else 0 for i in y_pred]\n",
        "\n",
        "print(classification_report(y_test, y_pred, target_names=target_names))"
      ],
      "execution_count": null,
      "outputs": [
        {
          "output_type": "stream",
          "text": [
            "              precision    recall  f1-score   support\n",
            "\n",
            "    no fraud       1.00      1.00      1.00     14163\n",
            "       fraud       0.53      0.88      0.66        24\n",
            "\n",
            "    accuracy                           1.00     14187\n",
            "   macro avg       0.76      0.94      0.83     14187\n",
            "weighted avg       1.00      1.00      1.00     14187\n",
            "\n"
          ],
          "name": "stdout"
        }
      ]
    },
    {
      "cell_type": "code",
      "metadata": {
        "colab": {
          "base_uri": "https://localhost:8080/",
          "height": 313
        },
        "id": "htry0gLU4TRN",
        "outputId": "f3f20a41-fc67-4a59-a559-fc3d1eb2fd3b"
      },
      "source": [
        "# Plot loss, val_loss\n",
        "loss = model_hist.history['loss']\n",
        "val_loss = model_hist.history['val_loss']\n",
        "epochs = range(1, len(loss) + 1)\n",
        "\n",
        "plt.plot(epochs, loss, label='Training loss')\n",
        "plt.plot(epochs, val_loss, label='Validation loss')\n",
        "\n",
        "plt.title('Training and validation loss -- Model 2')\n",
        "plt.xlabel('Epochs')\n",
        "plt.ylabel('Loss')\n",
        "plt.legend()\n",
        "\n",
        "plt.imshow"
      ],
      "execution_count": null,
      "outputs": [
        {
          "output_type": "execute_result",
          "data": {
            "text/plain": [
              "<function matplotlib.pyplot.imshow>"
            ]
          },
          "metadata": {
            "tags": []
          },
          "execution_count": 121
        },
        {
          "output_type": "display_data",
          "data": {
            "image/png": "[encoded data removed]",
            "text/plain": [
              "<Figure size 432x288 with 1 Axes>"
            ]
          },
          "metadata": {
            "tags": [],
            "needs_background": "light"
          }
        }
      ]
    },
    {
      "cell_type": "code",
      "metadata": {
        "colab": {
          "base_uri": "https://localhost:8080/",
          "height": 313
        },
        "id": "HcLgPryx4TRN",
        "outputId": "a1e2920d-dd90-4258-868e-8d31df99571c"
      },
      "source": [
        "# Plot accuracy, val_acc\n",
        "acc = model_hist.history['accuracy']\n",
        "val_acc = model_hist.history['val_accuracy']\n",
        "epochs = range(1, len(acc) + 1)\n",
        "\n",
        "plt.plot(epochs, acc, label='Training accuracy')\n",
        "plt.plot(epochs, val_acc, label='Validation accuracy')\n",
        "\n",
        "plt.title('Training and validation accuracy -- Model 2')\n",
        "plt.xlabel('Epochs')\n",
        "plt.ylabel('Accuracy')\n",
        "plt.legend()\n",
        "\n",
        "plt.imshow"
      ],
      "execution_count": null,
      "outputs": [
        {
          "output_type": "execute_result",
          "data": {
            "text/plain": [
              "<function matplotlib.pyplot.imshow>"
            ]
          },
          "metadata": {
            "tags": []
          },
          "execution_count": 122
        },
        {
          "output_type": "display_data",
          "data": {
            "image/png": "[encoded data removed]",
            "text/plain": [
              "<Figure size 432x288 with 1 Axes>"
            ]
          },
          "metadata": {
            "tags": [],
            "needs_background": "light"
          }
        }
      ]
    },
    {
      "cell_type": "code",
      "metadata": {
        "colab": {
          "base_uri": "https://localhost:8080/"
        },
        "id": "QK03VYwb4TRN",
        "outputId": "88f40966-42c3-4f97-8987-8ac6da31cf8c"
      },
      "source": [
        "acc"
      ],
      "execution_count": null,
      "outputs": [
        {
          "output_type": "execute_result",
          "data": {
            "text/plain": [
              "[0.9795549511909485,\n",
              " 0.9945513606071472,\n",
              " 0.996422529220581,\n",
              " 0.9970638751983643,\n",
              " 0.9978444576263428,\n",
              " 0.997848391532898,\n",
              " 0.998685896396637,\n",
              " 0.9983505010604858,\n",
              " 0.9985936880111694,\n",
              " 0.998715341091156,\n",
              " 0.9990683794021606]"
            ]
          },
          "metadata": {
            "tags": []
          },
          "execution_count": 123
        }
      ]
    },
    {
      "cell_type": "code",
      "metadata": {
        "colab": {
          "base_uri": "https://localhost:8080/"
        },
        "id": "60y_uK0v4TRO",
        "outputId": "4e4fe447-c95d-428f-bb7c-57877aec4fdf"
      },
      "source": [
        "val_acc"
      ],
      "execution_count": null,
      "outputs": [
        {
          "output_type": "execute_result",
          "data": {
            "text/plain": [
              "[0.9971098303794861,\n",
              " 0.996334433555603,\n",
              " 0.9981672167778015,\n",
              " 0.9959819316864014,\n",
              " 0.9977442622184753,\n",
              " 0.9987311363220215,\n",
              " 0.9980262517929077,\n",
              " 0.9949245452880859,\n",
              " 0.9973213076591492,\n",
              " 0.9987311363220215,\n",
              " 0.9985901713371277]"
            ]
          },
          "metadata": {
            "tags": []
          },
          "execution_count": 124
        }
      ]
    },
    {
      "cell_type": "markdown",
      "metadata": {
        "id": "x26IFuQ-JU_7"
      },
      "source": [
        "### Model 4： 5 layers with dropout - 0.1&0.05\r\n"
      ]
    },
    {
      "cell_type": "code",
      "metadata": {
        "colab": {
          "base_uri": "https://localhost:8080/"
        },
        "id": "Luu6QqD9JVAD",
        "outputId": "afe2cc9c-b25e-46e3-a891-6cf20918d388"
      },
      "source": [
        "from keras.layers import Dropout\n",
        "from keras import models,layers\n",
        "\n",
        "# Define the model\n",
        "model = models.Sequential()\n",
        "model.add(layers.Dense(256, activation='relu', input_shape=(X_train.shape[1],)))\n",
        "model.add(Dropout(0.1))\n",
        "model.add(layers.Dense(64, activation='relu'))\n",
        "model.add(Dropout(0.05))\n",
        "model.add(layers.Dense(32, activation='relu'))\n",
        "model.add(layers.Dense(8, activation='relu'))\n",
        "model.add(layers.Dense(1, activation='sigmoid'))  \n",
        "\n",
        "\n",
        "# Compile the model\n",
        "model.compile(optimizer='adam',\n",
        "              loss='binary_crossentropy',\n",
        "              metrics=['accuracy'])\n",
        "\n",
        "es = EarlyStopping(monitor='val_loss', mode='min', verbose=1, patience=5) # Add early stopping\n",
        "\n",
        "\n",
        "model_hist=model.fit(X_train,\n",
        "                    y_train,\n",
        "                    epochs=50,\n",
        "                    batch_size=128,\n",
        "                    validation_data=(X_validation, y_validation),\n",
        "                    callbacks=[es])\n"
      ],
      "execution_count": null,
      "outputs": [
        {
          "output_type": "stream",
          "text": [
            "Epoch 1/50\n",
            "3984/3984 [==============================] - 11s 3ms/step - loss: 0.1521 - accuracy: 0.9349 - val_loss: 0.0248 - val_accuracy: 0.9949\n",
            "Epoch 2/50\n",
            "3984/3984 [==============================] - 11s 3ms/step - loss: 0.0228 - accuracy: 0.9916 - val_loss: 0.0323 - val_accuracy: 0.9913\n",
            "Epoch 3/50\n",
            "3984/3984 [==============================] - 11s 3ms/step - loss: 0.0148 - accuracy: 0.9953 - val_loss: 0.0148 - val_accuracy: 0.9974\n",
            "Epoch 4/50\n",
            "3984/3984 [==============================] - 11s 3ms/step - loss: 0.0118 - accuracy: 0.9965 - val_loss: 0.0151 - val_accuracy: 0.9965\n",
            "Epoch 5/50\n",
            "3984/3984 [==============================] - 11s 3ms/step - loss: 0.0089 - accuracy: 0.9974 - val_loss: 0.0119 - val_accuracy: 0.9971\n",
            "Epoch 6/50\n",
            "3984/3984 [==============================] - 11s 3ms/step - loss: 0.0078 - accuracy: 0.9975 - val_loss: 0.0109 - val_accuracy: 0.9976\n",
            "Epoch 7/50\n",
            "3984/3984 [==============================] - 11s 3ms/step - loss: 0.0071 - accuracy: 0.9980 - val_loss: 0.0072 - val_accuracy: 0.9986\n",
            "Epoch 8/50\n",
            "3984/3984 [==============================] - 11s 3ms/step - loss: 0.0062 - accuracy: 0.9981 - val_loss: 0.0141 - val_accuracy: 0.9963\n",
            "Epoch 9/50\n",
            "3984/3984 [==============================] - 11s 3ms/step - loss: 0.0073 - accuracy: 0.9976 - val_loss: 0.0092 - val_accuracy: 0.9986\n",
            "Epoch 10/50\n",
            "3984/3984 [==============================] - 11s 3ms/step - loss: 0.0058 - accuracy: 0.9982 - val_loss: 0.0073 - val_accuracy: 0.9988\n",
            "Epoch 11/50\n",
            "3984/3984 [==============================] - 11s 3ms/step - loss: 0.0058 - accuracy: 0.9982 - val_loss: 0.0117 - val_accuracy: 0.9987\n",
            "Epoch 12/50\n",
            "3984/3984 [==============================] - 11s 3ms/step - loss: 0.0052 - accuracy: 0.9985 - val_loss: 0.0070 - val_accuracy: 0.9991\n",
            "Epoch 13/50\n",
            "3984/3984 [==============================] - 12s 3ms/step - loss: 0.0050 - accuracy: 0.9983 - val_loss: 0.0166 - val_accuracy: 0.9947\n",
            "Epoch 14/50\n",
            "3984/3984 [==============================] - 11s 3ms/step - loss: 0.0045 - accuracy: 0.9985 - val_loss: 0.0128 - val_accuracy: 0.9976\n",
            "Epoch 15/50\n",
            "3984/3984 [==============================] - 11s 3ms/step - loss: 0.0047 - accuracy: 0.9985 - val_loss: 0.0061 - val_accuracy: 0.9991\n",
            "Epoch 16/50\n",
            "3984/3984 [==============================] - 11s 3ms/step - loss: 0.0040 - accuracy: 0.9988 - val_loss: 0.0075 - val_accuracy: 0.9991\n",
            "Epoch 17/50\n",
            "3984/3984 [==============================] - 11s 3ms/step - loss: 0.0045 - accuracy: 0.9986 - val_loss: 0.0068 - val_accuracy: 0.9988\n",
            "Epoch 18/50\n",
            "3984/3984 [==============================] - 12s 3ms/step - loss: 0.0041 - accuracy: 0.9989 - val_loss: 0.0076 - val_accuracy: 0.9992\n",
            "Epoch 19/50\n",
            "3984/3984 [==============================] - 11s 3ms/step - loss: 0.0039 - accuracy: 0.9989 - val_loss: 0.0087 - val_accuracy: 0.9990\n",
            "Epoch 20/50\n",
            "3984/3984 [==============================] - 11s 3ms/step - loss: 0.0039 - accuracy: 0.9989 - val_loss: 0.0098 - val_accuracy: 0.9992\n",
            "Epoch 00020: early stopping\n"
          ],
          "name": "stdout"
        }
      ]
    },
    {
      "cell_type": "code",
      "metadata": {
        "colab": {
          "base_uri": "https://localhost:8080/"
        },
        "id": "W4hRximMJVAE",
        "outputId": "2854a50d-6632-42e5-ca1e-89ff32e25147"
      },
      "source": [
        "from sklearn.metrics import classification_report\n",
        "target_names = ['no fraud','fraud']\n",
        "y_pred=model.predict(X_test).flatten()\n",
        "y_pred=[1 if i>0.5 else 0 for i in y_pred]\n",
        "\n",
        "print(classification_report(y_test, y_pred, target_names=target_names))"
      ],
      "execution_count": null,
      "outputs": [
        {
          "output_type": "stream",
          "text": [
            "              precision    recall  f1-score   support\n",
            "\n",
            "    no fraud       1.00      1.00      1.00     14163\n",
            "       fraud       0.70      0.88      0.78        24\n",
            "\n",
            "    accuracy                           1.00     14187\n",
            "   macro avg       0.85      0.94      0.89     14187\n",
            "weighted avg       1.00      1.00      1.00     14187\n",
            "\n"
          ],
          "name": "stdout"
        }
      ]
    },
    {
      "cell_type": "code",
      "metadata": {
        "id": "soP8XO7h6v61"
      },
      "source": [
        "acc = model_hist.history['accuracy']\r\n",
        "val_acc = model_hist.history['val_accuracy']"
      ],
      "execution_count": null,
      "outputs": []
    },
    {
      "cell_type": "code",
      "metadata": {
        "colab": {
          "base_uri": "https://localhost:8080/"
        },
        "id": "ZXKBt39A78vJ",
        "outputId": "48f2324e-deba-4d9a-9b41-7dac3d9905fb"
      },
      "source": [
        "acc"
      ],
      "execution_count": null,
      "outputs": [
        {
          "output_type": "execute_result",
          "data": {
            "text/plain": [
              "[0.9683968424797058,\n",
              " 0.9929940700531006,\n",
              " 0.9955791234970093,\n",
              " 0.9966186285018921,\n",
              " 0.9974482655525208,\n",
              " 0.9975208640098572,\n",
              " 0.9979386329650879,\n",
              " 0.9980641603469849,\n",
              " 0.9977915287017822,\n",
              " 0.9983367919921875,\n",
              " 0.9982230067253113,\n",
              " 0.9985054731369019,\n",
              " 0.9982799291610718,\n",
              " 0.9984427094459534,\n",
              " 0.9985662698745728,\n",
              " 0.9987447261810303,\n",
              " 0.9986721873283386,\n",
              " 0.9986741542816162,\n",
              " 0.9988878965377808,\n",
              " 0.9988800883293152]"
            ]
          },
          "metadata": {
            "tags": []
          },
          "execution_count": 135
        }
      ]
    },
    {
      "cell_type": "code",
      "metadata": {
        "colab": {
          "base_uri": "https://localhost:8080/"
        },
        "id": "l6PJ3v7I8Bs0",
        "outputId": "8a394264-598e-4429-d1f8-fe26de459db8"
      },
      "source": [
        "val_acc"
      ],
      "execution_count": null,
      "outputs": [
        {
          "output_type": "execute_result",
          "data": {
            "text/plain": [
              "[0.9948540925979614,\n",
              " 0.991258978843689,\n",
              " 0.9973918199539185,\n",
              " 0.9964753985404968,\n",
              " 0.9971098303794861,\n",
              " 0.9976032972335815,\n",
              " 0.9985901713371277,\n",
              " 0.996334433555603,\n",
              " 0.9985901713371277,\n",
              " 0.9988016486167908,\n",
              " 0.9987311363220215,\n",
              " 0.9990835785865784,\n",
              " 0.9947130680084229,\n",
              " 0.9976032972335815,\n",
              " 0.9990835785865784,\n",
              " 0.9990835785865784,\n",
              " 0.9988016486167908,\n",
              " 0.9991540908813477,\n",
              " 0.9990131258964539,\n",
              " 0.9992246031761169]"
            ]
          },
          "metadata": {
            "tags": []
          },
          "execution_count": 136
        }
      ]
    },
    {
      "cell_type": "markdown",
      "metadata": {
        "id": "RAGrR8q6JVAF"
      },
      "source": [
        "**f1-score for predicting 'fraud' is 0.76, which is worse than without dropout.**"
      ]
    }
  ]
}