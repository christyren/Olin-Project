{
 "cells": [
  {
   "cell_type": "code",
   "execution_count": 1,
   "metadata": {},
   "outputs": [],
   "source": [
    "import pandas as pd\n",
    "import numpy as np\n",
    "import pylab \n",
    "import matplotlib.pyplot as plt\n",
    "from datetime import datetime\n",
    "from datetime import timedelta"
   ]
  },
  {
   "cell_type": "markdown",
   "metadata": {},
   "source": [
    "### Getting first purchase date using subscriber dataset "
   ]
  },
  {
   "cell_type": "code",
   "execution_count": 19,
   "metadata": {},
   "outputs": [],
   "source": [
    "df_subsribers_first_pur = pd.merge(df_subsribers, df_sales, \\\n",
    "                                           left_on='Ship-to Address Hash',right_on='Ship-to Address Hash' ,how ='inner')"
   ]
  },
  {
   "cell_type": "code",
   "execution_count": 35,
   "metadata": {
    "scrolled": true
   },
   "outputs": [],
   "source": [
    "for i in range(1,df_subsribers_first_pur.shape[0]):\n",
    "    customer_id = df_subsribers_first_pur.at[i,'Ship-to Address Hash']\n",
    "    if df_subsribers_first_pur.at[i,'date'] == pd.to_datetime(df_subsribers_first_pur.at[i,'last_pur']):\n",
    "        n_subscription = df_subsribers_first_pur.at[i,'subscription']\n",
    "        j = i\n",
    "        while n_subscription > 1: # backtracking number of subscription's orders and get the first purchase day\n",
    "            n_subscription -= 1\n",
    "            if df_subsribers_first_pur.at[j-1,'date'] == df_subsribers_first_pur.at[j,'date']:\n",
    "                n_subscription += 1 # Skip multiple orders on the same day\n",
    "            j -= 1 \n",
    "        df_subsribers.loc[(df_subsribers['Ship-to Address Hash'] == customer_id),'first_pur'] = \\\n",
    "        df_subsribers_first_pur.at[j,'date']"
   ]
  },
  {
   "cell_type": "code",
   "execution_count": 38,
   "metadata": {},
   "outputs": [],
   "source": [
    "df = df_subsribers"
   ]
  },
  {
   "cell_type": "code",
   "execution_count": 39,
   "metadata": {},
   "outputs": [],
   "source": [
    "df['first_pur'] = df_subsribers['first_pur'].apply(lambda x: x.strftime('%Y-%m-%d'))"
   ]
  },
  {
   "cell_type": "code",
   "execution_count": 42,
   "metadata": {},
   "outputs": [],
   "source": [
    "df['last_pur'] = pd.to_datetime(df_subsribers['last_pur']).apply(lambda x: x.strftime('%Y-%m-%d'))"
   ]
  },
  {
   "cell_type": "code",
   "execution_count": 43,
   "metadata": {},
   "outputs": [
    {
     "data": {
      "text/html": [
       "<div>\n",
       "<style scoped>\n",
       "    .dataframe tbody tr th:only-of-type {\n",
       "        vertical-align: middle;\n",
       "    }\n",
       "\n",
       "    .dataframe tbody tr th {\n",
       "        vertical-align: top;\n",
       "    }\n",
       "\n",
       "    .dataframe thead th {\n",
       "        text-align: right;\n",
       "    }\n",
       "</style>\n",
       "<table border=\"1\" class=\"dataframe\">\n",
       "  <thead>\n",
       "    <tr style=\"text-align: right;\">\n",
       "      <th></th>\n",
       "      <th>Unnamed: 0</th>\n",
       "      <th>Ship-to Address Hash</th>\n",
       "      <th>Animal Species</th>\n",
       "      <th>index</th>\n",
       "      <th>product</th>\n",
       "      <th>first_pur</th>\n",
       "      <th>last_pur</th>\n",
       "      <th>purchase items</th>\n",
       "      <th>subscription</th>\n",
       "      <th>avg_interval</th>\n",
       "      <th>if_leave</th>\n",
       "      <th>purchase_time</th>\n",
       "      <th>sub_product</th>\n",
       "      <th>Unnamed: 13</th>\n",
       "      <th>Unnamed: 14</th>\n",
       "      <th>Unnamed: 15</th>\n",
       "    </tr>\n",
       "  </thead>\n",
       "  <tbody>\n",
       "    <tr>\n",
       "      <th>0</th>\n",
       "      <td>0</td>\n",
       "      <td>0x00002ADCF916D2802ECD88B3D49428F39BFB2FA92C5F...</td>\n",
       "      <td>DOG</td>\n",
       "      <td>0x00002ADCF916D2802ECD88B3D49428F39BFB2FA92C5F...</td>\n",
       "      <td>305010.0 488488.0</td>\n",
       "      <td>2019-05-23</td>\n",
       "      <td>2020-02-04</td>\n",
       "      <td>1</td>\n",
       "      <td>4</td>\n",
       "      <td>84</td>\n",
       "      <td>0</td>\n",
       "      <td>4</td>\n",
       "      <td>488488</td>\n",
       "      <td>NaN</td>\n",
       "      <td>NaN</td>\n",
       "      <td>NaN</td>\n",
       "    </tr>\n",
       "    <tr>\n",
       "      <th>1</th>\n",
       "      <td>2</td>\n",
       "      <td>0x0000C9E96CD91AEB4C4E384B02689CB8B8A3E5CCFFA0...</td>\n",
       "      <td>DOG</td>\n",
       "      <td>0x0000C9E96CD91AEB4C4E384B02689CB8B8A3E5CCFFA0...</td>\n",
       "      <td>305010.0 426025.0</td>\n",
       "      <td>2019-03-08</td>\n",
       "      <td>2019-12-20</td>\n",
       "      <td>1</td>\n",
       "      <td>10</td>\n",
       "      <td>31</td>\n",
       "      <td>1</td>\n",
       "      <td>10</td>\n",
       "      <td>426025</td>\n",
       "      <td>NaN</td>\n",
       "      <td>NaN</td>\n",
       "      <td>NaN</td>\n",
       "    </tr>\n",
       "    <tr>\n",
       "      <th>2</th>\n",
       "      <td>4</td>\n",
       "      <td>0x0001122835C2833EF10B8C18B9A5104E6248EBDE6066...</td>\n",
       "      <td>DOG</td>\n",
       "      <td>0x0001122835C2833EF10B8C18B9A5104E6248EBDE6066...</td>\n",
       "      <td>305010.0 561808.0</td>\n",
       "      <td>2018-06-14</td>\n",
       "      <td>2019-11-21</td>\n",
       "      <td>1</td>\n",
       "      <td>16</td>\n",
       "      <td>57</td>\n",
       "      <td>1</td>\n",
       "      <td>16</td>\n",
       "      <td>561808</td>\n",
       "      <td>NaN</td>\n",
       "      <td>NaN</td>\n",
       "      <td>NaN</td>\n",
       "    </tr>\n",
       "    <tr>\n",
       "      <th>3</th>\n",
       "      <td>9</td>\n",
       "      <td>0x0001FD7FC578C953EFE7BBFA62BF15710441A36A2A08...</td>\n",
       "      <td>CAT</td>\n",
       "      <td>0x0001FD7FC578C953EFE7BBFA62BF15710441A36A2A08...</td>\n",
       "      <td>471477</td>\n",
       "      <td>2018-04-03</td>\n",
       "      <td>2018-10-08</td>\n",
       "      <td>1</td>\n",
       "      <td>5</td>\n",
       "      <td>44</td>\n",
       "      <td>1</td>\n",
       "      <td>5</td>\n",
       "      <td>471477</td>\n",
       "      <td>NaN</td>\n",
       "      <td>NaN</td>\n",
       "      <td>NaN</td>\n",
       "    </tr>\n",
       "    <tr>\n",
       "      <th>4</th>\n",
       "      <td>17</td>\n",
       "      <td>0x0002CB61D2E2E675E5E24AD910ED8D9AF785B84C78EB...</td>\n",
       "      <td>DOG</td>\n",
       "      <td>0x0002CB61D2E2E675E5E24AD910ED8D9AF785B84C78EB...</td>\n",
       "      <td>47071</td>\n",
       "      <td>2019-10-01</td>\n",
       "      <td>2020-01-16</td>\n",
       "      <td>1</td>\n",
       "      <td>6</td>\n",
       "      <td>20</td>\n",
       "      <td>1</td>\n",
       "      <td>6</td>\n",
       "      <td>47071</td>\n",
       "      <td>NaN</td>\n",
       "      <td>NaN</td>\n",
       "      <td>NaN</td>\n",
       "    </tr>\n",
       "  </tbody>\n",
       "</table>\n",
       "</div>"
      ],
      "text/plain": [
       "   Unnamed: 0                               Ship-to Address Hash  \\\n",
       "0           0  0x00002ADCF916D2802ECD88B3D49428F39BFB2FA92C5F...   \n",
       "1           2  0x0000C9E96CD91AEB4C4E384B02689CB8B8A3E5CCFFA0...   \n",
       "2           4  0x0001122835C2833EF10B8C18B9A5104E6248EBDE6066...   \n",
       "3           9  0x0001FD7FC578C953EFE7BBFA62BF15710441A36A2A08...   \n",
       "4          17  0x0002CB61D2E2E675E5E24AD910ED8D9AF785B84C78EB...   \n",
       "\n",
       "  Animal Species                                              index  \\\n",
       "0            DOG  0x00002ADCF916D2802ECD88B3D49428F39BFB2FA92C5F...   \n",
       "1            DOG  0x0000C9E96CD91AEB4C4E384B02689CB8B8A3E5CCFFA0...   \n",
       "2            DOG  0x0001122835C2833EF10B8C18B9A5104E6248EBDE6066...   \n",
       "3            CAT  0x0001FD7FC578C953EFE7BBFA62BF15710441A36A2A08...   \n",
       "4            DOG  0x0002CB61D2E2E675E5E24AD910ED8D9AF785B84C78EB...   \n",
       "\n",
       "              product   first_pur    last_pur  purchase items  subscription  \\\n",
       "0  305010.0 488488.0   2019-05-23  2020-02-04               1             4   \n",
       "1  305010.0 426025.0   2019-03-08  2019-12-20               1            10   \n",
       "2  305010.0 561808.0   2018-06-14  2019-11-21               1            16   \n",
       "3              471477  2018-04-03  2018-10-08               1             5   \n",
       "4               47071  2019-10-01  2020-01-16               1             6   \n",
       "\n",
       "   avg_interval  if_leave  purchase_time  sub_product  Unnamed: 13  \\\n",
       "0            84         0              4       488488          NaN   \n",
       "1            31         1             10       426025          NaN   \n",
       "2            57         1             16       561808          NaN   \n",
       "3            44         1              5       471477          NaN   \n",
       "4            20         1              6        47071          NaN   \n",
       "\n",
       "   Unnamed: 14  Unnamed: 15  \n",
       "0          NaN          NaN  \n",
       "1          NaN          NaN  \n",
       "2          NaN          NaN  \n",
       "3          NaN          NaN  \n",
       "4          NaN          NaN  "
      ]
     },
     "execution_count": 43,
     "metadata": {},
     "output_type": "execute_result"
    }
   ],
   "source": [
    "df.head(5)"
   ]
  },
  {
   "cell_type": "code",
   "execution_count": 44,
   "metadata": {},
   "outputs": [],
   "source": [
    "df.to_csv(\"subscribers_final_sheet.csv\")"
   ]
  },
  {
   "cell_type": "code",
   "execution_count": null,
   "metadata": {},
   "outputs": [],
   "source": []
  }
 ],
 "metadata": {
  "kernelspec": {
   "display_name": "Python 3",
   "language": "python",
   "name": "python3"
  },
  "language_info": {
   "codemirror_mode": {
    "name": "ipython",
    "version": 3
   },
   "file_extension": ".py",
   "mimetype": "text/x-python",
   "name": "python",
   "nbconvert_exporter": "python",
   "pygments_lexer": "ipython3",
   "version": "3.7.3"
  }
 },
 "nbformat": 4,
 "nbformat_minor": 2
}
