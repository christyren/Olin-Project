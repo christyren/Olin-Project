{
 "cells": [
  {
   "cell_type": "markdown",
   "metadata": {},
   "source": [
    "In this notebook, Upsampling with logistic regression is used."
   ]
  },
  {
   "cell_type": "code",
   "execution_count": 22,
   "metadata": {},
   "outputs": [],
   "source": [
    "import pandas as pd\n",
    "import numpy as np\n",
    "import matplotlib.pyplot as plt\n",
    "import seaborn as sns\n",
    "import os\n",
    "from sklearn.model_selection import train_test_split \n",
    "from sklearn.preprocessing import StandardScaler"
   ]
  },
  {
   "cell_type": "markdown",
   "metadata": {},
   "source": [
    "# Data Processing"
   ]
  },
  {
   "cell_type": "code",
   "execution_count": 23,
   "metadata": {},
   "outputs": [
    {
     "name": "stderr",
     "output_type": "stream",
     "text": [
      "/Users/zixuanzhang/opt/anaconda3/lib/python3.7/site-packages/IPython/core/interactiveshell.py:3146: DtypeWarning: Columns (80,193) have mixed types.Specify dtype option on import or set low_memory=False.\n",
      "  interactivity=interactivity, compiler=compiler, result=result)\n",
      "/Users/zixuanzhang/opt/anaconda3/lib/python3.7/site-packages/IPython/core/interactiveshell.py:3146: DtypeWarning: Columns (79) have mixed types.Specify dtype option on import or set low_memory=False.\n",
      "  interactivity=interactivity, compiler=compiler, result=result)\n"
     ]
    },
    {
     "data": {
      "text/plain": [
       "(87253, 828)"
      ]
     },
     "execution_count": 23,
     "metadata": {},
     "output_type": "execute_result"
    }
   ],
   "source": [
    "df_train = pd.read_csv(\"2020_Competition_Training (1).csv\")\n",
    "df_train[\"train\"] = 1\n",
    "df_test = pd.read_csv(\"2020_Competition_Holdout .csv\")\n",
    "df_test[\"train\"] = 0\n",
    "df_test[\"transportation_issues\"] = \"NA\"\n",
    "df = pd.concat([df_train, df_test])\n",
    "df.reset_index(inplace=True)\n",
    "\n",
    "df.shape #87253 rows with 828 features\n",
    "#df.drop(\"person_id_syn\", axis=1, inplace=True)\n",
    "#df= pd.get_dummies(df)\n",
    "#df.fillna(0,inplace=True)\n",
    "#df.to_csv(\"merge_data.csv\")"
   ]
  },
  {
   "cell_type": "code",
   "execution_count": 24,
   "metadata": {},
   "outputs": [],
   "source": [
    "df_description = pd.read_excel(\"final for feature engineering_2.xls\")\n",
    "# column_keep = df_description[df_description[\"Target_col\"]==1][\"index\"].tolist()\n",
    "# column_keep.append(\"train\")\n",
    "# df = df[column_keep]\n",
    "# column_further_drop = df_description[df_description[\"Category\"]==\"drop\"][\"index\"].tolist()\n",
    "# df.drop(column_further_drop,axis=1,inplace=True)"
   ]
  },
  {
   "cell_type": "code",
   "execution_count": 25,
   "metadata": {},
   "outputs": [],
   "source": [
    "df_description = df_description[df_description[\"Target_col\"]==1]\n",
    "new_features = df_description[\"Category\"].unique().tolist()\n",
    "new_features.remove(\"important\")\n",
    "new_features.remove(\"leave\")\n",
    "new_features.remove(\"drop\")\n",
    "columns_important = df_description[df_description[\"Category\"]==\"important\"][\"index\"].tolist()\n",
    "columns_important.append(\"train\")\n",
    "columns_leave = df_description[df_description[\"Category\"]==\"leave\"][\"index\"].tolist()\n",
    "for feature in new_features:\n",
    "    original_features = df_description[df_description[\"Category\"]==feature][\"index\"]\n",
    "    df[feature] = df[original_features].values.sum()"
   ]
  },
  {
   "cell_type": "code",
   "execution_count": 26,
   "metadata": {},
   "outputs": [
    {
     "data": {
      "text/plain": [
       "(87253, 62)"
      ]
     },
     "execution_count": 26,
     "metadata": {},
     "output_type": "execute_result"
    }
   ],
   "source": [
    "final_columns = new_features+columns_important+columns_leave\n",
    "df = df[final_columns]\n",
    "df.shape"
   ]
  },
  {
   "cell_type": "code",
   "execution_count": 27,
   "metadata": {},
   "outputs": [
    {
     "data": {
      "text/html": [
       "<div>\n",
       "<style scoped>\n",
       "    .dataframe tbody tr th:only-of-type {\n",
       "        vertical-align: middle;\n",
       "    }\n",
       "\n",
       "    .dataframe tbody tr th {\n",
       "        vertical-align: top;\n",
       "    }\n",
       "\n",
       "    .dataframe thead th {\n",
       "        text-align: right;\n",
       "    }\n",
       "</style>\n",
       "<table border=\"1\" class=\"dataframe\">\n",
       "  <thead>\n",
       "    <tr style=\"text-align: right;\">\n",
       "      <th></th>\n",
       "      <th>betos_d</th>\n",
       "      <th>betos_m</th>\n",
       "      <th>betos_o</th>\n",
       "      <th>betos_ty</th>\n",
       "      <th>bh</th>\n",
       "      <th>css</th>\n",
       "      <th>cmsd2</th>\n",
       "      <th>cons_prob</th>\n",
       "      <th>cons_vul</th>\n",
       "      <th>credit_balance</th>\n",
       "      <th>...</th>\n",
       "      <th>prov_sp_ind</th>\n",
       "      <th>rev_cms_ambul_ind</th>\n",
       "      <th>rev_cms_clinic_ind</th>\n",
       "      <th>rev_cms_er_ind</th>\n",
       "      <th>rev_cms_icu_ind</th>\n",
       "      <th>rev_cms_lab_ind</th>\n",
       "      <th>rev_cms_phar_ind</th>\n",
       "      <th>rx_mail_pmpm_ct</th>\n",
       "      <th>rx_maint_pmpm_ct</th>\n",
       "      <th>rx_otc_pmpm_ct</th>\n",
       "    </tr>\n",
       "  </thead>\n",
       "  <tbody>\n",
       "    <tr>\n",
       "      <th>0</th>\n",
       "      <td>4056.173633</td>\n",
       "      <td>73973.312994</td>\n",
       "      <td>15522.223091</td>\n",
       "      <td>77365.236688</td>\n",
       "      <td>61246</td>\n",
       "      <td>92584</td>\n",
       "      <td>143514</td>\n",
       "      <td>NaN</td>\n",
       "      <td>NaN</td>\n",
       "      <td>NaN</td>\n",
       "      <td>...</td>\n",
       "      <td>1</td>\n",
       "      <td>0</td>\n",
       "      <td>0</td>\n",
       "      <td>0</td>\n",
       "      <td>0</td>\n",
       "      <td>0</td>\n",
       "      <td>0</td>\n",
       "      <td>0.000000</td>\n",
       "      <td>0.000000</td>\n",
       "      <td>0.000000</td>\n",
       "    </tr>\n",
       "    <tr>\n",
       "      <th>1</th>\n",
       "      <td>4056.173633</td>\n",
       "      <td>73973.312994</td>\n",
       "      <td>15522.223091</td>\n",
       "      <td>77365.236688</td>\n",
       "      <td>61246</td>\n",
       "      <td>92584</td>\n",
       "      <td>143514</td>\n",
       "      <td>NaN</td>\n",
       "      <td>NaN</td>\n",
       "      <td>NaN</td>\n",
       "      <td>...</td>\n",
       "      <td>1</td>\n",
       "      <td>0</td>\n",
       "      <td>0</td>\n",
       "      <td>0</td>\n",
       "      <td>0</td>\n",
       "      <td>0</td>\n",
       "      <td>0</td>\n",
       "      <td>0.627787</td>\n",
       "      <td>2.810111</td>\n",
       "      <td>0.000000</td>\n",
       "    </tr>\n",
       "    <tr>\n",
       "      <th>2</th>\n",
       "      <td>4056.173633</td>\n",
       "      <td>73973.312994</td>\n",
       "      <td>15522.223091</td>\n",
       "      <td>77365.236688</td>\n",
       "      <td>61246</td>\n",
       "      <td>92584</td>\n",
       "      <td>143514</td>\n",
       "      <td>NaN</td>\n",
       "      <td>NaN</td>\n",
       "      <td>NaN</td>\n",
       "      <td>...</td>\n",
       "      <td>1</td>\n",
       "      <td>0</td>\n",
       "      <td>0</td>\n",
       "      <td>0</td>\n",
       "      <td>0</td>\n",
       "      <td>1</td>\n",
       "      <td>1</td>\n",
       "      <td>3.333333</td>\n",
       "      <td>2.500000</td>\n",
       "      <td>2.666667</td>\n",
       "    </tr>\n",
       "    <tr>\n",
       "      <th>3</th>\n",
       "      <td>4056.173633</td>\n",
       "      <td>73973.312994</td>\n",
       "      <td>15522.223091</td>\n",
       "      <td>77365.236688</td>\n",
       "      <td>61246</td>\n",
       "      <td>92584</td>\n",
       "      <td>143514</td>\n",
       "      <td>NaN</td>\n",
       "      <td>NaN</td>\n",
       "      <td>NaN</td>\n",
       "      <td>...</td>\n",
       "      <td>1</td>\n",
       "      <td>0</td>\n",
       "      <td>0</td>\n",
       "      <td>0</td>\n",
       "      <td>0</td>\n",
       "      <td>0</td>\n",
       "      <td>0</td>\n",
       "      <td>2.500000</td>\n",
       "      <td>2.000000</td>\n",
       "      <td>0.000000</td>\n",
       "    </tr>\n",
       "    <tr>\n",
       "      <th>4</th>\n",
       "      <td>4056.173633</td>\n",
       "      <td>73973.312994</td>\n",
       "      <td>15522.223091</td>\n",
       "      <td>77365.236688</td>\n",
       "      <td>61246</td>\n",
       "      <td>92584</td>\n",
       "      <td>143514</td>\n",
       "      <td>NaN</td>\n",
       "      <td>NaN</td>\n",
       "      <td>NaN</td>\n",
       "      <td>...</td>\n",
       "      <td>1</td>\n",
       "      <td>0</td>\n",
       "      <td>0</td>\n",
       "      <td>1</td>\n",
       "      <td>0</td>\n",
       "      <td>1</td>\n",
       "      <td>1</td>\n",
       "      <td>0.433333</td>\n",
       "      <td>3.000000</td>\n",
       "      <td>0.000000</td>\n",
       "    </tr>\n",
       "    <tr>\n",
       "      <th>...</th>\n",
       "      <td>...</td>\n",
       "      <td>...</td>\n",
       "      <td>...</td>\n",
       "      <td>...</td>\n",
       "      <td>...</td>\n",
       "      <td>...</td>\n",
       "      <td>...</td>\n",
       "      <td>...</td>\n",
       "      <td>...</td>\n",
       "      <td>...</td>\n",
       "      <td>...</td>\n",
       "      <td>...</td>\n",
       "      <td>...</td>\n",
       "      <td>...</td>\n",
       "      <td>...</td>\n",
       "      <td>...</td>\n",
       "      <td>...</td>\n",
       "      <td>...</td>\n",
       "      <td>...</td>\n",
       "      <td>...</td>\n",
       "      <td>...</td>\n",
       "    </tr>\n",
       "    <tr>\n",
       "      <th>87248</th>\n",
       "      <td>4056.173633</td>\n",
       "      <td>73973.312994</td>\n",
       "      <td>15522.223091</td>\n",
       "      <td>77365.236688</td>\n",
       "      <td>61246</td>\n",
       "      <td>92584</td>\n",
       "      <td>143514</td>\n",
       "      <td>NaN</td>\n",
       "      <td>NaN</td>\n",
       "      <td>NaN</td>\n",
       "      <td>...</td>\n",
       "      <td>1</td>\n",
       "      <td>0</td>\n",
       "      <td>0</td>\n",
       "      <td>0</td>\n",
       "      <td>0</td>\n",
       "      <td>1</td>\n",
       "      <td>1</td>\n",
       "      <td>0.666667</td>\n",
       "      <td>0.083333</td>\n",
       "      <td>0.000000</td>\n",
       "    </tr>\n",
       "    <tr>\n",
       "      <th>87249</th>\n",
       "      <td>4056.173633</td>\n",
       "      <td>73973.312994</td>\n",
       "      <td>15522.223091</td>\n",
       "      <td>77365.236688</td>\n",
       "      <td>61246</td>\n",
       "      <td>92584</td>\n",
       "      <td>143514</td>\n",
       "      <td>NaN</td>\n",
       "      <td>NaN</td>\n",
       "      <td>NaN</td>\n",
       "      <td>...</td>\n",
       "      <td>1</td>\n",
       "      <td>0</td>\n",
       "      <td>0</td>\n",
       "      <td>1</td>\n",
       "      <td>0</td>\n",
       "      <td>1</td>\n",
       "      <td>1</td>\n",
       "      <td>3.926363</td>\n",
       "      <td>2.579613</td>\n",
       "      <td>0.000000</td>\n",
       "    </tr>\n",
       "    <tr>\n",
       "      <th>87250</th>\n",
       "      <td>4056.173633</td>\n",
       "      <td>73973.312994</td>\n",
       "      <td>15522.223091</td>\n",
       "      <td>77365.236688</td>\n",
       "      <td>61246</td>\n",
       "      <td>92584</td>\n",
       "      <td>143514</td>\n",
       "      <td>NaN</td>\n",
       "      <td>NaN</td>\n",
       "      <td>NaN</td>\n",
       "      <td>...</td>\n",
       "      <td>1</td>\n",
       "      <td>0</td>\n",
       "      <td>0</td>\n",
       "      <td>0</td>\n",
       "      <td>0</td>\n",
       "      <td>0</td>\n",
       "      <td>0</td>\n",
       "      <td>1.218514</td>\n",
       "      <td>1.792368</td>\n",
       "      <td>0.000000</td>\n",
       "    </tr>\n",
       "    <tr>\n",
       "      <th>87251</th>\n",
       "      <td>4056.173633</td>\n",
       "      <td>73973.312994</td>\n",
       "      <td>15522.223091</td>\n",
       "      <td>77365.236688</td>\n",
       "      <td>61246</td>\n",
       "      <td>92584</td>\n",
       "      <td>143514</td>\n",
       "      <td>NaN</td>\n",
       "      <td>NaN</td>\n",
       "      <td>NaN</td>\n",
       "      <td>...</td>\n",
       "      <td>1</td>\n",
       "      <td>0</td>\n",
       "      <td>0</td>\n",
       "      <td>0</td>\n",
       "      <td>0</td>\n",
       "      <td>0</td>\n",
       "      <td>0</td>\n",
       "      <td>7.950000</td>\n",
       "      <td>2.083333</td>\n",
       "      <td>0.000000</td>\n",
       "    </tr>\n",
       "    <tr>\n",
       "      <th>87252</th>\n",
       "      <td>4056.173633</td>\n",
       "      <td>73973.312994</td>\n",
       "      <td>15522.223091</td>\n",
       "      <td>77365.236688</td>\n",
       "      <td>61246</td>\n",
       "      <td>92584</td>\n",
       "      <td>143514</td>\n",
       "      <td>NaN</td>\n",
       "      <td>NaN</td>\n",
       "      <td>NaN</td>\n",
       "      <td>...</td>\n",
       "      <td>1</td>\n",
       "      <td>0</td>\n",
       "      <td>0</td>\n",
       "      <td>1</td>\n",
       "      <td>0</td>\n",
       "      <td>1</td>\n",
       "      <td>1</td>\n",
       "      <td>4.833334</td>\n",
       "      <td>5.916666</td>\n",
       "      <td>1.000000</td>\n",
       "    </tr>\n",
       "  </tbody>\n",
       "</table>\n",
       "<p>87253 rows × 62 columns</p>\n",
       "</div>"
      ],
      "text/plain": [
       "           betos_d       betos_m       betos_o      betos_ty     bh    css  \\\n",
       "0      4056.173633  73973.312994  15522.223091  77365.236688  61246  92584   \n",
       "1      4056.173633  73973.312994  15522.223091  77365.236688  61246  92584   \n",
       "2      4056.173633  73973.312994  15522.223091  77365.236688  61246  92584   \n",
       "3      4056.173633  73973.312994  15522.223091  77365.236688  61246  92584   \n",
       "4      4056.173633  73973.312994  15522.223091  77365.236688  61246  92584   \n",
       "...            ...           ...           ...           ...    ...    ...   \n",
       "87248  4056.173633  73973.312994  15522.223091  77365.236688  61246  92584   \n",
       "87249  4056.173633  73973.312994  15522.223091  77365.236688  61246  92584   \n",
       "87250  4056.173633  73973.312994  15522.223091  77365.236688  61246  92584   \n",
       "87251  4056.173633  73973.312994  15522.223091  77365.236688  61246  92584   \n",
       "87252  4056.173633  73973.312994  15522.223091  77365.236688  61246  92584   \n",
       "\n",
       "        cmsd2  cons_prob  cons_vul  credit_balance  ...  prov_sp_ind  \\\n",
       "0      143514        NaN       NaN             NaN  ...            1   \n",
       "1      143514        NaN       NaN             NaN  ...            1   \n",
       "2      143514        NaN       NaN             NaN  ...            1   \n",
       "3      143514        NaN       NaN             NaN  ...            1   \n",
       "4      143514        NaN       NaN             NaN  ...            1   \n",
       "...       ...        ...       ...             ...  ...          ...   \n",
       "87248  143514        NaN       NaN             NaN  ...            1   \n",
       "87249  143514        NaN       NaN             NaN  ...            1   \n",
       "87250  143514        NaN       NaN             NaN  ...            1   \n",
       "87251  143514        NaN       NaN             NaN  ...            1   \n",
       "87252  143514        NaN       NaN             NaN  ...            1   \n",
       "\n",
       "       rev_cms_ambul_ind  rev_cms_clinic_ind  rev_cms_er_ind  rev_cms_icu_ind  \\\n",
       "0                      0                   0               0                0   \n",
       "1                      0                   0               0                0   \n",
       "2                      0                   0               0                0   \n",
       "3                      0                   0               0                0   \n",
       "4                      0                   0               1                0   \n",
       "...                  ...                 ...             ...              ...   \n",
       "87248                  0                   0               0                0   \n",
       "87249                  0                   0               1                0   \n",
       "87250                  0                   0               0                0   \n",
       "87251                  0                   0               0                0   \n",
       "87252                  0                   0               1                0   \n",
       "\n",
       "       rev_cms_lab_ind  rev_cms_phar_ind  rx_mail_pmpm_ct  rx_maint_pmpm_ct  \\\n",
       "0                    0                 0         0.000000          0.000000   \n",
       "1                    0                 0         0.627787          2.810111   \n",
       "2                    1                 1         3.333333          2.500000   \n",
       "3                    0                 0         2.500000          2.000000   \n",
       "4                    1                 1         0.433333          3.000000   \n",
       "...                ...               ...              ...               ...   \n",
       "87248                1                 1         0.666667          0.083333   \n",
       "87249                1                 1         3.926363          2.579613   \n",
       "87250                0                 0         1.218514          1.792368   \n",
       "87251                0                 0         7.950000          2.083333   \n",
       "87252                1                 1         4.833334          5.916666   \n",
       "\n",
       "       rx_otc_pmpm_ct  \n",
       "0            0.000000  \n",
       "1            0.000000  \n",
       "2            2.666667  \n",
       "3            0.000000  \n",
       "4            0.000000  \n",
       "...               ...  \n",
       "87248        0.000000  \n",
       "87249        0.000000  \n",
       "87250        0.000000  \n",
       "87251        0.000000  \n",
       "87252        1.000000  \n",
       "\n",
       "[87253 rows x 62 columns]"
      ]
     },
     "execution_count": 27,
     "metadata": {},
     "output_type": "execute_result"
    }
   ],
   "source": [
    "df"
   ]
  },
  {
   "cell_type": "markdown",
   "metadata": {},
   "source": [
    "### Missing Value"
   ]
  },
  {
   "cell_type": "code",
   "execution_count": 28,
   "metadata": {},
   "outputs": [
    {
     "name": "stdout",
     "output_type": "stream",
     "text": [
      "cons_prob\n",
      "cons_vul\n",
      "credit_balance\n",
      "credit_hh\n"
     ]
    }
   ],
   "source": [
    "df_columns = df.columns.tolist()\n",
    "df_columns.remove(\"transportation_issues\")\n",
    "#Columns with missing value\n",
    "columns_with_missing = []\n",
    "for column in df_columns:\n",
    "    if df[column].isnull().sum()>0:\n",
    "        columns_with_missing.append({\"column\":column, \"missing\":df[column].isnull().sum()})\n",
    "df_missing_distribution = pd.DataFrame.from_dict(columns_with_missing)\n",
    "df_missing_distribution.sort_values(\"missing\",ascending=False).reset_index(inplace=True)\n",
    "df_missing_distribution.to_csv(\"missing_value.csv\")\n",
    "from sklearn.impute import SimpleImputer\n",
    "# rank 1 blood fat screen or control\n",
    "# rank 2 data from cons about demos\n",
    "# rank 3 cms data insurance factor data.\n",
    "imputer_frequent = SimpleImputer(strategy=\"most_frequent\")\n",
    "for column in df_missing_distribution[\"column\"]:\n",
    "    try:\n",
    "        if df[column].nunique()>=30:\n",
    "            df[column].fillna(df[column].mean(),inplace=True)\n",
    "        else:\n",
    "            df[column].fillna(df[column].value_counts().index[0],inplace=True)\n",
    "    except:\n",
    "        print(column)"
   ]
  },
  {
   "cell_type": "code",
   "execution_count": 29,
   "metadata": {},
   "outputs": [],
   "source": [
    "#Rethink whether we should get dummies here.\n",
    "#df = pd.get_dummies(df)\n",
    "df = df.dropna(axis=1)"
   ]
  },
  {
   "cell_type": "markdown",
   "metadata": {},
   "source": [
    "### Split the data"
   ]
  },
  {
   "cell_type": "code",
   "execution_count": 30,
   "metadata": {
    "scrolled": false
   },
   "outputs": [],
   "source": [
    "df_train = df[df[\"train\"]==1]\n",
    "df_hold = df[df[\"train\"]==0]\n",
    "\n",
    "y = df_train[\"transportation_issues\"]\n",
    "y = y.astype(\"int\")\n",
    "x = df_train"
   ]
  },
  {
   "cell_type": "code",
   "execution_count": 31,
   "metadata": {},
   "outputs": [],
   "source": [
    "x_train, x_test, y_train, y_test = train_test_split(x, y, test_size=0.3, random_state=42)"
   ]
  },
  {
   "cell_type": "code",
   "execution_count": 32,
   "metadata": {},
   "outputs": [],
   "source": [
    "## Save the features into a csv file\n",
    "# feature_csv = pd.DataFrame(x_train.columns.tolist())\n",
    "# feature_csv.to_csv(\"feature.csv\")"
   ]
  },
  {
   "cell_type": "markdown",
   "metadata": {},
   "source": [
    "# Feature Engineering"
   ]
  },
  {
   "cell_type": "markdown",
   "metadata": {},
   "source": [
    "## Sampling"
   ]
  },
  {
   "cell_type": "markdown",
   "metadata": {},
   "source": [
    "### Upsampling"
   ]
  },
  {
   "cell_type": "code",
   "execution_count": 33,
   "metadata": {},
   "outputs": [
    {
     "name": "stderr",
     "output_type": "stream",
     "text": [
      "/Users/zixuanzhang/opt/anaconda3/lib/python3.7/site-packages/pandas/core/frame.py:4167: SettingWithCopyWarning: \n",
      "A value is trying to be set on a copy of a slice from a DataFrame\n",
      "\n",
      "See the caveats in the documentation: https://pandas.pydata.org/pandas-docs/stable/user_guide/indexing.html#returning-a-view-versus-a-copy\n",
      "  errors=errors,\n"
     ]
    }
   ],
   "source": [
    "from sklearn.utils import resample\n",
    "X = x_train.copy()\n",
    "X[\"transportation_issues\"] = y_train\n",
    "# separate minority and majority classes\n",
    "wo_tran = X[X[\"transportation_issues\"]==0]\n",
    "tran = X[X[\"transportation_issues\"]==1]\n",
    "\n",
    "# upsample minority\n",
    "tran_upsampled = resample(tran,\n",
    "                          replace=True, # sample with replacement\n",
    "                          n_samples=len(wo_tran), # match number in majority class\n",
    "                          random_state=1) # reproducible results\n",
    "\n",
    "upsampled = pd.concat([wo_tran,tran_upsampled])\n",
    "\n",
    "# check new class counts\n",
    "upsampled[\"transportation_issues\"].value_counts()\n",
    "\n",
    "y_train = upsampled[\"transportation_issues\"]\n",
    "x_train = upsampled.drop(\"transportation_issues\",axis=1)\n",
    "x_train = pd.get_dummies(x_train)\n",
    "\n",
    "x_test.drop(\"transportation_issues\",axis=1, inplace=True)\n",
    "x_test = pd.get_dummies(x_test)\n",
    "x_train,x_test = x_train.align(x_test, join=\"left\", axis=1)"
   ]
  },
  {
   "cell_type": "markdown",
   "metadata": {},
   "source": [
    "### Down Sampling"
   ]
  },
  {
   "cell_type": "code",
   "execution_count": 34,
   "metadata": {},
   "outputs": [],
   "source": [
    "# from sklearn.utils import resample\n",
    "# X = x_train.copy()\n",
    "# X[\"transportation_issues\"] = y_train\n",
    "# # separate minority and majority classes\n",
    "# wo_tran = X[X[\"transportation_issues\"]==0]\n",
    "# tran = X[X[\"transportation_issues\"]==1]\n",
    " \n",
    "# # Downsample majority class\n",
    "# df_majority_downsampled = resample(wo_tran, \n",
    "#                                  replace=False,    # sample without replacement\n",
    "#                                  n_samples=len(tran),     # to match minority class\n",
    "#                                  random_state=42) # reproducible results\n",
    " \n",
    "# # Combine minority class with downsampled majority class\n",
    "# downsampled = pd.concat([df_majority_downsampled, tran])\n",
    " \n",
    "# # Display new class counts\n",
    "# downsampled[\"transportation_issues\"].value_counts()\n",
    "\n",
    "# y_train = downsampled[\"transportation_issues\"]\n",
    "# x_train = downsampled.drop(\"transportation_issues\",axis=1)\n",
    "# x_train = pd.get_dummies(x_train)\n",
    "\n",
    "# x_test.drop(\"transportation_issues\",axis=1, inplace=True)\n",
    "# x_test = pd.get_dummies(x_test)\n",
    "# x_train,x_test = x_train.align(x_test, join=\"left\", axis=1)"
   ]
  },
  {
   "cell_type": "markdown",
   "metadata": {},
   "source": [
    "### SMOTE Upsampling"
   ]
  },
  {
   "cell_type": "code",
   "execution_count": 35,
   "metadata": {},
   "outputs": [],
   "source": [
    "# #This code is not fixed because there are \"strings\" which SMOTE does not handle.\n",
    "# #I use SMOTE after the get_dummies, not sure why it throws an error.\n",
    "# from imblearn.over_sampling import SMOTE \n",
    "# smote_sample = SMOTE()\n",
    "\n",
    "# x_train, y_train = smote_sample.fit_resample(x_train, y_train)\n",
    "\n",
    "# x_train.drop(\"transportation_issues\",axis=1, inplace=True)\n",
    "# x_test.drop(\"transportation_issues\",axis=1, inplace=True)\n",
    "# x_train = pd.get_dummies(x_train) \n",
    "# x_test = pd.get_dummies(x_test)\n",
    "# x_train,x_test = x_train.align(x_test, join=\"left\", axis=1)"
   ]
  },
  {
   "cell_type": "markdown",
   "metadata": {},
   "source": [
    "## Scaling & Clustering"
   ]
  },
  {
   "cell_type": "markdown",
   "metadata": {},
   "source": [
    "### Scaler"
   ]
  },
  {
   "cell_type": "code",
   "execution_count": 36,
   "metadata": {},
   "outputs": [],
   "source": [
    "from sklearn.preprocessing import MinMaxScaler\n",
    "# Scale the data\n",
    "scaler = MinMaxScaler()\n",
    "x_train = scaler.fit_transform(x_train)\n",
    "x_test = scaler.fit_transform(x_test)"
   ]
  },
  {
   "cell_type": "markdown",
   "metadata": {},
   "source": [
    "### PCA"
   ]
  },
  {
   "cell_type": "code",
   "execution_count": 37,
   "metadata": {},
   "outputs": [],
   "source": [
    "# from sklearn.decomposition import PCA\n",
    "# #PCA Dimension Reduction\n",
    "# pca = PCA(n_components=6)\n",
    "# # prepare transform on dataset\n",
    "# x_train = pca.fit_transform(x_train)\n",
    "# x_test[np.isnan(x_test)] = 0 #Fill the na value for logistic regression\n",
    "# x_test = pca.fit_transform(x_test)"
   ]
  },
  {
   "cell_type": "markdown",
   "metadata": {},
   "source": [
    "### TSNE"
   ]
  },
  {
   "cell_type": "code",
   "execution_count": 38,
   "metadata": {},
   "outputs": [],
   "source": [
    "# from sklearn.manifold import TSNE\n",
    "# x_train = TSNE(n_components=3).fit_transform(x_train) #change the n components.\n",
    "# x_test[np.isnan(x_test)] = 0 #Fill the na value for logistic regression\n",
    "# x_test = TSNE(n_components=3).fit_transform(x_test) #change the n components."
   ]
  },
  {
   "cell_type": "markdown",
   "metadata": {},
   "source": [
    "## Model"
   ]
  },
  {
   "cell_type": "markdown",
   "metadata": {},
   "source": [
    "### Logistic Regression"
   ]
  },
  {
   "cell_type": "code",
   "execution_count": 39,
   "metadata": {},
   "outputs": [
    {
     "name": "stderr",
     "output_type": "stream",
     "text": [
      "/Users/zixuanzhang/opt/anaconda3/lib/python3.7/site-packages/sklearn/linear_model/_logistic.py:764: ConvergenceWarning: lbfgs failed to converge (status=1):\n",
      "STOP: TOTAL NO. of ITERATIONS REACHED LIMIT.\n",
      "\n",
      "Increase the number of iterations (max_iter) or scale the data as shown in:\n",
      "    https://scikit-learn.org/stable/modules/preprocessing.html\n",
      "Please also refer to the documentation for alternative solver options:\n",
      "    https://scikit-learn.org/stable/modules/linear_model.html#logistic-regression\n",
      "  extra_warning_msg=_LOGISTIC_SOLVER_CONVERGENCE_MSG)\n"
     ]
    }
   ],
   "source": [
    "from sklearn.linear_model import LogisticRegression\n",
    "clf = LogisticRegression(solver = \"lbfgs\",random_state=42).fit(x_train, y_train)\n",
    "y_pred = clf.predict(x_test)"
   ]
  },
  {
   "cell_type": "code",
   "execution_count": 40,
   "metadata": {},
   "outputs": [],
   "source": [
    "y_prob = clf.predict_proba(x_test)"
   ]
  },
  {
   "cell_type": "code",
   "execution_count": 41,
   "metadata": {
    "scrolled": true
   },
   "outputs": [
    {
     "name": "stdout",
     "output_type": "stream",
     "text": [
      "[[12460  5379]\n",
      " [ 1075  1958]]\n"
     ]
    },
    {
     "data": {
      "text/plain": [
       "0.6907819087773093"
      ]
     },
     "execution_count": 41,
     "metadata": {},
     "output_type": "execute_result"
    }
   ],
   "source": [
    "from sklearn.metrics import confusion_matrix\n",
    "print(confusion_matrix(y_test,y_pred))\n",
    "(y_test==y_pred).mean() #accuracy 86.87%\n",
    "\n",
    "#False negative values are larger than the false positive values."
   ]
  },
  {
   "cell_type": "code",
   "execution_count": 42,
   "metadata": {},
   "outputs": [
    {
     "data": {
      "text/plain": [
       "0.6720175459559363"
      ]
     },
     "execution_count": 42,
     "metadata": {},
     "output_type": "execute_result"
    }
   ],
   "source": [
    "from sklearn.metrics import roc_auc_score\n",
    "roc_auc_score(y_test, y_pred)"
   ]
  },
  {
   "cell_type": "code",
   "execution_count": 43,
   "metadata": {
    "scrolled": false
   },
   "outputs": [
    {
     "name": "stdout",
     "output_type": "stream",
     "text": [
      "ROC_AUC Score:\n",
      "0.6720175459559363\n"
     ]
    },
    {
     "data": {
      "image/png": "[encoded data removed]",
      "text/plain": [
       "<Figure size 432x288 with 1 Axes>"
      ]
     },
     "metadata": {
      "needs_background": "light"
     },
     "output_type": "display_data"
    }
   ],
   "source": [
    "import sklearn.metrics as metrics\n",
    "from sklearn.metrics import roc_curve, auc\n",
    "from sklearn.metrics import roc_auc_score\n",
    "\n",
    "print(\"ROC_AUC Score:\")\n",
    "print(roc_auc_score(y_test, y_pred))\n",
    "\n",
    "#ROC Plot\n",
    "fpr, tpr, threshold = metrics.roc_curve(y_test, y_pred)\n",
    "roc_auc = metrics.auc(fpr, tpr)\n",
    "\n",
    "plt.title('Receiver Operating Characteristic')\n",
    "plt.plot(fpr, tpr, 'b', label = 'AUC = %0.2f' % roc_auc)\n",
    "plt.legend(loc = 'lower right')\n",
    "plt.plot([0, 1], [0, 1],'r--')\n",
    "plt.xlim([0, 1])\n",
    "plt.ylim([0, 1])\n",
    "plt.ylabel('True Positive Rate')\n",
    "plt.xlabel('False Positive Rate')\n",
    "plt.show()"
   ]
  },
  {
   "cell_type": "code",
   "execution_count": 44,
   "metadata": {},
   "outputs": [
    {
     "data": {
      "text/plain": [
       "(83072, 137)"
      ]
     },
     "execution_count": 44,
     "metadata": {},
     "output_type": "execute_result"
    }
   ],
   "source": [
    "x_train.shape"
   ]
  },
  {
   "cell_type": "code",
   "execution_count": 45,
   "metadata": {},
   "outputs": [
    {
     "data": {
      "text/plain": [
       "(20872, 137)"
      ]
     },
     "execution_count": 45,
     "metadata": {},
     "output_type": "execute_result"
    }
   ],
   "source": [
    "x_test.shape"
   ]
  },
  {
   "cell_type": "code",
   "execution_count": null,
   "metadata": {},
   "outputs": [],
   "source": [
    "@"
   ]
  }
 ],
 "metadata": {
  "kernelspec": {
   "display_name": "Python 3",
   "language": "python",
   "name": "python3"
  },
  "language_info": {
   "codemirror_mode": {
    "name": "ipython",
    "version": 3
   },
   "file_extension": ".py",
   "mimetype": "text/x-python",
   "name": "python",
   "nbconvert_exporter": "python",
   "pygments_lexer": "ipython3",
   "version": "3.7.3"
  },
  "toc": {
   "base_numbering": 1,
   "nav_menu": {},
   "number_sections": true,
   "sideBar": true,
   "skip_h1_title": false,
   "title_cell": "Table of Contents",
   "title_sidebar": "Contents",
   "toc_cell": false,
   "toc_position": {},
   "toc_section_display": true,
   "toc_window_display": true
  },
  "varInspector": {
   "cols": {
    "lenName": 16,
    "lenType": 16,
    "lenVar": 40
   },
   "kernels_config": {
    "python": {
     "delete_cmd_postfix": "",
     "delete_cmd_prefix": "del ",
     "library": "var_list.py",
     "varRefreshCmd": "print(var_dic_list())"
    },
    "r": {
     "delete_cmd_postfix": ") ",
     "delete_cmd_prefix": "rm(",
     "library": "var_list.r",
     "varRefreshCmd": "cat(var_dic_list()) "
    }
   },
   "types_to_exclude": [
    "module",
    "function",
    "builtin_function_or_method",
    "instance",
    "_Feature"
   ],
   "window_display": false
  }
 },
 "nbformat": 4,
 "nbformat_minor": 4
}
